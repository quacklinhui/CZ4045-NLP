{
  "nbformat": 4,
  "nbformat_minor": 0,
  "metadata": {
    "colab": {
      "name": "NLPAssignment1Testing.ipynb",
      "provenance": []
    },
    "kernelspec": {
      "name": "python3",
      "display_name": "Python 3"
    },
    "language_info": {
      "name": "python"
    }
  },
  "cells": [
    {
      "cell_type": "code",
      "metadata": {
        "id": "r6uxrEY2vsbO"
      },
      "source": [
        "import json\n",
        "from nltk.stem import PorterStemmer\n",
        "from nltk.tokenize import word_tokenize\n",
        "from collections import Counter\n",
        "import numpy as np\n",
        "import matplotlib.pyplot as plt\n",
        "from collections import Counter\n",
        "from random import randrange"
      ],
      "execution_count": null,
      "outputs": []
    },
    {
      "cell_type": "code",
      "metadata": {
        "id": "ev8bYME-DsZH"
      },
      "source": [
        "ps = PorterStemmer()\n",
        "with open('reviewSamples20.json') as f:\n",
        "    data = json.loads(\"[\" + \n",
        "        f.read().replace(\"}\\n{\", \"},\\n{\") + \n",
        "    \"]\")"
      ],
      "execution_count": null,
      "outputs": []
    },
    {
      "cell_type": "markdown",
      "metadata": {
        "id": "VFWRq1xmhBNo"
      },
      "source": [
        ""
      ]
    },
    {
      "cell_type": "code",
      "metadata": {
        "colab": {
          "base_uri": "https://localhost:8080/"
        },
        "id": "eH_l11yBNvAA",
        "outputId": "d5cb94d2-8273-4c3d-f5d3-54e5219c8c70"
      },
      "source": [
        "import nltk\n",
        "nltk.download('punkt')"
      ],
      "execution_count": null,
      "outputs": [
        {
          "output_type": "stream",
          "name": "stdout",
          "text": [
            "[nltk_data] Downloading package punkt to /root/nltk_data...\n",
            "[nltk_data]   Unzipping tokenizers/punkt.zip.\n"
          ]
        },
        {
          "output_type": "execute_result",
          "data": {
            "text/plain": [
              "True"
            ]
          },
          "metadata": {},
          "execution_count": 9
        }
      ]
    },
    {
      "cell_type": "code",
      "metadata": {
        "id": "28prWWxpDzgv"
      },
      "source": [
        "m = randrange(len(data))\n",
        "preStem = []\n",
        "stems = []\n",
        "business_id = data[m]['business_id']\n",
        "for j in range(len(data)):\n",
        "    if(data[j]['business_id'] == business_id):\n",
        "        word = word_tokenize(str(data[j]['text']))\n",
        "        for w in word:  \n",
        "            preStem.append(w)\n",
        "            stems.append(ps.stem(w))"
      ],
      "execution_count": null,
      "outputs": []
    },
    {
      "cell_type": "code",
      "metadata": {
        "id": "4NlfUoWMMCSr",
        "colab": {
          "base_uri": "https://localhost:8080/",
          "height": 265
        },
        "outputId": "89052f73-4e0a-4451-b696-a6f1b5170731"
      },
      "source": [
        "counts = Counter(preStem).items()\n",
        "labels, values = zip(*counts)\n",
        "indexes = np.arange(len(labels))\n",
        "width = 1\n",
        "plt.bar(indexes,values,width)\n",
        "plt.xticks(indexes ,labels)\n",
        "plt.show()"
      ],
      "execution_count": null,
      "outputs": [
        {
          "output_type": "display_data",
          "data": {
            "image/png": "[encoded data removed]",
            "text/plain": [
              "<Figure size 432x288 with 1 Axes>"
            ]
          },
          "metadata": {
            "needs_background": "light"
          }
        }
      ]
    },
    {
      "cell_type": "code",
      "metadata": {
        "id": "dvkI9lqaNI2V",
        "colab": {
          "base_uri": "https://localhost:8080/",
          "height": 265
        },
        "outputId": "fe532d5d-78f3-4be6-fbcc-42bd4058ce41"
      },
      "source": [
        "counts = Counter(stems).items()\n",
        "labels, values = zip(*counts)\n",
        "indexes = np.arange(len(labels))\n",
        "width = 1\n",
        "plt.bar(indexes,values,width)\n",
        "plt.xticks(indexes ,labels)\n",
        "plt.show()"
      ],
      "execution_count": null,
      "outputs": [
        {
          "output_type": "display_data",
          "data": {
            "image/png": "[encoded data removed]",
            "text/plain": [
              "<Figure size 432x288 with 1 Axes>"
            ]
          },
          "metadata": {
            "needs_background": "light"
          }
        }
      ]
    },
    {
      "cell_type": "code",
      "metadata": {
        "colab": {
          "base_uri": "https://localhost:8080/"
        },
        "id": "gGxYGqbDOAd9",
        "outputId": "adff3573-ad88-42a4-a175-5152e0fc811e"
      },
      "source": [
        "i = randrange(len(data))\n",
        "preStem_2 = []\n",
        "stems_2 = []\n",
        "business_id = data[i]['business_id']\n",
        "for j in range(len(data)):\n",
        "    if(data[j]['business_id'] == business_id):\n",
        "        print(data[i]['text'])\n",
        "        words = word_tokenize(str(data[i]['text']))\n",
        "        for w in words:\n",
        "            if(w != \",\" and w != \".\" and w != \"a\" and w != \"the\" and w != \"of\" and w != \"and\"):\n",
        "                preStem_2.append(w)\n",
        "                print(w, \" : \", ps.stem(w))\n",
        "            if(ps.stem(w) != \",\" and ps.stem(w) != \".\" and ps.stem(w) != \"a\" and ps.stem(w) != \"the\" and ps.stem(w) != \"of\" and ps.stem(w) != \"and\"):\n",
        "                stems_2.append(ps.stem(w))"
      ],
      "execution_count": null,
      "outputs": [
        {
          "output_type": "stream",
          "name": "stdout",
          "text": [
            "My family and I came in on Wed. Night for dinner we had a party of 6 plus a baby(using a high chair). We had to wait about 10 mins to be seated and when we got to our table it was against the wall, half booth half chairs. My husband asked to sit at another table but the hostess said \"No\" so we had the baby between our table and the customers next to us, luckily she's a great baby!! The table and booth were dirty and floor was sticky, gross, and I had to kick a fork out from under my seat. The service was subpar but the waiter was nice. It took 20 mins for my boys to get their drinks and refills, well they were sparse to say the least. I ordered steamed broccoli which was actually raw when it came out the first time but they, what I believe, microwaved it to warm it up. My poor daughter in law had a charcoal patty which she sent back and it took a good 25-30 mins to be replaced.\n",
            "The worse part is my son has a sensitivity to gluten so he ordered a gluten free bun but they gave him a Ciabatta bun which he didn't realize until he had already eaten half the burger. My husband brought the issues up to the manager but she didn't really contribute anything to the situation other than sending the burnt burger back. The waiter's solution for the inconvenience was a free appetizer card to be redeemed the next time they came in. We live 3 1/2 hours from Mesa and it's so disappointing to run into this kind of service, this was definitely not a pleasant experience\n",
            "My  :  My\n",
            "family  :  famili\n",
            "I  :  I\n",
            "came  :  came\n",
            "in  :  in\n",
            "on  :  on\n",
            "Wed.  :  wed.\n",
            "Night  :  night\n",
            "for  :  for\n",
            "dinner  :  dinner\n",
            "we  :  we\n",
            "had  :  had\n",
            "party  :  parti\n",
            "6  :  6\n",
            "plus  :  plu\n",
            "baby  :  babi\n",
            "(  :  (\n",
            "using  :  use\n",
            "high  :  high\n",
            "chair  :  chair\n",
            ")  :  )\n",
            "We  :  We\n",
            "had  :  had\n",
            "to  :  to\n",
            "wait  :  wait\n",
            "about  :  about\n",
            "10  :  10\n",
            "mins  :  min\n",
            "to  :  to\n",
            "be  :  be\n",
            "seated  :  seat\n",
            "when  :  when\n",
            "we  :  we\n",
            "got  :  got\n",
            "to  :  to\n",
            "our  :  our\n",
            "table  :  tabl\n",
            "it  :  it\n",
            "was  :  wa\n",
            "against  :  against\n",
            "wall  :  wall\n",
            "half  :  half\n",
            "booth  :  booth\n",
            "half  :  half\n",
            "chairs  :  chair\n",
            "My  :  My\n",
            "husband  :  husband\n",
            "asked  :  ask\n",
            "to  :  to\n",
            "sit  :  sit\n",
            "at  :  at\n",
            "another  :  anoth\n",
            "table  :  tabl\n",
            "but  :  but\n",
            "hostess  :  hostess\n",
            "said  :  said\n",
            "``  :  ``\n",
            "No  :  No\n",
            "''  :  ''\n",
            "so  :  so\n",
            "we  :  we\n",
            "had  :  had\n",
            "baby  :  babi\n",
            "between  :  between\n",
            "our  :  our\n",
            "table  :  tabl\n",
            "customers  :  custom\n",
            "next  :  next\n",
            "to  :  to\n",
            "us  :  us\n",
            "luckily  :  luckili\n",
            "she  :  she\n",
            "'s  :  's\n",
            "great  :  great\n",
            "baby  :  babi\n",
            "!  :  !\n",
            "!  :  !\n",
            "The  :  the\n",
            "table  :  tabl\n",
            "booth  :  booth\n",
            "were  :  were\n",
            "dirty  :  dirti\n",
            "floor  :  floor\n",
            "was  :  wa\n",
            "sticky  :  sticki\n",
            "gross  :  gross\n",
            "I  :  I\n",
            "had  :  had\n",
            "to  :  to\n",
            "kick  :  kick\n",
            "fork  :  fork\n",
            "out  :  out\n",
            "from  :  from\n",
            "under  :  under\n",
            "my  :  my\n",
            "seat  :  seat\n",
            "The  :  the\n",
            "service  :  servic\n",
            "was  :  wa\n",
            "subpar  :  subpar\n",
            "but  :  but\n",
            "waiter  :  waiter\n",
            "was  :  wa\n",
            "nice  :  nice\n",
            "It  :  It\n",
            "took  :  took\n",
            "20  :  20\n",
            "mins  :  min\n",
            "for  :  for\n",
            "my  :  my\n",
            "boys  :  boy\n",
            "to  :  to\n",
            "get  :  get\n",
            "their  :  their\n",
            "drinks  :  drink\n",
            "refills  :  refil\n",
            "well  :  well\n",
            "they  :  they\n",
            "were  :  were\n",
            "sparse  :  spars\n",
            "to  :  to\n",
            "say  :  say\n",
            "least  :  least\n",
            "I  :  I\n",
            "ordered  :  order\n",
            "steamed  :  steam\n",
            "broccoli  :  broccoli\n",
            "which  :  which\n",
            "was  :  wa\n",
            "actually  :  actual\n",
            "raw  :  raw\n",
            "when  :  when\n",
            "it  :  it\n",
            "came  :  came\n",
            "out  :  out\n",
            "first  :  first\n",
            "time  :  time\n",
            "but  :  but\n",
            "they  :  they\n",
            "what  :  what\n",
            "I  :  I\n",
            "believe  :  believ\n",
            "microwaved  :  microwav\n",
            "it  :  it\n",
            "to  :  to\n",
            "warm  :  warm\n",
            "it  :  it\n",
            "up  :  up\n",
            "My  :  My\n",
            "poor  :  poor\n",
            "daughter  :  daughter\n",
            "in  :  in\n",
            "law  :  law\n",
            "had  :  had\n",
            "charcoal  :  charcoal\n",
            "patty  :  patti\n",
            "which  :  which\n",
            "she  :  she\n",
            "sent  :  sent\n",
            "back  :  back\n",
            "it  :  it\n",
            "took  :  took\n",
            "good  :  good\n",
            "25-30  :  25-30\n",
            "mins  :  min\n",
            "to  :  to\n",
            "be  :  be\n",
            "replaced  :  replac\n",
            "The  :  the\n",
            "worse  :  wors\n",
            "part  :  part\n",
            "is  :  is\n",
            "my  :  my\n",
            "son  :  son\n",
            "has  :  ha\n",
            "sensitivity  :  sensit\n",
            "to  :  to\n",
            "gluten  :  gluten\n",
            "so  :  so\n",
            "he  :  he\n",
            "ordered  :  order\n",
            "gluten  :  gluten\n",
            "free  :  free\n",
            "bun  :  bun\n",
            "but  :  but\n",
            "they  :  they\n",
            "gave  :  gave\n",
            "him  :  him\n",
            "Ciabatta  :  ciabatta\n",
            "bun  :  bun\n",
            "which  :  which\n",
            "he  :  he\n",
            "did  :  did\n",
            "n't  :  n't\n",
            "realize  :  realiz\n",
            "until  :  until\n",
            "he  :  he\n",
            "had  :  had\n",
            "already  :  alreadi\n",
            "eaten  :  eaten\n",
            "half  :  half\n",
            "burger  :  burger\n",
            "My  :  My\n",
            "husband  :  husband\n",
            "brought  :  brought\n",
            "issues  :  issu\n",
            "up  :  up\n",
            "to  :  to\n",
            "manager  :  manag\n",
            "but  :  but\n",
            "she  :  she\n",
            "did  :  did\n",
            "n't  :  n't\n",
            "really  :  realli\n",
            "contribute  :  contribut\n",
            "anything  :  anyth\n",
            "to  :  to\n",
            "situation  :  situat\n",
            "other  :  other\n",
            "than  :  than\n",
            "sending  :  send\n",
            "burnt  :  burnt\n",
            "burger  :  burger\n",
            "back  :  back\n",
            "The  :  the\n",
            "waiter  :  waiter\n",
            "'s  :  's\n",
            "solution  :  solut\n",
            "for  :  for\n",
            "inconvenience  :  inconveni\n",
            "was  :  wa\n",
            "free  :  free\n",
            "appetizer  :  appet\n",
            "card  :  card\n",
            "to  :  to\n",
            "be  :  be\n",
            "redeemed  :  redeem\n",
            "next  :  next\n",
            "time  :  time\n",
            "they  :  they\n",
            "came  :  came\n",
            "in  :  in\n",
            "We  :  We\n",
            "live  :  live\n",
            "3  :  3\n",
            "1/2  :  1/2\n",
            "hours  :  hour\n",
            "from  :  from\n",
            "Mesa  :  mesa\n",
            "it  :  it\n",
            "'s  :  's\n",
            "so  :  so\n",
            "disappointing  :  disappoint\n",
            "to  :  to\n",
            "run  :  run\n",
            "into  :  into\n",
            "this  :  thi\n",
            "kind  :  kind\n",
            "service  :  servic\n",
            "this  :  thi\n",
            "was  :  wa\n",
            "definitely  :  definit\n",
            "not  :  not\n",
            "pleasant  :  pleasant\n",
            "experience  :  experi\n"
          ]
        }
      ]
    },
    {
      "cell_type": "code",
      "metadata": {
        "colab": {
          "base_uri": "https://localhost:8080/",
          "height": 265
        },
        "id": "cZplfdfmOF4c",
        "outputId": "3878adc1-45a7-4337-88ac-a6f4f6de0083"
      },
      "source": [
        "counts = Counter(preStem_2).most_common(10)\n",
        "labels, values = zip(*counts)\n",
        "indexes = np.arange(len(labels))\n",
        "width = 1\n",
        "plt.bar(indexes,values,width)\n",
        "plt.xticks(indexes ,labels)\n",
        "plt.show()"
      ],
      "execution_count": null,
      "outputs": [
        {
          "output_type": "display_data",
          "data": {
            "image/png": "[encoded data removed]",
            "text/plain": [
              "<Figure size 432x288 with 1 Axes>"
            ]
          },
          "metadata": {
            "needs_background": "light"
          }
        }
      ]
    },
    {
      "cell_type": "code",
      "metadata": {
        "id": "ino-Ma9kOI5J",
        "colab": {
          "base_uri": "https://localhost:8080/",
          "height": 265
        },
        "outputId": "a7aea637-59af-4ec4-ca3e-09b35e5c6ac2"
      },
      "source": [
        "counts = Counter(stems_2).most_common(10)\n",
        "labels, values = zip(*counts)\n",
        "indexes = np.arange(len(labels))\n",
        "width = 1\n",
        "plt.bar(indexes,values,width)\n",
        "plt.xticks(indexes ,labels)\n",
        "plt.show()"
      ],
      "execution_count": null,
      "outputs": [
        {
          "output_type": "display_data",
          "data": {
            "image/png": "[encoded data removed]",
            "text/plain": [
              "<Figure size 432x288 with 1 Axes>"
            ]
          },
          "metadata": {
            "needs_background": "light"
          }
        }
      ]
    },
    {
      "cell_type": "code",
      "metadata": {
        "id": "_EhApglVOKvO"
      },
      "source": [
        ""
      ],
      "execution_count": null,
      "outputs": []
    }
  ]
}