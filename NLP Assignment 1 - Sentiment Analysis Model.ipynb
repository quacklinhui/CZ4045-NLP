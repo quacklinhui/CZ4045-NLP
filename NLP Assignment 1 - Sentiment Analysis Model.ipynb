{
 "cells": [
  {
   "cell_type": "code",
   "execution_count": 1,
   "id": "316735a5",
   "metadata": {},
   "outputs": [],
   "source": [
    "# Imports\n",
    "import pandas as pd\n",
    "import json\n",
    "import matplotlib.pyplot as plt\n",
    "import seaborn as sns\n",
    "import nltk\n",
    "from nltk.tokenize import word_tokenize\n",
    "from nltk.stem import PorterStemmer\n",
    "from wordcloud import WordCloud\n",
    "import string\n",
    "from sklearn.feature_extraction.text import CountVectorizer\n",
    "from sklearn.model_selection import train_test_split\n",
    "from sklearn.linear_model import LogisticRegression\n",
    "from sklearn.metrics import confusion_matrix,classification_report\n",
    "from langdetect import detect\n",
    "import pickle"
   ]
  },
  {
   "cell_type": "markdown",
   "id": "dd15dbe9",
   "metadata": {},
   "source": [
    "### Loading the Data"
   ]
  },
  {
   "cell_type": "code",
   "execution_count": 2,
   "id": "a0b60b52",
   "metadata": {},
   "outputs": [],
   "source": [
    "with open('reviews10k.json') as f:\n",
    "    data = json.loads(\"[\" + \n",
    "        f.read().replace(\"}\\n{\", \"},\\n{\") + \n",
    "    \"]\")"
   ]
  },
  {
   "cell_type": "code",
   "execution_count": 3,
   "id": "fd7a40f0",
   "metadata": {
    "scrolled": true
   },
   "outputs": [],
   "source": [
    "df = pd.DataFrame(data)"
   ]
  },
  {
   "cell_type": "code",
   "execution_count": 4,
   "id": "b25532b4",
   "metadata": {},
   "outputs": [
    {
     "data": {
      "text/html": [
       "<div>\n",
       "<style scoped>\n",
       "    .dataframe tbody tr th:only-of-type {\n",
       "        vertical-align: middle;\n",
       "    }\n",
       "\n",
       "    .dataframe tbody tr th {\n",
       "        vertical-align: top;\n",
       "    }\n",
       "\n",
       "    .dataframe thead th {\n",
       "        text-align: right;\n",
       "    }\n",
       "</style>\n",
       "<table border=\"1\" class=\"dataframe\">\n",
       "  <thead>\n",
       "    <tr style=\"text-align: right;\">\n",
       "      <th></th>\n",
       "      <th>review_id</th>\n",
       "      <th>user_id</th>\n",
       "      <th>business_id</th>\n",
       "      <th>stars</th>\n",
       "      <th>useful</th>\n",
       "      <th>funny</th>\n",
       "      <th>cool</th>\n",
       "      <th>text</th>\n",
       "      <th>date</th>\n",
       "    </tr>\n",
       "  </thead>\n",
       "  <tbody>\n",
       "    <tr>\n",
       "      <th>0</th>\n",
       "      <td>lWC-xP3rd6obsecCYsGZRg</td>\n",
       "      <td>ak0TdVmGKo4pwqdJSTLwWw</td>\n",
       "      <td>buF9druCkbuXLX526sGELQ</td>\n",
       "      <td>4</td>\n",
       "      <td>3</td>\n",
       "      <td>1</td>\n",
       "      <td>1</td>\n",
       "      <td>Apparently Prides Osteria had a rough summer a...</td>\n",
       "      <td>1412998442000</td>\n",
       "    </tr>\n",
       "    <tr>\n",
       "      <th>1</th>\n",
       "      <td>8bFej1QE5LXp4O05qjGqXA</td>\n",
       "      <td>YoVfDbnISlW0f7abNQACIg</td>\n",
       "      <td>RA4V8pr014UyUbDvI-LW2A</td>\n",
       "      <td>4</td>\n",
       "      <td>1</td>\n",
       "      <td>0</td>\n",
       "      <td>0</td>\n",
       "      <td>This store is pretty good. Not as great as Wal...</td>\n",
       "      <td>1435955905000</td>\n",
       "    </tr>\n",
       "    <tr>\n",
       "      <th>2</th>\n",
       "      <td>NDhkzczKjLshODbqDoNLSg</td>\n",
       "      <td>eC5evKn1TWDyHCyQAwguUw</td>\n",
       "      <td>_sS2LBIGNT5NQb6PD1Vtjw</td>\n",
       "      <td>5</td>\n",
       "      <td>0</td>\n",
       "      <td>0</td>\n",
       "      <td>0</td>\n",
       "      <td>I called WVM on the recommendation of a couple...</td>\n",
       "      <td>1369773486000</td>\n",
       "    </tr>\n",
       "    <tr>\n",
       "      <th>3</th>\n",
       "      <td>T5fAqjjFooT4V0OeZyuk1w</td>\n",
       "      <td>SFQ1jcnGguO0LYWnbbftAA</td>\n",
       "      <td>0AzLzHfOJgL7ROwhdww2ew</td>\n",
       "      <td>2</td>\n",
       "      <td>1</td>\n",
       "      <td>1</td>\n",
       "      <td>1</td>\n",
       "      <td>I've stayed at many Marriott and Renaissance M...</td>\n",
       "      <td>1262917755000</td>\n",
       "    </tr>\n",
       "    <tr>\n",
       "      <th>4</th>\n",
       "      <td>sjm_uUcQVxab_EeLCqsYLg</td>\n",
       "      <td>0kA0PAJ8QFMeveQWHFqz2A</td>\n",
       "      <td>8zehGz9jnxPqXtOc7KaJxA</td>\n",
       "      <td>4</td>\n",
       "      <td>0</td>\n",
       "      <td>0</td>\n",
       "      <td>0</td>\n",
       "      <td>The food is always great here. The service fro...</td>\n",
       "      <td>1311876301000</td>\n",
       "    </tr>\n",
       "  </tbody>\n",
       "</table>\n",
       "</div>"
      ],
      "text/plain": [
       "                review_id                 user_id             business_id  \\\n",
       "0  lWC-xP3rd6obsecCYsGZRg  ak0TdVmGKo4pwqdJSTLwWw  buF9druCkbuXLX526sGELQ   \n",
       "1  8bFej1QE5LXp4O05qjGqXA  YoVfDbnISlW0f7abNQACIg  RA4V8pr014UyUbDvI-LW2A   \n",
       "2  NDhkzczKjLshODbqDoNLSg  eC5evKn1TWDyHCyQAwguUw  _sS2LBIGNT5NQb6PD1Vtjw   \n",
       "3  T5fAqjjFooT4V0OeZyuk1w  SFQ1jcnGguO0LYWnbbftAA  0AzLzHfOJgL7ROwhdww2ew   \n",
       "4  sjm_uUcQVxab_EeLCqsYLg  0kA0PAJ8QFMeveQWHFqz2A  8zehGz9jnxPqXtOc7KaJxA   \n",
       "\n",
       "   stars  useful  funny  cool  \\\n",
       "0      4       3      1     1   \n",
       "1      4       1      0     0   \n",
       "2      5       0      0     0   \n",
       "3      2       1      1     1   \n",
       "4      4       0      0     0   \n",
       "\n",
       "                                                text           date  \n",
       "0  Apparently Prides Osteria had a rough summer a...  1412998442000  \n",
       "1  This store is pretty good. Not as great as Wal...  1435955905000  \n",
       "2  I called WVM on the recommendation of a couple...  1369773486000  \n",
       "3  I've stayed at many Marriott and Renaissance M...  1262917755000  \n",
       "4  The food is always great here. The service fro...  1311876301000  "
      ]
     },
     "execution_count": 4,
     "metadata": {},
     "output_type": "execute_result"
    }
   ],
   "source": [
    "df.head()"
   ]
  },
  {
   "cell_type": "markdown",
   "id": "b2ec5446",
   "metadata": {},
   "source": [
    "### Exploratory Data Analysis"
   ]
  },
  {
   "cell_type": "code",
   "execution_count": 5,
   "id": "8378eb18",
   "metadata": {},
   "outputs": [
    {
     "data": {
      "text/plain": [
       "5    42173\n",
       "4    25523\n",
       "3    11908\n",
       "1    11748\n",
       "2     8648\n",
       "Name: stars, dtype: int64"
      ]
     },
     "execution_count": 5,
     "metadata": {},
     "output_type": "execute_result"
    }
   ],
   "source": [
    "# Look at the distribution of stars\n",
    "stars_distribution = df['stars'].value_counts()\n",
    "stars_distribution"
   ]
  },
  {
   "cell_type": "code",
   "execution_count": 6,
   "id": "5008fa88",
   "metadata": {},
   "outputs": [
    {
     "data": {
      "image/png": "[encoded data removed]",
      "text/plain": [
       "<Figure size 640x480 with 1 Axes>"
      ]
     },
     "metadata": {},
     "output_type": "display_data"
    }
   ],
   "source": [
    "ax = sns.barplot(x=stars_distribution.index, y=stars_distribution.values)\n",
    "ax.set(ylabel=\"Count\")\n",
    "plt.title('Distribution of Stars')\n",
    "plt.show()"
   ]
  },
  {
   "cell_type": "markdown",
   "id": "29300a0a",
   "metadata": {},
   "source": [
    "Overall, the stars ratings are skewed towards the upper limit. Majority of the reviews have ratings of 4 or 5."
   ]
  },
  {
   "cell_type": "code",
   "execution_count": 7,
   "id": "facb7c5f",
   "metadata": {},
   "outputs": [
    {
     "ename": "ImportError",
     "evalue": "The _imagingft C module is not installed",
     "output_type": "error",
     "traceback": [
      "\u001b[1;31m---------------------------------------------------------------------------\u001b[0m",
      "\u001b[1;31mImportError\u001b[0m                               Traceback (most recent call last)",
      "\u001b[1;32m<ipython-input-7-0cdc56ebf404>\u001b[0m in \u001b[0;36m<module>\u001b[1;34m\u001b[0m\n\u001b[0;32m      8\u001b[0m \u001b[1;33m\u001b[0m\u001b[0m\n\u001b[0;32m      9\u001b[0m \u001b[1;31m# Create word cloud without stopwords\u001b[0m\u001b[1;33m\u001b[0m\u001b[1;33m\u001b[0m\u001b[1;33m\u001b[0m\u001b[0m\n\u001b[1;32m---> 10\u001b[1;33m \u001b[0mwc\u001b[0m \u001b[1;33m=\u001b[0m \u001b[0mWordCloud\u001b[0m\u001b[1;33m(\u001b[0m\u001b[0mbackground_color\u001b[0m\u001b[1;33m=\u001b[0m\u001b[1;34m'white'\u001b[0m\u001b[1;33m,\u001b[0m \u001b[0mstopwords\u001b[0m\u001b[1;33m=\u001b[0m\u001b[0mstopwords\u001b[0m\u001b[1;33m)\u001b[0m\u001b[1;33m.\u001b[0m\u001b[0mgenerate\u001b[0m\u001b[1;33m(\u001b[0m\u001b[0mcombined_review_text\u001b[0m\u001b[1;33m)\u001b[0m\u001b[1;33m\u001b[0m\u001b[1;33m\u001b[0m\u001b[0m\n\u001b[0m\u001b[0;32m     11\u001b[0m \u001b[1;33m\u001b[0m\u001b[0m\n\u001b[0;32m     12\u001b[0m \u001b[0mplt\u001b[0m\u001b[1;33m.\u001b[0m\u001b[0mfigure\u001b[0m\u001b[1;33m(\u001b[0m\u001b[0mfigsize\u001b[0m\u001b[1;33m=\u001b[0m\u001b[1;33m(\u001b[0m\u001b[1;36m16\u001b[0m\u001b[1;33m,\u001b[0m\u001b[1;36m8\u001b[0m\u001b[1;33m)\u001b[0m\u001b[1;33m)\u001b[0m\u001b[1;33m\u001b[0m\u001b[1;33m\u001b[0m\u001b[0m\n",
      "\u001b[1;32m~\\Anaconda3\\envs\\tensorflow_env\\lib\\site-packages\\wordcloud\\wordcloud.py\u001b[0m in \u001b[0;36mgenerate\u001b[1;34m(self, text)\u001b[0m\n\u001b[0;32m    630\u001b[0m         \u001b[0mself\u001b[0m\u001b[1;33m\u001b[0m\u001b[1;33m\u001b[0m\u001b[0m\n\u001b[0;32m    631\u001b[0m         \"\"\"\n\u001b[1;32m--> 632\u001b[1;33m         \u001b[1;32mreturn\u001b[0m \u001b[0mself\u001b[0m\u001b[1;33m.\u001b[0m\u001b[0mgenerate_from_text\u001b[0m\u001b[1;33m(\u001b[0m\u001b[0mtext\u001b[0m\u001b[1;33m)\u001b[0m\u001b[1;33m\u001b[0m\u001b[1;33m\u001b[0m\u001b[0m\n\u001b[0m\u001b[0;32m    633\u001b[0m \u001b[1;33m\u001b[0m\u001b[0m\n\u001b[0;32m    634\u001b[0m     \u001b[1;32mdef\u001b[0m \u001b[0m_check_generated\u001b[0m\u001b[1;33m(\u001b[0m\u001b[0mself\u001b[0m\u001b[1;33m)\u001b[0m\u001b[1;33m:\u001b[0m\u001b[1;33m\u001b[0m\u001b[1;33m\u001b[0m\u001b[0m\n",
      "\u001b[1;32m~\\Anaconda3\\envs\\tensorflow_env\\lib\\site-packages\\wordcloud\\wordcloud.py\u001b[0m in \u001b[0;36mgenerate_from_text\u001b[1;34m(self, text)\u001b[0m\n\u001b[0;32m    612\u001b[0m         \"\"\"\n\u001b[0;32m    613\u001b[0m         \u001b[0mwords\u001b[0m \u001b[1;33m=\u001b[0m \u001b[0mself\u001b[0m\u001b[1;33m.\u001b[0m\u001b[0mprocess_text\u001b[0m\u001b[1;33m(\u001b[0m\u001b[0mtext\u001b[0m\u001b[1;33m)\u001b[0m\u001b[1;33m\u001b[0m\u001b[1;33m\u001b[0m\u001b[0m\n\u001b[1;32m--> 614\u001b[1;33m         \u001b[0mself\u001b[0m\u001b[1;33m.\u001b[0m\u001b[0mgenerate_from_frequencies\u001b[0m\u001b[1;33m(\u001b[0m\u001b[0mwords\u001b[0m\u001b[1;33m)\u001b[0m\u001b[1;33m\u001b[0m\u001b[1;33m\u001b[0m\u001b[0m\n\u001b[0m\u001b[0;32m    615\u001b[0m         \u001b[1;32mreturn\u001b[0m \u001b[0mself\u001b[0m\u001b[1;33m\u001b[0m\u001b[1;33m\u001b[0m\u001b[0m\n\u001b[0;32m    616\u001b[0m \u001b[1;33m\u001b[0m\u001b[0m\n",
      "\u001b[1;32m~\\Anaconda3\\envs\\tensorflow_env\\lib\\site-packages\\wordcloud\\wordcloud.py\u001b[0m in \u001b[0;36mgenerate_from_frequencies\u001b[1;34m(self, frequencies, max_font_size)\u001b[0m\n\u001b[0;32m    444\u001b[0m                 \u001b[0mfont_size\u001b[0m \u001b[1;33m=\u001b[0m \u001b[0mself\u001b[0m\u001b[1;33m.\u001b[0m\u001b[0mheight\u001b[0m\u001b[1;33m\u001b[0m\u001b[1;33m\u001b[0m\u001b[0m\n\u001b[0;32m    445\u001b[0m             \u001b[1;32melse\u001b[0m\u001b[1;33m:\u001b[0m\u001b[1;33m\u001b[0m\u001b[1;33m\u001b[0m\u001b[0m\n\u001b[1;32m--> 446\u001b[1;33m                 self.generate_from_frequencies(dict(frequencies[:2]),\n\u001b[0m\u001b[0;32m    447\u001b[0m                                                max_font_size=self.height)\n\u001b[0;32m    448\u001b[0m                 \u001b[1;31m# find font sizes\u001b[0m\u001b[1;33m\u001b[0m\u001b[1;33m\u001b[0m\u001b[1;33m\u001b[0m\u001b[0m\n",
      "\u001b[1;32m~\\Anaconda3\\envs\\tensorflow_env\\lib\\site-packages\\wordcloud\\wordcloud.py\u001b[0m in \u001b[0;36mgenerate_from_frequencies\u001b[1;34m(self, frequencies, max_font_size)\u001b[0m\n\u001b[0;32m    494\u001b[0m             \u001b[1;32mwhile\u001b[0m \u001b[1;32mTrue\u001b[0m\u001b[1;33m:\u001b[0m\u001b[1;33m\u001b[0m\u001b[1;33m\u001b[0m\u001b[0m\n\u001b[0;32m    495\u001b[0m                 \u001b[1;31m# try to find a position\u001b[0m\u001b[1;33m\u001b[0m\u001b[1;33m\u001b[0m\u001b[1;33m\u001b[0m\u001b[0m\n\u001b[1;32m--> 496\u001b[1;33m                 \u001b[0mfont\u001b[0m \u001b[1;33m=\u001b[0m \u001b[0mImageFont\u001b[0m\u001b[1;33m.\u001b[0m\u001b[0mtruetype\u001b[0m\u001b[1;33m(\u001b[0m\u001b[0mself\u001b[0m\u001b[1;33m.\u001b[0m\u001b[0mfont_path\u001b[0m\u001b[1;33m,\u001b[0m \u001b[0mfont_size\u001b[0m\u001b[1;33m)\u001b[0m\u001b[1;33m\u001b[0m\u001b[1;33m\u001b[0m\u001b[0m\n\u001b[0m\u001b[0;32m    497\u001b[0m                 \u001b[1;31m# transpose font optionally\u001b[0m\u001b[1;33m\u001b[0m\u001b[1;33m\u001b[0m\u001b[1;33m\u001b[0m\u001b[0m\n\u001b[0;32m    498\u001b[0m                 transposed_font = ImageFont.TransposedFont(\n",
      "\u001b[1;32m~\\Anaconda3\\envs\\tensorflow_env\\lib\\site-packages\\PIL\\ImageFont.py\u001b[0m in \u001b[0;36mtruetype\u001b[1;34m(font, size, index, encoding, layout_engine)\u001b[0m\n\u001b[0;32m    853\u001b[0m \u001b[1;33m\u001b[0m\u001b[0m\n\u001b[0;32m    854\u001b[0m     \u001b[1;32mtry\u001b[0m\u001b[1;33m:\u001b[0m\u001b[1;33m\u001b[0m\u001b[1;33m\u001b[0m\u001b[0m\n\u001b[1;32m--> 855\u001b[1;33m         \u001b[1;32mreturn\u001b[0m \u001b[0mfreetype\u001b[0m\u001b[1;33m(\u001b[0m\u001b[0mfont\u001b[0m\u001b[1;33m)\u001b[0m\u001b[1;33m\u001b[0m\u001b[1;33m\u001b[0m\u001b[0m\n\u001b[0m\u001b[0;32m    856\u001b[0m     \u001b[1;32mexcept\u001b[0m \u001b[0mOSError\u001b[0m\u001b[1;33m:\u001b[0m\u001b[1;33m\u001b[0m\u001b[1;33m\u001b[0m\u001b[0m\n\u001b[0;32m    857\u001b[0m         \u001b[1;32mif\u001b[0m \u001b[1;32mnot\u001b[0m \u001b[0misPath\u001b[0m\u001b[1;33m(\u001b[0m\u001b[0mfont\u001b[0m\u001b[1;33m)\u001b[0m\u001b[1;33m:\u001b[0m\u001b[1;33m\u001b[0m\u001b[1;33m\u001b[0m\u001b[0m\n",
      "\u001b[1;32m~\\Anaconda3\\envs\\tensorflow_env\\lib\\site-packages\\PIL\\ImageFont.py\u001b[0m in \u001b[0;36mfreetype\u001b[1;34m(font)\u001b[0m\n\u001b[0;32m    850\u001b[0m \u001b[1;33m\u001b[0m\u001b[0m\n\u001b[0;32m    851\u001b[0m     \u001b[1;32mdef\u001b[0m \u001b[0mfreetype\u001b[0m\u001b[1;33m(\u001b[0m\u001b[0mfont\u001b[0m\u001b[1;33m)\u001b[0m\u001b[1;33m:\u001b[0m\u001b[1;33m\u001b[0m\u001b[1;33m\u001b[0m\u001b[0m\n\u001b[1;32m--> 852\u001b[1;33m         \u001b[1;32mreturn\u001b[0m \u001b[0mFreeTypeFont\u001b[0m\u001b[1;33m(\u001b[0m\u001b[0mfont\u001b[0m\u001b[1;33m,\u001b[0m \u001b[0msize\u001b[0m\u001b[1;33m,\u001b[0m \u001b[0mindex\u001b[0m\u001b[1;33m,\u001b[0m \u001b[0mencoding\u001b[0m\u001b[1;33m,\u001b[0m \u001b[0mlayout_engine\u001b[0m\u001b[1;33m)\u001b[0m\u001b[1;33m\u001b[0m\u001b[1;33m\u001b[0m\u001b[0m\n\u001b[0m\u001b[0;32m    853\u001b[0m \u001b[1;33m\u001b[0m\u001b[0m\n\u001b[0;32m    854\u001b[0m     \u001b[1;32mtry\u001b[0m\u001b[1;33m:\u001b[0m\u001b[1;33m\u001b[0m\u001b[1;33m\u001b[0m\u001b[0m\n",
      "\u001b[1;32m~\\Anaconda3\\envs\\tensorflow_env\\lib\\site-packages\\PIL\\ImageFont.py\u001b[0m in \u001b[0;36m__init__\u001b[1;34m(self, font, size, index, encoding, layout_engine)\u001b[0m\n\u001b[0;32m    185\u001b[0m         \u001b[1;32mif\u001b[0m \u001b[0mlayout_engine\u001b[0m \u001b[1;32mnot\u001b[0m \u001b[1;32min\u001b[0m \u001b[1;33m(\u001b[0m\u001b[0mLAYOUT_BASIC\u001b[0m\u001b[1;33m,\u001b[0m \u001b[0mLAYOUT_RAQM\u001b[0m\u001b[1;33m)\u001b[0m\u001b[1;33m:\u001b[0m\u001b[1;33m\u001b[0m\u001b[1;33m\u001b[0m\u001b[0m\n\u001b[0;32m    186\u001b[0m             \u001b[0mlayout_engine\u001b[0m \u001b[1;33m=\u001b[0m \u001b[0mLAYOUT_BASIC\u001b[0m\u001b[1;33m\u001b[0m\u001b[1;33m\u001b[0m\u001b[0m\n\u001b[1;32m--> 187\u001b[1;33m             \u001b[1;32mif\u001b[0m \u001b[0mcore\u001b[0m\u001b[1;33m.\u001b[0m\u001b[0mHAVE_RAQM\u001b[0m\u001b[1;33m:\u001b[0m\u001b[1;33m\u001b[0m\u001b[1;33m\u001b[0m\u001b[0m\n\u001b[0m\u001b[0;32m    188\u001b[0m                 \u001b[0mlayout_engine\u001b[0m \u001b[1;33m=\u001b[0m \u001b[0mLAYOUT_RAQM\u001b[0m\u001b[1;33m\u001b[0m\u001b[1;33m\u001b[0m\u001b[0m\n\u001b[0;32m    189\u001b[0m         \u001b[1;32melif\u001b[0m \u001b[0mlayout_engine\u001b[0m \u001b[1;33m==\u001b[0m \u001b[0mLAYOUT_RAQM\u001b[0m \u001b[1;32mand\u001b[0m \u001b[1;32mnot\u001b[0m \u001b[0mcore\u001b[0m\u001b[1;33m.\u001b[0m\u001b[0mHAVE_RAQM\u001b[0m\u001b[1;33m:\u001b[0m\u001b[1;33m\u001b[0m\u001b[1;33m\u001b[0m\u001b[0m\n",
      "\u001b[1;32m~\\Anaconda3\\envs\\tensorflow_env\\lib\\site-packages\\PIL\\ImageFont.py\u001b[0m in \u001b[0;36m__getattr__\u001b[1;34m(self, id)\u001b[0m\n\u001b[0;32m     42\u001b[0m     \u001b[1;31m# module placeholder\u001b[0m\u001b[1;33m\u001b[0m\u001b[1;33m\u001b[0m\u001b[1;33m\u001b[0m\u001b[0m\n\u001b[0;32m     43\u001b[0m     \u001b[1;32mdef\u001b[0m \u001b[0m__getattr__\u001b[0m\u001b[1;33m(\u001b[0m\u001b[0mself\u001b[0m\u001b[1;33m,\u001b[0m \u001b[0mid\u001b[0m\u001b[1;33m)\u001b[0m\u001b[1;33m:\u001b[0m\u001b[1;33m\u001b[0m\u001b[1;33m\u001b[0m\u001b[0m\n\u001b[1;32m---> 44\u001b[1;33m         \u001b[1;32mraise\u001b[0m \u001b[0mImportError\u001b[0m\u001b[1;33m(\u001b[0m\u001b[1;34m\"The _imagingft C module is not installed\"\u001b[0m\u001b[1;33m)\u001b[0m\u001b[1;33m\u001b[0m\u001b[1;33m\u001b[0m\u001b[0m\n\u001b[0m\u001b[0;32m     45\u001b[0m \u001b[1;33m\u001b[0m\u001b[0m\n\u001b[0;32m     46\u001b[0m \u001b[1;33m\u001b[0m\u001b[0m\n",
      "\u001b[1;31mImportError\u001b[0m: The _imagingft C module is not installed"
     ]
    }
   ],
   "source": [
    "# Word cloud\n",
    "\n",
    "# Get stopwords\n",
    "stopwords = nltk.corpus.stopwords.words('english')\n",
    "\n",
    "# Combine all reviews into 1 single string\n",
    "combined_review_text = ' '.join(df['text'])\n",
    "\n",
    "# Create word cloud without stopwords\n",
    "wc = WordCloud(background_color='white', stopwords=stopwords).generate(combined_review_text)\n",
    "\n",
    "plt.figure(figsize=(16,8))\n",
    "plt.imshow(wc)\n",
    "plt.axis(\"off\")\n",
    "plt.title(\"Word Cloud for all Reviews\")\n",
    "plt.show()"
   ]
  },
  {
   "cell_type": "markdown",
   "id": "231920ac",
   "metadata": {},
   "source": [
    "Top words include \"food\", \"restaurant\", \"delicious\", etc, suggesting that majority of the businesses in the dataset are food businesses. There are seem to be frequent occurrences of positive words like \"good\" and \"great\", suggesting that majority of the reviews are positive, which is in line with the stars distribution. However, we cannot readily conclude as such yet, because there may also be high occurrences of phrases like \"not good\", which are negative."
   ]
  },
  {
   "cell_type": "markdown",
   "id": "5590f1cf",
   "metadata": {},
   "source": [
    "### Data Cleaning"
   ]
  },
  {
   "cell_type": "markdown",
   "id": "badd6a67",
   "metadata": {},
   "source": [
    "Add labels to our dataset. We consider reviews of ratings 4 and 5 to be \"positive\" (1) and reviews of ratings 1 and 2 to be \"negative\". We shall ignore and remove reviews of rating 3."
   ]
  },
  {
   "cell_type": "code",
   "execution_count": null,
   "id": "eb3106ad",
   "metadata": {},
   "outputs": [],
   "source": [
    "# Remove stars = 3\n",
    "df = df[df['stars'] != 3]"
   ]
  },
  {
   "cell_type": "code",
   "execution_count": null,
   "id": "91d7cb55",
   "metadata": {},
   "outputs": [],
   "source": [
    "# set sentiment = 1 (positive) or 0 (negative) depending on stars\n",
    "df['sentiment'] = df['stars'].apply(lambda x: 1 if x >= 4 else 0)"
   ]
  },
  {
   "cell_type": "code",
   "execution_count": null,
   "id": "1d506d6f",
   "metadata": {},
   "outputs": [],
   "source": [
    "df.head()"
   ]
  },
  {
   "cell_type": "code",
   "execution_count": null,
   "id": "a0e5da09",
   "metadata": {},
   "outputs": [],
   "source": [
    "# Drop the unnecessary columns (we only need text and sentiment)\n",
    "df = df[['text', 'sentiment']]\n",
    "df.head()"
   ]
  },
  {
   "cell_type": "markdown",
   "id": "8993c685",
   "metadata": {},
   "source": [
    "Since there might be reviews of different languages, we want to remove non-english reviews."
   ]
  },
  {
   "cell_type": "code",
   "execution_count": null,
   "id": "70b33f02",
   "metadata": {},
   "outputs": [],
   "source": [
    "# Find the non-english reviews\n",
    "non_english = df[df['text'].apply(detect)!='en']"
   ]
  },
  {
   "cell_type": "code",
   "execution_count": null,
   "id": "d6d19b38",
   "metadata": {},
   "outputs": [],
   "source": [
    "non_english"
   ]
  },
  {
   "cell_type": "code",
   "execution_count": null,
   "id": "255be915",
   "metadata": {},
   "outputs": [],
   "source": [
    "# Filter the df to contain only english reviews\n",
    "df = df[df['text'].apply(detect)=='en']"
   ]
  },
  {
   "cell_type": "code",
   "execution_count": null,
   "id": "16b48833",
   "metadata": {},
   "outputs": [],
   "source": [
    "# Reset the index of the df\n",
    "df = df.reset_index(drop=True)"
   ]
  },
  {
   "cell_type": "code",
   "execution_count": null,
   "id": "9c2e8e56",
   "metadata": {},
   "outputs": [],
   "source": [
    "df"
   ]
  },
  {
   "cell_type": "markdown",
   "id": "0fe4cfc7",
   "metadata": {},
   "source": [
    "### Exploratory Data Analysis II"
   ]
  },
  {
   "cell_type": "code",
   "execution_count": null,
   "id": "7a58b66f",
   "metadata": {},
   "outputs": [],
   "source": [
    "# Do further word cloud analysis on the reviews which are positive and negative separately\n",
    "\n",
    "# Split dataframe into positive and negative\n",
    "positive_reviews_df = df[df['sentiment'] == 1]\n",
    "negative_reviews_df = df[df['sentiment'] == 0]\n",
    "\n",
    "# Combine reviews into single string\n",
    "combined_positive_text = ' '.join(positive_reviews_df['text'])\n",
    "combined_negative_text = ' '.join(negative_reviews_df['text'])"
   ]
  },
  {
   "cell_type": "code",
   "execution_count": null,
   "id": "dc6c2d68",
   "metadata": {},
   "outputs": [],
   "source": [
    "# Create positive word cloud\n",
    "wc_positive = WordCloud(background_color='white', stopwords=stopwords).generate(combined_positive_text)\n",
    "\n",
    "plt.figure(figsize=(12,6))\n",
    "plt.imshow(wc_positive)\n",
    "plt.axis(\"off\")\n",
    "plt.title(\"Word Cloud for all Positive Reviews\")\n",
    "plt.show()"
   ]
  },
  {
   "cell_type": "markdown",
   "id": "8ac66a8d",
   "metadata": {},
   "source": [
    "Word cloud for positive reviews looks very similar to the combined word cloud. Perhaps because majority of the reviews are positive."
   ]
  },
  {
   "cell_type": "code",
   "execution_count": null,
   "id": "40d304bc",
   "metadata": {},
   "outputs": [],
   "source": [
    "# Create negative word cloud\n",
    "wc_negative = WordCloud(background_color='white', stopwords=stopwords).generate(combined_negative_text)\n",
    "\n",
    "plt.figure(figsize=(12,6))\n",
    "plt.imshow(wc_negative)\n",
    "plt.axis(\"off\")\n",
    "plt.title(\"Word Cloud for all Negative Reviews\")\n",
    "plt.show()"
   ]
  },
  {
   "cell_type": "markdown",
   "id": "1fb590ee",
   "metadata": {},
   "source": [
    "No obvious negative words in the word cloud. However, \"good\" was one of the top words. This likely indicates that \"not good\" was used frequently. Therefore, it would be important to consider bigrams in our sentiment classification."
   ]
  },
  {
   "cell_type": "markdown",
   "id": "f3477866",
   "metadata": {},
   "source": [
    "### Data Preprocessing"
   ]
  },
  {
   "cell_type": "markdown",
   "id": "37601202",
   "metadata": {},
   "source": [
    "We want to preprocess the data before using it to train the model.\n",
    "- Lowercase\n",
    "- Remove punctuation (excluding hyphens)\n",
    "- Remove digits\n",
    "- Tokenize\n",
    "- Remove stopwords (excluding negation eg not)\n",
    "- Stemming"
   ]
  },
  {
   "cell_type": "code",
   "execution_count": null,
   "id": "46d2611f",
   "metadata": {},
   "outputs": [],
   "source": [
    "# Lowercase\n",
    "df[\"processed_text\"] = df['text'].apply(lambda x: x.lower())\n",
    "df.head()"
   ]
  },
  {
   "cell_type": "code",
   "execution_count": null,
   "id": "494a9b55",
   "metadata": {},
   "outputs": [],
   "source": [
    "# Remove punctuations except hyphens\n",
    "punctuations = string.punctuation.replace('-', '')\n",
    "\n",
    "# Function to remove punctuations\n",
    "def remove_punctuation(text, punctuations):\n",
    "    return text.translate(str.maketrans('', '', punctuations))\n",
    "\n",
    "# Remove punctuation from all reviews\n",
    "df['processed_text'] = df['processed_text'].apply(lambda x: remove_punctuation(x, punctuations))\n",
    "df.head()"
   ]
  },
  {
   "cell_type": "code",
   "execution_count": null,
   "id": "890e9429",
   "metadata": {},
   "outputs": [],
   "source": [
    "# Remove digits\n",
    "def remove_digits(text):\n",
    "    return ''.join([i for i in text if not i.isdigit()])\n",
    "\n",
    "# Remove digits from all reviews\n",
    "df['processed_text'] = df['processed_text'].apply(lambda x: remove_digits(x))\n",
    "df.head()"
   ]
  },
  {
   "cell_type": "code",
   "execution_count": null,
   "id": "90c7ffd9",
   "metadata": {},
   "outputs": [],
   "source": [
    "# Tokenize the sentence\n",
    "df['processed_text'] = df['processed_text'].apply(lambda x: word_tokenize(x))\n",
    "df.head()"
   ]
  },
  {
   "cell_type": "code",
   "execution_count": null,
   "id": "c4c137ce",
   "metadata": {},
   "outputs": [],
   "source": [
    "stopwords = nltk.corpus.stopwords.words('english')"
   ]
  },
  {
   "cell_type": "code",
   "execution_count": null,
   "id": "3f8cf593",
   "metadata": {},
   "outputs": [],
   "source": [
    "# Remove stopwords\n",
    "\n",
    "# Do not include negation (not, no) in the stopwords\n",
    "stopwords.remove(\"not\")\n",
    "stopwords.remove(\"no\")\n",
    "\n",
    "# Function to remove stopwords\n",
    "def remove_stopwords(text, stopwords):\n",
    "    result = []\n",
    "    for word in text:\n",
    "        if word not in stopwords:\n",
    "            result.append(word)\n",
    "    return result\n",
    "\n",
    "# Remove stopwords from reviews\n",
    "df['processed_text'] = df['processed_text'].apply(lambda x: remove_stopwords(x, stopwords))\n",
    "df.head()"
   ]
  },
  {
   "cell_type": "code",
   "execution_count": null,
   "id": "bbb560db",
   "metadata": {},
   "outputs": [],
   "source": [
    "# Stemming\n",
    "ps = PorterStemmer()\n",
    "\n",
    "def stemming(text, ps):\n",
    "    return [ps.stem(word) for word in text]\n",
    "\n",
    "# Stem the words in reviews\n",
    "df['processed_text'] = df['processed_text'].apply(lambda x: stemming(x, ps))\n",
    "df.head()"
   ]
  },
  {
   "cell_type": "code",
   "execution_count": null,
   "id": "68466dbe",
   "metadata": {},
   "outputs": [],
   "source": [
    "# Combine processed text back into a single string\n",
    "df['processed_text'] = df['processed_text'].apply(lambda x: ' '.join(x))\n",
    "df.head()"
   ]
  },
  {
   "cell_type": "markdown",
   "id": "b6c0a304",
   "metadata": {},
   "source": [
    "### Training of Model\n",
    "\n",
    "1. Sampling the dataset - Since the dataset is very large, we want to train and test the model on a smaller dataset. We will sample a portion of the dataset, ensuring equal distribution of positive and negative reviews\n",
    "\n",
    "2. Train-test split on the dataset\n",
    "\n",
    "3. Convert text into bag-of-words (BoW), i.e. represent words in numbers, using CountVectorizer\n",
    "\n",
    "4. Train the model (Logistic Regression)"
   ]
  },
  {
   "cell_type": "code",
   "execution_count": null,
   "id": "f5fe2f07",
   "metadata": {},
   "outputs": [],
   "source": [
    "# Sample the dataset\n",
    "positive_count = 10000\n",
    "negative_count = 10000\n",
    "\n",
    "# Get the rows for positive and negative reviews\n",
    "positive_reviews = df[df['sentiment'] == 1]\n",
    "negative_reviews = df[df['sentiment'] == 0]\n",
    "\n",
    "# Sample the positive and negative reviews\n",
    "positive_sample_reviews = positive_reviews.sample(n=positive_count).reset_index(drop=True)\n",
    "negative_sample_reviews = negative_reviews.sample(n=negative_count).reset_index(drop=True)\n",
    "\n",
    "# Merge the dataframes\n",
    "merged_df = pd.concat([positive_sample_reviews, negative_sample_reviews]).reset_index(drop=True)"
   ]
  },
  {
   "cell_type": "code",
   "execution_count": null,
   "id": "a33a65e3",
   "metadata": {},
   "outputs": [],
   "source": [
    "# Train test split\n",
    "x = merged_df['processed_text']\n",
    "y= merged_df['sentiment']\n",
    "X_train, X_test, y_train, y_test = train_test_split(x, y, test_size=0.3, random_state=42)"
   ]
  },
  {
   "cell_type": "code",
   "execution_count": null,
   "id": "62145f3c",
   "metadata": {},
   "outputs": [],
   "source": [
    "# CountVectorizer - bigram\n",
    "vectorizer = CountVectorizer(ngram_range=(2, 2))\n",
    "\n",
    "# Fit the training data\n",
    "train_matrix = vectorizer.fit_transform(X_train)\n",
    "test_matrix = vectorizer.transform(X_test)"
   ]
  },
  {
   "cell_type": "code",
   "execution_count": null,
   "id": "814f7e81",
   "metadata": {},
   "outputs": [],
   "source": [
    "vectorizer.get_feature_names_out()"
   ]
  },
  {
   "cell_type": "code",
   "execution_count": null,
   "id": "ce0408b2",
   "metadata": {},
   "outputs": [],
   "source": [
    "# Logistic Regression\n",
    "\n",
    "# Fit\n",
    "lr = LogisticRegression()\n",
    "lr.fit(train_matrix, y_train)"
   ]
  },
  {
   "cell_type": "markdown",
   "id": "6e3c6e02",
   "metadata": {},
   "source": [
    "### Testing the Model"
   ]
  },
  {
   "cell_type": "code",
   "execution_count": null,
   "id": "9813990a",
   "metadata": {},
   "outputs": [],
   "source": [
    "# Testing\n",
    "y_pred = lr.predict(test_matrix)"
   ]
  },
  {
   "cell_type": "code",
   "execution_count": null,
   "id": "e1df9132",
   "metadata": {},
   "outputs": [],
   "source": [
    "# Confusion matrix\n",
    "confusion_matrix(y_test, y_pred)"
   ]
  },
  {
   "cell_type": "code",
   "execution_count": null,
   "id": "ee5e1817",
   "metadata": {},
   "outputs": [],
   "source": [
    "# Classification report\n",
    "print(classification_report(y_test, y_pred))"
   ]
  },
  {
   "cell_type": "markdown",
   "id": "f186d63f",
   "metadata": {},
   "source": [
    "### Export the Model and Vectorizer"
   ]
  },
  {
   "cell_type": "code",
   "execution_count": null,
   "id": "ce2c2ae3",
   "metadata": {},
   "outputs": [],
   "source": [
    "with open(\"modelAndVectorizer.pkl\", 'wb') as fout:\n",
    "    pickle.dump((lr, vectorizer), fout)"
   ]
  },
  {
   "cell_type": "code",
   "execution_count": null,
   "id": "ceae4653",
   "metadata": {},
   "outputs": [],
   "source": [
    "# Code to read model and vectorizer -> use this in the application\n",
    "\n",
    "with open('modelAndVectorizer.pkl', 'rb') as f:\n",
    "    lr, vectorizer = pickle.load(f)"
   ]
  }
 ],
 "metadata": {
  "kernelspec": {
   "display_name": "Python 3",
   "language": "python",
   "name": "python3"
  },
  "language_info": {
   "codemirror_mode": {
    "name": "ipython",
    "version": 3
   },
   "file_extension": ".py",
   "mimetype": "text/x-python",
   "name": "python",
   "nbconvert_exporter": "python",
   "pygments_lexer": "ipython3",
   "version": "3.8.12"
  }
 },
 "nbformat": 4,
 "nbformat_minor": 5
}
