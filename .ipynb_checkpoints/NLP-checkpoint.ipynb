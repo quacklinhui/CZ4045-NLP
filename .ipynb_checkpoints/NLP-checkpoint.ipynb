{
 "cells": [
  {
   "cell_type": "code",
   "execution_count": 2,
   "metadata": {},
   "outputs": [
    {
     "name": "stderr",
     "output_type": "stream",
     "text": [
      "C:\\Users\\theco\\Anaconda3\\lib\\site-packages\\statsmodels\\tools\\_testing.py:19: FutureWarning: pandas.util.testing is deprecated. Use the functions in the public API at pandas.testing instead.\n",
      "  import pandas.util.testing as tm\n"
     ]
    }
   ],
   "source": [
    "import pandas as pd\n",
    "import os\n",
    "import sys\n",
    "import nltk\n",
    "import tensorflow as tf\n",
    "import matplotlib\n",
    "\n",
    "import json\n",
    "import nltk\n",
    "from nltk.stem import PorterStemmer\n",
    "from nltk.tokenize import word_tokenize\n",
    "from nltk.probability import FreqDist\n",
    "from collections import Counter\n",
    "import numpy as np\n",
    "import pandas as pd\n",
    "import matplotlib.pyplot as plt\n",
    "import seaborn as sns\n",
    "from collections import Counter\n",
    "from random import randrange\n",
    "from nltk.corpus import stopwords\n",
    "import string\n",
    "import spacy"
   ]
  },
  {
   "cell_type": "code",
   "execution_count": 3,
   "metadata": {},
   "outputs": [
    {
     "name": "stdout",
     "output_type": "stream",
     "text": [
      "<_io.TextIOWrapper name='reviewSelected100.json' mode='r' encoding='cp1252'>\n"
     ]
    }
   ],
   "source": [
    "ps = PorterStemmer()\n",
    "with open('reviewSelected100.json') as f:\n",
    "    data = json.loads(\"[\" + \n",
    "        f.read().replace(\"}\\n{\", \"},\\n{\") + \n",
    "    \"]\")\n",
    "print(f)\n",
    "chunks = pd.read_json('review.json', lines=True, chunksize = 100) #change this to a larger dataset later"
   ]
  },
  {
   "cell_type": "code",
   "execution_count": 4,
   "metadata": {},
   "outputs": [
    {
     "data": {
      "text/html": [
       "<div>\n",
       "<style scoped>\n",
       "    .dataframe tbody tr th:only-of-type {\n",
       "        vertical-align: middle;\n",
       "    }\n",
       "\n",
       "    .dataframe tbody tr th {\n",
       "        vertical-align: top;\n",
       "    }\n",
       "\n",
       "    .dataframe thead th {\n",
       "        text-align: right;\n",
       "    }\n",
       "</style>\n",
       "<table border=\"1\" class=\"dataframe\">\n",
       "  <thead>\n",
       "    <tr style=\"text-align: right;\">\n",
       "      <th></th>\n",
       "      <th>review_id</th>\n",
       "      <th>user_id</th>\n",
       "      <th>business_id</th>\n",
       "      <th>stars</th>\n",
       "      <th>useful</th>\n",
       "      <th>funny</th>\n",
       "      <th>cool</th>\n",
       "      <th>text</th>\n",
       "      <th>date</th>\n",
       "    </tr>\n",
       "  </thead>\n",
       "  <tbody>\n",
       "    <tr>\n",
       "      <th>0</th>\n",
       "      <td>lWC-xP3rd6obsecCYsGZRg</td>\n",
       "      <td>ak0TdVmGKo4pwqdJSTLwWw</td>\n",
       "      <td>buF9druCkbuXLX526sGELQ</td>\n",
       "      <td>4</td>\n",
       "      <td>3</td>\n",
       "      <td>1</td>\n",
       "      <td>1</td>\n",
       "      <td>Apparently Prides Osteria had a rough summer a...</td>\n",
       "      <td>2014-10-11 03:34:02</td>\n",
       "    </tr>\n",
       "    <tr>\n",
       "      <th>1</th>\n",
       "      <td>8bFej1QE5LXp4O05qjGqXA</td>\n",
       "      <td>YoVfDbnISlW0f7abNQACIg</td>\n",
       "      <td>RA4V8pr014UyUbDvI-LW2A</td>\n",
       "      <td>4</td>\n",
       "      <td>1</td>\n",
       "      <td>0</td>\n",
       "      <td>0</td>\n",
       "      <td>This store is pretty good. Not as great as Wal...</td>\n",
       "      <td>2015-07-03 20:38:25</td>\n",
       "    </tr>\n",
       "    <tr>\n",
       "      <th>2</th>\n",
       "      <td>NDhkzczKjLshODbqDoNLSg</td>\n",
       "      <td>eC5evKn1TWDyHCyQAwguUw</td>\n",
       "      <td>_sS2LBIGNT5NQb6PD1Vtjw</td>\n",
       "      <td>5</td>\n",
       "      <td>0</td>\n",
       "      <td>0</td>\n",
       "      <td>0</td>\n",
       "      <td>I called WVM on the recommendation of a couple...</td>\n",
       "      <td>2013-05-28 20:38:06</td>\n",
       "    </tr>\n",
       "    <tr>\n",
       "      <th>3</th>\n",
       "      <td>T5fAqjjFooT4V0OeZyuk1w</td>\n",
       "      <td>SFQ1jcnGguO0LYWnbbftAA</td>\n",
       "      <td>0AzLzHfOJgL7ROwhdww2ew</td>\n",
       "      <td>2</td>\n",
       "      <td>1</td>\n",
       "      <td>1</td>\n",
       "      <td>1</td>\n",
       "      <td>I've stayed at many Marriott and Renaissance M...</td>\n",
       "      <td>2010-01-08 02:29:15</td>\n",
       "    </tr>\n",
       "    <tr>\n",
       "      <th>4</th>\n",
       "      <td>sjm_uUcQVxab_EeLCqsYLg</td>\n",
       "      <td>0kA0PAJ8QFMeveQWHFqz2A</td>\n",
       "      <td>8zehGz9jnxPqXtOc7KaJxA</td>\n",
       "      <td>4</td>\n",
       "      <td>0</td>\n",
       "      <td>0</td>\n",
       "      <td>0</td>\n",
       "      <td>The food is always great here. The service fro...</td>\n",
       "      <td>2011-07-28 18:05:01</td>\n",
       "    </tr>\n",
       "  </tbody>\n",
       "</table>\n",
       "</div>"
      ],
      "text/plain": [
       "                review_id                 user_id             business_id  \\\n",
       "0  lWC-xP3rd6obsecCYsGZRg  ak0TdVmGKo4pwqdJSTLwWw  buF9druCkbuXLX526sGELQ   \n",
       "1  8bFej1QE5LXp4O05qjGqXA  YoVfDbnISlW0f7abNQACIg  RA4V8pr014UyUbDvI-LW2A   \n",
       "2  NDhkzczKjLshODbqDoNLSg  eC5evKn1TWDyHCyQAwguUw  _sS2LBIGNT5NQb6PD1Vtjw   \n",
       "3  T5fAqjjFooT4V0OeZyuk1w  SFQ1jcnGguO0LYWnbbftAA  0AzLzHfOJgL7ROwhdww2ew   \n",
       "4  sjm_uUcQVxab_EeLCqsYLg  0kA0PAJ8QFMeveQWHFqz2A  8zehGz9jnxPqXtOc7KaJxA   \n",
       "\n",
       "   stars  useful  funny  cool  \\\n",
       "0      4       3      1     1   \n",
       "1      4       1      0     0   \n",
       "2      5       0      0     0   \n",
       "3      2       1      1     1   \n",
       "4      4       0      0     0   \n",
       "\n",
       "                                                text                date  \n",
       "0  Apparently Prides Osteria had a rough summer a... 2014-10-11 03:34:02  \n",
       "1  This store is pretty good. Not as great as Wal... 2015-07-03 20:38:25  \n",
       "2  I called WVM on the recommendation of a couple... 2013-05-28 20:38:06  \n",
       "3  I've stayed at many Marriott and Renaissance M... 2010-01-08 02:29:15  \n",
       "4  The food is always great here. The service fro... 2011-07-28 18:05:01  "
      ]
     },
     "execution_count": 4,
     "metadata": {},
     "output_type": "execute_result"
    }
   ],
   "source": [
    "chunks = pd.read_json('yelp_academic_dataset_review.json', lines=True, chunksize = 100)\n",
    "reviews = pd.concat([c for c in chunks])\n",
    "reviews.head()"
   ]
  },
  {
   "cell_type": "code",
   "execution_count": 5,
   "metadata": {},
   "outputs": [
    {
     "data": {
      "text/html": [
       "<div>\n",
       "<style scoped>\n",
       "    .dataframe tbody tr th:only-of-type {\n",
       "        vertical-align: middle;\n",
       "    }\n",
       "\n",
       "    .dataframe tbody tr th {\n",
       "        vertical-align: top;\n",
       "    }\n",
       "\n",
       "    .dataframe thead th {\n",
       "        text-align: right;\n",
       "    }\n",
       "</style>\n",
       "<table border=\"1\" class=\"dataframe\">\n",
       "  <thead>\n",
       "    <tr style=\"text-align: right;\">\n",
       "      <th></th>\n",
       "      <th>review_id</th>\n",
       "      <th>user_id</th>\n",
       "      <th>business_id</th>\n",
       "      <th>stars</th>\n",
       "      <th>useful</th>\n",
       "      <th>funny</th>\n",
       "      <th>cool</th>\n",
       "      <th>text</th>\n",
       "      <th>date</th>\n",
       "    </tr>\n",
       "  </thead>\n",
       "  <tbody>\n",
       "    <tr>\n",
       "      <th>0</th>\n",
       "      <td>lWC-xP3rd6obsecCYsGZRg</td>\n",
       "      <td>ak0TdVmGKo4pwqdJSTLwWw</td>\n",
       "      <td>buF9druCkbuXLX526sGELQ</td>\n",
       "      <td>4</td>\n",
       "      <td>3</td>\n",
       "      <td>1</td>\n",
       "      <td>1</td>\n",
       "      <td>Apparently Prides Osteria had a rough summer a...</td>\n",
       "      <td>2014-10-11 03:34:02</td>\n",
       "    </tr>\n",
       "    <tr>\n",
       "      <th>1</th>\n",
       "      <td>8bFej1QE5LXp4O05qjGqXA</td>\n",
       "      <td>YoVfDbnISlW0f7abNQACIg</td>\n",
       "      <td>RA4V8pr014UyUbDvI-LW2A</td>\n",
       "      <td>4</td>\n",
       "      <td>1</td>\n",
       "      <td>0</td>\n",
       "      <td>0</td>\n",
       "      <td>This store is pretty good. Not as great as Wal...</td>\n",
       "      <td>2015-07-03 20:38:25</td>\n",
       "    </tr>\n",
       "    <tr>\n",
       "      <th>2</th>\n",
       "      <td>NDhkzczKjLshODbqDoNLSg</td>\n",
       "      <td>eC5evKn1TWDyHCyQAwguUw</td>\n",
       "      <td>_sS2LBIGNT5NQb6PD1Vtjw</td>\n",
       "      <td>5</td>\n",
       "      <td>0</td>\n",
       "      <td>0</td>\n",
       "      <td>0</td>\n",
       "      <td>I called WVM on the recommendation of a couple...</td>\n",
       "      <td>2013-05-28 20:38:06</td>\n",
       "    </tr>\n",
       "    <tr>\n",
       "      <th>3</th>\n",
       "      <td>T5fAqjjFooT4V0OeZyuk1w</td>\n",
       "      <td>SFQ1jcnGguO0LYWnbbftAA</td>\n",
       "      <td>0AzLzHfOJgL7ROwhdww2ew</td>\n",
       "      <td>2</td>\n",
       "      <td>1</td>\n",
       "      <td>1</td>\n",
       "      <td>1</td>\n",
       "      <td>I've stayed at many Marriott and Renaissance M...</td>\n",
       "      <td>2010-01-08 02:29:15</td>\n",
       "    </tr>\n",
       "    <tr>\n",
       "      <th>4</th>\n",
       "      <td>sjm_uUcQVxab_EeLCqsYLg</td>\n",
       "      <td>0kA0PAJ8QFMeveQWHFqz2A</td>\n",
       "      <td>8zehGz9jnxPqXtOc7KaJxA</td>\n",
       "      <td>4</td>\n",
       "      <td>0</td>\n",
       "      <td>0</td>\n",
       "      <td>0</td>\n",
       "      <td>The food is always great here. The service fro...</td>\n",
       "      <td>2011-07-28 18:05:01</td>\n",
       "    </tr>\n",
       "    <tr>\n",
       "      <th>...</th>\n",
       "      <td>...</td>\n",
       "      <td>...</td>\n",
       "      <td>...</td>\n",
       "      <td>...</td>\n",
       "      <td>...</td>\n",
       "      <td>...</td>\n",
       "      <td>...</td>\n",
       "      <td>...</td>\n",
       "      <td>...</td>\n",
       "    </tr>\n",
       "    <tr>\n",
       "      <th>8635398</th>\n",
       "      <td>PHnqMOU1pzHbnUMk3Cg2zA</td>\n",
       "      <td>6olZ0y9oW9azON61AhwxYg</td>\n",
       "      <td>yyTtwwQ4JnQMJ2rn3W0S0g</td>\n",
       "      <td>1</td>\n",
       "      <td>0</td>\n",
       "      <td>0</td>\n",
       "      <td>0</td>\n",
       "      <td>In December, I called in (as a returning custo...</td>\n",
       "      <td>2021-01-26 04:07:14</td>\n",
       "    </tr>\n",
       "    <tr>\n",
       "      <th>8635399</th>\n",
       "      <td>dViF8gg9745CszpekNvp2g</td>\n",
       "      <td>EPYNZQFuSKqLi-on3U9dFg</td>\n",
       "      <td>RDgwjgbu5xziFIAaNn3WCQ</td>\n",
       "      <td>1</td>\n",
       "      <td>13</td>\n",
       "      <td>1</td>\n",
       "      <td>0</td>\n",
       "      <td>This guy is a moron that will stalk and harass...</td>\n",
       "      <td>2019-05-01 21:21:43</td>\n",
       "    </tr>\n",
       "    <tr>\n",
       "      <th>8635400</th>\n",
       "      <td>7vNXRIClt-9rFzMXlrtMXA</td>\n",
       "      <td>tr13Jb83h2itjyXVwaO5eA</td>\n",
       "      <td>rbuj2X4SXIc3MDul4dcxIA</td>\n",
       "      <td>5</td>\n",
       "      <td>39</td>\n",
       "      <td>13</td>\n",
       "      <td>34</td>\n",
       "      <td>Yummy, great chew on the bagel\\nFriendly staff...</td>\n",
       "      <td>2020-06-13 02:39:26</td>\n",
       "    </tr>\n",
       "    <tr>\n",
       "      <th>8635401</th>\n",
       "      <td>Ho57jz6U-JjrGHpGWIGLNg</td>\n",
       "      <td>HqdmRMpNvScFxjGAB40vgQ</td>\n",
       "      <td>IRzjEZ2pX4iOpnBG7oZJ7g</td>\n",
       "      <td>2</td>\n",
       "      <td>2</td>\n",
       "      <td>0</td>\n",
       "      <td>0</td>\n",
       "      <td>This used to be my car wash of choice. They di...</td>\n",
       "      <td>2020-06-22 21:54:10</td>\n",
       "    </tr>\n",
       "    <tr>\n",
       "      <th>8635402</th>\n",
       "      <td>YNyurWy1ZIYEy1vXI7azOg</td>\n",
       "      <td>HsT8bz3-SKMk7YidwLLM6Q</td>\n",
       "      <td>pxwYIa1jZzHJ4R0Sp1cHFw</td>\n",
       "      <td>5</td>\n",
       "      <td>11</td>\n",
       "      <td>4</td>\n",
       "      <td>5</td>\n",
       "      <td>This is so highly rated for a reason. If you'r...</td>\n",
       "      <td>2019-04-17 04:27:39</td>\n",
       "    </tr>\n",
       "  </tbody>\n",
       "</table>\n",
       "<p>8635403 rows × 9 columns</p>\n",
       "</div>"
      ],
      "text/plain": [
       "                      review_id                 user_id  \\\n",
       "0        lWC-xP3rd6obsecCYsGZRg  ak0TdVmGKo4pwqdJSTLwWw   \n",
       "1        8bFej1QE5LXp4O05qjGqXA  YoVfDbnISlW0f7abNQACIg   \n",
       "2        NDhkzczKjLshODbqDoNLSg  eC5evKn1TWDyHCyQAwguUw   \n",
       "3        T5fAqjjFooT4V0OeZyuk1w  SFQ1jcnGguO0LYWnbbftAA   \n",
       "4        sjm_uUcQVxab_EeLCqsYLg  0kA0PAJ8QFMeveQWHFqz2A   \n",
       "...                         ...                     ...   \n",
       "8635398  PHnqMOU1pzHbnUMk3Cg2zA  6olZ0y9oW9azON61AhwxYg   \n",
       "8635399  dViF8gg9745CszpekNvp2g  EPYNZQFuSKqLi-on3U9dFg   \n",
       "8635400  7vNXRIClt-9rFzMXlrtMXA  tr13Jb83h2itjyXVwaO5eA   \n",
       "8635401  Ho57jz6U-JjrGHpGWIGLNg  HqdmRMpNvScFxjGAB40vgQ   \n",
       "8635402  YNyurWy1ZIYEy1vXI7azOg  HsT8bz3-SKMk7YidwLLM6Q   \n",
       "\n",
       "                    business_id  stars  useful  funny  cool  \\\n",
       "0        buF9druCkbuXLX526sGELQ      4       3      1     1   \n",
       "1        RA4V8pr014UyUbDvI-LW2A      4       1      0     0   \n",
       "2        _sS2LBIGNT5NQb6PD1Vtjw      5       0      0     0   \n",
       "3        0AzLzHfOJgL7ROwhdww2ew      2       1      1     1   \n",
       "4        8zehGz9jnxPqXtOc7KaJxA      4       0      0     0   \n",
       "...                         ...    ...     ...    ...   ...   \n",
       "8635398  yyTtwwQ4JnQMJ2rn3W0S0g      1       0      0     0   \n",
       "8635399  RDgwjgbu5xziFIAaNn3WCQ      1      13      1     0   \n",
       "8635400  rbuj2X4SXIc3MDul4dcxIA      5      39     13    34   \n",
       "8635401  IRzjEZ2pX4iOpnBG7oZJ7g      2       2      0     0   \n",
       "8635402  pxwYIa1jZzHJ4R0Sp1cHFw      5      11      4     5   \n",
       "\n",
       "                                                      text                date  \n",
       "0        Apparently Prides Osteria had a rough summer a... 2014-10-11 03:34:02  \n",
       "1        This store is pretty good. Not as great as Wal... 2015-07-03 20:38:25  \n",
       "2        I called WVM on the recommendation of a couple... 2013-05-28 20:38:06  \n",
       "3        I've stayed at many Marriott and Renaissance M... 2010-01-08 02:29:15  \n",
       "4        The food is always great here. The service fro... 2011-07-28 18:05:01  \n",
       "...                                                    ...                 ...  \n",
       "8635398  In December, I called in (as a returning custo... 2021-01-26 04:07:14  \n",
       "8635399  This guy is a moron that will stalk and harass... 2019-05-01 21:21:43  \n",
       "8635400  Yummy, great chew on the bagel\\nFriendly staff... 2020-06-13 02:39:26  \n",
       "8635401  This used to be my car wash of choice. They di... 2020-06-22 21:54:10  \n",
       "8635402  This is so highly rated for a reason. If you'r... 2019-04-17 04:27:39  \n",
       "\n",
       "[8635403 rows x 9 columns]"
      ]
     },
     "execution_count": 5,
     "metadata": {},
     "output_type": "execute_result"
    }
   ],
   "source": [
    "df = reviews\n",
    "df\n"
   ]
  },
  {
   "cell_type": "code",
   "execution_count": 58,
   "metadata": {},
   "outputs": [],
   "source": [
    "#labelling the positive and negative values\n",
    "row_indexes_positive=df[df['stars']>=4].index \n",
    "df.loc[row_indexes_positive,'sentiment']=1 #can think about whether we should just encode 1 and 0 here\n",
    "row_indexes_positive=df[df['stars']>=4]\n",
    "\n",
    "row_indexes_negative=df[df['stars']<4].index \n",
    "df.loc[row_indexes_negative,'sentiment']=0\n",
    "row_indexes_negative=df[df['stars']<4]"
   ]
  },
  {
   "cell_type": "code",
   "execution_count": 59,
   "metadata": {},
   "outputs": [
    {
     "data": {
      "text/html": [
       "<div>\n",
       "<style scoped>\n",
       "    .dataframe tbody tr th:only-of-type {\n",
       "        vertical-align: middle;\n",
       "    }\n",
       "\n",
       "    .dataframe tbody tr th {\n",
       "        vertical-align: top;\n",
       "    }\n",
       "\n",
       "    .dataframe thead th {\n",
       "        text-align: right;\n",
       "    }\n",
       "</style>\n",
       "<table border=\"1\" class=\"dataframe\">\n",
       "  <thead>\n",
       "    <tr style=\"text-align: right;\">\n",
       "      <th></th>\n",
       "      <th>review_id</th>\n",
       "      <th>user_id</th>\n",
       "      <th>business_id</th>\n",
       "      <th>stars</th>\n",
       "      <th>useful</th>\n",
       "      <th>funny</th>\n",
       "      <th>cool</th>\n",
       "      <th>text</th>\n",
       "      <th>date</th>\n",
       "      <th>sentiment</th>\n",
       "    </tr>\n",
       "  </thead>\n",
       "  <tbody>\n",
       "    <tr>\n",
       "      <th>2460388</th>\n",
       "      <td>tI8gvXEgqXLFoDuScHjgOA</td>\n",
       "      <td>ObP6JaP61GzkJ2MdnZZnSg</td>\n",
       "      <td>ZlUYovGhlMWKOnETAys3mQ</td>\n",
       "      <td>3</td>\n",
       "      <td>1</td>\n",
       "      <td>0</td>\n",
       "      <td>1</td>\n",
       "      <td>Food and atmosphere are excellent. Host servic...</td>\n",
       "      <td>2019-05-12 17:07:50</td>\n",
       "      <td>0</td>\n",
       "    </tr>\n",
       "    <tr>\n",
       "      <th>6559076</th>\n",
       "      <td>06n5d6WnIf-lueRWzQfYUw</td>\n",
       "      <td>EcBiGI1snbp8G1wCUib1AQ</td>\n",
       "      <td>KGJZ3B492yVqnVtp1lcLOQ</td>\n",
       "      <td>1</td>\n",
       "      <td>3</td>\n",
       "      <td>3</td>\n",
       "      <td>0</td>\n",
       "      <td>Once upon a time about 10.5 hours ago,  the wo...</td>\n",
       "      <td>2008-07-19 04:07:39</td>\n",
       "      <td>0</td>\n",
       "    </tr>\n",
       "    <tr>\n",
       "      <th>205290</th>\n",
       "      <td>uLd5MeQKVAr4tghKxH2TFw</td>\n",
       "      <td>_riZ91G7eFSX026cDc2FvQ</td>\n",
       "      <td>1DpK_lmMeRou6x-afL8Gig</td>\n",
       "      <td>1</td>\n",
       "      <td>7</td>\n",
       "      <td>0</td>\n",
       "      <td>0</td>\n",
       "      <td>$220 for an eye exam? Seriously?\\n\\nAbsolutely...</td>\n",
       "      <td>2013-08-21 23:55:15</td>\n",
       "      <td>0</td>\n",
       "    </tr>\n",
       "    <tr>\n",
       "      <th>6396637</th>\n",
       "      <td>VVaG0afGemBpmP0ynrqzqw</td>\n",
       "      <td>sxmih7vH1B9go2t-_uIeWg</td>\n",
       "      <td>JMHJsXcYu7W5ZgbXhy4Uow</td>\n",
       "      <td>1</td>\n",
       "      <td>0</td>\n",
       "      <td>0</td>\n",
       "      <td>0</td>\n",
       "      <td>Will never go back. I have never had so many c...</td>\n",
       "      <td>2014-09-22 08:23:25</td>\n",
       "      <td>0</td>\n",
       "    </tr>\n",
       "    <tr>\n",
       "      <th>1299463</th>\n",
       "      <td>hAy3k9eGo82RubrYhf2PEw</td>\n",
       "      <td>9z8NQbiCtY92atjkwiYYwQ</td>\n",
       "      <td>X-73k3cwBjjc170MOdPa7A</td>\n",
       "      <td>1</td>\n",
       "      <td>4</td>\n",
       "      <td>0</td>\n",
       "      <td>0</td>\n",
       "      <td>Just bought a take out coffee. 3$ for prepared...</td>\n",
       "      <td>2015-05-10 21:49:11</td>\n",
       "      <td>0</td>\n",
       "    </tr>\n",
       "  </tbody>\n",
       "</table>\n",
       "</div>"
      ],
      "text/plain": [
       "                      review_id                 user_id  \\\n",
       "2460388  tI8gvXEgqXLFoDuScHjgOA  ObP6JaP61GzkJ2MdnZZnSg   \n",
       "6559076  06n5d6WnIf-lueRWzQfYUw  EcBiGI1snbp8G1wCUib1AQ   \n",
       "205290   uLd5MeQKVAr4tghKxH2TFw  _riZ91G7eFSX026cDc2FvQ   \n",
       "6396637  VVaG0afGemBpmP0ynrqzqw  sxmih7vH1B9go2t-_uIeWg   \n",
       "1299463  hAy3k9eGo82RubrYhf2PEw  9z8NQbiCtY92atjkwiYYwQ   \n",
       "\n",
       "                    business_id  stars  useful  funny  cool  \\\n",
       "2460388  ZlUYovGhlMWKOnETAys3mQ      3       1      0     1   \n",
       "6559076  KGJZ3B492yVqnVtp1lcLOQ      1       3      3     0   \n",
       "205290   1DpK_lmMeRou6x-afL8Gig      1       7      0     0   \n",
       "6396637  JMHJsXcYu7W5ZgbXhy4Uow      1       0      0     0   \n",
       "1299463  X-73k3cwBjjc170MOdPa7A      1       4      0     0   \n",
       "\n",
       "                                                      text  \\\n",
       "2460388  Food and atmosphere are excellent. Host servic...   \n",
       "6559076  Once upon a time about 10.5 hours ago,  the wo...   \n",
       "205290   $220 for an eye exam? Seriously?\\n\\nAbsolutely...   \n",
       "6396637  Will never go back. I have never had so many c...   \n",
       "1299463  Just bought a take out coffee. 3$ for prepared...   \n",
       "\n",
       "                       date sentiment  \n",
       "2460388 2019-05-12 17:07:50         0  \n",
       "6559076 2008-07-19 04:07:39         0  \n",
       "205290  2013-08-21 23:55:15         0  \n",
       "6396637 2014-09-22 08:23:25         0  \n",
       "1299463 2015-05-10 21:49:11         0  "
      ]
     },
     "execution_count": 59,
     "metadata": {},
     "output_type": "execute_result"
    }
   ],
   "source": [
    "sample1000negative = row_indexes_negative.sample(n=10000)\n",
    "sample1000positive = row_indexes_positive.sample(n=10000)\n",
    "review_df = pd.concat([sample1000negative, sample1000positive], axis=0)\n",
    "review_df = review_df.sample(frac = 1)\n",
    "review_df.head()"
   ]
  },
  {
   "cell_type": "code",
   "execution_count": 60,
   "metadata": {},
   "outputs": [
    {
     "data": {
      "text/plain": [
       "(20000, 2)"
      ]
     },
     "execution_count": 60,
     "metadata": {},
     "output_type": "execute_result"
    }
   ],
   "source": [
    "review_df = review_df[['text','sentiment']]\n",
    "review_df.head()\n",
    "review_df.dropna() #dropping the reviews that do not have a sentiment\n",
    "review_df.shape"
   ]
  },
  {
   "cell_type": "code",
   "execution_count": 61,
   "metadata": {},
   "outputs": [
    {
     "name": "stdout",
     "output_type": "stream",
     "text": [
      "sentiment\n",
      "0            10000\n",
      "1            10000\n",
      "dtype: int64\n"
     ]
    }
   ],
   "source": [
    "#think about whether we want to take the neutral and drop or just dont classify as neutral\n",
    "valuecount = review_df[['sentiment']].value_counts()\n",
    "print(valuecount)\n"
   ]
  },
  {
   "cell_type": "code",
   "execution_count": 62,
   "metadata": {},
   "outputs": [
    {
     "data": {
      "text/html": [
       "<div>\n",
       "<style scoped>\n",
       "    .dataframe tbody tr th:only-of-type {\n",
       "        vertical-align: middle;\n",
       "    }\n",
       "\n",
       "    .dataframe tbody tr th {\n",
       "        vertical-align: top;\n",
       "    }\n",
       "\n",
       "    .dataframe thead th {\n",
       "        text-align: right;\n",
       "    }\n",
       "</style>\n",
       "<table border=\"1\" class=\"dataframe\">\n",
       "  <thead>\n",
       "    <tr style=\"text-align: right;\">\n",
       "      <th></th>\n",
       "      <th>text</th>\n",
       "      <th>sentiment</th>\n",
       "    </tr>\n",
       "  </thead>\n",
       "  <tbody>\n",
       "    <tr>\n",
       "      <th>998374</th>\n",
       "      <td>Really great prices, ink lasts as long as the ...</td>\n",
       "      <td>1</td>\n",
       "    </tr>\n",
       "    <tr>\n",
       "      <th>5651083</th>\n",
       "      <td>When you work in Hillsboro, and live in SE Por...</td>\n",
       "      <td>1</td>\n",
       "    </tr>\n",
       "    <tr>\n",
       "      <th>6677061</th>\n",
       "      <td>This is a pretty cool place to eat, drink, and...</td>\n",
       "      <td>1</td>\n",
       "    </tr>\n",
       "    <tr>\n",
       "      <th>5686630</th>\n",
       "      <td>Where do I even begin? Reds is one of my very ...</td>\n",
       "      <td>1</td>\n",
       "    </tr>\n",
       "    <tr>\n",
       "      <th>1855845</th>\n",
       "      <td>Rebecca is awesome!!! Very friendly and detail...</td>\n",
       "      <td>1</td>\n",
       "    </tr>\n",
       "  </tbody>\n",
       "</table>\n",
       "</div>"
      ],
      "text/plain": [
       "                                                      text sentiment\n",
       "998374   Really great prices, ink lasts as long as the ...         1\n",
       "5651083  When you work in Hillsboro, and live in SE Por...         1\n",
       "6677061  This is a pretty cool place to eat, drink, and...         1\n",
       "5686630  Where do I even begin? Reds is one of my very ...         1\n",
       "1855845  Rebecca is awesome!!! Very friendly and detail...         1"
      ]
     },
     "execution_count": 62,
     "metadata": {},
     "output_type": "execute_result"
    }
   ],
   "source": [
    "#convert the categorical data into numeric data\n",
    "review_df.head()\n",
    "sentiment_label = review_df[\"sentiment\"].factorize() #0 represents the positive sentiment and 1 represents the negative sentiment\n",
    "review_df.tail()"
   ]
  },
  {
   "cell_type": "code",
   "execution_count": 67,
   "metadata": {},
   "outputs": [
    {
     "data": {
      "text/plain": [
       "'food and atmosphere are excellent. host service is awful. was told 30 min wait and waited for over an hour. only could say we are sorry. no sense of urgency at all!'"
      ]
     },
     "execution_count": 67,
     "metadata": {},
     "output_type": "execute_result"
    }
   ],
   "source": [
    "str(review_df['text'].iloc[i]).lower()"
   ]
  },
  {
   "cell_type": "code",
   "execution_count": 68,
   "metadata": {},
   "outputs": [],
   "source": [
    "#retrieve all the data from the dataset\n",
    "preStem = []\n",
    "tweet = review_df[\"text\"].values\n",
    "for i in range(len(review_df[\"text\"].values)):\n",
    "        text = str(review_df['text'].iloc[i]).lower()\n",
    "        word = word_tokenize(text)\n",
    "        preStem.extend(word)\n",
    "vocab_size = len(preStem)"
   ]
  },
  {
   "cell_type": "code",
   "execution_count": 69,
   "metadata": {},
   "outputs": [
    {
     "data": {
      "text/plain": [
       "2678629"
      ]
     },
     "execution_count": 69,
     "metadata": {},
     "output_type": "execute_result"
    }
   ],
   "source": [
    "vocab_size"
   ]
  },
  {
   "cell_type": "code",
   "execution_count": 70,
   "metadata": {},
   "outputs": [],
   "source": [
    "df = review_df"
   ]
  },
  {
   "cell_type": "code",
   "execution_count": null,
   "metadata": {},
   "outputs": [],
   "source": []
  },
  {
   "cell_type": "code",
   "execution_count": 71,
   "metadata": {},
   "outputs": [
    {
     "name": "stdout",
     "output_type": "stream",
     "text": [
      "None\n"
     ]
    }
   ],
   "source": [
    "#tokenise all the words with the help of a tokeniser\n",
    "from tensorflow.keras.preprocessing.text import Tokenizer\n",
    "tokenizer = Tokenizer() #num_words is the tokeniser that fits the number of words\n",
    "vocab = tokenizer.fit_on_texts(tweet)\n",
    "print(tokenizer.fit_on_texts(tweet))"
   ]
  },
  {
   "cell_type": "code",
   "execution_count": 72,
   "metadata": {},
   "outputs": [],
   "source": [
    "#replace the words with their assigned numbers using the text_to_sequence method\n",
    "encoded_docs = tokenizer.texts_to_sequences(tweet)"
   ]
  },
  {
   "cell_type": "code",
   "execution_count": 73,
   "metadata": {},
   "outputs": [],
   "source": [
    "from tensorflow.keras.preprocessing.sequence import pad_sequences\n",
    "padded_sequence = pad_sequences(encoded_docs, maxlen=200)"
   ]
  },
  {
   "cell_type": "code",
   "execution_count": 74,
   "metadata": {},
   "outputs": [
    {
     "name": "stdout",
     "output_type": "stream",
     "text": [
      "Model: \"sequential\"\n",
      "_________________________________________________________________\n",
      "Layer (type)                 Output Shape              Param #   \n",
      "=================================================================\n",
      "embedding (Embedding)        (None, 200, 32)           85716128  \n",
      "_________________________________________________________________\n",
      "spatial_dropout1d (SpatialDr (None, 200, 32)           0         \n",
      "_________________________________________________________________\n",
      "lstm (LSTM)                  (None, 50)                16600     \n",
      "_________________________________________________________________\n",
      "dropout (Dropout)            (None, 50)                0         \n",
      "_________________________________________________________________\n",
      "dense (Dense)                (None, 1)                 51        \n",
      "=================================================================\n",
      "Total params: 85,732,779\n",
      "Trainable params: 85,732,779\n",
      "Non-trainable params: 0\n",
      "_________________________________________________________________\n",
      "None\n"
     ]
    }
   ],
   "source": [
    "from tensorflow.keras.models import Sequential\n",
    "from tensorflow.keras.layers import LSTM,Dense, Dropout, SpatialDropout1D #find out how come they using different types of drop outs\n",
    "from tensorflow.keras.layers import Embedding\n",
    "\n",
    "embedding_vector_length = 32\n",
    "model = Sequential()\n",
    "model.add(Embedding(vocab_size, embedding_vector_length, input_length=200))\n",
    "model.add(SpatialDropout1D(0.25))\n",
    "model.add(LSTM(50, dropout=0.5, recurrent_dropout=0.5))\n",
    "model.add(Dropout(0.2))\n",
    "model.add(Dense(1, activation='sigmoid'))\n",
    "model.compile(loss='binary_crossentropy',optimizer='adam', metrics=['accuracy'])\n",
    "print(model.summary())"
   ]
  },
  {
   "cell_type": "code",
   "execution_count": 76,
   "metadata": {},
   "outputs": [
    {
     "name": "stdout",
     "output_type": "stream",
     "text": [
      "Epoch 1/5\n",
      "500/500 [==============================] - 465s 931ms/step - loss: 0.0384 - accuracy: 0.9867 - val_loss: 0.9464 - val_accuracy: 0.8202\n",
      "Epoch 2/5\n",
      "500/500 [==============================] - 465s 931ms/step - loss: 0.0341 - accuracy: 0.9891 - val_loss: 1.3508 - val_accuracy: 0.7715\n",
      "Epoch 3/5\n",
      "500/500 [==============================] - 478s 956ms/step - loss: 0.0325 - accuracy: 0.9885 - val_loss: 1.7306 - val_accuracy: 0.7312\n",
      "Epoch 4/5\n",
      "500/500 [==============================] - 496s 992ms/step - loss: 0.0348 - accuracy: 0.9876 - val_loss: 1.0491 - val_accuracy: 0.8265\n",
      "Epoch 5/5\n",
      "500/500 [==============================] - 497s 995ms/step - loss: 0.0289 - accuracy: 0.9902 - val_loss: 1.2836 - val_accuracy: 0.7685\n"
     ]
    }
   ],
   "source": [
    "history = model.fit(padded_sequence,sentiment_label[0],validation_split=0.2, epochs=5, batch_size=32, learning_rate=0.01, momentum =0.9) #change the learning rate and reduce the number of epochs later"
   ]
  },
  {
   "cell_type": "code",
   "execution_count": 77,
   "metadata": {},
   "outputs": [
    {
     "data": {
      "image/png": "[encoded data removed]",
      "text/plain": [
       "<Figure size 432x288 with 1 Axes>"
      ]
     },
     "metadata": {
      "needs_background": "light"
     },
     "output_type": "display_data"
    },
    {
     "data": {
      "text/plain": [
       "<Figure size 432x288 with 0 Axes>"
      ]
     },
     "metadata": {},
     "output_type": "display_data"
    }
   ],
   "source": [
    "import matplotlib.pyplot as plt\n",
    "plt.plot(history.history['accuracy'], label='acc')\n",
    "plt.plot(history.history['val_accuracy'], label='val_acc')\n",
    "plt.legend()\n",
    "plt.show()\n",
    "plt.savefig(\"Accuracy plot.jpg\")"
   ]
  },
  {
   "cell_type": "code",
   "execution_count": 78,
   "metadata": {},
   "outputs": [
    {
     "data": {
      "image/png": "[encoded data removed]",
      "text/plain": [
       "<Figure size 432x288 with 1 Axes>"
      ]
     },
     "metadata": {
      "needs_background": "light"
     },
     "output_type": "display_data"
    },
    {
     "data": {
      "text/plain": [
       "<Figure size 432x288 with 0 Axes>"
      ]
     },
     "metadata": {},
     "output_type": "display_data"
    }
   ],
   "source": [
    "plt.plot(history.history['loss'], label='loss')\n",
    "plt.plot(history.history['val_loss'], label='val_loss')\n",
    "plt.legend()\n",
    "plt.show()\n",
    "plt.savefig(\"Loss plt.jpg\")"
   ]
  },
  {
   "cell_type": "code",
   "execution_count": 79,
   "metadata": {},
   "outputs": [
    {
     "name": "stdout",
     "output_type": "stream",
     "text": [
      "Predicted label:  1\n",
      "Predicted label:  0\n"
     ]
    }
   ],
   "source": [
    "def predict_sentiment(text): #note that 1 denotes positive and 0 denotes negative\n",
    "    tw = tokenizer.texts_to_sequences([text])\n",
    "    tw = pad_sequences(tw,maxlen=200)\n",
    "    prediction = int(model.predict(tw).round().item())\n",
    "    print(\"Predicted label: \", sentiment_label[1][prediction])\n",
    "test_sentence1 = \"I enjoyed my journey on this flight.\"\n",
    "predict_sentiment(test_sentence1)\n",
    "test_sentence2 = \"This is the worst flight experience of my life!\"\n",
    "predict_sentiment(test_sentence2)"
   ]
  },
  {
   "cell_type": "code",
   "execution_count": 82,
   "metadata": {},
   "outputs": [
    {
     "name": "stdout",
     "output_type": "stream",
     "text": [
      "Predicted label:  0\n",
      "Predicted label:  1\n"
     ]
    }
   ],
   "source": [
    "test_sentence1 = \"horrible.\"\n",
    "predict_sentiment(test_sentence1)\n",
    "test_sentence2 = \"great!\"\n",
    "predict_sentiment(test_sentence2)"
   ]
  },
  {
   "cell_type": "code",
   "execution_count": null,
   "metadata": {},
   "outputs": [],
   "source": []
  },
  {
   "cell_type": "code",
   "execution_count": null,
   "metadata": {},
   "outputs": [],
   "source": []
  },
  {
   "cell_type": "code",
   "execution_count": null,
   "metadata": {},
   "outputs": [],
   "source": []
  }
 ],
 "metadata": {
  "kernelspec": {
   "display_name": "Python 3",
   "language": "python",
   "name": "python3"
  },
  "language_info": {
   "codemirror_mode": {
    "name": "ipython",
    "version": 3
   },
   "file_extension": ".py",
   "mimetype": "text/x-python",
   "name": "python",
   "nbconvert_exporter": "python",
   "pygments_lexer": "ipython3",
   "version": "3.7.4"
  }
 },
 "nbformat": 4,
 "nbformat_minor": 5
}
