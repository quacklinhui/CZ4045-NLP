{
 "cells": [
  {
   "cell_type": "code",
   "execution_count": 8,
   "metadata": {
    "id": "r6uxrEY2vsbO"
   },
   "outputs": [
    {
     "ename": "ModuleNotFoundError",
     "evalue": "No module named 'nltk'",
     "output_type": "error",
     "traceback": [
      "\u001b[1;31m---------------------------------------------------------------------------\u001b[0m",
      "\u001b[1;31mModuleNotFoundError\u001b[0m                       Traceback (most recent call last)",
      "\u001b[1;32m~\\AppData\\Local\\Temp/ipykernel_32244/3575064134.py\u001b[0m in \u001b[0;36m<module>\u001b[1;34m\u001b[0m\n\u001b[0;32m      1\u001b[0m \u001b[1;32mimport\u001b[0m \u001b[0mjson\u001b[0m\u001b[1;33m\u001b[0m\u001b[1;33m\u001b[0m\u001b[0m\n\u001b[1;32m----> 2\u001b[1;33m \u001b[1;32mimport\u001b[0m \u001b[0mnltk\u001b[0m\u001b[1;33m\u001b[0m\u001b[1;33m\u001b[0m\u001b[0m\n\u001b[0m\u001b[0;32m      3\u001b[0m \u001b[1;32mfrom\u001b[0m \u001b[0mnltk\u001b[0m\u001b[1;33m.\u001b[0m\u001b[0mstem\u001b[0m \u001b[1;32mimport\u001b[0m \u001b[0mPorterStemmer\u001b[0m\u001b[1;33m\u001b[0m\u001b[1;33m\u001b[0m\u001b[0m\n\u001b[0;32m      4\u001b[0m \u001b[1;32mfrom\u001b[0m \u001b[0mnltk\u001b[0m\u001b[1;33m.\u001b[0m\u001b[0mtokenize\u001b[0m \u001b[1;32mimport\u001b[0m \u001b[0mword_tokenize\u001b[0m\u001b[1;33m\u001b[0m\u001b[1;33m\u001b[0m\u001b[0m\n\u001b[0;32m      5\u001b[0m \u001b[1;32mfrom\u001b[0m \u001b[0mnltk\u001b[0m\u001b[1;33m.\u001b[0m\u001b[0mprobability\u001b[0m \u001b[1;32mimport\u001b[0m \u001b[0mFreqDist\u001b[0m\u001b[1;33m\u001b[0m\u001b[1;33m\u001b[0m\u001b[0m\n",
      "\u001b[1;31mModuleNotFoundError\u001b[0m: No module named 'nltk'"
     ]
    }
   ],
   "source": [
    "import json\n",
    "import nltk\n",
    "from nltk.stem import PorterStemmer\n",
    "from nltk.tokenize import word_tokenize\n",
    "from nltk.probability import FreqDist\n",
    "from collections import Counter\n",
    "import numpy as np\n",
    "import pandas as pd\n",
    "import matplotlib.pyplot as plt\n",
    "import seaborn as sns\n",
    "from collections import Counter\n",
    "from random import randrange\n",
    "from nltk.corpus import stopwords\n",
    "import string\n",
    "import spacy"
   ]
  },
  {
   "cell_type": "code",
   "execution_count": 12,
   "metadata": {},
   "outputs": [
    {
     "name": "stderr",
     "output_type": "stream",
     "text": [
      "'conda' is not recognized as an internal or external command,\n",
      "operable program or batch file.\n"
     ]
    }
   ],
   "source": [
    "!conda install -c anaconda nltk"
   ]
  },
  {
   "cell_type": "code",
   "execution_count": 9,
   "metadata": {},
   "outputs": [],
   "source": [
    "import numpy"
   ]
  },
  {
   "cell_type": "code",
   "execution_count": 14,
   "metadata": {},
   "outputs": [
    {
     "ename": "ModuleNotFoundError",
     "evalue": "No module named 'nltk'",
     "output_type": "error",
     "traceback": [
      "\u001b[1;31m---------------------------------------------------------------------------\u001b[0m",
      "\u001b[1;31mModuleNotFoundError\u001b[0m                       Traceback (most recent call last)",
      "\u001b[1;32m~\\AppData\\Local\\Temp/ipykernel_32244/1462503502.py\u001b[0m in \u001b[0;36m<module>\u001b[1;34m\u001b[0m\n\u001b[1;32m----> 1\u001b[1;33m \u001b[1;32mimport\u001b[0m \u001b[0mnltk\u001b[0m\u001b[1;33m\u001b[0m\u001b[1;33m\u001b[0m\u001b[0m\n\u001b[0m\u001b[0;32m      2\u001b[0m \u001b[0mnltk\u001b[0m\u001b[1;33m.\u001b[0m\u001b[0mdownload\u001b[0m\u001b[1;33m(\u001b[0m\u001b[1;33m)\u001b[0m\u001b[1;33m\u001b[0m\u001b[1;33m\u001b[0m\u001b[0m\n",
      "\u001b[1;31mModuleNotFoundError\u001b[0m: No module named 'nltk'"
     ]
    }
   ],
   "source": [
    "import nltk\n",
    "nltk.download()"
   ]
  },
  {
   "cell_type": "markdown",
   "metadata": {},
   "source": [
    "## Tokenization and Stemming"
   ]
  },
  {
   "cell_type": "code",
   "execution_count": 3,
   "metadata": {
    "id": "ev8bYME-DsZH"
   },
   "outputs": [
    {
     "ename": "NameError",
     "evalue": "name 'PorterStemmer' is not defined",
     "output_type": "error",
     "traceback": [
      "\u001b[1;31m---------------------------------------------------------------------------\u001b[0m",
      "\u001b[1;31mNameError\u001b[0m                                 Traceback (most recent call last)",
      "\u001b[1;32m~\\AppData\\Local\\Temp/ipykernel_37008/2862151665.py\u001b[0m in \u001b[0;36m<module>\u001b[1;34m\u001b[0m\n\u001b[1;32m----> 1\u001b[1;33m \u001b[0mps\u001b[0m \u001b[1;33m=\u001b[0m \u001b[0mPorterStemmer\u001b[0m\u001b[1;33m(\u001b[0m\u001b[1;33m)\u001b[0m\u001b[1;33m\u001b[0m\u001b[1;33m\u001b[0m\u001b[0m\n\u001b[0m\u001b[0;32m      2\u001b[0m \u001b[1;32mwith\u001b[0m \u001b[0mopen\u001b[0m\u001b[1;33m(\u001b[0m\u001b[1;34m'reviewSamples20.json'\u001b[0m\u001b[1;33m)\u001b[0m \u001b[1;32mas\u001b[0m \u001b[0mf\u001b[0m\u001b[1;33m:\u001b[0m\u001b[1;33m\u001b[0m\u001b[1;33m\u001b[0m\u001b[0m\n\u001b[0;32m      3\u001b[0m     data = json.loads(\"[\" + \n\u001b[0;32m      4\u001b[0m         \u001b[0mf\u001b[0m\u001b[1;33m.\u001b[0m\u001b[0mread\u001b[0m\u001b[1;33m(\u001b[0m\u001b[1;33m)\u001b[0m\u001b[1;33m.\u001b[0m\u001b[0mreplace\u001b[0m\u001b[1;33m(\u001b[0m\u001b[1;34m\"}\\n{\"\u001b[0m\u001b[1;33m,\u001b[0m \u001b[1;34m\"},\\n{\"\u001b[0m\u001b[1;33m)\u001b[0m \u001b[1;33m+\u001b[0m\u001b[1;33m\u001b[0m\u001b[1;33m\u001b[0m\u001b[0m\n\u001b[0;32m      5\u001b[0m     \"]\")\n",
      "\u001b[1;31mNameError\u001b[0m: name 'PorterStemmer' is not defined"
     ]
    }
   ],
   "source": [
    "ps = PorterStemmer()\n",
    "with open('reviewSamples20.json') as f:\n",
    "    data = json.loads(\"[\" + \n",
    "        f.read().replace(\"}\\n{\", \"},\\n{\") + \n",
    "    \"]\")\n",
    "print(f)"
   ]
  },
  {
   "cell_type": "code",
   "execution_count": null,
   "metadata": {
    "colab": {
     "base_uri": "https://localhost:8080/"
    },
    "id": "eH_l11yBNvAA",
    "outputId": "d5cb94d2-8273-4c3d-f5d3-54e5219c8c70"
   },
   "outputs": [
    {
     "name": "stderr",
     "output_type": "stream",
     "text": [
      "[nltk_data] Downloading package punkt to\n",
      "[nltk_data]     C:\\Users\\Grace\\AppData\\Roaming\\nltk_data...\n",
      "[nltk_data]   Package punkt is already up-to-date!\n"
     ]
    },
    {
     "data": {
      "text/plain": [
       "True"
      ]
     },
     "execution_count": 3,
     "metadata": {},
     "output_type": "execute_result"
    }
   ],
   "source": [
    "nltk.download('punkt')"
   ]
  },
  {
   "cell_type": "code",
   "execution_count": 5,
   "metadata": {},
   "outputs": [
    {
     "name": "stdout",
     "output_type": "stream",
     "text": [
      "Requirement already satisfied: numpy in c:\\users\\theco\\appdata\\local\\programs\\python\\python37-32\\lib\\site-packages (1.21.2)\n"
     ]
    }
   ],
   "source": [
    "!pip install numpy"
   ]
  },
  {
   "cell_type": "code",
   "execution_count": null,
   "metadata": {},
   "outputs": [
    {
     "data": {
      "text/plain": [
       "'GdCRQU3VCh_x8fY84mbwYQ'"
      ]
     },
     "execution_count": 4,
     "metadata": {},
     "output_type": "execute_result"
    }
   ],
   "source": [
    "# Select random review and business_id\n",
    "m = randrange(len(data))\n",
    "business_id_1 = data[m]['business_id']\n",
    "business_id_1"
   ]
  },
  {
   "cell_type": "code",
   "execution_count": null,
   "metadata": {
    "id": "28prWWxpDzgv"
   },
   "outputs": [],
   "source": [
    "#Extract all the reviews and form a small dataset\n",
    "preStem = []\n",
    "for j in range(len(data)):\n",
    "    if(data[j]['business_id'] == business_id_1):\n",
    "        text = str(data[j]['text']).lower()\n",
    "        word = word_tokenize(text)\n",
    "        preStem.extend(word)"
   ]
  },
  {
   "cell_type": "code",
   "execution_count": null,
   "metadata": {},
   "outputs": [
    {
     "name": "stdout",
     "output_type": "stream",
     "text": [
      "['man', 'i', 'love', 'toronto', 'hiding', 'in', 'a', 'strip', 'mall', 'on', 'overlea', 'find', 'a', 'dingy', 'looking', 'restaurant', 'that', 'serves', 'up', 'fantastic', 'cheap', 'kabob', '...', 'be', 'warned', 'regardless', 'of', 'when', 'you', 'come', 'here', 'you', \"'ll\", 'likely', 'be', 'waiting', 'for', 'a', 'table', 'as', 'this', 'place', 'is', 'always', 'overrun', 'with', 'people', '...', 'if', 'you', \"'re\", 'a', 'fan', 'of', 'perfectly', 'grilled', 'spicy', 'meat', 'you', 'must', 'try', 'this', 'place', 'out', '...', 'now', 'that', 'i', \"'ve\", 'been', 'here', 'i', 'need', 'to', 'limit', 'how', 'many', 'times', 'i', 'go', 'here', 'per', 'month', 'take', 'the', 'drive', 'out', 'and', 'have', 'some', 'kabob', '...', 'if', 'you', 'do', \"n't\", 'own', 'a', 'car', 'borrow', 'one', 'or', 'get', 'a', 'zipcar', 'membership', '...', 'totally', 'worth', 'it']\n"
     ]
    }
   ],
   "source": [
    "filtered_preStem = [w for w in preStem if not w in string.punctuation]\n",
    "print(filtered_preStem)"
   ]
  },
  {
   "cell_type": "code",
   "execution_count": null,
   "metadata": {},
   "outputs": [
    {
     "name": "stdout",
     "output_type": "stream",
     "text": [
      "['man', 'i', 'love', 'toronto', 'hide', 'in', 'a', 'strip', 'mall', 'on', 'overlea', 'find', 'a', 'dingi', 'look', 'restaur', 'that', 'serv', 'up', 'fantast', 'cheap', 'kabob', '...', 'be', 'warn', 'regardless', 'of', 'when', 'you', 'come', 'here', 'you', \"'ll\", 'like', 'be', 'wait', 'for', 'a', 'tabl', 'as', 'thi', 'place', 'is', 'alway', 'overrun', 'with', 'peopl', '...', 'if', 'you', \"'re\", 'a', 'fan', 'of', 'perfectli', 'grill', 'spici', 'meat', 'you', 'must', 'tri', 'thi', 'place', 'out', '...', 'now', 'that', 'i', \"'ve\", 'been', 'here', 'i', 'need', 'to', 'limit', 'how', 'mani', 'time', 'i', 'go', 'here', 'per', 'month', 'take', 'the', 'drive', 'out', 'and', 'have', 'some', 'kabob', '...', 'if', 'you', 'do', \"n't\", 'own', 'a', 'car', 'borrow', 'one', 'or', 'get', 'a', 'zipcar', 'membership', '...', 'total', 'worth', 'it']\n"
     ]
    }
   ],
   "source": [
    "# Stemming\n",
    "stems = [ps.stem(w) for w in filtered_preStem]\n",
    "print(stems)"
   ]
  },
  {
   "cell_type": "code",
   "execution_count": null,
   "metadata": {},
   "outputs": [
    {
     "data": {
      "text/plain": [
       "a        6\n",
       "...      5\n",
       "you      5\n",
       "i        4\n",
       "here     3\n",
       "        ..\n",
       "to       1\n",
       "limit    1\n",
       "how      1\n",
       "many     1\n",
       "man      1\n",
       "Length: 84, dtype: int64"
      ]
     },
     "execution_count": 8,
     "metadata": {},
     "output_type": "execute_result"
    }
   ],
   "source": [
    "#showing the word frequency distribution\n",
    "freq_dist = FreqDist(filtered_preStem)\n",
    "freq_dist = dict(freq_dist)\n",
    "freq_dist = pd.Series(freq_dist)\n",
    "freq_dist.sort_values(ascending=False, inplace=True)\n",
    "freq_dist"
   ]
  },
  {
   "cell_type": "code",
   "execution_count": null,
   "metadata": {},
   "outputs": [
    {
     "data": {
      "text/plain": [
       "a        6\n",
       "...      5\n",
       "you      5\n",
       "i        4\n",
       "here     3\n",
       "        ..\n",
       "to       1\n",
       "limit    1\n",
       "how      1\n",
       "mani     1\n",
       "man      1\n",
       "Length: 84, dtype: int64"
      ]
     },
     "execution_count": 9,
     "metadata": {},
     "output_type": "execute_result"
    }
   ],
   "source": [
    "stemmed_freq_dist = FreqDist(stems)\n",
    "stemmed_freq_dist = dict(stemmed_freq_dist)\n",
    "stemmed_freq_dist = pd.Series(stemmed_freq_dist)\n",
    "stemmed_freq_dist.sort_values(ascending=False, inplace=True)\n",
    "stemmed_freq_dist"
   ]
  },
  {
   "cell_type": "code",
   "execution_count": null,
   "metadata": {
    "scrolled": false
   },
   "outputs": [
    {
     "data": {
      "image/png": "[encoded data removed]",
      "text/plain": [
       "<Figure size 720x2160 with 1 Axes>"
      ]
     },
     "metadata": {
      "needs_background": "light"
     },
     "output_type": "display_data"
    }
   ],
   "source": [
    "#notice that this one does not work well on 've \n",
    "fig, ax = plt.subplots(figsize=(10,30))\n",
    "sns.barplot(x=freq_dist.values, y=freq_dist.index, ax=ax)\n",
    "plt.title(\"Word Frequency Distribution - Before Stemming (Not Log-scale)\")\n",
    "plt.show()\n",
    "plt.savefig('wordFreqBeforeStemming.png')"
   ]
  },
  {
   "cell_type": "code",
   "execution_count": null,
   "metadata": {},
   "outputs": [
    {
     "data": {
      "image/png": "[encoded data removed]",
      "text/plain": [
       "<Figure size 720x2160 with 1 Axes>"
      ]
     },
     "metadata": {
      "needs_background": "light"
     },
     "output_type": "display_data"
    }
   ],
   "source": [
    "fig, ax = plt.subplots(figsize=(10,30))\n",
    "sns.barplot(x=stemmed_freq_dist.values, y=stemmed_freq_dist.index, ax=ax)\n",
    "plt.title(\"Word Frequency Distribution - After Stemming (Not Log-scale)\")\n",
    "plt.show()"
   ]
  },
  {
   "cell_type": "code",
   "execution_count": null,
   "metadata": {
    "colab": {
     "base_uri": "https://localhost:8080/",
     "height": 265
    },
    "id": "4NlfUoWMMCSr",
    "outputId": "89052f73-4e0a-4451-b696-a6f1b5170731"
   },
   "outputs": [
    {
     "data": {
      "image/png": "[encoded data removed]",
      "text/plain": [
       "<Figure size 432x288 with 1 Axes>"
      ]
     },
     "metadata": {
      "needs_background": "light"
     },
     "output_type": "display_data"
    }
   ],
   "source": [
    "counts = Counter(preStem).items()\n",
    "labels, values = zip(*counts)\n",
    "indexes = np.arange(len(labels))\n",
    "width = 1\n",
    "plt.bar(indexes,values,width)\n",
    "plt.xticks(indexes ,labels)\n",
    "plt.show()"
   ]
  },
  {
   "cell_type": "code",
   "execution_count": null,
   "metadata": {
    "colab": {
     "base_uri": "https://localhost:8080/",
     "height": 265
    },
    "id": "dvkI9lqaNI2V",
    "outputId": "fe532d5d-78f3-4be6-fbcc-42bd4058ce41"
   },
   "outputs": [
    {
     "data": {
      "image/png": "[encoded data removed]",
      "text/plain": [
       "<Figure size 432x288 with 1 Axes>"
      ]
     },
     "metadata": {
      "needs_background": "light"
     },
     "output_type": "display_data"
    }
   ],
   "source": [
    "counts = Counter(stems).items()\n",
    "labels, values = zip(*counts)\n",
    "indexes = np.arange(len(labels))\n",
    "width = 1\n",
    "plt.bar(indexes,values,width)\n",
    "plt.xticks(indexes ,labels)\n",
    "plt.show()"
   ]
  },
  {
   "cell_type": "code",
   "execution_count": null,
   "metadata": {},
   "outputs": [
    {
     "data": {
      "text/plain": [
       "'8KmqWgL0UEdxJFwTZ_YZvQ'"
      ]
     },
     "execution_count": 14,
     "metadata": {},
     "output_type": "execute_result"
    }
   ],
   "source": [
    "# Select a second random business\n",
    "i = randrange(len(data))\n",
    "business_id_2 = data[i]['business_id']\n",
    "business_id_2"
   ]
  },
  {
   "cell_type": "code",
   "execution_count": null,
   "metadata": {
    "colab": {
     "base_uri": "https://localhost:8080/"
    },
    "id": "gGxYGqbDOAd9",
    "outputId": "adff3573-ad88-42a4-a175-5152e0fc811e"
   },
   "outputs": [],
   "source": [
    "preStem_2 = []\n",
    "for j in range(len(data)):\n",
    "    if(data[j]['business_id'] == business_id_2):\n",
    "        text = str(data[j]['text']).lower()\n",
    "        words = word_tokenize(text)\n",
    "        preStem_2.extend(words)"
   ]
  },
  {
   "cell_type": "code",
   "execution_count": null,
   "metadata": {},
   "outputs": [],
   "source": [
    "filtered_preStem_2 = [w for w in preStem_2 if not w in string.punctuation]\n",
    "# Stemming\n",
    "stems_2 = [ps.stem(w) for w in filtered_preStem_2]"
   ]
  },
  {
   "cell_type": "code",
   "execution_count": null,
   "metadata": {},
   "outputs": [
    {
     "data": {
      "text/plain": [
       "and           2\n",
       "the           2\n",
       "mouth         1\n",
       "burgers       1\n",
       "are           1\n",
       "phenomenal    1\n",
       "galley        1\n",
       "boy           1\n",
       "just          1\n",
       "melts         1\n",
       "in            1\n",
       "your          1\n",
       "earth         1\n",
       "on            1\n",
       "paired        1\n",
       "with          1\n",
       "potato        1\n",
       "teasers       1\n",
       "a             1\n",
       "milkshake     1\n",
       "it            1\n",
       "is            1\n",
       "like          1\n",
       "heaven        1\n",
       "these         1\n",
       "dtype: int64"
      ]
     },
     "execution_count": 17,
     "metadata": {},
     "output_type": "execute_result"
    }
   ],
   "source": [
    "freq_dist_2 = FreqDist(filtered_preStem_2)\n",
    "freq_dist_2 = dict(freq_dist_2)\n",
    "freq_dist_2 = pd.Series(freq_dist_2)\n",
    "freq_dist_2.sort_values(ascending=False, inplace=True)\n",
    "freq_dist_2"
   ]
  },
  {
   "cell_type": "code",
   "execution_count": null,
   "metadata": {},
   "outputs": [
    {
     "data": {
      "text/plain": [
       "and         2\n",
       "the         2\n",
       "mouth       1\n",
       "burger      1\n",
       "are         1\n",
       "phenomen    1\n",
       "galley      1\n",
       "boy         1\n",
       "just        1\n",
       "melt        1\n",
       "in          1\n",
       "your        1\n",
       "earth       1\n",
       "on          1\n",
       "pair        1\n",
       "with        1\n",
       "potato      1\n",
       "teaser      1\n",
       "a           1\n",
       "milkshak    1\n",
       "it          1\n",
       "is          1\n",
       "like        1\n",
       "heaven      1\n",
       "these       1\n",
       "dtype: int64"
      ]
     },
     "execution_count": 18,
     "metadata": {},
     "output_type": "execute_result"
    }
   ],
   "source": [
    "stemmed_freq_dist_2 = FreqDist(stems_2)\n",
    "stemmed_freq_dist_2 = dict(stemmed_freq_dist_2)\n",
    "stemmed_freq_dist_2 = pd.Series(stemmed_freq_dist_2)\n",
    "stemmed_freq_dist_2.sort_values(ascending=False, inplace=True)\n",
    "stemmed_freq_dist_2"
   ]
  },
  {
   "cell_type": "code",
   "execution_count": null,
   "metadata": {},
   "outputs": [
    {
     "data": {
      "image/png": "[encoded data removed]",
      "text/plain": [
       "<Figure size 720x2160 with 1 Axes>"
      ]
     },
     "metadata": {
      "needs_background": "light"
     },
     "output_type": "display_data"
    }
   ],
   "source": [
    "fig, ax = plt.subplots(figsize=(10,30))\n",
    "sns.barplot(x=freq_dist_2.values, y=freq_dist_2.index, ax=ax)\n",
    "plt.title(\"Word Frequency Distribution - Before Stemming (Not Log-scale)\")\n",
    "plt.show()"
   ]
  },
  {
   "cell_type": "code",
   "execution_count": null,
   "metadata": {},
   "outputs": [
    {
     "data": {
      "image/png": "[encoded data removed]",
      "text/plain": [
       "<Figure size 720x2160 with 1 Axes>"
      ]
     },
     "metadata": {
      "needs_background": "light"
     },
     "output_type": "display_data"
    }
   ],
   "source": [
    "fig, ax = plt.subplots(figsize=(10,30))\n",
    "sns.barplot(x=stemmed_freq_dist_2.values, y=stemmed_freq_dist_2.index, ax=ax)\n",
    "plt.title(\"Word Frequency Distribution - Before Stemming (Not Log-scale)\")\n",
    "plt.show()"
   ]
  },
  {
   "cell_type": "code",
   "execution_count": null,
   "metadata": {
    "colab": {
     "base_uri": "https://localhost:8080/",
     "height": 265
    },
    "id": "cZplfdfmOF4c",
    "outputId": "3878adc1-45a7-4337-88ac-a6f4f6de0083"
   },
   "outputs": [
    {
     "data": {
      "image/png": "[encoded data removed]",
      "text/plain": [
       "<Figure size 432x288 with 1 Axes>"
      ]
     },
     "metadata": {
      "needs_background": "light"
     },
     "output_type": "display_data"
    }
   ],
   "source": [
    "counts = Counter(preStem_2).most_common(10)\n",
    "labels, values = zip(*counts)\n",
    "indexes = np.arange(len(labels))\n",
    "width = 1\n",
    "plt.bar(indexes,values,width)\n",
    "plt.xticks(indexes ,labels)\n",
    "plt.show()"
   ]
  },
  {
   "cell_type": "code",
   "execution_count": null,
   "metadata": {
    "colab": {
     "base_uri": "https://localhost:8080/",
     "height": 265
    },
    "id": "ino-Ma9kOI5J",
    "outputId": "a7aea637-59af-4ec4-ca3e-09b35e5c6ac2"
   },
   "outputs": [
    {
     "data": {
      "image/png": "[encoded data removed]",
      "text/plain": [
       "<Figure size 432x288 with 1 Axes>"
      ]
     },
     "metadata": {
      "needs_background": "light"
     },
     "output_type": "display_data"
    }
   ],
   "source": [
    "counts = Counter(stems_2).most_common(10)\n",
    "labels, values = zip(*counts)\n",
    "indexes = np.arange(len(labels))\n",
    "width = 1\n",
    "plt.bar(indexes,values,width)\n",
    "plt.xticks(indexes ,labels)\n",
    "plt.show()"
   ]
  },
  {
   "cell_type": "markdown",
   "metadata": {},
   "source": [
    "Remove Stopwords - Ideally we want to remove stopwords before stemming"
   ]
  },
  {
   "cell_type": "code",
   "execution_count": null,
   "metadata": {
    "id": "_EhApglVOKvO"
   },
   "outputs": [],
   "source": [
    "sw = stopwords.words('english')"
   ]
  },
  {
   "cell_type": "code",
   "execution_count": null,
   "metadata": {},
   "outputs": [],
   "source": [
    "# Business id 1\n",
    "# Remove stop words\n",
    "filtered_preStem = [w for w in filtered_preStem if not w in sw]\n",
    "stems = [ps.stem(w) for w in filtered_preStem]"
   ]
  },
  {
   "cell_type": "code",
   "execution_count": null,
   "metadata": {
    "scrolled": true
   },
   "outputs": [],
   "source": [
    "freq_dist = FreqDist(filtered_preStem).most_common(10)\n",
    "freq_dist = dict(freq_dist)\n",
    "freq_dist = pd.Series(freq_dist)\n",
    "freq_dist.sort_values(ascending=False, inplace=True)"
   ]
  },
  {
   "cell_type": "code",
   "execution_count": null,
   "metadata": {},
   "outputs": [],
   "source": [
    "stemmed_freq_dist = FreqDist(stems).most_common(10)\n",
    "stemmed_freq_dist = dict(stemmed_freq_dist)\n",
    "stemmed_freq_dist = pd.Series(stemmed_freq_dist)\n",
    "stemmed_freq_dist.sort_values(ascending=False, inplace=True)"
   ]
  },
  {
   "cell_type": "code",
   "execution_count": null,
   "metadata": {},
   "outputs": [
    {
     "data": {
      "image/png": "[encoded data removed]",
      "text/plain": [
       "<Figure size 720x576 with 1 Axes>"
      ]
     },
     "metadata": {
      "needs_background": "light"
     },
     "output_type": "display_data"
    }
   ],
   "source": [
    "fig, ax = plt.subplots(figsize=(10,8))\n",
    "sns.barplot(x=freq_dist.index, y=freq_dist.values, ax=ax)\n",
    "plt.title(\"Top-10 Most Frequent Words - Before Stemming (Not Log-scale)\")\n",
    "plt.show()"
   ]
  },
  {
   "cell_type": "code",
   "execution_count": null,
   "metadata": {},
   "outputs": [
    {
     "data": {
      "image/png": "[encoded data removed]",
      "text/plain": [
       "<Figure size 720x576 with 1 Axes>"
      ]
     },
     "metadata": {
      "needs_background": "light"
     },
     "output_type": "display_data"
    }
   ],
   "source": [
    "fig, ax = plt.subplots(figsize=(10,8))\n",
    "sns.barplot(x=stemmed_freq_dist.index, y=stemmed_freq_dist.values, ax=ax)\n",
    "plt.title(\"Top-10 Most Frequent Words - After Stemming (Not Log-scale)\")\n",
    "plt.show()"
   ]
  },
  {
   "cell_type": "code",
   "execution_count": null,
   "metadata": {},
   "outputs": [],
   "source": [
    "# Repeat for business id 2\n",
    "# Remove stop words\n",
    "filtered_preStem_2 = [w for w in filtered_preStem_2 if not w in sw]\n",
    "stems_2 = [ps.stem(w) for w in filtered_preStem_2]"
   ]
  },
  {
   "cell_type": "code",
   "execution_count": null,
   "metadata": {},
   "outputs": [],
   "source": [
    "freq_dist_2 = FreqDist(filtered_preStem_2).most_common(10)\n",
    "freq_dist_2 = dict(freq_dist_2)\n",
    "freq_dist_2 = pd.Series(freq_dist_2)\n",
    "freq_dist_2.sort_values(ascending=False, inplace=True)"
   ]
  },
  {
   "cell_type": "code",
   "execution_count": null,
   "metadata": {},
   "outputs": [],
   "source": [
    "stemmed_freq_dist_2 = FreqDist(stems_2).most_common(10)\n",
    "stemmed_freq_dist_2 = dict(stemmed_freq_dist_2)\n",
    "stemmed_freq_dist_2 = pd.Series(stemmed_freq_dist_2)\n",
    "stemmed_freq_dist_2.sort_values(ascending=False, inplace=True)"
   ]
  },
  {
   "cell_type": "code",
   "execution_count": null,
   "metadata": {},
   "outputs": [
    {
     "data": {
      "image/png": "[encoded data removed]",
      "text/plain": [
       "<Figure size 720x576 with 1 Axes>"
      ]
     },
     "metadata": {
      "needs_background": "light"
     },
     "output_type": "display_data"
    }
   ],
   "source": [
    "fig, ax = plt.subplots(figsize=(10,8))\n",
    "sns.barplot(x=freq_dist_2.index, y=freq_dist_2.values, ax=ax)\n",
    "plt.title(\"Top-10 Most Frequent Words - Before Stemming (Not Log-scale)\")\n",
    "plt.show()"
   ]
  },
  {
   "cell_type": "code",
   "execution_count": null,
   "metadata": {},
   "outputs": [
    {
     "data": {
      "image/png": "[encoded data removed]",
      "text/plain": [
       "<Figure size 720x576 with 1 Axes>"
      ]
     },
     "metadata": {
      "needs_background": "light"
     },
     "output_type": "display_data"
    }
   ],
   "source": [
    "fig, ax = plt.subplots(figsize=(10,8))\n",
    "sns.barplot(x=stemmed_freq_dist_2.index, y=stemmed_freq_dist_2.values, ax=ax)\n",
    "plt.title(\"Top-10 Most Frequent Words - Before Stemming (Not Log-scale)\")\n",
    "plt.show()"
   ]
  },
  {
   "cell_type": "markdown",
   "metadata": {},
   "source": [
    "## POS Tagging"
   ]
  },
  {
   "cell_type": "code",
   "execution_count": null,
   "metadata": {},
   "outputs": [
    {
     "name": "stderr",
     "output_type": "stream",
     "text": [
      "[nltk_data] Downloading package averaged_perceptron_tagger to\n",
      "[nltk_data]     C:\\Users\\Grace\\AppData\\Roaming\\nltk_data...\n",
      "[nltk_data]   Package averaged_perceptron_tagger is already up-to-\n",
      "[nltk_data]       date!\n"
     ]
    },
    {
     "data": {
      "text/plain": [
       "True"
      ]
     },
     "execution_count": 34,
     "metadata": {},
     "output_type": "execute_result"
    }
   ],
   "source": [
    "nltk.download('averaged_perceptron_tagger')"
   ]
  },
  {
   "cell_type": "code",
   "execution_count": null,
   "metadata": {},
   "outputs": [
    {
     "name": "stdout",
     "output_type": "stream",
     "text": [
      "[\"I'll be the first to admit that I was not excited about going to La Tavolta.\", 'Being a food snob, when a group of friends suggested we go for dinner I looked online at the menu and to me there was nothing special and it seemed overpriced.', 'Im also not big on ordering pasta when I go out.', 'Alas, I was outnumbered.', 'Thank goodness!', 'I ordered the sea bass special.', 'It was to die for.', 'Cooked perfectly, seasoned perfectly, perfect portion.', 'I can not say enough good things about this dish.', 'When the server asked how it was he seemed very proud of the dish and said, \" doesn\\'t she (the chef) do an incredible job?\"', 'She does.', 'My hubby got the crab tortellini and also loved his.', 'I heard \"mmmm this is so good\" from all around the table.', 'Our waiter was super nice and even gave us free desserts because we were some of the last people in the restaurant.', \"Service was very slow and the place was PACKED but we had our jugs of wine and a large group with good conversation so it didn't seem to bother anyone.\", 'So-\\n\\nDo order the calamari and fried zucchini appetizers.', 'Leave out the mussels.', 'If they have the sea bass special, I highly recommend it.', 'The chicken parm and crab tortellini were also very good and very big.', 'The chicken Romano was a bit bland.', 'The house salads were teeny.', 'Do make a reservation but still expect to wait for your food.', 'Go with a large group of people and plan for it to be loud.', \"Don't go with a date unless you're fighting and don't feel like hearing anything they have to say.\", \"Ask to sit in the side room if it's available.\", 'Tracy dessert had a big name in Hong Kong and the one in First Markham place has been here for many years now!', 'Came in for some Chinese dessert, and I must say their selection has increased tremendously over the years.', 'I might as well add that the price has also increased tremendously as well.', 'The waitress gave us tea, which I could taste had red date in it.', 'Fancy!', 'A simple taro with coconut with tapioca pearls was like $5.25 or something.', 'Basically all the desserts were more than $5.', \"That's crazy!\", 'I can literally just make this dessert at home and for a bowl, it would probably cost like $0.50.', 'A few years ago, I think I can still get it for like $3-$4, which is more reasonable, but wow, more than $5 is a little over the top for this dessert.', 'Though I must say, it is Tracy Dessert, and they are a little more on the expensive side.', 'I also saw other items on the menu like fish balls, chicken wings, shaved ice.', 'My friend got a mango drink with fresh mango in it!', \"I'm also surprised how many people come to Tracy Dessert after work.\", 'We came on a Sunday and the tables were always filled.', 'I think the amount of tables they had were just perfect because no one really waited for seats for a long time, but the tables kept filling up once a table was finished.', \"We've been a huge Slim's fan since they opened one up in Texas about two years ago when we used to live there.\", 'This place never disappoints.', 'They even have great salads and grilled chicken.', \"Plus they have fresh brewed sweet tea, it's the best!\", 'I tried this place because my girls are away for a month, and I REALLY wanted to try to wait until they came back, because NOBODY can hold a candle to them, but my toes were desperate.', 'When I went in, they were almost twice what I usually pay to begin with.', 'Then, before starting the pedicure, I specifically told them I already had gel polish on my toes.', 'They didn\\'t tell me right then and there \"that will be an extra $5\\'.', \"No, they waited until it was time to pay, and not only charged me for that, but they charged me all kinds of extra fees that I didn't even ask for!\", 'I had also informed the girl that my toenail was loose and needed gluing.', 'While I was looking at my phone, all of a sudden I felt this sensation, and she RIPPED OFF MY TOENAIL!!!!', 'Without even asking me!!!!!!', 'So then she had another girl come and put acrylic on there since the nail underneath was only 1/2 grown.', \"Again, they didn't tell me how much this would be, or even ask my permission, they just charged me at the end.\", \"The added stone 'massage' was barely a massage!\", 'She rubbed the stones up my lower legs a couple times, and that was it.', 'It lasted about 30 seconds.', \"And when I asked for a design, I'm used to getting a board with a bunch of designs to choose from.\", \"She didn't even ask me what I wanted, she just painted a few lines on my two toes and then charge me 5 MORE dollars for that!\", \"Ugh, I don't care HOW ugly my toes look next time, I will NEVER go anywhere else besides Bella Nails again, they ROCK!!!!!!!\", 'This place was appalling.', \"I didn't want to make a scene, so I just paid the money, but I will NEVER go back!!!!!!\", '!', 'Love this place downtown but the Scottsdale location has no manners.', 'Sat at bar for 10 min while bartender ignored us.', 'No menu, no water.', 'We walked out and they could have cared less.', 'Met a friend for dinner there tonight.', 'The server only brought us one menu.', \"After she brought us a couple of Cokes she didn't come to our table for 20 mins.\", 'After trying to get her attention a few times when she walked by we decided to just order off the bartender.', 'We received the starters and the mains at the same time.', 'The wings, brisket, and mac and cheese were alright at best.', \"At this point we hadn't seen the server since she brought the food, so we had to go to the bar for more napkins and refills on the Cokes.\", 'The most we actually saw our server was when she hovered over us as we put the tip into the handheld credit card terminal.', 'Food was somewhere between okay and decent.', 'Service was somewhere between piss poor and terrible.', 'Another solid BBQ place in Calgary.', 'This is definitely a great place to go if you are craving something smokey and delicious.', \"I actually noticed this place because I wandered by when I was walking downtown and it's impossible to miss that lovely smokey/BBQ smell if you're on the block.\", 'However, it looks kind of like a hole in the wall.', \"The entrance doesn't look like it's been updated in years, and that's ok because it just adds character.\", 'The entire decor is wood/country (to include buffalo head on the wall) and there is also a downstairs where there is live music on the weekends.', 'Ok onto the food.', 'I have been here a couple of times now, so I think I can comment on the menu pretty well.', 'My friends and I have ordered the brisket, the catfish, the veggie burger, the mac n cheese, the cesar salad, the chili, and the garlic fries.', 'If I had to review this place based on the delicious and garliciness of their fries, this would be a 5-star review hands down.', 'I mean, seriously, vampires beware, but everyone else should enjoy a-plenty.', \"The portion sizes are huge, so go hungry or be prepared for a to-go box (granted every time I've gone I have loved the food so much that I ate the entire meal.)\", 'I bet at this point in time you are wondering why I am only giving this place 4 stars then?', 'Well, not everything is as amazing as those garlic fries.', 'The bourbon apples are fairly tasteless, the chili is ok (the meat was very tough), and the service is also just ok.', 'However, the catfish is delightful, the mac and cheese is also delicious, and the brisket is quality.', 'The specialty cocktails are also pretty good, and the beer prices are pretty decent.', 'This is a great place to go for a long lunch, after dinner drink, or even a weekend brunch.', 'There are vegetarian options on the menu (if you can ignore the buffalo head on the wall) and I believe even a few gluten-free options as well.', \"It's a fairly good place to go with a large group, just make sure to call ahead.\", 'All in all, like I said earlier, a great place for good times and smokey flavor.', 'I really enjoyed my visit here.', 'Everything was visually appealing to me.', 'Ambiance was great.', 'Food tasted amazing.', 'Service was .', 'No complaints at all', 'So good!', \"They didn't make it to 5 stars due to the prices are a bit high for the amount of food and the location is a bit unsavory.\", 'The decor and atmosphere was surprisingly nice, from the outside I expected to be more run down inside.', 'The staff was very nice.', 'We were surprised how empty the dining room was for a Friday evening.', 'We got Vegetable Samosas to start then ordered Chicken Tikka Masala, Lamb Rogan Josh, rice and plain Naan.', \"Our only complaint was the lamb could've been more tender but everything was flavorful and delicious.\", 'I would definitely go again if given the chance.', 'Yum!!', 'Had the kale grits and would definitely have those again!', 'Menu choices are unique, farm fresh and delicious!', \"Dreadful Service\\n\\nI've had Jimmy John's before several years ago in Minneapolis..\", 'But apparently here in Phoenix, the store personnel must be trained differently.', 'I had to take my sandwich back up to the counter twice to get the thick headed folks working at the one on Camelback at about 16th to get my sandwich the way I wanted it.', \"I asked for a #10 Hunter's Club with all the veggies.\", 'What I got was the standard #10 Hunters Club with lettuce and tomatoes.', 'After seeing that, I took it back up to the counter, and explained that I wanted all the veggies.', 'They explained to me that those were all the veggies the sandwich came with.', 'I carefully explained that I wanted all of the veggies that they have.', 'The guy said, oh, you want the Freebies.', 'I would have thought he would have clarified when I ordered whether I just wanted everything that came on the sandwich, or the Freebies as well.', 'I said yes, I wanted all of the Freebie Veggies.', 'I took my revised sandwich and sat down to eat it, only to find that along with the veggies I had requested, they had piled on Italian vinaigrette and Dijon mustard, which I did NOT want.', 'These burgers are phenomenal!', 'The Galley Boy just melts in your mouth, and paired with the potato teasers and a milkshake it is like heaven on Earth.', 'This place is quite possibly my favorite restaurant in Phoenix.', 'My favorites are the Chicken Scarpariello, the pizza and the Sangria.', \"My wife can't decide between four dishes.\", 'Our daughter loves the Penne ala Vodka, Lasagna, or Ravioli.', \"Mario and his sons work hard to please and we've never had a bad meal here.\", \"I've seen them bend over backwards to try and take care of obvious jerks.\", 'Plus to top it off, when local school invited local pizza places to present to a class on making pizza and recycling issues, Mario came and talked to the kids as if they were adults.', 'All the other places treated it as a marketing event and brought coupons.', 'Get the idea?', \"It's all good at this neighborhood gem!\", 'Man, I love Toronto!', \"Hiding in a strip mall on Overlea, find a dingy looking restaurant that serves up fantastic, cheap kabob...be warned regardless of when you come here you'll likely be waiting for a table as this place is always overrun with people...If you're a fan of perfectly grilled spicy meat, you must try this place out...now that I've been here I need to limit how many times I go here per month :)\\n\\nTake the drive out and have some kabob...if you don't own a car, borrow one or get a zipcar membership...totally worth it!\", \"I have no idea what the owner's problem is, but he's incredibly rude.\", 'His wife, on the other hand is super nice (an odd mix).', 'Great space, rude owner and the coffee is average.', \"Hey....i just want to say, everytime I eat here, since the late 90's.\", 'Nothing but good wings, good beer, and good times.', 'If the waiting staff is terrible, slow, non attentive, so be it.', 'I eventually get my food and beer, im busy either catching up with friends or pull out the cell phone and chat with friends.', 'Weird but there it is.', 'Have Fun here..........Cheers!', 'My family and I came in on Wed. Night for dinner we had a party of 6 plus a baby(using a high chair).', 'We had to wait about 10 mins to be seated and when we got to our table it was against the wall, half booth half chairs.', 'My husband asked to sit at another table but the hostess said \"No\" so we had the baby between our table and the customers next to us, luckily she\\'s a great baby!!', 'The table and booth were dirty and floor was sticky, gross, and I had to kick a fork out from under my seat.', 'The service was subpar but the waiter was nice.', 'It took 20 mins for my boys to get their drinks and refills, well they were sparse to say the least.', 'I ordered steamed broccoli which was actually raw when it came out the first time but they, what I believe, microwaved it to warm it up.', 'My poor daughter in law had a charcoal patty which she sent back and it took a good 25-30 mins to be replaced.', \"The worse part is my son has a sensitivity to gluten so he ordered a gluten free bun but they gave him a Ciabatta bun which he didn't realize until he had already eaten half the burger.\", \"My husband brought the issues up to the manager but she didn't really contribute anything to the situation other than sending the burnt burger back.\", \"The waiter's solution for the inconvenience was a free appetizer card to be redeemed the next time they came in.\", \"We live 3 1/2 hours from Mesa and it's so disappointing to run into this kind of service, this was definitely not a pleasant experience\", 'Well they definitely lost me as a customer!', 'RC Willey here I come!', 'My father, who is 69 years old, moved out here from Los Angeles the beginning of this month to be closer to me and my kids.', 'I ordered and fully paid for a bedroom set for him.', 'They called me like 4 days before the order was to be delivered to confirm the appointment.', \"I advised the lady that no one was living in my father's apartment yet but if they could call me as they are on their way I could rush down to the place and open the door for them.\", \"I mean I live in the same complex so it wouldn't be a long wait!\", 'She said she would let the guys know but no promise...okaaaaay?', \"I paid $1,200 for furniture, I am a repeat customer, and you can't make one quick easy courtesy call?\", 'Well I missed their delivery and no call was made.', 'I found out from my LANDLORD that they came because they went to the office and he was going to let them in but they said no because someone had to sign the paper.', 'To top it off, when I got my dad\\'s key to check the place out before he arrived, there was a note on the COUNTER that said \"Sorry we Missed you\"....so they entered the apartment and left the note but couldn\\'t put the damn furniture together??', 'They denied going in but how the hell did the paper get on the counter?', 'Anyway my dad arrived with NO furniture and we had to pay $50.00 for them to deliver the furniture again 3 DAYS LATER.', \"My father has bad arthritis and basically no cartilage in his knees making it very hard for him to get up from low areas such as couches and FLOORS which he almost had to sleep on if it weren't for my friend who let us borrow her air mattress luckily.\", \"He still couldn't get up though and crawled to get around his place until I was able to get to his place after work :(.\", 'Bottom line, they are not for their customers at all and their attitude after you purchase their crap shows it all.', 'I will never be back.', 'We stopped by for a little shopping.', 'The mall is nicer than most and has plenty of stores.', 'It was a nice way to spend a few hours before heading on to another adventure.', 'The gang at Sun Valley Stereo is definitely top notch.', 'Ryan gets right to the point and saw what I was interested in, and we worked together to verify that all the parts were in to upgrade my 2004 RX-8 with a Pioneer 4000NEX touchscreen and back-up camera before I drove 90 minutes for the work.', 'When I first left there was some adjustments needed.', 'They took me back in without hesitation and made everything right.', 'The installer was committed to treating my car like it was his own.', 'He took the extra steps to make it all right, and even fixed the hatch door to my 12-volt socket.', \"Now that's going the extra mile!\", '6-stars!']"
     ]
    },
    {
     "name": "stdout",
     "output_type": "stream",
     "text": [
      "\n"
     ]
    }
   ],
   "source": [
    "sentences = []\n",
    "for review in data:\n",
    "    dummy_list = nltk.tokenize.sent_tokenize(review['text'])\n",
    "    sentences.extend(dummy_list)\n",
    "print(sentences)"
   ]
  },
  {
   "cell_type": "code",
   "execution_count": null,
   "metadata": {},
   "outputs": [],
   "source": [
    "nlp = spacy.load(\"en_core_web_sm\")"
   ]
  },
  {
   "cell_type": "code",
   "execution_count": null,
   "metadata": {},
   "outputs": [],
   "source": [
    "patterns = [\n",
    "...     (r'.*ing$', 'VBG'),                # gerunds\n",
    "...     (r'.*ed$', 'VBD'),                 # simple past\n",
    "...     (r'.*es$', 'VBZ'),                 # 3rd singular present\n",
    "...     (r'.*ould$', 'MD'),                # modals\n",
    "...     (r'.*\\'s$', 'NN$'),                # possessive nouns\n",
    "...     (r'.*s$', 'NNS'),                  # plural nouns\n",
    "...     (r'^-?[0-9]+(\\.[0-9]+)?$', 'CD'),  # cardinal numbers\n",
    "...     (r'.*', 'NN')                      # nouns (default)\n",
    "... ]"
   ]
  },
  {
   "cell_type": "code",
   "execution_count": null,
   "metadata": {
    "scrolled": false
   },
   "outputs": [
    {
     "name": "stdout",
     "output_type": "stream",
     "text": [
      "Sentence 1: \n",
      "Word            NLTK POS Tag    REGREX POS TAG  spaCy POS TAG  \n",
      "She             PRP             NN              PRP            \n",
      "did             VBD             NN              VBD            \n",
      "n't             RB              NN              RB             \n",
      "even            RB              NN              RB             \n",
      "ask             VB              NN              VB             \n",
      "me              PRP             NN              PRP            \n",
      "what            WP              NN              WP             \n",
      "I               PRP             NN              PRP            \n",
      "wanted          VBD             VBD             VBN            \n",
      ",               ,               NN              ,              \n",
      "she             PRP             NN              PRP            \n",
      "just            RB              NN              RB             \n",
      "painted         VBD             VBD             VBN            \n",
      "a               DT              NN              LS             \n",
      "few             JJ              NN              JJ             \n",
      "lines           NNS             VBZ             NNS            \n",
      "on              IN              NN              IN             \n",
      "my              PRP$            NN              PRP$           \n",
      "two             CD              NN              CD             \n",
      "toes            NNS             VBZ             NNS            \n",
      "and             CC              NN              CC             \n",
      "then            RB              NN              RB             \n",
      "charge          VB              NN              NN             \n",
      "me              PRP             NN              PRP            \n",
      "5               CD              CD              CD             \n",
      "MORE            JJR             NN              JJR            \n",
      "dollars         NNS             NNS             NNS            \n",
      "for             IN              NN              IN             \n",
      "that            DT              NN              IN             \n",
      "!               .               NN              .              \n",
      "\n",
      "Sentence 2: \n",
      "Word            NLTK POS Tag    REGREX POS TAG  spaCy POS TAG  \n",
      "Another         DT              NN              DT             \n",
      "solid           JJ              NN              JJ             \n",
      "BBQ             NNP             NN              NNP            \n",
      "place           NN              NN              NN             \n",
      "in              IN              NN              IN             \n",
      "Calgary         NNP             NN              NNP            \n",
      ".               .               NN              .              \n",
      "\n",
      "Sentence 3: \n",
      "Word            NLTK POS Tag    REGREX POS TAG  spaCy POS TAG  \n",
      "Had             VBD             NN              VBD            \n",
      "the             DT              NN              DT             \n",
      "kale            JJ              NN              NNP            \n",
      "grits           NNS             NNS             NNS            \n",
      "and             CC              NN              CC             \n",
      "would           MD              MD              MD             \n",
      "definitely      RB              NN              RB             \n",
      "have            VB              NN              VBP            \n",
      "those           DT              NN              DT             \n",
      "again           RB              NN              RB             \n",
      "!               .               NN              .              \n",
      "\n",
      "Sentence 4: \n",
      "Word            NLTK POS Tag    REGREX POS TAG  spaCy POS TAG  \n",
      "My              PRP$            NN              PRP$           \n",
      "family          NN              NN              NN             \n",
      "and             CC              NN              CC             \n",
      "I               PRP             NN              PRP            \n",
      "came            VBD             NN              VBD            \n",
      "in              IN              NN              IN             \n",
      "on              IN              NN              IN             \n",
      "Wed.            NNP             NN              PRP            \n",
      "Night           NNP             NN              NN             \n",
      "for             IN              NN              IN             \n",
      "dinner          NN              NN              NN             \n",
      "we              PRP             NN              PRP            \n",
      "had             VBD             NN              VBD            \n",
      "a               DT              NN              LS             \n",
      "party           NN              NN              NNP            \n",
      "of              IN              NN              IN             \n",
      "6               CD              CD              CD             \n",
      "plus            CC              NNS             CC             \n",
      "a               DT              NN              LS             \n",
      "baby            NN              NN              NN             \n",
      "(               (               NN              -LRB-          \n",
      "using           VBG             VBG             VBG            \n",
      "a               DT              NN              LS             \n",
      "high            JJ              NN              JJ             \n",
      "chair           NN              NN              NNP            \n",
      ")               )               NN              -RRB-          \n",
      ".               .               NN              .              \n",
      "\n",
      "Sentence 5: \n",
      "Word            NLTK POS Tag    REGREX POS TAG  spaCy POS TAG  \n",
      "The             DT              NN              DT             \n",
      "service         NN              NN              NN             \n",
      "was             VBD             NNS             VBD            \n",
      "subpar          JJ              NN              NNS            \n",
      "but             CC              NN              CC             \n",
      "the             DT              NN              DT             \n",
      "waiter          NN              NN              NN             \n",
      "was             VBD             NNS             VBD            \n",
      "nice            JJ              NN              JJ             \n",
      ".               .               NN              .              \n",
      "\n"
     ]
    }
   ],
   "source": [
    "import random\n",
    "regexp_tagger = nltk.RegexpTagger(patterns)\n",
    "for i in range(5):\n",
    "    # Pick a random sentence\n",
    "    sentence = random.choice(sentences)\n",
    "    \n",
    "    # Tokenise chosen sentence\n",
    "    word_tokens = word_tokenize(sentence)\n",
    "    \n",
    "    # NLTK pos tagger\n",
    "    sample_POS = nltk.pos_tag(word_tokens)\n",
    "    # REGEXP tagging\n",
    "    regrex_output = regexp_tagger.tag(word_tokens)\n",
    "    \n",
    "    # SPACY POS tagging\n",
    "    spacy_tags = []\n",
    "    for word in word_tokens:\n",
    "        spacy_tags.append(nlp(word)[0].tag_)\n",
    "    \n",
    "    # Print output\n",
    "    print(\"Sentence \" + str(i+1) + \": \")\n",
    "    print(f\"{'Word':{15}} {'NLTK POS Tag':{15}} {'REGREX POS TAG':{15}} {'spaCy POS TAG':{15}}\")\n",
    "    for i in range(len(word_tokens)):\n",
    "        print(f'{word_tokens[i]:{15}} {sample_POS[i][1]:{15}} {regrex_output[i][1]:{15}} {spacy_tags[i]:{15}}')\n",
    "    print()"
   ]
  },
  {
   "cell_type": "markdown",
   "metadata": {},
   "source": [
    "## Writing Style\n",
    "\n",
    "\n",
    "### Articles Chosen: \n",
    "\n",
    "*Channel News Asia*\n",
    "> 1. https://www.channelnewsasia.com/cnainsider/school-counselling-challenge-safeguard-student-mental-health-2081496\n",
    "2. https://www.channelnewsasia.com/commentary/china-ant-group-alibaba-didi-crackdown-tech-ipo-2149091\n",
    "\n",
    "*Stackoverflow*\n",
    ">1. https://stackoverflow.com/questions/69235547/flutter-app-and-woocommerce-integration-add-to-cart-function\n",
    "2. https://stackoverflow.com/questions/65907012/debugging-error-org-apache-axis2-axisfault-connection-or-outbound-has-closed-t\n",
    "\n",
    "*HardwareZone*\n",
    ">1. https://forums.hardwarezone.com.sg/threads/beginners-bible-to-bodybuilding-supplements-fat-loss-newbies-pls-read.3419226/\n",
    "2. https://forums.hardwarezone.com.sg/threads/need-advice-no-internet-for-desktop-on-singtel-fibre.6075480/\n",
    "\n",
    "---"
   ]
  },
  {
   "cell_type": "code",
   "execution_count": null,
   "metadata": {},
   "outputs": [],
   "source": [
    "# returns (number of non capitalised proper nouns, total number of proper nouns)\n",
    "def checkProperNounCapitalised(text, nlp):\n",
    "    count = 0\n",
    "    not_capitalised = 0\n",
    "    doc = nlp(text)\n",
    "    for token in doc:\n",
    "        if token.pos_ == \"PROPN\":\n",
    "            count += 1\n",
    "            if not token.text[0].isupper():\n",
    "                not_capitalised += 1\n",
    "    return (not_capitalised, count)"
   ]
  },
  {
   "cell_type": "code",
   "execution_count": null,
   "metadata": {},
   "outputs": [],
   "source": [
    "def checkFirstWordCapitalised(text):\n",
    "    punctuations = '''!()-[]{};:'\"“”‘’\\,<>./?@#$%^&*_~'''\n",
    "    \n",
    "    count = 0\n",
    "    sentences = nltk.tokenize.sent_tokenize(text)\n",
    "    for sentence in sentences:\n",
    "        no_punct = \"\"\n",
    "        for char in sentence:\n",
    "           if char not in punctuations:\n",
    "               no_punct = no_punct + char\n",
    "        if no_punct[0].isupper():\n",
    "            count += 1\n",
    "    return (count, len(sentences))"
   ]
  },
  {
   "cell_type": "code",
   "execution_count": null,
   "metadata": {},
   "outputs": [],
   "source": [
    "# stemming\n",
    "def q3_stem(text):\n",
    "    overflow_prestem = []\n",
    "    word = word_tokenize(text)\n",
    "    overflow_prestem.extend(word)\n",
    "    filtered_overflow_preStem = [w for w in overflow_prestem if not w in string.punctuation]\n",
    "    return filtered_overflow_preStem"
   ]
  },
  {
   "cell_type": "code",
   "execution_count": null,
   "metadata": {},
   "outputs": [],
   "source": [
    "## Language checking function (CNA)\n",
    "import language_tool_python\n",
    "tool = language_tool_python.LanguageTool('en-US')\n",
    "def check_language_error(data):\n",
    "    totalerrors = 0\n",
    "    wordcount = 0\n",
    "\n",
    "    for i in range(len(data)):\n",
    "        test_sentence = data[i].text\n",
    "        wordcount += len(test_sentence)\n",
    "        matches = tool.check(test_sentence)\n",
    "    #     for i in range(len(matches)):\n",
    "    #         print(matches[i])\n",
    "        totalerrors = len(matches) + totalerrors\n",
    "    print(\"Number of errors = \",totalerrors)\n",
    "    print(\"Number of words = \",wordcount)\n",
    "    # Percentage of language error among all words\n",
    "    language_error_percentage = (totalerrors/wordcount)*100\n",
    "    print(\"Percentage of language error = \",language_error_percentage)\n",
    "    \n",
    "## Language checking function (StackOverflow)\n",
    "import language_tool_python\n",
    "tool = language_tool_python.LanguageTool('en-US')\n",
    "def check_language_error_so(data):\n",
    "    totalerrors = 0\n",
    "    wordcount = 0\n",
    "\n",
    "    for i in range(len(data)):\n",
    "        test_sentence = data[i]\n",
    "        wordcount += len(test_sentence)\n",
    "        matches = tool.check(test_sentence)\n",
    "    #     for i in range(len(matches)):\n",
    "    #         print(matches[i])\n",
    "        totalerrors = len(matches) + totalerrors\n",
    "    print(\"Number of errors = \",totalerrors)\n",
    "    print(\"Number of words = \",wordcount)\n",
    "    # Percentage of language error among all words\n",
    "    language_error_percentage = (totalerrors/wordcount)*100\n",
    "    print(\"Percentage of language error = \",language_error_percentage)\n",
    "\n",
    "## Language checking function (Hardware Zone)\n",
    "import language_tool_python\n",
    "tool = language_tool_python.LanguageTool('en-US')\n",
    "def check_language_error_hwz(data):\n",
    "    totalerrors = 0\n",
    "    wordcount = 0\n",
    "\n",
    "    test_sentence = data\n",
    "    wordcount += len(test_sentence)\n",
    "    matches = tool.check(test_sentence)\n",
    "    #     for i in range(len(matches)):\n",
    "    #         print(matches[i])\n",
    "    totalerrors = len(matches) + totalerrors\n",
    "    print(\"Number of errors = \",totalerrors)\n",
    "    print(\"Number of words = \",wordcount)\n",
    "    # Percentage of language error among all words\n",
    "    language_error_percentage = (totalerrors/wordcount)*100\n",
    "    print(\"Percentage of language error = \",language_error_percentage)"
   ]
  },
  {
   "cell_type": "code",
   "execution_count": null,
   "metadata": {
    "scrolled": false
   },
   "outputs": [],
   "source": [
    "import requests\n",
    "from bs4 import BeautifulSoup\n",
    "\n",
    "# scrape post from CNA\n",
    "def scrape_text_CNA(website):\n",
    "    site = requests.get(website)\n",
    "    \n",
    "    content = BeautifulSoup(site.content, 'html.parser')\n",
    "    post = content.select('div.text-long p')\n",
    "    return post\n",
    "\n",
    "# scrape post from Stackoverflow\n",
    "def scrape_text_stackoverflow(website):\n",
    "    site = requests.get(website)\n",
    "        \n",
    "    content = BeautifulSoup(site.content, 'html.parser')\n",
    "    questions = content.select('div.s-prose.js-post-body p')\n",
    "    return questions\n",
    "\n",
    "# scrape code from Stackoverflow\n",
    "def scrape_code_stackoverflow(website):\n",
    "    site = requests.get(website)\n",
    "    content = BeautifulSoup(site.content, 'html.parser')\n",
    "    code = content.select('div.s-prose.js-post-body pre code')\n",
    "    return code\n",
    "\n",
    "# scrape post from HardwareZone\n",
    "def scrape_text_hardwarezone(website):\n",
    "    site = requests.get(website)\n",
    "    content = BeautifulSoup(site.content, 'html.parser')\n",
    "    for script in content([\"script\", \"style\"]):\n",
    "        script.extract()\n",
    "    wrap = content.select('article.message-body.js-selectToQuote div.bbWrapper')\n",
    "    return wrap[0].text"
   ]
  },
  {
   "cell_type": "markdown",
   "metadata": {},
   "source": [
    "##### CNA #1\n",
    "\n",
    "Article Name: ‘With school counsellors, it’s really hit-or-miss’: Behind the challenge of safeguarding student mental health\n",
    "\n",
    "Website: https://www.channelnewsasia.com/cnainsider/school-counselling-challenge-safeguard-student-mental-health-2081496"
   ]
  },
  {
   "cell_type": "code",
   "execution_count": null,
   "metadata": {
    "scrolled": true
   },
   "outputs": [
    {
     "name": "stdout",
     "output_type": "stream",
     "text": [
      "* denotes name changed to protect the person’s identity\n",
      "\n",
      "\n",
      "SINGAPORE: When Jane* opened up to her secondary school counsellor about the cold wars and troubles she was having with some close friends, she was told that “life’s like that”.\n",
      "\n",
      "\n",
      "That was the then 14-year-old’s first session.\n",
      "\n",
      "\n",
      "“I felt ignored, like (school counselling is hopeless) even if I bring up my problems,” said Jane, now 17 and in her first year at junior college.\n",
      "\n",
      "\n",
      "She had been “mandated” to attend counselling because she was frequently late for class and did not submit homework on time. She recalled her form teacher telling her outside the classroom, in full view and within earshot of her classmates, that a session had been arranged to address her tardiness.\n",
      "\n",
      "\n",
      "“It brings the idea that those who aren’t faring well have some problems and need to see the counsellor, rather than (the idea that) people … want to see a counsellor because of personal reasons,” she said.\n",
      "\n",
      "\n",
      "After three compulsory sessions on her time management — none of which circled back to the issue with her friends — Jane did not hear from the counsellor again.\n",
      "\n",
      "\n",
      "Then there is the contrasting experience of Hanna Lee, 19, who was asked to see a counsellor when she was in Secondary 2 for frequent truancy.\n",
      "\n",
      "\n",
      "“It wasn’t that I didn’t want to go to school. I just had trouble with getting there regularly,” she said.\n",
      "\n",
      "\n",
      "Her form teacher, who was aware of her family issues, texted or called her whenever she was absent to ask what was going on. One day, the teacher said: “If you need some help, I can arrange an appointment with the school counsellor.”\n",
      "\n",
      "\n",
      "Ms Lee was relieved. “I was finally getting help,” she thought. In the counselling room, where a diffuser emitted a calming scent and artwork adorned the walls, she sat on a couch with cushions all around, feeling safe as she vented (sometimes for up to three hours).\n",
      "\n",
      "\n",
      "She remembers learning breathing exercises and wanting to go to school so she would not miss an appointment.\n",
      "\n",
      "\n",
      "“Sometimes I’d tell myself I just need to get through one more day, then I can go and release all of my frustrations,” she said. “As (the counsellor) got to know me more, instead of just (letting me) vent, she would give me some advice to help me cope.”\n",
      "\n",
      "\n",
      "She saw the counsellor for three years, until she graduated from secondary school. Today, she is waiting to start her undergraduate degree in philosophy.\n",
      "\n",
      "\n",
      "Jane and Ms Lee first shared their experiences on Reddit, where CNA Insider saw at least three threads asking about school counsellors.\n",
      "\n",
      "\n",
      "While a handful of people shared positive experiences, there were common complaints that the counsellors belittled the students’ problems by making comparisons with others, or that the counsellors would “snitch” on them to their teachers or parents.\n",
      "\n",
      "\n",
      "Some of the youths agreed that “with school counsellors, it’s really hit-or-miss”.\n",
      "\n",
      "\n",
      "In the light of the pandemic and the recent tragedy at River Valley High School, the mental health of Singapore’s distressed youth is back in the spotlight. Last week, President Halimah Yacob said on Facebook that parents, schools and society were “ill-equipped” to deal with youths’ mental health issues.\n",
      "\n",
      "\n",
      "With school counselling being one of the first ports of call for students, why is there a disparity in their experiences? Given the task of managing both students’ well-being and their academic standards, what challenges do schools face?\n",
      "\n",
      "\n",
      "‘JUST FOCUS ON STUDYING’\n",
      "\n",
      "\n",
      "When Ms Lee entered junior college, she decided to see the school counsellor to continue working on her issues. The experience this time, however, fell short of the mark when the counsellor harped on one question: “How is this going to affect your academic performance?”\n",
      "\n",
      "\n",
      "“It felt like I wanted to talk about the issue (affecting me), but I’m constantly being redirected to talk about another thing,” she said.\n",
      "\n",
      "\n",
      "Unlike the sympathetic ear she was given at secondary school, she felt it was “a lot more” about the practicalities at junior college.\n",
      "\n",
      "\n",
      "“(The counsellor) said, like, ‘You have all these things, and you need to learn which one to focus on. You only have two years; you need to focus on academics.’ And then I was more stressed,” she said.\n",
      "\n",
      "\n",
      "After that hour-long session, she never went back.\n",
      "\n",
      "\n",
      "In response to a call via CNA Insider’s Instagram account for experiences with school counsellors, one reader shared that he constantly felt dismissed by the counsellors from his university’s counselling centre.\n",
      "\n",
      "\n",
      "He was told things like, he was “not prioritising things” or he should “just focus on studying, and everything else will get sorted out”.\n",
      "\n",
      "\n",
      "The final straw for him? “I was told I should be like other students and just study, and not waste her time and mine,” said the reader, who wished to remain anonymous.\n",
      "\n",
      "\n",
      "He “struggled through a few more years” while dealing with his parents’ marriage issues, the family business and a break-up, and the centre did not reach out to him. He eventually quit school.\n",
      "\n",
      "\n",
      "​​​​​​​DO COUNSELLORS REALLY ‘SNITCH’?\n",
      "\n",
      "\n",
      "Besides feeling that their worries or stressors were “downplayed”, many people in the Reddit threads were concerned that counsellors would “snitch” on students to their teachers and, especially, their parents.\n",
      "\n",
      "\n",
      "“(Students) are scared to tell (their) parents. They don’t want to disappoint the parents, or parents could be the source of their pain,” noted former school counsellor Gary Koh.\n",
      "\n",
      "\n",
      "According to him, all records are confidential, and there are only three instances when counsellors must break confidentiality: Harm to self, harm to others or when the law comes into question.\n",
      "\n",
      "\n",
      "But students believe what their peers have experienced or what they hear through the grapevine. Jane, who was sent to counselling for tardiness, shared about being bullied with her counsellor. The next thing she knew, her teachers asked her for the names of those involved.\n",
      "\n",
      "\n",
      "“I definitely was a bit surprised,” she said, as she was not told about the ground rules for confidentiality. While she was not too affected, as the bullying incident was “kind of small”, a friend who confided her sexuality to the same counsellor had it worse.\n",
      "\n",
      "\n",
      "“She got scolded and punished by her parents. The counsellor reported it to the teachers, who called her parents,” said Jane.\n",
      "\n",
      "\n",
      "Another student, speaking to CNA Insider on condition of anonymity, said the experiences shared on Reddit “confirmed (her) fears” and that school counselling was “not very helpful in general”. Others agreed that “snitching incidents limit the ability of students to share their problems”.\n",
      "\n",
      "\n",
      "However, some students, like Ms Lee, were told at the outset when the counsellor would have to break confidentiality. So when she shared her suicide ideation with her counsellor some months later, she “knew what (she) was getting (herself) into”.\n",
      "\n",
      "\n",
      "Teachers, too, find confidentiality hard to navigate. “Sometimes we do need to know, and counsellors may not be able to tell us anything,” said former secondary school teacher Rachel*, who left the profession last year.\n",
      "\n",
      "\n",
      "“As a teacher, I’d ask the counsellor how the student’s doing. Is there any way I can help? But in terms of what actually goes on, counsellors aren’t supposed to (tell us).”\n",
      "\n",
      "\n",
      "Where necessary, she used to ask the students directly. “If (the counsellors) feel the need to get parents involved, they’d also have to consult the student,” said Rachel.\n",
      "\n",
      "\n",
      "Being informed beforehand made a difference for Phoebe Chew. She started seeing her counsellor in Secondary 3 as her teachers were concerned about her home environment.\n",
      "\n",
      "\n",
      "About three months later, she was informed that her parents would be contacted, though her issues were not related to harming herself or others, or anything to do with the law.\n",
      "\n",
      "\n",
      "“That was one of the worst nightmares any student could possibly want,” said Ms Chew, now 21 and studying social work and psychology at university. “But I think the school counsellor had enough concerns to raise them to my parents.”\n",
      "\n",
      "\n",
      "In the end, it was still a “nightmare scenario” as her “parents weren’t happy”.\n",
      "\n",
      "\n",
      "THE PERENNIAL STIGMA\n",
      "\n",
      "\n",
      "In serious cases, said Rachel, when she did need to involve parents, that was when it became “a bit tough”.\n",
      "\n",
      "\n",
      "“The resistance comes more from parents,” she said. “Because some parents refuse to believe their child needs help. They feel like, ‘Oh, it means (my child) is crazy.’”\n",
      "\n",
      "\n",
      "All students CNA Insider spoke to also reported a sense of fear and shame when going to see the counsellor for the first time.\n",
      "\n",
      "\n",
      "Marcus* remembers the feeling as he walked to the counselling room, which was located within what looked like a pantry area.\n",
      "\n",
      "\n",
      "“It feels like a very shameful thing, and I guess being in a school environment, people gossip. I was really scared people would see me going to the counsellor and think something’s wrong with me,” he said.\n",
      "\n",
      "\n",
      "This thought was also triggered by a remark made by his teacher, even before he considered going for counselling. In year two at junior college, Marcus experienced a bad break-up, and while on an overseas school trip, he broke down in the hotel lobby. His teacher was alerted.\n",
      "\n",
      "\n",
      "“Basically, the teacher walked up to me and told me, ‘Actually, you shouldn’t beat yourself up over a girl. If you really can’t handle it, then I’ll give you the number of the school counsellor,’” recalled Marcus, now 21.\n",
      "\n",
      "\n",
      "Hearing this, he thought, “Am I just emotionally weak? If I go to the school counsellor, it kind of means I’m weaker than everyone else.”\n",
      "\n",
      "\n",
      "But because he was “screwed up”, he decided he could use some help from the counsellor, even if it felt “lame” and “emasculating”.\n",
      "\n",
      "\n",
      "Some students also said efforts to inform students about school counselling felt “almost like an afterthought”.\n",
      "\n",
      "\n",
      "“Whenever the school mentions (it), it’s always very briefly, at the bottom of the (presentation) slide. ‘Oh, by the way, we have a school counsellor, this is the number, the email. Then okay, next slide,’” Ms Chew said.\n",
      "\n",
      "\n",
      "Others said the counsellor’s office was “tucked away on an upper floor of the school” or “just some room next to the vice-principal’s office”, so it hardly felt prominent, much less welcoming.\n",
      "\n",
      "\n",
      "But in Ms Lee's secondary school, mental health did not seem a taboo, thanks to the counsellor’s efforts to de-stigmatise seeking help. There were “posters all around”, and the counsellor regularly went on stage during assembly to introduce herself and say how she could be reached.\n",
      "\n",
      "\n",
      "She also walked around school, especially during recess, and smiled or waved at students she knew. If they gave any indication of being open to talk, she would walk up and check in with them.\n",
      "\n",
      "\n",
      "“Most of the students knew that she was a school counsellor, and they were all very open to her talking to students and being around,” Ms Lee said.\n",
      "\n",
      "\n",
      "RATIO OF COUNSELLORS TO STUDENTS\n",
      "\n",
      "\n",
      "After her mixed experiences with school counselling, her heart still goes out to the counsellors “because they’re trying their best”. With “one, at most two” counsellors serving a cohort of 800 to 1,000 students, she “understands the mental burnout”.\n",
      "\n",
      "\n",
      "“At this age, 13 to 18, it’s the period when teens go through the most mental instability, like stress and social anxiety. And pressures really get to them, maybe because their brain hasn’t developed yet or whatever,” she said.\n",
      "\n",
      "\n",
      "“That’s … when, I feel, the most help needs to go out to students. But looking at the numbers alone, it’s so inadequate.”\n",
      "\n",
      "\n",
      "On July 27, in the wake of the River Valley High School incident, Education Minister Chan Chun Sing said in a ministerial statement that all schools now have at least one school counsellor, while some have two.\n",
      "\n",
      "\n",
      "“Where feasible, we’ll recruit more school counsellors or ‘re-role’ suitable educators, to augment the counselling support network,” he said.\n",
      "\n",
      "\n",
      "\n",
      "\n",
      "\n",
      "\n",
      "Teachers told CNA Insider that having one or two school counsellors is insufficient for their schools, especially with the “increasing volume of students who need mental health support”.\n",
      "\n",
      "\n",
      "“My school has two counsellors, and it’s not enough. They don’t just handle diagnosed mental health issues but all the other anxieties and misbehaviours daily, from all sorts of students who may just be having a bad day,” said Cindy*, a secondary school teacher.\n",
      "\n",
      "\n",
      "Ex-teacher Rachel said school counsellors’ heavy caseloads have resulted in a prioritisation of “urgent cases”, like those with suicidal tendencies, over others.\n",
      "\n",
      "\n",
      "“It makes sense, but there are students who are struggling with social interactions, for example, which are important too. And these things can build up and escalate,” she said.\n",
      "\n",
      "\n",
      "“I know they’re doing their best already, but there isn’t enough of them to manage.”\n",
      "\n",
      "\n",
      "Another teacher, David*, is at a school with a population of “about 900 to 1,000” and one school counsellor available. “Even if we increase to two counsellors, we’re still talking about one counsellor to 400, 500 students,” he said.\n",
      "\n",
      "\n",
      "Noting that school counsellors often go above and beyond to care for students, he cited how his school counsellor walked one of his students with mental health issues to class every day to build trust and help her overcome her anxiety.\n",
      "\n",
      "\n",
      "“One case already takes a lot of energy,” said David.\n",
      "\n",
      "\n",
      "Compared to other developed countries, Singapore’s ratio of students to counsellors appears to occupy a lower rung. Research last year showed that schools in Ireland with more than 500 students must have one school counsellor per every 250 students, like in the United States.\n",
      "\n",
      "\n",
      "Some schools in Singapore, however, may have more school counsellors than others. Mr Koh, who was a counsellor at an Integrated Programme school for 10 years, said there was a team of seven counsellors to a cohort of 4,300.\n",
      "\n",
      "\n",
      "That is a ratio of one to 600, which he felt was already “overwhelming” at times. “It’s mentally tiring. All you need to have is one student who has depression — it’d suck the life out of you,” he said.\n",
      "\n",
      "\n",
      "He eventually left his job owing to the “trauma” of encountering “too many” suicide cases in and out of school. “It takes its toll on you,” he said. “I needed to disconnect for my own well-being,”\n",
      "\n",
      "\n",
      "Even so, he acknowledged that he was “privileged” to have worked in a team of counsellors as it offered more choices to students.\n",
      "\n",
      "\n",
      "“It’s like seeing a doctor, right? All doctors are trained, but sometimes you go to one doctor, and you don’t find him helpful. Then you go to the next doctor down the road, you get the same medication, but something is different,” he said.\n",
      "\n",
      "\n",
      "“The benefit of having a pool of counsellors (is having) different modalities, different styles, different personalities … So a student who may not quite work well with me can find another counsellor whom (he or she) can connect better with.”\n",
      "\n",
      "\n",
      "David agreed as he has had a few students who have reflected that they had negative experiences with the school counsellor.\n",
      "\n",
      "\n",
      "“Counselling is a very intimate kind of relationship. Sometimes it’s just personality differences, (but) if they don’t like it, it becomes a bad experience for them. That’s the disadvantage of having only one school counsellor in the school,” he said.\n",
      "\n",
      "\n",
      "“If they have a bad experience, they won’t be so keen to explore counselling again.”\n",
      "\n",
      "\n",
      "​​​​​​​EFFECTIVENESS OF TEACHER-COUNSELLORS\n",
      "\n",
      "\n",
      "As part of plans to strengthen schools’ capabilities, the Ministry of Education (MOE) aims to deploy more than 1,000 teacher-counsellors in the next few years, up from the 700-plus in schools now.\n",
      "\n",
      "\n",
      "Teacher-counsellors are teachers who have received additional training so they can help students who are dealing with more challenging social-emotional problems, such as grief and loss.\n",
      "\n",
      "\n",
      "Speaking in Parliament this week, Mr Chan said: “Some of (the new teacher-counsellors) will volunteer, and some of them will be identified to take on additional training to become teacher-counsellors\n",
      "\n",
      "\n",
      "“Instead of teaching two subjects, they may reduce the load of teaching … to even become one subject. But they take on the additional responsibilities within the school to help in the counselling service provided.”\n",
      "\n",
      "\n",
      "While having more teacher-counsellors may help to take some load off school counsellors, experts CNA Insider spoke to said playing a dual role can be “conflicting” for teachers sometimes.\n",
      "\n",
      "\n"
     ]
    },
    {
     "name": "stdout",
     "output_type": "stream",
     "text": [
      "“Though there are similarities (between both roles) like caring for another person, the manner of it is very different. For teachers, the most well-developed (skills are) sharing and educating,” said Counselling and Care Centre therapist Charlotte Chen.\n",
      "\n",
      "\n",
      "“(For) a counsellor, one of the most foundational skills is the ability to listen empathically to the essence of what the person is saying, and also to observe the effect of the conversation on the other.”\n",
      "\n",
      "\n",
      "She added that it will be a “real challenge” for teachers to “switch hats” and hold back on sharing, even if well-intentioned.\n",
      "\n",
      "\n",
      "Mr Koh observed that even though the school he was with had teacher-counsellors, more students chose to see school counsellors for help.\n",
      "\n",
      "\n",
      "“I think students still struggle, (thinking), ‘But this is my teacher? This teacher teaches this subject … I don't really want that,’” he said.\n",
      "\n",
      "\n",
      "This was echoed by former Nominated Member of Parliament (NMP) Anthea Ong, who advocated prioritising mental health during the Budget 2020 debate.\n",
      "\n",
      "\n",
      "“The question to ask here is: What’s the primary role of our teachers in schools? If they see their primary role as competency-giving, competency may sometimes be in conflict with students’ well-being,” she told CNA Insider.\n",
      "\n",
      "\n",
      "“If you aren’t competent (academically), you’re sometimes made to feel terrible in class — and sometimes unintentionally by the teachers.”\n",
      "\n",
      "\n",
      "Recalling her time as a teacher, Rachel said the biggest “pressure” came from having to keep her students’ grades up.\n",
      "\n",
      "\n",
      "“I remember a few departments were called down to the principal’s office because those subjects didn’t do well (in examinations),” she cited. “If your class didn’t do well, there was something you did wrong.”\n",
      "\n",
      "\n",
      "Although there have been efforts to reduce the emphasis on academic results, such as the reduction in the number of examinations and assessments and, most recently, the removal of Common Last Topics from this year’s N, O and A level exams and year-end school exams, Rachel said the need for testing is “ingrained in parents”.\n",
      "\n",
      "\n",
      "\n",
      "\n",
      "\n",
      "\n",
      "And rather than wearing many hats, Cindy emphasised that “teaching itself is already a full-time job”, something she would like to be able to excel in “because that’s what I signed up for,” she said.\n",
      "\n",
      "\n",
      "Joyce* concurred, saying that she will never choose to be a teacher-counsellor. “I chose to teach history because I’m good at it, and I love it. You wouldn’t ask a counsellor to teach history on the side, right?”\n",
      "\n",
      "\n",
      "David, on the other hand, sees the benefits of equipping himself with the basics of counselling.\n",
      "\n",
      "\n",
      "“For most teachers, you’d have some form of relationship with the students. I think going for it is a good thing … so that I can have a better journey with my students,” he said.\n",
      "\n",
      "\n",
      "According to him, teachers selected to become teacher-counsellors attend “a full five-day course”, which he wanted to go for when it was offered to him. But he could not, owing to his heavy workload.\n",
      "\n",
      "\n",
      "​​​​​​​TEACHING AND COUNSELLING ROLES BLURRED\n",
      "\n",
      "\n",
      "As it is, however, some teachers who are not teacher-counsellors have already been acting as counsellors if students are more comfortable talking to them, Cindy said.\n",
      "\n",
      "\n",
      "“It falls on the teacher to do the follow-up on their mental well-being, as well as triangulate with the parent. We end up wearing many hats: Teacher of knowledge but also a teacher of values and social well-being, and also a teacher-as-caregiver.”\n",
      "\n",
      "\n",
      "So when Mr Chan said in his parliamentary speech that all teachers will receive enhanced professional development on mental health literacy “as a baseline”, to further strengthen teachers’ abilities to identify and support students in need, some teachers CNA Insider spoke to questioned if the “burden” of taking care of students’ mental well-being should fall solely on their shoulders.\n",
      "\n",
      "\n",
      "In an email response to CNA Insider’s queries, the MOE said that the enhanced efforts will include areas such as understanding and recognising symptoms related to common mental health issues and suicide, strategies to de-escalate strong emotions and impulsive behaviour, and facilitating classroom conversations on mental health with sensitivity.\n",
      "\n",
      "\n",
      "“The new measures come from the underlying assumption that teachers have, or could be equipped with, the ability to diagnose and competently deal with students with mental health issues under our charge,” said Cindy, a secondary school teacher.\n",
      "\n",
      "\n",
      "“With poorly defined boundaries of where a teacher’s role begins and ends with regards to mental health, the culpability in the case of a repeat incident will fall onto teachers,” she added.\n",
      "\n",
      "\n",
      "Ideally, teachers and school counsellors would interact in a symbiotic relationship, said Inner Light Psychological Services clinical psychologist Tracie Lazaroo.\n",
      "\n",
      "\n",
      "She explained that both teachers and school counsellors act as “gatekeepers”, but they possess “unique resources” that will help with their students’ well-being.\n",
      "\n",
      "\n",
      "“Teachers are equipped with unique student-related knowledge including how they have been performing in class, their temperament, behavioral tendencies and level of interaction with other students,” Dr Lazaroo said.\n",
      "\n",
      "\n",
      "According to the MOE, teachers are trained to engage students to understand their issues, but should refer them to school counsellors should they need “extensive support”.\n",
      "\n",
      "\n",
      "Counsellors, Dr Lazaroo said, would be equipped with “more in-depth interviewing skills”. They would also be able to “create support strategies for the student” and make referrals to community services for long-term support.\n",
      "\n",
      "\n",
      "Hence, some teachers, like Joyce, feel like even with additional training, they can never be fully equipped to take care of students’ mental health, or that there is a limit to what they can do.\n",
      "\n",
      "\n",
      "“You care for them, you truly do care for them. And it breaks your heart to see them in this position. (But) we all have different thresholds and once you pass that, I'm like, I don't know what to do. I don't know what to say,” said Joyce, who teaches in a secondary school.\n",
      "\n",
      "\n",
      "“Genuinely, I'm only comfortable to a certain extent. I just don't have the eloquence to phrase things in a way that would help a person and I think it’s a skill to be able to talk about (mental health) in a way that's helpful to a teenager.”\n",
      "\n",
      "\n",
      "“That’s a skill that counsellors have.”\n",
      "\n",
      "\n",
      "Cindy agreed, noting that the expectation that teachers should be utilised to tackle mental health “hints at a more systemic issue regarding the perception of teachers and their duties”.\n",
      "\n",
      "\n",
      "“As much as we wish we have the capacity to do everything that is asked of us, the reality is that the more roles we take on, the worse we are going to perform across all of them.”\n",
      "\n",
      "\n",
      "‘TEACHING IS JUST 20 PER CENT OF THE JOB’\n",
      "\n",
      "\n",
      "The most common grievance for teachers who spoke to CNA Insider is having to care for students’ well-being on top of a crushing workload.\n",
      "\n",
      "\n",
      "“The preparation for work was tough and then it’s worse when you have so many students - having to keep track of their work, keep track of their well-being, and even just their names sometimes,” said Rachel, who had had eight classes of 40 kids at one point.\n",
      "\n",
      "\n",
      "In her Facebook post, Mdm Halimah also said that for teachers already overloaded with work, it is not possible for them to \"delve deeply\" into the issues affecting one child as that would require close monitoring, observation and engagement.\n",
      "\n",
      "\n",
      "As for teacher-counsellors, Rachel observed that even though those in her school were “slightly offloaded” in terms of teaching responsibilities, there were still “a lot of backend” things that they had to attend to.\n",
      "\n",
      "\n",
      "“I always tell people that teaching is really just 20 per cent of the job. The rest is administrative, like doing lesson plans, classroom management and marking.”\n",
      "\n",
      "\n",
      "“Even if you have less classes to teach, when it comes to marking papers, testing exams, everybody has their load.”\n",
      "\n",
      "\n",
      "David also questioned if teacher-counsellors can successfully juggle the dual role if the number of teachers in a school does not increase - especially when there is subject-based banding in school.\n",
      "\n",
      "\n",
      "Subject-based banding was introduced in 2019, where students will take subjects at a higher or lower level based on their strengths.\n",
      "\n",
      "\n",
      "\n",
      "\n",
      "\n",
      "\n",
      "“More banded classes means you’ll need more teachers. It’s not going to be easy to offload teachers to really focus on being a teacher-counsellor.”\n",
      "\n",
      "\n",
      "Additionally, what is “missing from the conversation” of mental health in schools is the mental well-being of teachers, Cindy shared.\n",
      "\n",
      "\n",
      "“Mental health issues among teachers are very present, yet rarely talked about … I don’t see how we can create a safe space to discuss mental health issues when we ourselves are situated in an environment that discourages it,” she said.\n",
      "\n",
      "\n",
      "Another teacher, who also declined to be named, described the mental health of teachers to be “a very sad affair right now”.\n",
      "\n",
      "\n",
      "\"Despite all the positive media coverage of our successful pivot to home-based learning (HBL), the reality is that we’re struggling in schools to keep pace with the ever-changing Safe Management Measures, oscillations between HBL and physical lessons, and the perennial need to still keep apace with the syllabus.”\n",
      "\n",
      "\n",
      "“It’s a whole new workload altogether and I think at this point teachers are just barely managing.”\n",
      "\n",
      "\n",
      "Ms Ong urged that “we must not look at the student’s mental well-being without looking at the teacher's well-being” as well.\n",
      "\n",
      "\n",
      "“A student who is not well affects the wellbeing of a teacher and a teacher who is not well will also affect the students. These two things need to be looked at in totality.”\n",
      "\n",
      "\n",
      "WHAT WOULD MAKE COUNSELLING A VIABLE OPTION?\n",
      "\n",
      "\n",
      "One 19-year-old student, who wishes to be anonymous, suggested offering students email or phone call services like what is done at Samaritans of Singapore, such that students who are afraid of physical sessions may have an option.\n",
      "\n",
      "\n",
      "She also suggested having routine mental health checkups, such that students who may be afraid to walk into the counsellor’s room have a space to speak up under the guise of a formal school event.\n",
      "\n",
      "\n",
      "Some schools, like Marcus’ junior college, have school leaders offering peer support. Marcus, who holds a leadership position himself, was taught some techniques on how to spot students who might need mental health support or what to do when a student confides in him.\n",
      "\n",
      "\n",
      "“I think that’s also a very important part because ultimately, most people turn to their peers when they are facing issues,” he said. “And it definitely would help to get students to know how to help each other, and in really serious cases to flag it out.”\n",
      "\n",
      "\n",
      "But he admits that the job can be overwhelming, especially with the already heavy academic stress and workload.\n",
      "\n",
      "\n",
      "Above all, all students CNA Insider spoke to echo making school counselling more approachable, with a strong emphasis on confidentiality.\n",
      "\n",
      "\n",
      "“If there’s no approachability then no one would even see the school counsellor,” said Ms Lee. It starts with making the counsellor more visible to students, she said. “If you don’t know how to see the school counsellor, you might not want to ask the teacher for fear of judgement.”\n",
      "\n",
      "\n",
      "And while there may be a mismatch in expectations in seeing a school counsellor, another student, Ms Chew, shared that it is helpful for students to share what they hope to achieve out of counselling. But not all students may have the self-awareness or knowledge to do so, she said.\n",
      "\n",
      "\n",
      "“These are students, it’s probably their first time starting this kind of thing. So I hope that (school counsellors) will be the ones taking the lead in asking the students, guiding the students to realize what they want,” she said.\n",
      "\n",
      "\n",
      "MORE TRAINING FOR SCHOOL COUNSELLORS?\n",
      "\n",
      "\n",
      "Other than the lack of resources in schools, Mdm Halimah also said that school counsellors “may not be well-trained on issues affecting mental health”.\n",
      "\n",
      "\n",
      "In the 2013 American Counselling Association report on the counselling landscape in Singapore, it also noted that while there are increasing numbers of individuals entering the field with basic training, there is “limited opportunity for high quality clinical supervision”.\n",
      "\n",
      "\n",
      "In its email response, the MOE said that school counsellors receive monthly professional supervision, peer support group sessions and individual clinical supervision from lead school counsellors.\n",
      "\n",
      "\n",
      "“These have been continuing via online platforms in the midst of COVID-19 restrictions.”\n",
      "\n",
      "\n",
      "The MOE added that school counsellors also deepen their knowledge through workshops and courses such as “suicide assessment and intervention, psychological first aid, addiction, child abuse or family violence, and multicultural issues”.\n",
      "\n",
      "\n",
      "Even with the measures in place, Ms Chen questioned if the current clinical supervision that school counsellors have access to is sufficient, especially when “they probably already don’t have many colleagues to bounce off” ideas and experience, as most schools only have one school counsellor.\n",
      "\n",
      "\n",
      "At Counselling and Care Centre, she conducts supervised training for professionals in the field and she has been working with some school counsellors who want to seek “extra supervision”.\n",
      "\n",
      "\n",
      "“We often encourage them to record their sessions - with the permission of their students - and showcase segments of their work so we can really look at the skills.”\n",
      "\n",
      "\n",
      "From her experience working with school counsellors, she noticed that it is “really hard” for them to get more support and training to improve their skills when they have heavy caseloads and are constantly “firefighting with higher risk cases”.\n",
      "\n",
      "\n",
      "“In this line of work, we can’t just rely on our degrees. There’s so much more conversation that needs to be carried out to support professionals in working effectively with people,” she added.\n",
      "\n",
      "\n",
      "“The most dangerous thing is when practitioners practice on their own.”\n",
      "\n",
      "\n",
      "CHANGING PERCEPTIONS OF MENTAL HEALTH\n",
      "\n",
      "\n",
      "In schools, there is the Character & Citizenship Education (CCE), which this year had a refreshed syllabus that gives more focus on mental wellness and peer support. But teachers find that it is merely “scratching the surface”.\n",
      "\n",
      "\n",
      " \n",
      "\n",
      "\n",
      " \n",
      "\n",
      "\n",
      "“The reality of the execution is … it might not always work because kids are tired (from other classes). They don’t want to hear me talk about how to be a good person. It’s not something that you can learn by sitting down and listening,” said Joyce.\n",
      "\n",
      "\n",
      "Rachel added: “Teachers are so busy teaching other lessons that during CCE lessons, we just literally deliver whatever the school gives us. It’s really hard to engage the kids in a manner that is real and that they can fully relate to.”\n",
      "\n",
      "\n",
      "This is why she also felt that her students took CCE as “a joke”.\n",
      "\n",
      "\n",
      "“Students don't feel like they can ask anything. It's very hard in a group of 40 - not every child wants to speak up, not every child wants to engage. Whereas if you had smaller groups, it’ll be more intimate.”\n",
      "\n",
      "\n",
      "While part of the refreshed CCE syllabus teaches “resilience and social-emotional well-being” - which includes having a sense of gratitude and appreciation - Cindy felt that it perpetuates “toxic positivity”.\n",
      "\n",
      "\n",
      "“Before we get to resilience there are so many other logical steps a person struggling with his or her mental health can go through - acceptance, for example. We really can't teach resilience through CCE. Inspiring videos and powerpoint slides can only go so far,” she said.\n",
      "\n",
      "\n",
      "Perhaps, beyond improving ratios and the quality of care, it is an attitudinal shift that is needed in taking care of students’ - and even teachers’ - mental health.\n",
      "\n",
      "\n",
      "“We need to be mindful of using mental resilience and mental well-being interchangeably. We really need to stop talking about resilience as if (poor mental health) is just something to snap out of,” said Ms Ong.\n",
      "\n",
      "\n",
      "“There isn’t a strength more powerful than being able to deal with your own vulnerability, and I think we understate that.”\n",
      "\n",
      "\n",
      "Where to get help:\n",
      "\n",
      "\n",
      "Samaritans of Singapore Hotline: 1800 221 4444\n",
      "\n",
      "\n",
      "Institute of Mental Health’s Helpline: 6389 2222\n",
      "\n",
      "\n",
      "Singapore Association for Mental Health Helpline: 1800 283 7019\n",
      "\n",
      "\n",
      "You can also find a list of international helplines here. If someone you know is at immediate risk, call 24-hour emergency medical services.\n",
      "\n",
      "\n"
     ]
    }
   ],
   "source": [
    "# need to load article before running function\n",
    "cna1 = scrape_text_CNA('https://www.channelnewsasia.com/cnainsider/school-counselling-challenge-safeguard-student-mental-health-2081496')\n",
    "for i in range(len(cna1)):\n",
    "    print(cna1[i].text)\n",
    "    print('\\n')"
   ]
  },
  {
   "cell_type": "code",
   "execution_count": null,
   "metadata": {},
   "outputs": [
    {
     "name": "stdout",
     "output_type": "stream",
     "text": [
      "Number of errors =  164\n",
      "Number of words =  31856\n",
      "Percentage of language error =  0.5148166750376695\n"
     ]
    }
   ],
   "source": [
    "check_language_error(cna1)"
   ]
  },
  {
   "cell_type": "code",
   "execution_count": null,
   "metadata": {
    "scrolled": false
   },
   "outputs": [
    {
     "name": "stdout",
     "output_type": "stream",
     "text": [
      "Total count of capitalised first words:  264\n",
      "Total number of sentences:  268\n",
      "Percentage:  98.50746268656717\n"
     ]
    }
   ],
   "source": [
    "caps_cna_1 = []\n",
    "total_count_cna1 = 0\n",
    "total_numSentences_cna1 = 0\n",
    "\n",
    "for i in range(len(cna1)):\n",
    "    caps_cna_1 += [cna1[i].text]\n",
    "\n",
    "for i in range(len(caps_cna_1)):\n",
    "    (count, numSentences) = checkFirstWordCapitalised(caps_cna_1[i])\n",
    "    total_count_cna1 += count\n",
    "    total_numSentences_cna1 += numSentences\n",
    "\n",
    "print(\"Total count of capitalised first words: \", total_count_cna1)\n",
    "print(\"Total number of sentences: \", total_numSentences_cna1)\n",
    "print(\"Percentage: \", (total_count_cna1/total_numSentences_cna1) * 100)\n",
    "\n",
    "# analysis: first sentence - caption\n"
   ]
  },
  {
   "cell_type": "code",
   "execution_count": null,
   "metadata": {},
   "outputs": [
    {
     "name": "stdout",
     "output_type": "stream",
     "text": [
      "Total count of non-capitalised capitalised pronouns:  9\n",
      "Total number of pronouns:  216\n",
      "Percentage:  4.166666666666666\n"
     ]
    }
   ],
   "source": [
    "pronoun_cna1 = []\n",
    "pronoun_count_cna1 = 0\n",
    "total_pronoun_cna1 = 0\n",
    "\n",
    "for i in range(len(cna1)):\n",
    "    pronoun_cna1 += [cna1[i].text]\n",
    "\n",
    "for i in range(len(pronoun_cna1)):\n",
    "    (count, numSentences) = checkProperNounCapitalised(pronoun_cna1[i], nlp)\n",
    "    pronoun_count_cna1 += count\n",
    "    total_pronoun_cna1 += numSentences\n",
    "\n",
    "print(\"Total count of non-capitalised capitalised pronouns: \", pronoun_count_cna1)\n",
    "print(\"Total number of pronouns: \", total_pronoun_cna1)\n",
    "print(\"Percentage: \", (pronoun_count_cna1/total_pronoun_cna1) * 100)"
   ]
  },
  {
   "cell_type": "markdown",
   "metadata": {},
   "source": [
    "##### CNA #2\n",
    "\n",
    "Article Name: Commentary: China's smackdown on corporate giants may be a start of national rebuilding\n",
    "\n",
    "Website: https://www.channelnewsasia.com/commentary/china-ant-group-alibaba-didi-crackdown-tech-ipo-2149091"
   ]
  },
  {
   "cell_type": "code",
   "execution_count": null,
   "metadata": {},
   "outputs": [
    {
     "name": "stdout",
     "output_type": "stream",
     "text": [
      "BANGKOK: In recent years, China’s digital economy has seemed like a house undergoing full-scale renovation. At this moment, it appears to be in the demolition stage.\n",
      "\n",
      "\n",
      "In a series of regulatory smackdowns, the magnitude ranging from sledgehammers to wrecking balls, Beijing has appeared willing to lay waste to entire industries and billion-dollar firms in the interest of rebuilding much of the country’s technology and Internet sectors to align with its objectives.\n",
      "\n",
      "\n",
      "Thus far, casualties have included Ant Group, whose planned initial public offering (IPO) in November 2020 was set to be the largest in history until authorities slammed the brakes and imposed rules forcing the fintech giant to restructure much of its business. \n",
      "\n",
      "\n",
      "After the ride-hailing company Didi Global reportedly ignored warnings not to go through with its June public offering in the United States, Beijing responded swiftly with a thorough probe of the firm’s data security practices, ordering the removal of Didi apps and mini-programmes by the country’s major Internet platforms. \n",
      "\n",
      "\n",
      "Yet, Ant and Didi seem to be enjoying far more favourable circumstances than China’s private and online education providers, who now face what appears to be a virtual ban on their entire industry. \n",
      "\n",
      "\n",
      "As speculation intensifies as to which sector may be next, investors in healthcare to real estate to gaming are all spooked.\n",
      "\n",
      "\n",
      "Authorities in Beijing look to be unleashing an all-out barrage on the country’s largest digital and private-sector players. And the current manoeuvres are not without method. \n",
      "\n",
      "\n",
      "The demolition and potential reconstruction of China’s digital economy is being undertaken through various bureaucratic entities within the apparatus of the state, yet the interests of those entities are known to both align and conflict with one another.\n",
      "\n",
      "\n",
      "Consequentially, there is now a rapidly expanding list of state regulatory agencies that find themselves with expanding budgets, scale and power to accomplish their aims. Some of the most prominent include the Cyberspace Administration of China (CAC), the State Administration for Market Regulation (SAMR) and the People’s Bank of China (PBOC).\n",
      "\n",
      "\n",
      "Founded in 2011, CAC, China’s Internet watchdog, has largely served the role of policing the country’s heavily censored online content. However, as the Internet has grown in prominence, so has the CAC. \n",
      "\n",
      "\n",
      "With what appears to be an expanding mandate in overseeing data and network security, the CAC’s role in Didi’s IPO debacle may have set a new precedent, ensuring that any of the country’s tech firms hoping to go public can only do so with the CAC’s approval.      \n",
      "\n",
      "\n",
      "According to industry observers, the CAC’s move is part of a long-term process of establishing a secure quasi-public infrastructure system for controlling China’s data that limits monopolistic behaviour by tech giants, making room for innovation and competitive disruption.\n",
      "\n",
      "\n",
      "As China’s top market regulator, SAMR has demonstrated its ability to wield wide-ranging authority over the country’s private sector through an expansive interpretation of anti-trust law. \n",
      "\n",
      "\n",
      "Founded in 2018 through the merger of three existing agencies, Beijing’s new super-regulator is perhaps most famous for fining online commerce company Alibaba US$2.8 billion for its anti-competitive “forced exclusivity” practices and for blocking the merger of Huya and DouYu, two US-listed gaming platforms.  \n",
      "\n",
      "\n",
      "For much of the last decade, China experienced a historic flowering of its fintech industry. As Alibaba and Tencent’s online platforms facilitated cashless transactions and digital lending with ease, the country’s startup ecosystem boomed with seemingly countless ventures in areas such as peer-to-peer lending and blockchain technology.\n",
      "\n",
      "\n",
      "Yet as such explosive growth often circumvented China’s notoriously sluggish state banks, it posed a challenge to the PBOC’s control over the country’s financial and monetary systems. Partly spurred on by a series of scandals in the later years of China’s fintech bubble, the PBOC has spent much of the past few years regaining control over the economy from the tech sector. \n",
      "\n",
      "\n",
      "Its highly publicised investigation of Ant Group following the firm’s cancelled IPO is one of a number of recent actions that send a clear signal about who in fact is the master of the yuan.\n",
      "\n",
      "\n",
      "Though much of Beijing’s beefed-up regulatory enforcement has been targeted at the tech sector, emphasising data security, anti-trust and fintech, there are signs that this may be merely the beginning of widespread regulatory scrutiny and restructuring across the private sector and economy as a whole.\n",
      "\n",
      "\n",
      "President Xi Jinping appears to be envisioning a stage in China’s development that some observers have compared to America’s progressive era under Theodore Roosevelt: A period of wealth redistribution to correct the excesses of a “gilded age”. \n",
      "\n",
      "\n",
      "In a highly publicised Aug 17 meeting, Xi spoke of a need to restrain “unreasonable income”, hike wages and grow the middle class, signalling that an expanded taxation regime and further curbs on corporate power (and expansion of regulatory power) are likely to come.\n",
      "\n",
      "\n",
      "The long-term stated objectives of Xi and his regulatory forces are ambitious and admirable. However, as in the case of any home renovation, to demolish requires a very different set of skills and tools than to rebuild. \n",
      "\n",
      "\n",
      "For the near-decade he has spent in charge, Xi has used the tools of state power to demolish many of the components of China’s reform and opening-up policy.\n",
      "\n",
      "\n",
      "The vibrant yet chaotic economic environment that prioritised growth has become a casualty of Xi’s anti-corruption campaigns, replacing a culture of greed with one of fear. \n",
      "\n",
      "\n",
      "The flexible approach that allowed Hong Kong to be one of the most socially and economically dynamic regions on the planet is now a thing of the past for one of the world’s great cosmopolitan cities.\n",
      "\n",
      "\n",
      "“Wolf warrior” diplomacy has wiped out much of the goodwill that China had built over decades among the international community.\n",
      "\n",
      "\n",
      "There have been numerous leaders throughout history who have taken power over flawed systems and torn down their institutions with the promise of building something better in their place. \n",
      "\n",
      "\n",
      "What many have found is that it is much more difficult to rebuild functional systems than it is to control or demolish those which already exist, and that China's regulatory organs are far better suited to the latter.\n",
      "\n",
      "\n",
      "It appears, from evidence including the recent smackdown on China’s tech and education firms, that China is more than willing to lay waste to the institutions and dynamics that have powered the country’s success. \n",
      "\n",
      "\n",
      "We have yet to see if it can rebuild them, or if China is just killing the golden geese of its economic miracle.\n",
      "\n",
      "\n",
      "Elliott Zaagman is a writer, speaker and executive coach who focuses on how China and its organisations engage the world. This commentary first appeared on the Lowy Institute’s blog The Interpreter.\n",
      "\n",
      "\n"
     ]
    }
   ],
   "source": [
    "# need to load article before running function\n",
    "cna2 = scrape_text_CNA('https://www.channelnewsasia.com/commentary/china-ant-group-alibaba-didi-crackdown-tech-ipo-2149091')\n",
    "for i in range(len(cna2)):\n",
    "    print(cna2[i].text)\n",
    "    print('\\n')"
   ]
  },
  {
   "cell_type": "code",
   "execution_count": null,
   "metadata": {},
   "outputs": [
    {
     "name": "stdout",
     "output_type": "stream",
     "text": [
      "Number of errors =  24\n",
      "Number of words =  6902\n",
      "Percentage of language error =  0.34772529701535787\n"
     ]
    }
   ],
   "source": [
    "check_language_error(cna2)"
   ]
  },
  {
   "cell_type": "code",
   "execution_count": null,
   "metadata": {},
   "outputs": [
    {
     "name": "stdout",
     "output_type": "stream",
     "text": [
      "Total count of capitalised first words:  38\n",
      "Total number of sentences:  38\n",
      "Percentage:  100.0\n"
     ]
    }
   ],
   "source": [
    "caps_cna_2 = []\n",
    "total_count_cna2 = 0\n",
    "total_numSentences_cna2 = 0\n",
    "\n",
    "for i in range(len(cna2)):\n",
    "    caps_cna_2 += [cna2[i].text]\n",
    "\n",
    "for i in range(len(caps_cna_2)):\n",
    "    (count_cna2, numSentences_cna2) = checkFirstWordCapitalised(caps_cna_2[i])\n",
    "    total_count_cna2 += count_cna2\n",
    "    total_numSentences_cna2 += numSentences_cna2\n",
    "\n",
    "print(\"Total count of capitalised first words: \", total_count_cna2)\n",
    "print(\"Total number of sentences: \", total_numSentences_cna2)\n",
    "print(\"Percentage: \", (total_count_cna2/total_numSentences_cna2) * 100)"
   ]
  },
  {
   "cell_type": "code",
   "execution_count": null,
   "metadata": {},
   "outputs": [
    {
     "name": "stdout",
     "output_type": "stream",
     "text": [
      "Total count of non-capitalised capitalised pronouns:  3\n",
      "Total number of pronouns:  86\n",
      "Percentage:  3.488372093023256\n"
     ]
    }
   ],
   "source": [
    "pronoun_cna2 = []\n",
    "pronoun_count_cna2 = 0\n",
    "total_pronoun_cna2 = 0\n",
    "\n",
    "for i in range(len(cna2)):\n",
    "    pronoun_cna2 += [cna2[i].text]\n",
    "\n",
    "for i in range(len(pronoun_cna2)):\n",
    "    (count_cna2, numSentences_cna2) = checkProperNounCapitalised(pronoun_cna2[i], nlp)\n",
    "    pronoun_count_cna2 += count_cna2\n",
    "    total_pronoun_cna2 += numSentences_cna2\n",
    "\n",
    "print(\"Total count of non-capitalised capitalised pronouns: \", pronoun_count_cna2)\n",
    "print(\"Total number of pronouns: \", total_pronoun_cna2)\n",
    "print(\"Percentage: \", (pronoun_count_cna2/total_pronoun_cna2) * 100)"
   ]
  },
  {
   "cell_type": "markdown",
   "metadata": {},
   "source": [
    "##### StackOverflow #1\n",
    "\n",
    "Post Name: flutter app and woocommerce integration (add to cart function)\n",
    "\n",
    "Website: https://stackoverflow.com/questions/69235547/flutter-app-and-woocommerce-integration-add-to-cart-function"
   ]
  },
  {
   "cell_type": "code",
   "execution_count": null,
   "metadata": {},
   "outputs": [
    {
     "name": "stdout",
     "output_type": "stream",
     "text": [
      "i am trying to create flutter app with rest API to connect with woocommerce website.\n",
      "i modified the class-wc-rest-webhooks.php file so both website and flutter app can show the same data inside the cart(for example; i add 1 item to cart in website, then in flutter app also show 1 item inside my cart). however after i modified the class-wc-rest-webhooks.php file, my wordpress website become error with \"There has been a critical error on this website.\" error message.\n",
      "\n",
      "\n",
      "this is my code in the class-wc-rest-webhooks.php file\n",
      "\n",
      "\n",
      "please help me to solve this issue.\n",
      "thank you\n",
      "\n",
      "\n"
     ]
    }
   ],
   "source": [
    "# Scraping of Post Text\n",
    "soText_1 = scrape_text_stackoverflow('https://stackoverflow.com/questions/69235547/flutter-app-and-woocommerce-integration-add-to-cart-function')\n",
    "for i in range(len(soText_1)):\n",
    "    print(soText_1[i].text)\n",
    "    print('\\n')"
   ]
  },
  {
   "cell_type": "code",
   "execution_count": null,
   "metadata": {},
   "outputs": [
    {
     "name": "stdout",
     "output_type": "stream",
     "text": [
      "Number of errors =  13\n",
      "Number of words =  568\n",
      "Percentage of language error =  2.2887323943661975\n"
     ]
    }
   ],
   "source": [
    "check_language_error(soText_1)"
   ]
  },
  {
   "cell_type": "code",
   "execution_count": null,
   "metadata": {},
   "outputs": [
    {
     "name": "stdout",
     "output_type": "stream",
     "text": [
      "Total count of capitalised first words:  0\n",
      "Total number of sentences:  7\n",
      "Percentage:  0.0\n"
     ]
    }
   ],
   "source": [
    "caps_so_1 = []\n",
    "total_count_so1 = 0\n",
    "total_numSentences_so1 = 0\n",
    "\n",
    "for i in range(len(soText_1)):\n",
    "    caps_so_1 += [soText_1[i].text]\n",
    "\n",
    "for i in range(len(caps_so_1)):\n",
    "    (count_so1, numSentences_so1) = checkFirstWordCapitalised(caps_so_1[i])\n",
    "    total_count_so1 += count_so1\n",
    "    total_numSentences_so1 += numSentences_so1\n",
    "\n",
    "print(\"Total count of capitalised first words: \", total_count_so1)\n",
    "print(\"Total number of sentences: \", total_numSentences_so1)\n",
    "print(\"Percentage: \", (total_count_so1/total_numSentences_so1) * 100)"
   ]
  },
  {
   "cell_type": "code",
   "execution_count": null,
   "metadata": {},
   "outputs": [
    {
     "name": "stdout",
     "output_type": "stream",
     "text": [
      "Total count of non-capitalised capitalised pronouns:  3\n",
      "Total number of pronouns:  4\n",
      "Percentage:  75.0\n"
     ]
    }
   ],
   "source": [
    "pronoun_so1 = []\n",
    "pronoun_count_so1 = 0\n",
    "total_pronoun_so1 = 0\n",
    "\n",
    "for i in range(len(soText_1)):\n",
    "    pronoun_so1 += [soText_1[i].text]\n",
    "\n",
    "for i in range(len(pronoun_so1)):\n",
    "    (count_so1, numSentences_so1) = checkProperNounCapitalised(pronoun_so1[i], nlp)\n",
    "    pronoun_count_so1 += count_so1\n",
    "    total_pronoun_so1 += numSentences_so1\n",
    "\n",
    "print(\"Total count of non-capitalised capitalised pronouns: \", pronoun_count_so1)\n",
    "print(\"Total number of pronouns: \", total_pronoun_so1)\n",
    "print(\"Percentage: \", (pronoun_count_so1/total_pronoun_so1) * 100)"
   ]
  },
  {
   "cell_type": "code",
   "execution_count": null,
   "metadata": {},
   "outputs": [
    {
     "name": "stdout",
     "output_type": "stream",
     "text": [
      "<?php\n",
      " /**\n",
      " * REST API Webhooks controller\n",
      "  *\n",
      " * Handles requests to the /webhooks endpoint.\n",
      " *\n",
      " * @package Automattic/WooCommerce/RestApi\n",
      " * @since   2.6.0\n",
      " */\n",
      "\n",
      " defined( 'ABSPATH' ) || exit;\n",
      "\n",
      " /**\n",
      " * REST API Webhooks controller class.\n",
      " *\n",
      " * @package Automattic/WooCommerce/RestApi\n",
      " * @extends WC_REST_Webhooks_V2_Controller\n",
      " */\n",
      " class WC_REST_Webhooks_Controller extends WC_REST_Webhooks_V2_Controller {\n",
      "\n",
      "   /**\n",
      "    * Endpoint namespace.\n",
      "    *\n",
      "    * @var string\n",
      "    */\n",
      "    protected $namespace = 'wc/v3';\n",
      "\n",
      "   /**\n",
      "    * Get the default REST API version.\n",
      "    *\n",
      "    * @since  3.0.0\n",
      "    * @return string\n",
      "    */\n",
      "    protected function get_default_api_version() {\n",
      "       return 'wp_api_v3';\n",
      "    }\n",
      "\n",
      " protected $rest_base = 'custom';\n",
      "\n",
      " function woocomm_add_to_cart($param) {\n",
      "\n",
      "    global $wpdb;\n",
      "    $user_id = $param['user_id'];\n",
      "    wp_set_current_user($user_id);\n",
      "\n",
      "    $objProduct = new WC_Session_Handler();     \n",
      "    $wc_session_data = $objProduct->get_session($user_id);\n",
      "    \n",
      "     // Get the persistent cart may be _woocommerce_persistent_cart can be in your case check \n",
      "   in user_meta table\n",
      "    $full_user_meta = get_user_meta($user_id,'_woocommerce_persistent_cart_1', true);\n",
      "\n",
      "    if ( defined( 'WC_ABSPATH' ) ) {\n",
      "        // WC 3.6+ - Cart and other frontend functions are not included for REST requests.\n",
      "        include_once WC_ABSPATH . 'includes/wc-cart-functions.php';\n",
      "        include_once WC_ABSPATH . 'includes/wc-notice-functions.php';\n",
      "        include_once WC_ABSPATH . 'includes/wc-template-hooks.php';\n",
      "    }\n",
      "\n",
      "    if ( null === WC()->session ) {\n",
      "        $session_class = apply_filters( 'woocommerce_session_handler', 'WC_Session_Handler' );\n",
      "\n",
      "        WC()->session = new $session_class();\n",
      "        WC()->session->init();\n",
      "    }\n",
      "\n",
      "    if ( null === WC()->customer ) {            \n",
      "        WC()->customer = new WC_Customer( get_current_user_id(), true );\n",
      "    }\n",
      "    \n",
      "    if ( null === WC()->cart ) {\n",
      "        WC()->cart = new WC_Cart();\n",
      "\n",
      "        // We need to force a refresh of the cart contents from session here (cart contents are normally refreshed on wp_loaded, which has already happened by this point).\n",
      "        WC()->cart->get_cart();\n",
      "    }\n",
      "    \n",
      "    // create new Cart Object\n",
      "    $cartObj = WC()->cart;\n",
      "    \n",
      "    \n",
      "    // Add old cart data to newly created cart object\n",
      "    if($full_user_meta['cart']) {           \n",
      "        foreach($full_user_meta['cart'] as $sinle_user_meta) {              \n",
      "            $cartObj->add_to_cart( $sinle_user_meta['product_id'], $sinle_user_meta['quantity'], $sinle_user_meta['variation_id']  );\n",
      "        }\n",
      "    }\n",
      "\n",
      "    // Add product and quantities coming in request to the new cart object\n",
      "    if($param['products']){\n",
      "        WC()->cart->empty_cart();\n",
      "        foreach($param['products'] as $prod) {\n",
      "            $cartObj->add_to_cart( $prod['product_id'], $prod['quantity'], $prod['variation_id']  );                \n",
      "        }\n",
      "    }\n",
      "    \n",
      "    $updatedCart = [];\n",
      "    foreach($cartObj->cart_contents as $key => $val) {\n",
      "        unset($val['data']);\n",
      "        $updatedCart[$key] = $val;\n",
      "    }\n",
      "\n",
      "    // If there is a current session cart, overwrite it with the new cart\n",
      "    if($wc_session_data) {\n",
      "        $wc_session_data['cart'] = serialize($updatedCart);\n",
      "        $serializedObj = maybe_serialize($wc_session_data);\n",
      "\n",
      "\n",
      "        $table_name = 'wp_woocommerce_sessions';\n",
      "\n",
      "        // Update the wp_session table with updated cart data\n",
      "        $sql =\"UPDATE $table_name SET session_value= '\".$serializedObj.\"' WHERE  session_key = '\".$user_id.\"'\";\n",
      "\n",
      "        // Execute the query\n",
      "        $rez = $wpdb->query($sql);\n",
      "    }\n",
      "\n",
      "    \n",
      "    // Overwrite the persistent cart with the new cart data\n",
      "    $full_user_meta['cart'] = $updatedCart;\n",
      "\n",
      "    \n",
      "    $productsInCart = [];\n",
      "    foreach($cartObj->cart_contents as $cart_item) {                            \n",
      "         $product =  $cart_item['variation_id'] == 0 ? wc_get_product( $cart_item['product_id'] ) : wc_get_product( $cart_item['variation_id'] );\n",
      "         $image_id  = $product->get_image_id();\n",
      "         $image_url = wp_get_attachment_image_url( $image_id, 'full' );\n",
      "         $attributes =  $product->get_attributes();\n",
      "\n",
      "         $productsInCart[] = (object) [\n",
      "            \"product_id\" => $cart_item['product_id'],\n",
      "            \"product_name\" => wc_get_product( $cart_item['product_id'] )->get_name(),\n",
      "            \"product_regular_price\" => $product->get_regular_price(),\n",
      "            \"product_sale_price\" => $product->get_sale_price(),\n",
      "            \"thumbnail\" => $image_url,\n",
      "            \"qty\" => $cart_item['quantity'],\n",
      "            \"attribute\" => $attributes,             \n",
      "            \"line_subtotal\" => $cart_item['line_subtotal'],\n",
      "            \"line_total\" => $cart_item['line_total'],\n",
      "             \"variation_id\" => $cart_item['variation_id'],      \n",
      "          ];\n",
      "    }\n",
      "        \n",
      "    \n",
      "    update_user_meta(get_current_user_id(), '_woocommerce_persistent_cart_1', array('cart' => $updatedCart, ));         \n",
      "    \n",
      "    $response = [\n",
      "        'status' => true,\n",
      "        'data' =>  $full_user_meta['cart'] != null ?  $productsInCart : []          \n",
      "    ];\n",
      "\n",
      "    return rest_ensure_response($response);\n",
      "}\n",
      "\n",
      "function woocomm_cart_list($param) {\n",
      "    $user_id = $param['user_id'];\n",
      "    $objProduct = new WC_Session_Handler();\n",
      "\n",
      "    $wc_session_data = $objProduct->get_session($user_id);\n",
      "\n",
      "    // Get the persistent cart may be _woocommerce_persistent_cart can be in your case check in user_meta table\n",
      "    $full_user_meta = get_user_meta($user_id,'_woocommerce_persistent_cart_1', true);\n",
      "    \n",
      "    $productsInCart = [];\n",
      "    foreach($full_user_meta['cart'] as $cart_item) {                            \n",
      "         $product =  $cart_item['variation_id'] == 0 ? wc_get_product( $cart_item['product_id'] ) : wc_get_product( $cart_item['variation_id'] );\n",
      "         $image_id  = $product->get_image_id();\n",
      "         $image_url = wp_get_attachment_image_url( $image_id, 'full' );\n",
      "         $attributes =  $product->get_attributes();\n",
      "\n",
      "         $productsInCart[] = (object) [\n",
      "            \"product_id\" => $cart_item['product_id'],\n",
      "            \"product_name\" => wc_get_product( $cart_item['product_id'] )->get_name(),\n",
      "            \"product_regular_price\" => $product->get_regular_price(),\n",
      "            \"product_sale_price\" => $product->get_sale_price(),\n",
      "            \"thumbnail\" => $image_url,\n",
      "            \"qty\" => $cart_item['quantity'],\n",
      "            \"attribute\" => $attributes,             \n",
      "            \"line_subtotal\" => $cart_item['line_subtotal'] ?? 0,\n",
      "            \"line_total\" => $cart_item['line_total'] ?? 0,\n",
      "            \"variation_id\" => $cart_item['variation_id'],               \n",
      "          ];\n",
      "    }\n",
      "                \n",
      "    $response = [\n",
      "        'status' => true ,              \n",
      "        'data' =>  $full_user_meta['cart'] != null ?  $productsInCart : []      \n",
      "    ];\n",
      "\n",
      "    return rest_ensure_response($response);\n",
      "}\n",
      "\n",
      "public function register_routes() {\n",
      "    register_rest_route(\n",
      "        $this->namespace,\n",
      "        '/addtocart',\n",
      "        array(\n",
      "            'methods' => 'POST',\n",
      "            'callback' => array( $this, 'woocomm_add_to_cart' ),\n",
      "        )\n",
      "    );\n",
      "    \n",
      "    register_rest_route(\n",
      "        $this->namespace,\n",
      "        '/cart',\n",
      "        array(\n",
      "            'methods' => 'GET',\n",
      "            'callback' => array( $this, 'woocomm_cart_list' ),\n",
      "        )\n",
      "    );\n",
      "}\n",
      "}\n",
      "\n",
      "\n",
      "\n"
     ]
    }
   ],
   "source": [
    "# Scraping of Whole Code\n",
    "soCodeWhole_1 = scrape_code_stackoverflow('https://stackoverflow.com/questions/69235547/flutter-app-and-woocommerce-integration-add-to-cart-function')\n",
    "for i in range(len(soCodeWhole_1)):\n",
    "    print(soCodeWhole_1[i].text)\n",
    "    print('\\n')"
   ]
  },
  {
   "cell_type": "code",
   "execution_count": null,
   "metadata": {},
   "outputs": [
    {
     "name": "stdout",
     "output_type": "stream",
     "text": [
      "['php', '/**', 'REST', 'API', 'Webhooks', 'controller', 'Handles', 'requests', 'to', 'the', '/webhooks', 'endpoint', 'package', 'Automattic/WooCommerce/RestApi', 'since', '2.6.0', '*/', 'defined', \"'ABSPATH\", '||', 'exit', '/**', 'REST', 'API', 'Webhooks', 'controller', 'class', 'package', 'Automattic/WooCommerce/RestApi', 'extends', 'WC_REST_Webhooks_V2_Controller', '*/', 'class', 'WC_REST_Webhooks_Controller', 'extends', 'WC_REST_Webhooks_V2_Controller', '/**', 'Endpoint', 'namespace', 'var', 'string', '*/', 'protected', 'namespace', \"'wc/v3\", '/**', 'Get', 'the', 'default', 'REST', 'API', 'version', 'since', '3.0.0', 'return', 'string', '*/', 'protected', 'function', 'get_default_api_version', 'return', \"'wp_api_v3\", 'protected', 'rest_base', \"'custom\", 'function', 'woocomm_add_to_cart', 'param', 'global', 'wpdb', 'user_id', 'param', \"'user_id\", 'wp_set_current_user', 'user_id', 'objProduct', 'new', 'WC_Session_Handler', 'wc_session_data', 'objProduct-', 'get_session', 'user_id', '//', 'Get', 'the', 'persistent', 'cart', 'may', 'be', '_woocommerce_persistent_cart', 'can', 'be', 'in', 'your', 'case', 'check', 'in', 'user_meta', 'table', 'full_user_meta', 'get_user_meta', 'user_id', \"'_woocommerce_persistent_cart_1\", 'true', 'if', 'defined', \"'WC_ABSPATH\", '//', 'WC', '3.6+', 'Cart', 'and', 'other', 'frontend', 'functions', 'are', 'not', 'included', 'for', 'REST', 'requests', 'include_once', 'WC_ABSPATH', \"'includes/wc-cart-functions.php\", 'include_once', 'WC_ABSPATH', \"'includes/wc-notice-functions.php\", 'include_once', 'WC_ABSPATH', \"'includes/wc-template-hooks.php\", 'if', 'null', '===', 'WC', 'session', 'session_class', 'apply_filters', \"'woocommerce_session_handler\", \"'WC_Session_Handler\", 'WC', 'session', 'new', 'session_class', 'WC', 'session-', 'init', 'if', 'null', '===', 'WC', 'customer', 'WC', 'customer', 'new', 'WC_Customer', 'get_current_user_id', 'true', 'if', 'null', '===', 'WC', 'cart', 'WC', 'cart', 'new', 'WC_Cart', '//', 'We', 'need', 'to', 'force', 'a', 'refresh', 'of', 'the', 'cart', 'contents', 'from', 'session', 'here', 'cart', 'contents', 'are', 'normally', 'refreshed', 'on', 'wp_loaded', 'which', 'has', 'already', 'happened', 'by', 'this', 'point', 'WC', 'cart-', 'get_cart', '//', 'create', 'new', 'Cart', 'Object', 'cartObj', 'WC', 'cart', '//', 'Add', 'old', 'cart', 'data', 'to', 'newly', 'created', 'cart', 'object', 'if', 'full_user_meta', \"'cart\", 'foreach', 'full_user_meta', \"'cart\", 'as', 'sinle_user_meta', 'cartObj-', 'add_to_cart', 'sinle_user_meta', \"'product_id\", 'sinle_user_meta', \"'quantity\", 'sinle_user_meta', \"'variation_id\", '//', 'Add', 'product', 'and', 'quantities', 'coming', 'in', 'request', 'to', 'the', 'new', 'cart', 'object', 'if', 'param', \"'products\", 'WC', 'cart-', 'empty_cart', 'foreach', 'param', \"'products\", 'as', 'prod', 'cartObj-', 'add_to_cart', 'prod', \"'product_id\", 'prod', \"'quantity\", 'prod', \"'variation_id\", 'updatedCart', 'foreach', 'cartObj-', 'cart_contents', 'as', 'key', 'val', 'unset', 'val', \"'data\", 'updatedCart', 'key', 'val', '//', 'If', 'there', 'is', 'a', 'current', 'session', 'cart', 'overwrite', 'it', 'with', 'the', 'new', 'cart', 'if', 'wc_session_data', 'wc_session_data', \"'cart\", 'serialize', 'updatedCart', 'serializedObj', 'maybe_serialize', 'wc_session_data', 'table_name', \"'wp_woocommerce_sessions\", '//', 'Update', 'the', 'wp_session', 'table', 'with', 'updated', 'cart', 'data', 'sql', \"''\", 'UPDATE', 'table_name', 'SET', 'session_value=', \"''\", 'serializedObj', \"''\", 'WHERE', 'session_key', \"''\", 'user_id', '``', \"''\", '//', 'Execute', 'the', 'query', 'rez', 'wpdb-', 'query', 'sql', '//', 'Overwrite', 'the', 'persistent', 'cart', 'with', 'the', 'new', 'cart', 'data', 'full_user_meta', \"'cart\", 'updatedCart', 'productsInCart', 'foreach', 'cartObj-', 'cart_contents', 'as', 'cart_item', 'product', 'cart_item', \"'variation_id\", '==', '0', 'wc_get_product', 'cart_item', \"'product_id\", 'wc_get_product', 'cart_item', \"'variation_id\", 'image_id', 'product-', 'get_image_id', 'image_url', 'wp_get_attachment_image_url', 'image_id', \"'full\", 'attributes', 'product-', 'get_attributes', 'productsInCart', 'object', '``', 'product_id', \"''\", 'cart_item', \"'product_id\", '``', 'product_name', \"''\", 'wc_get_product', 'cart_item', \"'product_id\", 'get_name', '``', 'product_regular_price', \"''\", 'product-', 'get_regular_price', '``', 'product_sale_price', \"''\", 'product-', 'get_sale_price', '``', 'thumbnail', \"''\", 'image_url', '``', 'qty', \"''\", 'cart_item', \"'quantity\", '``', 'attribute', \"''\", 'attributes', '``', 'line_subtotal', \"''\", 'cart_item', \"'line_subtotal\", '``', 'line_total', \"''\", 'cart_item', \"'line_total\", '``', 'variation_id', \"''\", 'cart_item', \"'variation_id\", 'update_user_meta', 'get_current_user_id', \"'_woocommerce_persistent_cart_1\", 'array', \"'cart\", 'updatedCart', 'response', \"'status\", 'true', \"'data\", 'full_user_meta', \"'cart\", 'null', 'productsInCart', 'return', 'rest_ensure_response', 'response', 'function', 'woocomm_cart_list', 'param', 'user_id', 'param', \"'user_id\", 'objProduct', 'new', 'WC_Session_Handler', 'wc_session_data', 'objProduct-', 'get_session', 'user_id', '//', 'Get', 'the', 'persistent', 'cart', 'may', 'be', '_woocommerce_persistent_cart', 'can', 'be', 'in', 'your', 'case', 'check', 'in', 'user_meta', 'table', 'full_user_meta', 'get_user_meta', 'user_id', \"'_woocommerce_persistent_cart_1\", 'true', 'productsInCart', 'foreach', 'full_user_meta', \"'cart\", 'as', 'cart_item', 'product', 'cart_item', \"'variation_id\", '==', '0', 'wc_get_product', 'cart_item', \"'product_id\", 'wc_get_product', 'cart_item', \"'variation_id\", 'image_id', 'product-', 'get_image_id', 'image_url', 'wp_get_attachment_image_url', 'image_id', \"'full\", 'attributes', 'product-', 'get_attributes', 'productsInCart', 'object', '``', 'product_id', \"''\", 'cart_item', \"'product_id\", '``', 'product_name', \"''\", 'wc_get_product', 'cart_item', \"'product_id\", 'get_name', '``', 'product_regular_price', \"''\", 'product-', 'get_regular_price', '``', 'product_sale_price', \"''\", 'product-', 'get_sale_price', '``', 'thumbnail', \"''\", 'image_url', '``', 'qty', \"''\", 'cart_item', \"'quantity\", '``', 'attribute', \"''\", 'attributes', '``', 'line_subtotal', \"''\", 'cart_item', \"'line_subtotal\", '0', '``', 'line_total', \"''\", 'cart_item', \"'line_total\", '0', '``', 'variation_id', \"''\", 'cart_item', \"'variation_id\", 'response', \"'status\", 'true', \"'data\", 'full_user_meta', \"'cart\", 'null', 'productsInCart', 'return', 'rest_ensure_response', 'response', 'public', 'function', 'register_routes', 'register_rest_route', 'this-', 'namespace', \"'/addtocart\", 'array', \"'methods\", \"'POST\", \"'callback\", 'array', 'this', \"'woocomm_add_to_cart\", 'register_rest_route', 'this-', 'namespace', \"'/cart\", 'array', \"'methods\", \"'GET\", \"'callback\", 'array', 'this', \"'woocomm_cart_list\"]\n"
     ]
    }
   ],
   "source": [
    "# Getting stem\n",
    "for i in range(len(soCodeWhole_1)):\n",
    "    codeStem_1 = q3_stem(soCodeWhole_1[i].text)\n",
    "    print(codeStem_1)"
   ]
  },
  {
   "cell_type": "code",
   "execution_count": null,
   "metadata": {},
   "outputs": [
    {
     "name": "stdout",
     "output_type": "stream",
     "text": [
      "Number of errors =  503\n",
      "Number of words =  7177\n",
      "Percentage of language error =  7.008499372997074\n"
     ]
    }
   ],
   "source": [
    "check_language_error(soCodeWhole_1)"
   ]
  },
  {
   "cell_type": "code",
   "execution_count": null,
   "metadata": {
    "scrolled": true
   },
   "outputs": [
    {
     "name": "stdout",
     "output_type": "stream",
     "text": [
      " REST API Webhooks controller Handles requests to the /webhooks endpoint. @package Automattic/WooCommerce/RestApi @since 2.6.0 \n",
      "\n",
      "\n",
      " REST API Webhooks controller class. @package Automattic/WooCommerce/RestApi @extends WC_REST_Webhooks_V2_Controller \n",
      "\n",
      "\n",
      " Endpoint namespace. @var string \n",
      "\n",
      "\n",
      " Get the default REST API version. @since 3.0.0 @return string \n",
      "\n",
      "\n",
      " Get the persistent cart may be _woocommerce_persistent_cart can be in your case check \n",
      "\n",
      "\n",
      " WC 3.6+ - Cart and other frontend functions are not included for REST requests.\n",
      "\n",
      "\n",
      " We need to force a refresh of the cart contents from session here (cart contents are normally refreshed on wp_loaded, which has already happened by this point).\n",
      "\n",
      "\n",
      " create new Cart Object\n",
      "\n",
      "\n",
      " Add old cart data to newly created cart object\n",
      "\n",
      "\n",
      " Add product and quantities coming in request to the new cart object\n",
      "\n",
      "\n",
      " If there is a current session cart, overwrite it with the new cart\n",
      "\n",
      "\n",
      " Update the wp_session table with updated cart data\n",
      "\n",
      "\n",
      " Execute the query\n",
      "\n",
      "\n",
      " Overwrite the persistent cart with the new cart data\n",
      "\n",
      "\n",
      " Get the persistent cart may be _woocommerce_persistent_cart can be in your case check in user_meta table\n",
      "\n",
      "\n"
     ]
    }
   ],
   "source": [
    "# Scraping of Post Code Comments\n",
    "import re\n",
    "soCode_1 = scrape_code_stackoverflow('https://stackoverflow.com/questions/69235547/flutter-app-and-woocommerce-integration-add-to-cart-function')\n",
    "comments_1 = []\n",
    "for i in range(len(soCode_1)):\n",
    "    pattern = re.compile('(?:/\\*(.*?)\\*/)|(?://(.*?)\\n)',re.S)\n",
    "    comment = pattern.findall(soCode_1[i].text)\n",
    "    for x in range(len(comment)):\n",
    "        for y in range(len(comment[0])):\n",
    "            star_cleaned = re.sub(r'[*]', '', comment[x][y])\n",
    "            space_cleaned = re.sub(r'[\\n ]+', ' ', star_cleaned)\n",
    "            if space_cleaned != \"\":\n",
    "                comments_1.append(space_cleaned)\n",
    "for c in range(len(comments_1)):\n",
    "    print(comments_1[c])\n",
    "    print(\"\\n\")"
   ]
  },
  {
   "cell_type": "code",
   "execution_count": null,
   "metadata": {},
   "outputs": [
    {
     "name": "stdout",
     "output_type": "stream",
     "text": [
      "Number of errors =  22\n",
      "Number of words =  1100\n",
      "Percentage of language error =  2.0\n"
     ]
    }
   ],
   "source": [
    "check_language_error_so(comments_1)"
   ]
  },
  {
   "cell_type": "markdown",
   "metadata": {},
   "source": [
    "##### StackOverflow #2\n",
    "\n",
    "Post Name: Debugging error org.apache.axis2.AxisFault: Connection or outbound has closed, the trustAnchors parameter must be non-empty\n",
    "\n",
    "Website: https://stackoverflow.com/questions/65907012/debugging-error-org-apache-axis2-axisfault-connection-or-outbound-has-closed-t"
   ]
  },
  {
   "cell_type": "code",
   "execution_count": null,
   "metadata": {},
   "outputs": [
    {
     "name": "stdout",
     "output_type": "stream",
     "text": [
      "We are facing trouble trying to connect to a web service using Netbeans with Java OpenJDK 14 and Apache Tomcat 9. It's a specific environment which requires Axis2 1.6.2 library to connect to WSDL via SSL certificate trusted with keytool. We changed Axis2 to 1.7.9 without success.\n",
      "\n",
      "\n",
      "We get the following error:\n",
      "\n",
      "\n",
      "We tried to test a java main class with the following code:\n",
      "\n",
      "\n",
      "However, the line which throws error is the last one:\n",
      "\n",
      "\n",
      "Firewall rules are open and the web service allows connection to a list of IP Addresses. Our IP is allowed to connect so any ideas on how can we debug this error please? We think the connection to the web service is being rejected but we are not sure.\n",
      "\n",
      "\n",
      "EDIT: After following suggestion from comment, it turned out it may be a problem with SSL certificate, since using jvm parameter\n",
      "\n",
      "\n",
      "revealed the following error:\n",
      "\n",
      "\n",
      "We are using keytool with OpenJDK 14 as follows:\n",
      "\n",
      "\n",
      "The keystore is generated automatically with the line above. An organization for finding people info provides us the .cer file. Probably we are missing some crucial step in importing the .cer file.\n",
      "\n",
      "\n",
      "The keystore file contents are being displayed in the debugger, which means that keystore is being detected and there's read/write permissions on the file.\n",
      "\n",
      "\n",
      "It's curious that the responder_id is empty, according to the debugger\n",
      "\n",
      "\n",
      "Any additional suggestions?\n",
      "\n",
      "\n",
      "It was a silly mistake in this case. I was expecting Netbeans to recognize all of the contents in the lib folder, as it's an imported Web project. However, it didn't happen. Netbeans asked to solve missing dependencies but not all of them were detected. The missing library was javaee-endorsed-api-6.0.\n",
      "\n",
      "\n",
      "The project didn't complain on compilation neither runtime, but handshake was unable to communicate. This may serve as an alternative for the axis2 error which I see is not very common when googling it.\n",
      "\n",
      "\n",
      "Try update the version of axis2 lib.\n",
      "\n",
      "\n"
     ]
    }
   ],
   "source": [
    "# Scraping Post Text\n",
    "soText_2 = scrape_text_stackoverflow('https://stackoverflow.com/questions/65907012/debugging-error-org-apache-axis2-axisfault-connection-or-outbound-has-closed-t')\n",
    "for i in range(len(soText_2)):\n",
    "    print(soText_2[i].text)\n",
    "    print('\\n')"
   ]
  },
  {
   "cell_type": "code",
   "execution_count": null,
   "metadata": {},
   "outputs": [
    {
     "name": "stdout",
     "output_type": "stream",
     "text": [
      "Number of errors =  16\n",
      "Number of words =  1864\n",
      "Percentage of language error =  0.8583690987124464\n"
     ]
    }
   ],
   "source": [
    "check_language_error(soText_2)"
   ]
  },
  {
   "cell_type": "code",
   "execution_count": null,
   "metadata": {},
   "outputs": [
    {
     "name": "stdout",
     "output_type": "stream",
     "text": [
      "Total count of capitalised first words:  25\n",
      "Total number of sentences:  26\n",
      "Percentage:  96.15384615384616\n"
     ]
    }
   ],
   "source": [
    "caps_so_2 = []\n",
    "total_count_so2 = 0\n",
    "total_numSentences_so2 = 0\n",
    "\n",
    "for i in range(len(soText_2)):\n",
    "    caps_so_2 += [soText_2[i].text]\n",
    "\n",
    "for i in range(len(caps_so_2)):\n",
    "    (count_so2, numSentences_so2) = checkFirstWordCapitalised(caps_so_2[i])\n",
    "    total_count_so2 += count_so2\n",
    "    total_numSentences_so2 += numSentences_so2\n",
    "\n",
    "print(\"Total count of capitalised first words: \", total_count_so2)\n",
    "print(\"Total number of sentences: \", total_numSentences_so2)\n",
    "print(\"Percentage: \", (total_count_so2/total_numSentences_so2) * 100)"
   ]
  },
  {
   "cell_type": "code",
   "execution_count": null,
   "metadata": {},
   "outputs": [
    {
     "name": "stdout",
     "output_type": "stream",
     "text": [
      "Total count of non-capitalised capitalised pronouns:  6\n",
      "Total number of pronouns:  20\n",
      "Percentage:  30.0\n"
     ]
    }
   ],
   "source": [
    "pronoun_so2 = []\n",
    "pronoun_count_so2 = 0\n",
    "total_pronoun_so2 = 0\n",
    "\n",
    "for i in range(len(soText_2)):\n",
    "    pronoun_so2 += [soText_2[i].text]\n",
    "\n",
    "for i in range(len(pronoun_so2)):\n",
    "    (count_so2, numSentences_so2) = checkProperNounCapitalised(pronoun_so2[i], nlp)\n",
    "    pronoun_count_so2 += count_so2\n",
    "    total_pronoun_so2 += numSentences_so2\n",
    "\n",
    "print(\"Total count of non-capitalised capitalised pronouns: \", pronoun_count_so2)\n",
    "print(\"Total number of pronouns: \", total_pronoun_so2)\n",
    "print(\"Percentage: \", (pronoun_count_so2/total_pronoun_so2) * 100)"
   ]
  },
  {
   "cell_type": "code",
   "execution_count": null,
   "metadata": {},
   "outputs": [
    {
     "name": "stdout",
     "output_type": "stream",
     "text": [
      "org.apache.axis2.AxisFault: Connection or outbound has closed\n",
      "org.apache.axis2.AxisFault.makeFault(AxisFault.java:430)\n",
      "org.apache.axis2.transport.http.SOAPMessageFormatter.writeTo(SOAPMessageFormatter.java:78)\n",
      "org.apache.axis2.transport.http.AxisRequestEntity.writeRequest(AxisRequestEntity.java:84)\n",
      "\n",
      "com.ctc.wstx.exc.WstxIOException: Connection or outbound has closed\n",
      "    com.ctc.wstx.sw.BaseStreamWriter.finishDocument(BaseStreamWriter.java:1687)\n",
      "    com.ctc.wstx.sw.BaseStreamWriter.close(BaseStreamWriter.java:288)\n",
      "    org.apache.axiom.om.impl.MTOMXMLStreamWriter.close(MTOMXMLStreamWriter.java:222)\n",
      "    org.apache.axiom.om.impl.llom.OMSerializableImpl.serializeAndConsume(OMSerializableImpl.java:192)\n",
      "    org.apache.axis2.transport.http.SOAPMessageFormatter.writeTo(SOAPMessageFormatter.java:74)\n",
      "    org.apache.axis2.transport.http.AxisRequestEntity.writeRequest(AxisRequestEntity.java:84)\n",
      "\n",
      "java.net.SocketException: Connection or outbound has closed\n",
      "    java.base/sun.security.ssl.SSLSocketImpl$AppOutputStream.write(SSLSocketImpl.java:1246)\n",
      "    java.base/java.io.BufferedOutputStream.flushBuffer(BufferedOutputStream.java:81)\n",
      "    java.base/java.io.BufferedOutputStream.flush(BufferedOutputStream.java:142)\n",
      "    java.base/java.io.FilterOutputStream.flush(FilterOutputStream.java:153)\n",
      "\n",
      "\n",
      "\n",
      "System.setProperty(\"javax.net.ssl.trustStore\", \"pathToKeystore\");\n",
      "System.setProperty(\"javax.net.ssl.keyStorePassword\", \"myKeystorePassword\");\n",
      "System.setProperty(\"javax.net.ssl.keyStoreType\", \"JKS\");\n",
      "\n",
      "RPCServiceClient serviceClient = new RPCServiceClient();\n",
      "Options options = serviceClient.getOptions();\n",
      "\n",
      "EndpointReference targetEPR = new EndpointReference(wsdlDatos);\n",
      "options.setTo(targetEPR);\n",
      "options.setTimeOutInMilliSeconds(600000);\n",
      "\n",
      "clientDatosConsultaDetalles datos = new clientDatosConsultaDetalles();\n",
      "\n",
      "datos.setUser(usuario);\n",
      "datos.setPassword(password);\n",
      "datos.setIpAddress(ip);\n",
      "\n",
      "\n",
      "System.out.println(\"Getting service: \" + wsdlDatos);\n",
      "System.out.println(targetEPR.getAddress()); \n",
      "\n",
      "// Generate curp\n",
      "QName service = new QName(\"http://services.wserv.ecurp.dgti.segob.gob.mx\", \"consultarCurpDetalle\");\n",
      "\n",
      "Object[] serviceArgs = new Object[]{datos};\n",
      "\n",
      "Class[] returnTypes = new Class[]{String.class};\n",
      "\n",
      "Object[] response = serviceClient.invokeBlocking(service, serviceArgs, returnTypes);\n",
      "\n",
      "\n",
      "\n",
      "Object[] response = serviceClient.invokeBlocking(service, serviceArgs, returnTypes);\n",
      "\n",
      "\n",
      "\n",
      "-Djavax.net.debug=all\n",
      "\n",
      "\n",
      "\n",
      "java.lang.RuntimeException: Unexpected error: java.security.InvalidAlgorithmParameterException: the trustAnchors parameter must be non-empty\n",
      "\n",
      "\n",
      "\n",
      "keytool -import -alias inea -keystore c:\\WSCURP\\2021\\ineacurp.keystore -trustcacerts -file theCer.cer\n",
      "\n",
      "\n",
      "\n",
      "\"status_request_v2 (17)\": {\n",
      "      \"cert status request\": {\n",
      "        \"certificate status type\": ocsp_multi\n",
      "        \"OCSP status request\": {\n",
      "          \"responder_id\": <empty>\n",
      "\n",
      "\n",
      "\n"
     ]
    }
   ],
   "source": [
    "# Scraping of Whole Code\n",
    "soCodeWhole_2 = scrape_code_stackoverflow('https://stackoverflow.com/questions/65907012/debugging-error-org-apache-axis2-axisfault-connection-or-outbound-has-closed-t')\n",
    "for i in range(len(soCodeWhole_2)):\n",
    "    print(soCodeWhole_2[i].text)\n",
    "    print('\\n')"
   ]
  },
  {
   "cell_type": "code",
   "execution_count": null,
   "metadata": {},
   "outputs": [
    {
     "data": {
      "text/plain": [
       "['org.apache.axis2.AxisFault',\n",
       " 'Connection',\n",
       " 'or',\n",
       " 'outbound',\n",
       " 'has',\n",
       " 'closed',\n",
       " 'org.apache.axis2.AxisFault.makeFault',\n",
       " 'AxisFault.java:430',\n",
       " 'org.apache.axis2.transport.http.SOAPMessageFormatter.writeTo',\n",
       " 'SOAPMessageFormatter.java:78',\n",
       " 'org.apache.axis2.transport.http.AxisRequestEntity.writeRequest',\n",
       " 'AxisRequestEntity.java:84',\n",
       " 'com.ctc.wstx.exc.WstxIOException',\n",
       " 'Connection',\n",
       " 'or',\n",
       " 'outbound',\n",
       " 'has',\n",
       " 'closed',\n",
       " 'com.ctc.wstx.sw.BaseStreamWriter.finishDocument',\n",
       " 'BaseStreamWriter.java:1687',\n",
       " 'com.ctc.wstx.sw.BaseStreamWriter.close',\n",
       " 'BaseStreamWriter.java:288',\n",
       " 'org.apache.axiom.om.impl.MTOMXMLStreamWriter.close',\n",
       " 'MTOMXMLStreamWriter.java:222',\n",
       " 'org.apache.axiom.om.impl.llom.OMSerializableImpl.serializeAndConsume',\n",
       " 'OMSerializableImpl.java:192',\n",
       " 'org.apache.axis2.transport.http.SOAPMessageFormatter.writeTo',\n",
       " 'SOAPMessageFormatter.java:74',\n",
       " 'org.apache.axis2.transport.http.AxisRequestEntity.writeRequest',\n",
       " 'AxisRequestEntity.java:84',\n",
       " 'java.net.SocketException',\n",
       " 'Connection',\n",
       " 'or',\n",
       " 'outbound',\n",
       " 'has',\n",
       " 'closed',\n",
       " 'java.base/sun.security.ssl.SSLSocketImpl',\n",
       " 'AppOutputStream.write',\n",
       " 'SSLSocketImpl.java:1246',\n",
       " 'java.base/java.io.BufferedOutputStream.flushBuffer',\n",
       " 'BufferedOutputStream.java:81',\n",
       " 'java.base/java.io.BufferedOutputStream.flush',\n",
       " 'BufferedOutputStream.java:142',\n",
       " 'java.base/java.io.FilterOutputStream.flush',\n",
       " 'FilterOutputStream.java:153',\n",
       " 'System.setProperty',\n",
       " '``',\n",
       " 'javax.net.ssl.trustStore',\n",
       " \"''\",\n",
       " '``',\n",
       " 'pathToKeystore',\n",
       " \"''\",\n",
       " 'System.setProperty',\n",
       " '``',\n",
       " 'javax.net.ssl.keyStorePassword',\n",
       " \"''\",\n",
       " '``',\n",
       " 'myKeystorePassword',\n",
       " \"''\",\n",
       " 'System.setProperty',\n",
       " '``',\n",
       " 'javax.net.ssl.keyStoreType',\n",
       " \"''\",\n",
       " '``',\n",
       " 'JKS',\n",
       " \"''\",\n",
       " 'RPCServiceClient',\n",
       " 'serviceClient',\n",
       " 'new',\n",
       " 'RPCServiceClient',\n",
       " 'Options',\n",
       " 'options',\n",
       " 'serviceClient.getOptions',\n",
       " 'EndpointReference',\n",
       " 'targetEPR',\n",
       " 'new',\n",
       " 'EndpointReference',\n",
       " 'wsdlDatos',\n",
       " 'options.setTo',\n",
       " 'targetEPR',\n",
       " 'options.setTimeOutInMilliSeconds',\n",
       " '600000',\n",
       " 'clientDatosConsultaDetalles',\n",
       " 'datos',\n",
       " 'new',\n",
       " 'clientDatosConsultaDetalles',\n",
       " 'datos.setUser',\n",
       " 'usuario',\n",
       " 'datos.setPassword',\n",
       " 'password',\n",
       " 'datos.setIpAddress',\n",
       " 'ip',\n",
       " 'System.out.println',\n",
       " '``',\n",
       " 'Getting',\n",
       " 'service',\n",
       " '``',\n",
       " 'wsdlDatos',\n",
       " 'System.out.println',\n",
       " 'targetEPR.getAddress',\n",
       " '//',\n",
       " 'Generate',\n",
       " 'curp',\n",
       " 'QName',\n",
       " 'service',\n",
       " 'new',\n",
       " 'QName',\n",
       " '``',\n",
       " 'http',\n",
       " '//services.wserv.ecurp.dgti.segob.gob.mx',\n",
       " \"''\",\n",
       " '``',\n",
       " 'consultarCurpDetalle',\n",
       " \"''\",\n",
       " 'Object',\n",
       " 'serviceArgs',\n",
       " 'new',\n",
       " 'Object',\n",
       " 'datos',\n",
       " 'Class',\n",
       " 'returnTypes',\n",
       " 'new',\n",
       " 'Class',\n",
       " 'String.class',\n",
       " 'Object',\n",
       " 'response',\n",
       " 'serviceClient.invokeBlocking',\n",
       " 'service',\n",
       " 'serviceArgs',\n",
       " 'returnTypes',\n",
       " 'Object',\n",
       " 'response',\n",
       " 'serviceClient.invokeBlocking',\n",
       " 'service',\n",
       " 'serviceArgs',\n",
       " 'returnTypes',\n",
       " '-Djavax.net.debug=all',\n",
       " 'java.lang.RuntimeException',\n",
       " 'Unexpected',\n",
       " 'error',\n",
       " 'java.security.InvalidAlgorithmParameterException',\n",
       " 'the',\n",
       " 'trustAnchors',\n",
       " 'parameter',\n",
       " 'must',\n",
       " 'be',\n",
       " 'non-empty',\n",
       " 'keytool',\n",
       " '-import',\n",
       " '-alias',\n",
       " 'inea',\n",
       " '-keystore',\n",
       " 'c',\n",
       " '\\\\WSCURP\\\\2021\\\\ineacurp.keystore',\n",
       " '-trustcacerts',\n",
       " '-file',\n",
       " 'theCer.cer',\n",
       " '``',\n",
       " 'status_request_v2',\n",
       " '17',\n",
       " \"''\",\n",
       " '``',\n",
       " 'cert',\n",
       " 'status',\n",
       " 'request',\n",
       " \"''\",\n",
       " '``',\n",
       " 'certificate',\n",
       " 'status',\n",
       " 'type',\n",
       " \"''\",\n",
       " 'ocsp_multi',\n",
       " '``',\n",
       " 'OCSP',\n",
       " 'status',\n",
       " 'request',\n",
       " \"''\",\n",
       " '``',\n",
       " 'responder_id',\n",
       " \"''\",\n",
       " 'empty']"
      ]
     },
     "execution_count": 66,
     "metadata": {},
     "output_type": "execute_result"
    }
   ],
   "source": [
    "# Getting stem\n",
    "codeStem_2_final = []\n",
    "for i in range(len(soCodeWhole_2)):\n",
    "    codeStem_2 = q3_stem(soCodeWhole_2[i].text)\n",
    "    codeStem_2_final += codeStem_2\n",
    "    \n",
    "codeStem_2_final"
   ]
  },
  {
   "cell_type": "code",
   "execution_count": null,
   "metadata": {},
   "outputs": [
    {
     "name": "stdout",
     "output_type": "stream",
     "text": [
      "Number of errors =  172\n",
      "Number of words =  2796\n",
      "Percentage of language error =  6.151645207439199\n"
     ]
    }
   ],
   "source": [
    "check_language_error(soCodeWhole_2)"
   ]
  },
  {
   "cell_type": "code",
   "execution_count": null,
   "metadata": {
    "scrolled": false
   },
   "outputs": [
    {
     "name": "stdout",
     "output_type": "stream",
     "text": [
      " Generate curp\n",
      "\n",
      "\n",
      "services.wserv.ecurp.dgti.segob.gob.mx\", \"consultarCurpDetalle\");\n",
      "\n",
      "\n"
     ]
    }
   ],
   "source": [
    "# Scraping of Post Code Comments\n",
    "soCode_2 = scrape_code_stackoverflow('https://stackoverflow.com/questions/65907012/debugging-error-org-apache-axis2-axisfault-connection-or-outbound-has-closed-t')\n",
    "comments_2 = []\n",
    "for i in range(len(soCode_2)):\n",
    "    pattern = re.compile('(?:/\\*(.*?)\\*/)|(?://(.*?)\\n)',re.S)\n",
    "    comment = pattern.findall(soCode_2[i].text)\n",
    "    for x in range(len(comment)):\n",
    "        for y in range(len(comment[0])):\n",
    "            star_cleaned = re.sub(r'[*]', '', comment[x][y])\n",
    "            space_cleaned = re.sub(r'[\\n ]+', ' ', star_cleaned)\n",
    "            if space_cleaned != \"\":\n",
    "                comments_2.append(space_cleaned)\n",
    "for c in range(len(comments_2)):\n",
    "    print(comments_2[c])\n",
    "    print(\"\\n\")"
   ]
  },
  {
   "cell_type": "code",
   "execution_count": null,
   "metadata": {},
   "outputs": [
    {
     "name": "stdout",
     "output_type": "stream",
     "text": [
      "Number of errors =  12\n",
      "Number of words =  79\n",
      "Percentage of language error =  15.18987341772152\n"
     ]
    }
   ],
   "source": [
    "check_language_error_so(comments_2)"
   ]
  },
  {
   "cell_type": "markdown",
   "metadata": {},
   "source": [
    "##### HardwareZone #1\n",
    "\n",
    "Post Name: Beginner's Bible To Bodybuilding/Supplements/Fat-Loss ( Newbies Pls Read!!!)\n",
    "\n",
    "Website: https://forums.hardwarezone.com.sg/threads/beginners-bible-to-bodybuilding-supplements-fat-loss-newbies-pls-read.3419226/"
   ]
  },
  {
   "cell_type": "code",
   "execution_count": null,
   "metadata": {},
   "outputs": [
    {
     "name": "stdout",
     "output_type": "stream",
     "text": [
      "This is a monster thread of our old stickies you can find here:\n",
      "A Beginner's Guide To Bodybuilding ( Newbies Pls Read!!!)\n",
      "Beginner's Guide To Supplements( Newbies Pls Read!!!)\n",
      "Beginners' Guide to Fat Loss / Q&A / FAQ\n",
      "\n",
      "To jump to Beginnger's Bible to Supplements in this thread, click here.\n",
      "To jump to Beginner's Bible to Fat-Loss, click here.\n",
      "\n",
      "Credit goes to galapogos and rockstarz.\n",
      "\n",
      "\n",
      "\n",
      "\n",
      "Beginner's Bible To Bodybuilding\n",
      "Basic Nutrition\n",
      "\n",
      "It's quite well known that nutrition is one of, if not the, most important factors of bodybuilding. I'd like to give a basic breakdown of some of the more basic aspects that everyone should be aware of.\n",
      "\n",
      "As for a very basic breakdowns, all food consist of: carbs, proteins, and fats. Again...this is on a very basic level (as it all gets much more complex).\n",
      "\n",
      "Protien (4 calories/gram) - Protien is the building block of muscle, so it's no wonder why bodybuilders are recomended to take in 1-1.5g/lb of bodyweight....minimum. There has been a debate that has still never been solved claiming that high protien diets aren't necessary, and even dangerous, and that high protien diets produce more of a placebo effect. But for every study which shows high protien diets are not effective, there is another showing that they are. This is still being debated, and most likely will continue to be debated for a very long time. It is believed that high protien diets are dangerous because it requires a lot of water to digest protien, a simple answer to this problem is to drink more water. It is also believed to put strain on the kidneys, again, drinking a lot of water will help with this problem. Though most of these claims of protien being dangerous are outdated, people still choose to believe, and preach this theory. Though there seems to be no real threat, i figured this debate was worth mentioning to clear up any concerns that a new bodybuilder might have.\n",
      "\n",
      "Carbohydrates (4 calories/gram) - Carbs are much more complicated than protien because each carb source is different and should be used in a different way. Here's a basic run down:\n",
      "1) Slow-Digesting Carbs(natural): yams, wild rice, beans, oats, fruts...all natural carbs are in this category. These are ideal for most people as they are digested slowly providing you with energy throught the day. They also don't spike insulin levels which is very unwanted for if you're metabolism isn't on the freakishly fast side, you're going to be gaining some fat.\n",
      "2) Fast-Digesting Carbs(man-made): white bread, bagels, white rice, cold cerials, fruit juices, and other man-made carbs. These carbs hit the blood stream quicker and produce an insulin spike, which is generally only of use post-workout. \n",
      "3) Bodybuilders with excess bodyfat should consume slow-digesting carbs\n",
      "4) If you are low in bodyfat and have a hard time putting on weight, fast-digesting carbs can be usefull as you will be able to eat more of them and it will help stimulate appetite. \n",
      "5) Take in slow-digesting carbs before training because your body will need them to sustain energy. \n",
      "6) Immediately after training, take in fast-digesting carbs. They will spike insulin levels switching your muscles from a catabolic to an anabolic phase. Durring this phase after training you can take in up to .7 g of carbs/lb.\n",
      "7) It is recomended to get 2.5-3 times your bodyweight in carbs/day. Use the information above to determine what sources you should get these carbs from.\n",
      "\n",
      "Fat (9 calories/gram): This is the most feared of all of these 3 nutrients because common logic is, if someone doesn't want to store excess fat in their body, why would they eat something that bears the same name? The thing that most people don't know is, fat is as essential to a propper diet as anything else, it's just a matter of taking in the right fats. First of all, fat is very essential as it serves to keep you warm, and more importantly cushions your organs. The body also calls on fat for energy. Fats are probably the least complicated of all of these nutritents, as there really isn't much to say about them. Many people don't even count fat calories, they just limit the amount of saturated fat which they take in. I will say this though; it is very important to make sure you are getting all of your essential fatty acids. These are fats which the body needs and not just stored as fat as saturated fats are. You can get your essential fatty acids from fish, nuts, flax seeds, almonds, and avacados, just to name a few. With fat taken from these sources, you can supply your body with the fats that it needs without fearing your waist line expanding. \n",
      "\n",
      "I included the calories/gram of all of those because, though you should be more concerned with where your calories are coming from, you should be sure to eat 200-300 calories over your maintnance levels every day in order to grow. If you wish to find out your maintnance levels, take a week where you just eat to maintain. Eat when you're hungry, and stop when you're not hungry anymore. Right down everything you eat in detail, and at the end of the week, add all of the calories up, and devide it by 7 (because there are 7 days in a week). The number you get is your maintnance calorie level. Add 200-300 calories on to that and you're set.\n",
      "\n",
      "As you are just getting into bodybuilding, you are probably eating roughly 3 meals/day, with the occasional snack thrown in....well in bodybuilding, that crow won't caw \n",
      "\n",
      "It has been understood for a very long time that you must change your eating patern from 3 large meals per day, to several small ones. There are several reasons as to why this method is best. First of all, your body gets a constant supply of nutrients throughout the day, so you can constantly feed your muscles (as they are metaboliclly active, and you're sure to have atleast 1 muscle group that is still recoving from it's previous workout) and grow. Another reason is because your body can only digest so much protien at a time. It varies from person to person but it's generally around 30g (though you can take in more upon waking up and post-workout). If you were to eat 3 meals a day, that would mean your body would only be digesting around 90g of protien and the rest would serve as empty calories to be stored as fat. Here are some sample meal plans that a bodybuilder may follow. Feel free to use these as guides, but they must be customized to tailor your caloric needs and schedual. \n",
      "\n",
      "\n",
      "Sample 1:\n",
      "Meal One - six-egg omlette with cheese, whol-grain toast, fruit, 1-2 glasses of milk\n",
      "\n",
      "Meal 2 - broiled steak, 1-2 vegetables, baked potato, 1-2 glasses of milk\n",
      "\n",
      "Meal 3 - tuna salad, 1-2 vegetables, baked potato, 1-2 glasses of milk\n",
      "\n",
      "Meal 4 (pre-workout) - protien shake \n",
      "\n",
      "Meal 5 - roast chicken, 1-2 vegetables, rice, 1-2 glasses of milk\n",
      "\n",
      "Meal 6 - boiled eggs, cold cuts, 1-2 glasses of milk\n",
      "\n",
      "\n",
      "Sample 2:\n",
      "Meal 1 - 6 egg whites w/ 2 or 3 yolks, oatmeal, piece of fruit, two slices of whole-wheat toast\n",
      "\n",
      "Meal 2 - protien and carb shake, bagel, piece of fruit\n",
      "\n",
      "Meal 3 - 6 oz chicken breast, rice, vegetables\n",
      "\n",
      "Meal 4 (pre-workout) - protien and carb shake\n",
      "\n",
      "Meal 5 (immediate post-workout) - whey protien w/ simple carbs\n",
      "\n",
      "Meal 6 - 6 oz beef (burger or steak), baked potato, vegetable (spinach)\n",
      "\n",
      "Meal 7 (before bed)- 2 oz oatmeal, egg whites\n"
     ]
    }
   ],
   "source": [
    "# Scraping data from HardwareZone\n",
    "hwz_1 = scrape_text_hardwarezone('https://forums.hardwarezone.com.sg/threads/beginners-bible-to-bodybuilding-supplements-fat-loss-newbies-pls-read.3419226/')\n",
    "print(hwz_1)"
   ]
  },
  {
   "cell_type": "code",
   "execution_count": null,
   "metadata": {},
   "outputs": [
    {
     "name": "stdout",
     "output_type": "stream",
     "text": [
      "Number of errors =  75\n",
      "Number of words =  7260\n",
      "Percentage of language error =  1.0330578512396695\n"
     ]
    }
   ],
   "source": [
    "check_language_error_hwz(hwz_1)"
   ]
  },
  {
   "cell_type": "code",
   "execution_count": null,
   "metadata": {},
   "outputs": [
    {
     "name": "stdout",
     "output_type": "stream",
     "text": [
      "Total count of capitalised first words:  50\n",
      "Total number of sentences:  55\n",
      "Percentage:  90.9090909090909\n"
     ]
    }
   ],
   "source": [
    "total_count_hwz1 = 0\n",
    "total_numSentences_hwz1 = 0\n",
    "\n",
    "(count_hwz1, numSentences_hwz1) = checkFirstWordCapitalised(hwz_1)\n",
    "total_count_hwz1 += count_hwz1\n",
    "total_numSentences_hwz1 += numSentences_hwz1\n",
    "\n",
    "print(\"Total count of capitalised first words: \", total_count_hwz1)\n",
    "print(\"Total number of sentences: \", total_numSentences_hwz1)\n",
    "print(\"Percentage: \", (total_count_hwz1/total_numSentences_hwz1) * 100)"
   ]
  },
  {
   "cell_type": "code",
   "execution_count": null,
   "metadata": {},
   "outputs": [
    {
     "name": "stdout",
     "output_type": "stream",
     "text": [
      "Total count of non-capitalised capitalised pronouns:  25\n",
      "Total number of pronouns:  56\n",
      "Percentage:  44.642857142857146\n"
     ]
    }
   ],
   "source": [
    "pronoun_count_hwz1 = 0\n",
    "total_pronoun_hwz1 = 0\n",
    "\n",
    "(count_hwz1, numSentences_hwz1) = checkProperNounCapitalised(hwz_1, nlp)    \n",
    "pronoun_count_hwz1 += count_hwz1\n",
    "total_pronoun_hwz1 += numSentences_hwz1\n",
    "\n",
    "print(\"Total count of non-capitalised capitalised pronouns: \", pronoun_count_hwz1)\n",
    "print(\"Total number of pronouns: \", total_pronoun_hwz1)\n",
    "print(\"Percentage: \", (pronoun_count_hwz1/total_pronoun_hwz1) * 100)"
   ]
  },
  {
   "cell_type": "markdown",
   "metadata": {},
   "source": [
    "##### HardwareZone #2\n",
    "\n",
    "Post Name: Need advice. No internet for desktop on Singtel fibre\n",
    "\n",
    "Website: https://forums.hardwarezone.com.sg/threads/need-advice-no-internet-for-desktop-on-singtel-fibre.6075480/"
   ]
  },
  {
   "cell_type": "code",
   "execution_count": null,
   "metadata": {},
   "outputs": [
    {
     "name": "stdout",
     "output_type": "stream",
     "text": [
      "Hi all,\n",
      "\n",
      "recently recontracted my st 1gbps plan and suddenly no internet connection on my desktop (connected via lan cable). wireless is fine. ps4 lan connection is fine too. using asus ac2400 router for past 4 years with no issues. reset router several times also no use. even reinstalled win10 also cannot.\n",
      "\n",
      "any advice is appreciated.\n"
     ]
    }
   ],
   "source": [
    "hwz_2 = scrape_text_hardwarezone('https://forums.hardwarezone.com.sg/threads/need-advice-no-internet-for-desktop-on-singtel-fibre.6075480/')\n",
    "print(hwz_2)"
   ]
  },
  {
   "cell_type": "code",
   "execution_count": null,
   "metadata": {},
   "outputs": [
    {
     "name": "stdout",
     "output_type": "stream",
     "text": [
      "Number of errors =  10\n",
      "Number of words =  336\n",
      "Percentage of language error =  2.976190476190476\n"
     ]
    }
   ],
   "source": [
    "check_language_error_hwz(hwz_2)"
   ]
  },
  {
   "cell_type": "code",
   "execution_count": null,
   "metadata": {},
   "outputs": [
    {
     "name": "stdout",
     "output_type": "stream",
     "text": [
      "Total count of capitalised first words:  1\n",
      "Total number of sentences:  7\n",
      "Percentage:  14.285714285714285\n"
     ]
    }
   ],
   "source": [
    "total_count_hwz2 = 0\n",
    "total_numSentences_hwz2 = 0\n",
    "\n",
    "(count_hwz2, numSentences_hwz2) = checkFirstWordCapitalised(hwz_2)\n",
    "total_count_hwz2 += count_hwz2\n",
    "total_numSentences_hwz2 += numSentences_hwz2\n",
    "\n",
    "print(\"Total count of capitalised first words: \", total_count_hwz2)\n",
    "print(\"Total number of sentences: \", total_numSentences_hwz2)\n",
    "print(\"Percentage: \", (total_count_hwz2/total_numSentences_hwz2) * 100)"
   ]
  },
  {
   "cell_type": "code",
   "execution_count": null,
   "metadata": {},
   "outputs": [
    {
     "name": "stdout",
     "output_type": "stream",
     "text": [
      "Total count of non-capitalised capitalised pronouns:  1\n",
      "Total number of pronouns:  7\n",
      "Percentage:  14.285714285714285\n"
     ]
    }
   ],
   "source": [
    "pronoun_count_hwz2 = 0\n",
    "total_pronoun_hwz2 = 0\n",
    "\n",
    "(count_hwz1, numSentences_hwz1) = checkProperNounCapitalised(hwz_2, nlp)    \n",
    "pronoun_count_hwz2 += count_hwz2\n",
    "total_pronoun_hwz2 += numSentences_hwz2\n",
    "\n",
    "print(\"Total count of non-capitalised capitalised pronouns: \", pronoun_count_hwz2)\n",
    "print(\"Total number of pronouns: \", total_pronoun_hwz2)\n",
    "print(\"Percentage: \", (pronoun_count_hwz2/total_pronoun_hwz2) * 100)"
   ]
  },
  {
   "cell_type": "markdown",
   "metadata": {},
   "source": [
    "## Most frequent ⟨ Noun - Adjective ⟩ pairs for each rating"
   ]
  },
  {
   "cell_type": "code",
   "execution_count": null,
   "metadata": {},
   "outputs": [],
   "source": [
    "with open('reviewSelected100.json') as f:\n",
    "    data = json.loads(\"[\" + \n",
    "        f.read().replace(\"}\\n{\", \"},\\n{\") + \n",
    "    \"]\")"
   ]
  },
  {
   "cell_type": "code",
   "execution_count": null,
   "metadata": {},
   "outputs": [
    {
     "name": "stdout",
     "output_type": "stream",
     "text": [
      "Number of businesses: 153\n"
     ]
    }
   ],
   "source": [
    "unique_businesses = set()\n",
    "for review in data:\n",
    "    unique_businesses.add(review['business_id'])\n",
    "print(\"Number of businesses: \" + str(len(unique_businesses)))"
   ]
  },
  {
   "cell_type": "code",
   "execution_count": null,
   "metadata": {},
   "outputs": [],
   "source": [
    "# TBC: might use inverted index\n",
    "def extractUniqueReviews(rating, amount, data, unique_businesses):\n",
    "    count = 0\n",
    "    business_set = set()\n",
    "    while (count < amount):\n",
    "        pass"
   ]
  },
  {
   "cell_type": "code",
   "execution_count": null,
   "metadata": {},
   "outputs": [
    {
     "name": "stdout",
     "output_type": "stream",
     "text": [
      "[(Mark, sincere), (John, sincere), (employees, sincere), (Google, sincere), (food, nice), (food, delicious)]\n"
     ]
    }
   ],
   "source": [
    "def getNounAdjectivePairs(review_text, nlp):\n",
    "    results = []\n",
    "    sentences = nltk.tokenize.sent_tokenize(review_text)\n",
    "    for sentence in sentences:\n",
    "        doc = nlp(sentence)\n",
    "        for i, token in enumerate(doc):\n",
    "            if token.pos_ == 'NOUN' or token.pos_ == 'PROPN':\n",
    "                for j in range(len(doc)):\n",
    "                    if doc[j].pos_ == 'ADJ':\n",
    "                        results.append((token, doc[j]))\n",
    "    return results\n",
    "    \n",
    "s = 'Mark and John are sincere employees at Google. The food is very nice and delicious'\n",
    "print(getNounAdjectivePairs(s, nlp))"
   ]
  },
  {
   "cell_type": "code",
   "execution_count": null,
   "metadata": {},
   "outputs": [],
   "source": []
  }
 ],
 "metadata": {
  "colab": {
   "name": "NLPAssignment1Testing.ipynb",
   "provenance": []
  },
  "interpreter": {
   "hash": "94c38aa216cb19f74293236aacf8c039d75912cab4e786edf53a4f1451d3d752"
  },
  "kernelspec": {
   "display_name": "Python 3",
   "language": "python",
   "name": "python3"
  },
  "language_info": {
   "codemirror_mode": {
    "name": "ipython",
    "version": 3
   },
   "file_extension": ".py",
   "mimetype": "text/x-python",
   "name": "python",
   "nbconvert_exporter": "python",
   "pygments_lexer": "ipython3",
   "version": "3.7.4"
  }
 },
 "nbformat": 4,
 "nbformat_minor": 1
}
