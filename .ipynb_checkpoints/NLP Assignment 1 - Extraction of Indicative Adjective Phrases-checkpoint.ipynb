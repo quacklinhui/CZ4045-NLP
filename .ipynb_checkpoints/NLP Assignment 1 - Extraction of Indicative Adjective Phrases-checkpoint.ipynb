{
 "cells": [
  {
   "cell_type": "code",
   "execution_count": 533,
   "id": "20d83a2d",
   "metadata": {},
   "outputs": [],
   "source": [
    "import numpy\n",
    "import nltk\n",
    "from nltk.tokenize import sent_tokenize, word_tokenize\n",
    "from nltk.stem import PorterStemmer\n",
    "import json\n",
    "import random\n",
    "import string\n",
    "import math\n",
    "import pandas as pd\n",
    "import plotly.express as px"
   ]
  },
  {
   "cell_type": "markdown",
   "id": "71bc1959",
   "metadata": {},
   "source": [
    "Importing the dataset"
   ]
  },
  {
   "cell_type": "code",
   "execution_count": 534,
   "id": "e7ea7653",
   "metadata": {},
   "outputs": [],
   "source": [
    "with open('reviewSelected100.json') as f:\n",
    "    data = json.loads(\"[\" + \n",
    "        f.read().replace(\"}\\n{\", \"},\\n{\") + \n",
    "    \"]\")"
   ]
  },
  {
   "cell_type": "code",
   "execution_count": 535,
   "id": "fcf64a27",
   "metadata": {},
   "outputs": [
    {
     "name": "stdout",
     "output_type": "stream",
     "text": [
      "Number of businesses: 153\n"
     ]
    }
   ],
   "source": [
    "# Create a set of all businesses\n",
    "business_set = set()\n",
    "for review in data:\n",
    "    business_set.add(review['business_id'])\n",
    "print(\"Number of businesses: \" + str(len(business_set)))"
   ]
  },
  {
   "cell_type": "markdown",
   "id": "35d0dc39",
   "metadata": {},
   "source": [
    "## Finding the Adjective Phrases of a Randomly Selected Business"
   ]
  },
  {
   "cell_type": "markdown",
   "id": "873c00b3",
   "metadata": {},
   "source": [
    "Choose a random business - For consistency, we will use the business_id that we generated randomly on the first run (R4R7ttLXfKKWM0VEMoaW4w)"
   ]
  },
  {
   "cell_type": "code",
   "execution_count": 536,
   "id": "590d12c0",
   "metadata": {},
   "outputs": [],
   "source": [
    "business_set = list(business_set)\n",
    "selected_business_id = business_set[random.randrange(len(business_set))]"
   ]
  },
  {
   "cell_type": "code",
   "execution_count": 537,
   "id": "504e5775",
   "metadata": {},
   "outputs": [
    {
     "data": {
      "text/plain": [
       "'R4R7ttLXfKKWM0VEMoaW4w'"
      ]
     },
     "execution_count": 537,
     "metadata": {},
     "output_type": "execute_result"
    }
   ],
   "source": [
    "selected_business_id = \"R4R7ttLXfKKWM0VEMoaW4w\"\n",
    "selected_business_id"
   ]
  },
  {
   "cell_type": "markdown",
   "id": "ab5673ca",
   "metadata": {},
   "source": [
    "Extract out the adjective phrases from all the reviews belonging to this business"
   ]
  },
  {
   "cell_type": "code",
   "execution_count": 538,
   "id": "1b607c82",
   "metadata": {},
   "outputs": [],
   "source": [
    "# Get all the reviews of the business\n",
    "selected_business_reviews = []\n",
    "for review in data:\n",
    "    if review['business_id'] == selected_business_id:\n",
    "        selected_business_reviews.append(review['text'])"
   ]
  },
  {
   "cell_type": "markdown",
   "id": "786dddc4",
   "metadata": {},
   "source": [
    "Define the grammar rules for the structure of Adjective Phrases (ADJP), as well as other phrase types. "
   ]
  },
  {
   "cell_type": "code",
   "execution_count": 539,
   "id": "a150d9d5",
   "metadata": {},
   "outputs": [],
   "source": [
    "# Final\n",
    "grammar = ('''\n",
    "    VP: { <TO> <VB> <PRP> <VB.?> | <TO> <VB> <VB.?>? <DT>? <JJ.?>? <NN.?>? }\n",
    "    NC: { <IN>? ((<PRP.>|<DT>) <NN.?> <JJ.?>? <MD> <VB.?>) | <IN>? ((<DT>|<PRP.>) <JJ.?>? <NN.?> <VB.?> (<NN.?>|<VB.>)) | <IN>? <PRP> <VB.?> (<DT>|<PRP.?>) <NN.?> }\n",
    "    PP: { (<IN> <DT>? <JJ.?>? <NN.?>) }\n",
    "    ADJP: { (<IN> <DT>? <NN.?>) | (<PP> <IN> <NN.?>) | <RB.?>* <JJ.?> <PP> | <RB.?>* <JJ.?> <VP> | <RB.?>* <JJ.?> <NC> | <RB.?>* <JJ.?> (<,>? <CC>? <RB.?>* <JJ.?>)* | <JJ.?> (<,>? <CC>? <JJ.?>)* | <JJ.?>* | <RB.?>+ <VB(G|N)> }\n",
    "    ''')\n",
    "\n",
    "# Preposition + noun | PP + noun | (adv) adj + PP | (adv) adj + VP | (adv) adj + NC | Adverb Adjective(s) | Adjective chain(s) | Adjective(s) | Some VBG/N"
   ]
  },
  {
   "cell_type": "code",
   "execution_count": 540,
   "id": "6f2fabdf",
   "metadata": {},
   "outputs": [],
   "source": [
    "# preprocess review into pos tags for parsing\n",
    "def preprocess_review_to_pos(text):\n",
    "    # tokenize the review into sentences\n",
    "    text = sent_tokenize(text)\n",
    "    \n",
    "    # tokenize the sentences into words\n",
    "    tokens = []\n",
    "    for sentence in text:\n",
    "        tokens.append(word_tokenize(sentence))\n",
    "    \n",
    "    # generate the pos tags for each tokenized sentence\n",
    "    results = []\n",
    "    for lst in tokens:\n",
    "        results.append(nltk.pos_tag(lst))\n",
    "        \n",
    "    return results # output is a list of lists of pos tags"
   ]
  },
  {
   "cell_type": "code",
   "execution_count": 541,
   "id": "d860aad7",
   "metadata": {},
   "outputs": [],
   "source": [
    "chunkParser = nltk.RegexpParser(grammar)"
   ]
  },
  {
   "cell_type": "markdown",
   "id": "b52fba0b",
   "metadata": {},
   "source": [
    "Parse each review, analysing its phrase structure and extracting out only the adjective phrases"
   ]
  },
  {
   "cell_type": "code",
   "execution_count": 542,
   "id": "0a2dad7d",
   "metadata": {},
   "outputs": [],
   "source": [
    "adjective_phrases = []\n",
    "\n",
    "for review in selected_business_reviews:\n",
    "    # preprocess the review text\n",
    "    tagged_tokens = preprocess_review_to_pos(review)\n",
    "    # parse the review\n",
    "    for tags in tagged_tokens:\n",
    "        tree = chunkParser.parse(tags)\n",
    "        # go through the parse tree and append adjective phrases (ADJP)\n",
    "        for subtree in tree.subtrees():\n",
    "            if subtree.label() == \"ADJP\":\n",
    "                adjective_phrase = []\n",
    "                for leaf in subtree.leaves():  # each leaf is a tuple (token, pos_tag)\n",
    "                    adjective_phrase.append(leaf[0]) # append the token\n",
    "                adjective_phrase = \" \".join(adjective_phrase) # merge the tokens of the phrase\n",
    "                adjective_phrases.append(adjective_phrase)"
   ]
  },
  {
   "cell_type": "code",
   "execution_count": 543,
   "id": "a9b55be2",
   "metadata": {
    "scrolled": true
   },
   "outputs": [
    {
     "data": {
      "text/plain": [
       "['nicest',\n",
       " 'very friendly',\n",
       " 'various',\n",
       " 'chill',\n",
       " 'consistently good',\n",
       " 'not rotated',\n",
       " 'very clean',\n",
       " 'friendly',\n",
       " 'particular',\n",
       " 'rewards',\n",
       " 'Good',\n",
       " 'frozen',\n",
       " 'own',\n",
       " 'officially yogurt',\n",
       " 'fro-yo',\n",
       " 'Last',\n",
       " 'tasty first-time',\n",
       " 'very friendly',\n",
       " 'added',\n",
       " 'inhale',\n",
       " 'clean and tasty',\n",
       " 'decent frozen',\n",
       " 'helpful',\n",
       " 'vast and plentiful',\n",
       " 'First',\n",
       " 'frozen',\n",
       " 'very nice',\n",
       " 'Clean and easy',\n",
       " 'never otherwise thought',\n",
       " 'first',\n",
       " 'first',\n",
       " 'Too exhausted',\n",
       " 'great',\n",
       " 'Very white and clean',\n",
       " 'Enormous',\n",
       " 'fresh',\n",
       " 'so happy to be able',\n",
       " 'friendly',\n",
       " 'short',\n",
       " 'more to put',\n",
       " 'neatest',\n",
       " 'tiny',\n",
       " 'own',\n",
       " 'always great and most',\n",
       " 'crazy busy',\n",
       " 'other',\n",
       " 'really bad for the blonde',\n",
       " 'great',\n",
       " 'such',\n",
       " 'hard',\n",
       " 'Best',\n",
       " 'Friendly',\n",
       " 'always clean',\n",
       " 'to-go',\n",
       " 'full',\n",
       " 'so unprofessional',\n",
       " 'actually closed',\n",
       " 'mediocre',\n",
       " 'big',\n",
       " 'friendly',\n",
       " 'fresh',\n",
       " 'high',\n",
       " 'hopeful to find a great',\n",
       " 'froyo',\n",
       " 'few unfortunate',\n",
       " 'great',\n",
       " 'so many',\n",
       " 'super friendly',\n",
       " 'always giving',\n",
       " 'helpful',\n",
       " 'wrong',\n",
       " 'Friendly',\n",
       " 'very unique with whole cookies',\n",
       " 'not so good',\n",
       " 'So many great + fresh',\n",
       " 'best',\n",
       " 'clean',\n",
       " 'Second',\n",
       " 'frozen',\n",
       " 'great',\n",
       " 'oatmeal',\n",
       " 'banana',\n",
       " 'deeeeeelicious',\n",
       " 'topping',\n",
       " 'vast',\n",
       " 'full',\n",
       " 'cream',\n",
       " 'jumbo',\n",
       " 'red',\n",
       " 'pretty weak',\n",
       " 'own',\n",
       " 'dark',\n",
       " 'afternoon/early evening',\n",
       " 'highest',\n",
       " 'Due',\n",
       " \"n't worth\",\n",
       " 'very good',\n",
       " 'good',\n",
       " 'favorite',\n",
       " 'favorite',\n",
       " 'special',\n",
       " 'frozen',\n",
       " 'sub-par',\n",
       " 'less than half',\n",
       " 'full , topping-less',\n",
       " 'little',\n",
       " 'easy',\n",
       " 'helpful',\n",
       " 'delicious and abundant',\n",
       " 'competitive and even better',\n",
       " 'favorite',\n",
       " 'frequent',\n",
       " 'exceptional',\n",
       " 'best',\n",
       " 'bad as jumpstreet',\n",
       " 'good',\n",
       " 'best',\n",
       " 'rude and uhm',\n",
       " 'always annoying',\n",
       " 'half',\n",
       " 'so loud',\n",
       " 'new',\n",
       " 'new',\n",
       " 'better',\n",
       " 'tart',\n",
       " 'delicious',\n",
       " 'unable to get',\n",
       " 'Not blaming',\n",
       " 'fair',\n",
       " 'long',\n",
       " 'first',\n",
       " 'frozen',\n",
       " 'boyfriend',\n",
       " 'total',\n",
       " 'pretty sad',\n",
       " 'dumb',\n",
       " \"n't been\",\n",
       " 'only',\n",
       " 'great with money',\n",
       " 'clean',\n",
       " 'cleanest',\n",
       " 'ever been',\n",
       " 'only clean major',\n",
       " 'more',\n",
       " 'old',\n",
       " 'caramel',\n",
       " 'infinite',\n",
       " 'frozen',\n",
       " 'rude',\n",
       " 'healthy',\n",
       " 'very clean',\n",
       " 'frozen',\n",
       " '-.42',\n",
       " 'heavy',\n",
       " 'one-size',\n",
       " 'large',\n",
       " 'pretty good',\n",
       " 'available in different flavors',\n",
       " 'other',\n",
       " '-Super clean',\n",
       " 'very simple , & nice',\n",
       " 'helpful',\n",
       " '-Clean',\n",
       " 'right near Jenny',\n",
       " 'amazing',\n",
       " 'friendliest',\n",
       " 'quick to greet',\n",
       " 'disappointed',\n",
       " 'pomegranate',\n",
       " 'so good',\n",
       " 'mixed',\n",
       " 'perfect',\n",
       " 'little',\n",
       " 'really picky',\n",
       " 'really clean',\n",
       " 'pretty darn reasonable',\n",
       " 'less',\n",
       " 'cheaper and healthier',\n",
       " 'Just writing',\n",
       " 'clean but not as clean',\n",
       " \"n't really friendly\",\n",
       " 'own',\n",
       " 'so rude',\n",
       " 'hard to tell',\n",
       " \"n't working\",\n",
       " '.42',\n",
       " 'ready to be rang',\n",
       " 'definitely not going',\n",
       " 'fav froyo',\n",
       " 'super nice',\n",
       " 'helpful',\n",
       " 'super clean and most',\n",
       " 'awesome',\n",
       " 'least',\n",
       " 'great',\n",
       " 'dear',\n",
       " 'very bad',\n",
       " 'other',\n",
       " 'hard to go wrong',\n",
       " 'froyo',\n",
       " 'equal',\n",
       " 'head',\n",
       " 'next',\n",
       " 'smoothest , creamiest , most flavorful frozen',\n",
       " 'ever created',\n",
       " 'immaculately clean',\n",
       " 'very good',\n",
       " 'frozen',\n",
       " 'understatement',\n",
       " 'least',\n",
       " 'not been',\n",
       " 'fresh',\n",
       " 'so friendly',\n",
       " 'young',\n",
       " 'friendly',\n",
       " 'Really liked',\n",
       " 'many different',\n",
       " 'Friendly',\n",
       " 'Great',\n",
       " 'friendly',\n",
       " 'there cupcake',\n",
       " 'Good',\n",
       " 'Great',\n",
       " 'always very pleased',\n",
       " 'great',\n",
       " 'always greeted',\n",
       " 'Super',\n",
       " 'friendly',\n",
       " 'large',\n",
       " 'ok , ginormous',\n",
       " 'red',\n",
       " 'only',\n",
       " 'red',\n",
       " 'first to admit chocolate',\n",
       " 'never top',\n",
       " 'too fake',\n",
       " 'oatmeal',\n",
       " 'next',\n",
       " 'capricious',\n",
       " 'very friendly and helpful',\n",
       " 'so usually frozen',\n",
       " 'also wondering',\n",
       " 'good',\n",
       " 'not gluten sensitive',\n",
       " 'hostess',\n",
       " 'also very nice',\n",
       " 'little',\n",
       " 'few',\n",
       " 'least',\n",
       " 'last few',\n",
       " 'many',\n",
       " 'best',\n",
       " 'best',\n",
       " 'frozen',\n",
       " 'here many',\n",
       " 'consistently great with every visit',\n",
       " 'lazy',\n",
       " 'always clean , bright',\n",
       " 'great',\n",
       " 'real',\n",
       " 'great',\n",
       " 'golden',\n",
       " 'oatmeal',\n",
       " 'wrong',\n",
       " 'back many',\n",
       " 'teenie',\n",
       " 'dole',\n",
       " 'fantastic , yay',\n",
       " 'frozen',\n",
       " 'own',\n",
       " 'friendly enough to make',\n",
       " 'comfortable to ask',\n",
       " '3-4',\n",
       " 'Overall',\n",
       " 'very good',\n",
       " 'best',\n",
       " 'new favorite',\n",
       " 'super',\n",
       " 'very clean',\n",
       " 'many',\n",
       " 'single',\n",
       " 'helpful , courteous and willing',\n",
       " 'favorite frozen',\n",
       " 'Very clean',\n",
       " 'favorite',\n",
       " 'best',\n",
       " 'always pleasant',\n",
       " 'much',\n",
       " 'too many',\n",
       " 'simple',\n",
       " 'close',\n",
       " 'really friendly',\n",
       " 'amazingly clean',\n",
       " 'great',\n",
       " 'best',\n",
       " 'only',\n",
       " 'favorite',\n",
       " 'new',\n",
       " 'obsessed',\n",
       " 'great',\n",
       " 'healthy and so so good',\n",
       " 'always great',\n",
       " 'very consistent',\n",
       " 'So glad',\n",
       " 'so close',\n",
       " 'delicious',\n",
       " 'incredible',\n",
       " 'very friendly',\n",
       " 'enough good',\n",
       " 'never been',\n",
       " 'amazing',\n",
       " 'run-of-the-mill frozen',\n",
       " 'new',\n",
       " 'sure to sign',\n",
       " 'unique',\n",
       " 'frozen',\n",
       " 'so good',\n",
       " 'long',\n",
       " 'ever waited',\n",
       " 'more',\n",
       " 'own personal',\n",
       " 'Good',\n",
       " 'fresh',\n",
       " 'good',\n",
       " 'bad',\n",
       " 'first',\n",
       " 'simple',\n",
       " 'oatmeal',\n",
       " 'amazing',\n",
       " 'Other',\n",
       " 'okay',\n",
       " 'clean , but not spotless',\n",
       " 'Most of the time',\n",
       " 'usually talking',\n",
       " 'other',\n",
       " 'nice to get a',\n",
       " 'gross because other customers',\n",
       " 'frozen',\n",
       " 'upbeat',\n",
       " 'outstanding',\n",
       " 'never been',\n",
       " 'fresh',\n",
       " 'always changing',\n",
       " 'ultimate',\n",
       " 'better',\n",
       " 'not fair',\n",
       " 'fortunate',\n",
       " 'hot',\n",
       " 'hot',\n",
       " 'great',\n",
       " 'good',\n",
       " 'good',\n",
       " 'away raving',\n",
       " 'good',\n",
       " 'well lit',\n",
       " 'great',\n",
       " 'self-serve frozen',\n",
       " 'bottom',\n",
       " 'various',\n",
       " 'messy',\n",
       " 'friendly',\n",
       " 'other popular',\n",
       " 'ice',\n",
       " 'few different',\n",
       " 'Not too sweet',\n",
       " 'great',\n",
       " 'topping',\n",
       " 'little gelatin-like',\n",
       " 'only',\n",
       " 'oatmeal',\n",
       " 'so hard',\n",
       " 'few',\n",
       " 'still really hard',\n",
       " 'red',\n",
       " 'Very good',\n",
       " 'little too sweet',\n",
       " 'very good',\n",
       " 'very refreshing',\n",
       " 'sure',\n",
       " 'Great',\n",
       " 'open on Sunday',\n",
       " 'ever been',\n",
       " 'best',\n",
       " 'fro-yo and fresh',\n",
       " 'best',\n",
       " 'sure the toppings are filled',\n",
       " 'fresh at all times',\n",
       " 'great',\n",
       " 'great',\n",
       " 'clean',\n",
       " 'friendly',\n",
       " 'best frozen',\n",
       " 'ever had',\n",
       " 'frozen to save',\n",
       " 'few of the menu',\n",
       " 'dole',\n",
       " 'super delicious',\n",
       " 'Next',\n",
       " 'good',\n",
       " 'Overall',\n",
       " 'great',\n",
       " 'exemplary',\n",
       " 'oatmeal',\n",
       " 'best',\n",
       " 'excellent',\n",
       " 'very clean and modern',\n",
       " 'always very nice',\n",
       " 'same as every other place',\n",
       " 'entirely different',\n",
       " 'Best',\n",
       " 'ever tasted',\n",
       " 'such creamy',\n",
       " 'so good',\n",
       " 'whole',\n",
       " 'frozen',\n",
       " 'better',\n",
       " 'other fro-yo',\n",
       " 'to-',\n",
       " 'favorite',\n",
       " 'least',\n",
       " 'not ashamed',\n",
       " 'just OK',\n",
       " 'worse',\n",
       " 'better',\n",
       " 'other froyo',\n",
       " 'Totally impressed',\n",
       " 'little frozen',\n",
       " 'frozen',\n",
       " 'large',\n",
       " 'clean',\n",
       " 'more',\n",
       " 'froyo',\n",
       " 'clean',\n",
       " 'good',\n",
       " 'helpful',\n",
       " 'fresh',\n",
       " 'reasonable',\n",
       " 'only',\n",
       " 'first fro-yo',\n",
       " 'different',\n",
       " 'fro-yo',\n",
       " 'caramel fro-yo & nutella',\n",
       " 'SO good',\n",
       " 'so heavy',\n",
       " 'never seen',\n",
       " 'Very cool',\n",
       " 'oatmeal',\n",
       " 'best',\n",
       " 'ever been',\n",
       " 'glad',\n",
       " 'first',\n",
       " 'very friendly',\n",
       " 'couple',\n",
       " 'always willing to give',\n",
       " 'sample',\n",
       " 'couple',\n",
       " 'awesome',\n",
       " 'weird',\n",
       " 'most competitive in yogurt',\n",
       " 'First',\n",
       " 'very clean',\n",
       " 'sure',\n",
       " 'few',\n",
       " 'great high',\n",
       " 'great and unique',\n",
       " 'best',\n",
       " 'best',\n",
       " 'so many unique',\n",
       " 'great',\n",
       " 'old',\n",
       " 'happy',\n",
       " \"n't open\",\n",
       " 'very accommodating',\n",
       " 'scrumptious',\n",
       " 'oatmeal',\n",
       " 'sour',\n",
       " 'particularly yummy',\n",
       " 'such',\n",
       " 'clean , cool',\n",
       " 'so courteous and friendly',\n",
       " 'weekly',\n",
       " 'froyo',\n",
       " 'favorite',\n",
       " 'constantly changing',\n",
       " 'very clean',\n",
       " 'always helpful',\n",
       " 'happy',\n",
       " \"n't been\",\n",
       " 'many',\n",
       " 'other local',\n",
       " 'clean',\n",
       " 'spilled',\n",
       " 'few',\n",
       " 'empty',\n",
       " 'long',\n",
       " 'so good',\n",
       " 'awesome',\n",
       " 'great',\n",
       " 'always been',\n",
       " 'friendly',\n",
       " 'little',\n",
       " 'other',\n",
       " 'once-in-a-while',\n",
       " 'well worth',\n",
       " 'best frozen',\n",
       " 'very nice',\n",
       " 'very clean',\n",
       " 'much',\n",
       " 'more',\n",
       " 'absolute',\n",
       " 'more fruit',\n",
       " 'nice',\n",
       " 'big',\n",
       " 'more',\n",
       " 'so clean',\n",
       " 'positive',\n",
       " 'so sparkling clean and bright',\n",
       " 'so friendly and attentive',\n",
       " 'most popular',\n",
       " 'best',\n",
       " 'oatmeal',\n",
       " 'So good',\n",
       " 'super',\n",
       " 'fresh',\n",
       " 'bad or negative',\n",
       " 'really good',\n",
       " 'right next',\n",
       " 'large',\n",
       " 'fro yo',\n",
       " 'next',\n",
       " 'few',\n",
       " 'normal frozen',\n",
       " 'awesome',\n",
       " 'great',\n",
       " 'great',\n",
       " 'Last',\n",
       " 'fairly busy',\n",
       " 'too busy in the back',\n",
       " 'total',\n",
       " 'past few',\n",
       " 'always working',\n",
       " 'horrible',\n",
       " 'somewhere else next',\n",
       " 'better',\n",
       " 'excellent',\n",
       " 'SO many',\n",
       " 'great',\n",
       " 'favorite',\n",
       " 'only',\n",
       " 'more expensive per ounce',\n",
       " 'other',\n",
       " 'more non-fat',\n",
       " 'nice',\n",
       " 'free',\n",
       " 'higher',\n",
       " 'few',\n",
       " 'amazing',\n",
       " 'seasonal',\n",
       " 'so make',\n",
       " 'constant',\n",
       " 'enough',\n",
       " 'own',\n",
       " 'Much much better than any other yogurt',\n",
       " 'Always good',\n",
       " 'huge',\n",
       " 'Very filling and delicious',\n",
       " 'very clean',\n",
       " 'always exceptionally friendly and helpful',\n",
       " 'wide',\n",
       " 'great',\n",
       " 'expensive but worth',\n",
       " 'busy',\n",
       " 'great after dinner',\n",
       " 'most self-serve',\n",
       " 'only frozen',\n",
       " 'other',\n",
       " 'Friendly',\n",
       " 'huge',\n",
       " 'typically overpriced',\n",
       " 'friendly',\n",
       " 'different',\n",
       " 'best',\n",
       " 'hard',\n",
       " 'least',\n",
       " 'always changing',\n",
       " 'little',\n",
       " 'not working',\n",
       " 'Somewhat annoying',\n",
       " 'good',\n",
       " 'little',\n",
       " 'good',\n",
       " 'clean',\n",
       " 'clean',\n",
       " 'yummy',\n",
       " 'so bad',\n",
       " 'sour',\n",
       " 'away bad',\n",
       " 'rarely disappointed',\n",
       " 'good',\n",
       " 'other',\n",
       " 'too much about toppings',\n",
       " 'best',\n",
       " 'So many',\n",
       " 'always fresh and soft',\n",
       " 'constantly cleaning',\n",
       " 'great',\n",
       " 'not overwhelming',\n",
       " 'so creamy and delicious',\n",
       " 'good',\n",
       " 'more Yogurty',\n",
       " 'really great',\n",
       " 'healthier',\n",
       " 'classic',\n",
       " 'so delicious',\n",
       " '2-3',\n",
       " \"n't really wanting\",\n",
       " 'tart and delicious',\n",
       " 'fantastic',\n",
       " 'even better',\n",
       " 'awesome',\n",
       " 'always great',\n",
       " 'stale',\n",
       " 'few',\n",
       " 'only interested',\n",
       " 'usual original',\n",
       " 'available',\n",
       " 'fresh and abundant',\n",
       " 'tangy',\n",
       " 'overall average',\n",
       " 'hot',\n",
       " 'wonderful',\n",
       " 'little',\n",
       " 'very clean',\n",
       " 'biggest',\n",
       " 'even seen',\n",
       " 'favorite',\n",
       " 'FIRST',\n",
       " 'ever seen',\n",
       " 'such as oreos',\n",
       " 'oatmeal',\n",
       " 'other',\n",
       " 'yummy',\n",
       " 'little nervous',\n",
       " 'own',\n",
       " 'busy',\n",
       " 'available to help',\n",
       " 'super',\n",
       " 'not rushed',\n",
       " 'full',\n",
       " 'good',\n",
       " 'delicious',\n",
       " 'definitely caramel',\n",
       " 'sweet',\n",
       " 'little',\n",
       " 'not letting',\n",
       " 'own',\n",
       " 'past',\n",
       " \"n't working\",\n",
       " 'high',\n",
       " 'extremely filthy',\n",
       " 'never been',\n",
       " 'much better',\n",
       " 'boring original',\n",
       " 'never seen',\n",
       " 'swirl',\n",
       " 'cleanest eating',\n",
       " 'obvious',\n",
       " 'fresh',\n",
       " 'due',\n",
       " 'slightly higher',\n",
       " 'sure',\n",
       " 'total',\n",
       " 'together froyo',\n",
       " 'conveniently located',\n",
       " 'pretty similar',\n",
       " 'other froyo',\n",
       " 'other',\n",
       " 'oatmeal',\n",
       " 'delicious',\n",
       " 'wide',\n",
       " 'never seen',\n",
       " 'great',\n",
       " 'little']"
      ]
     },
     "execution_count": 543,
     "metadata": {},
     "output_type": "execute_result"
    }
   ],
   "source": [
    "adjective_phrases"
   ]
  },
  {
   "cell_type": "markdown",
   "id": "be3900de",
   "metadata": {},
   "source": [
    "We only want the unique adjective phrases that we extracted. To prevent duplication, we will lowercase the adjective phrases and obtain only the unique ones."
   ]
  },
  {
   "cell_type": "code",
   "execution_count": 544,
   "id": "c7676598",
   "metadata": {},
   "outputs": [],
   "source": [
    "# convert to lowercase\n",
    "for i in range(len(adjective_phrases)):\n",
    "    adjective_phrases[i] = adjective_phrases[i].lower()"
   ]
  },
  {
   "cell_type": "code",
   "execution_count": 545,
   "id": "2a826b1c",
   "metadata": {},
   "outputs": [
    {
     "data": {
      "text/plain": [
       "['nicest',\n",
       " 'very friendly',\n",
       " 'various',\n",
       " 'chill',\n",
       " 'consistently good',\n",
       " 'not rotated',\n",
       " 'very clean',\n",
       " 'friendly',\n",
       " 'particular',\n",
       " 'rewards',\n",
       " 'good',\n",
       " 'frozen',\n",
       " 'own',\n",
       " 'officially yogurt',\n",
       " 'fro-yo',\n",
       " 'last',\n",
       " 'tasty first-time',\n",
       " 'very friendly',\n",
       " 'added',\n",
       " 'inhale',\n",
       " 'clean and tasty',\n",
       " 'decent frozen',\n",
       " 'helpful',\n",
       " 'vast and plentiful',\n",
       " 'first',\n",
       " 'frozen',\n",
       " 'very nice',\n",
       " 'clean and easy',\n",
       " 'never otherwise thought',\n",
       " 'first',\n",
       " 'first',\n",
       " 'too exhausted',\n",
       " 'great',\n",
       " 'very white and clean',\n",
       " 'enormous',\n",
       " 'fresh',\n",
       " 'so happy to be able',\n",
       " 'friendly',\n",
       " 'short',\n",
       " 'more to put',\n",
       " 'neatest',\n",
       " 'tiny',\n",
       " 'own',\n",
       " 'always great and most',\n",
       " 'crazy busy',\n",
       " 'other',\n",
       " 'really bad for the blonde',\n",
       " 'great',\n",
       " 'such',\n",
       " 'hard',\n",
       " 'best',\n",
       " 'friendly',\n",
       " 'always clean',\n",
       " 'to-go',\n",
       " 'full',\n",
       " 'so unprofessional',\n",
       " 'actually closed',\n",
       " 'mediocre',\n",
       " 'big',\n",
       " 'friendly',\n",
       " 'fresh',\n",
       " 'high',\n",
       " 'hopeful to find a great',\n",
       " 'froyo',\n",
       " 'few unfortunate',\n",
       " 'great',\n",
       " 'so many',\n",
       " 'super friendly',\n",
       " 'always giving',\n",
       " 'helpful',\n",
       " 'wrong',\n",
       " 'friendly',\n",
       " 'very unique with whole cookies',\n",
       " 'not so good',\n",
       " 'so many great + fresh',\n",
       " 'best',\n",
       " 'clean',\n",
       " 'second',\n",
       " 'frozen',\n",
       " 'great',\n",
       " 'oatmeal',\n",
       " 'banana',\n",
       " 'deeeeeelicious',\n",
       " 'topping',\n",
       " 'vast',\n",
       " 'full',\n",
       " 'cream',\n",
       " 'jumbo',\n",
       " 'red',\n",
       " 'pretty weak',\n",
       " 'own',\n",
       " 'dark',\n",
       " 'afternoon/early evening',\n",
       " 'highest',\n",
       " 'due',\n",
       " \"n't worth\",\n",
       " 'very good',\n",
       " 'good',\n",
       " 'favorite',\n",
       " 'favorite',\n",
       " 'special',\n",
       " 'frozen',\n",
       " 'sub-par',\n",
       " 'less than half',\n",
       " 'full , topping-less',\n",
       " 'little',\n",
       " 'easy',\n",
       " 'helpful',\n",
       " 'delicious and abundant',\n",
       " 'competitive and even better',\n",
       " 'favorite',\n",
       " 'frequent',\n",
       " 'exceptional',\n",
       " 'best',\n",
       " 'bad as jumpstreet',\n",
       " 'good',\n",
       " 'best',\n",
       " 'rude and uhm',\n",
       " 'always annoying',\n",
       " 'half',\n",
       " 'so loud',\n",
       " 'new',\n",
       " 'new',\n",
       " 'better',\n",
       " 'tart',\n",
       " 'delicious',\n",
       " 'unable to get',\n",
       " 'not blaming',\n",
       " 'fair',\n",
       " 'long',\n",
       " 'first',\n",
       " 'frozen',\n",
       " 'boyfriend',\n",
       " 'total',\n",
       " 'pretty sad',\n",
       " 'dumb',\n",
       " \"n't been\",\n",
       " 'only',\n",
       " 'great with money',\n",
       " 'clean',\n",
       " 'cleanest',\n",
       " 'ever been',\n",
       " 'only clean major',\n",
       " 'more',\n",
       " 'old',\n",
       " 'caramel',\n",
       " 'infinite',\n",
       " 'frozen',\n",
       " 'rude',\n",
       " 'healthy',\n",
       " 'very clean',\n",
       " 'frozen',\n",
       " '-.42',\n",
       " 'heavy',\n",
       " 'one-size',\n",
       " 'large',\n",
       " 'pretty good',\n",
       " 'available in different flavors',\n",
       " 'other',\n",
       " '-super clean',\n",
       " 'very simple , & nice',\n",
       " 'helpful',\n",
       " '-clean',\n",
       " 'right near jenny',\n",
       " 'amazing',\n",
       " 'friendliest',\n",
       " 'quick to greet',\n",
       " 'disappointed',\n",
       " 'pomegranate',\n",
       " 'so good',\n",
       " 'mixed',\n",
       " 'perfect',\n",
       " 'little',\n",
       " 'really picky',\n",
       " 'really clean',\n",
       " 'pretty darn reasonable',\n",
       " 'less',\n",
       " 'cheaper and healthier',\n",
       " 'just writing',\n",
       " 'clean but not as clean',\n",
       " \"n't really friendly\",\n",
       " 'own',\n",
       " 'so rude',\n",
       " 'hard to tell',\n",
       " \"n't working\",\n",
       " '.42',\n",
       " 'ready to be rang',\n",
       " 'definitely not going',\n",
       " 'fav froyo',\n",
       " 'super nice',\n",
       " 'helpful',\n",
       " 'super clean and most',\n",
       " 'awesome',\n",
       " 'least',\n",
       " 'great',\n",
       " 'dear',\n",
       " 'very bad',\n",
       " 'other',\n",
       " 'hard to go wrong',\n",
       " 'froyo',\n",
       " 'equal',\n",
       " 'head',\n",
       " 'next',\n",
       " 'smoothest , creamiest , most flavorful frozen',\n",
       " 'ever created',\n",
       " 'immaculately clean',\n",
       " 'very good',\n",
       " 'frozen',\n",
       " 'understatement',\n",
       " 'least',\n",
       " 'not been',\n",
       " 'fresh',\n",
       " 'so friendly',\n",
       " 'young',\n",
       " 'friendly',\n",
       " 'really liked',\n",
       " 'many different',\n",
       " 'friendly',\n",
       " 'great',\n",
       " 'friendly',\n",
       " 'there cupcake',\n",
       " 'good',\n",
       " 'great',\n",
       " 'always very pleased',\n",
       " 'great',\n",
       " 'always greeted',\n",
       " 'super',\n",
       " 'friendly',\n",
       " 'large',\n",
       " 'ok , ginormous',\n",
       " 'red',\n",
       " 'only',\n",
       " 'red',\n",
       " 'first to admit chocolate',\n",
       " 'never top',\n",
       " 'too fake',\n",
       " 'oatmeal',\n",
       " 'next',\n",
       " 'capricious',\n",
       " 'very friendly and helpful',\n",
       " 'so usually frozen',\n",
       " 'also wondering',\n",
       " 'good',\n",
       " 'not gluten sensitive',\n",
       " 'hostess',\n",
       " 'also very nice',\n",
       " 'little',\n",
       " 'few',\n",
       " 'least',\n",
       " 'last few',\n",
       " 'many',\n",
       " 'best',\n",
       " 'best',\n",
       " 'frozen',\n",
       " 'here many',\n",
       " 'consistently great with every visit',\n",
       " 'lazy',\n",
       " 'always clean , bright',\n",
       " 'great',\n",
       " 'real',\n",
       " 'great',\n",
       " 'golden',\n",
       " 'oatmeal',\n",
       " 'wrong',\n",
       " 'back many',\n",
       " 'teenie',\n",
       " 'dole',\n",
       " 'fantastic , yay',\n",
       " 'frozen',\n",
       " 'own',\n",
       " 'friendly enough to make',\n",
       " 'comfortable to ask',\n",
       " '3-4',\n",
       " 'overall',\n",
       " 'very good',\n",
       " 'best',\n",
       " 'new favorite',\n",
       " 'super',\n",
       " 'very clean',\n",
       " 'many',\n",
       " 'single',\n",
       " 'helpful , courteous and willing',\n",
       " 'favorite frozen',\n",
       " 'very clean',\n",
       " 'favorite',\n",
       " 'best',\n",
       " 'always pleasant',\n",
       " 'much',\n",
       " 'too many',\n",
       " 'simple',\n",
       " 'close',\n",
       " 'really friendly',\n",
       " 'amazingly clean',\n",
       " 'great',\n",
       " 'best',\n",
       " 'only',\n",
       " 'favorite',\n",
       " 'new',\n",
       " 'obsessed',\n",
       " 'great',\n",
       " 'healthy and so so good',\n",
       " 'always great',\n",
       " 'very consistent',\n",
       " 'so glad',\n",
       " 'so close',\n",
       " 'delicious',\n",
       " 'incredible',\n",
       " 'very friendly',\n",
       " 'enough good',\n",
       " 'never been',\n",
       " 'amazing',\n",
       " 'run-of-the-mill frozen',\n",
       " 'new',\n",
       " 'sure to sign',\n",
       " 'unique',\n",
       " 'frozen',\n",
       " 'so good',\n",
       " 'long',\n",
       " 'ever waited',\n",
       " 'more',\n",
       " 'own personal',\n",
       " 'good',\n",
       " 'fresh',\n",
       " 'good',\n",
       " 'bad',\n",
       " 'first',\n",
       " 'simple',\n",
       " 'oatmeal',\n",
       " 'amazing',\n",
       " 'other',\n",
       " 'okay',\n",
       " 'clean , but not spotless',\n",
       " 'most of the time',\n",
       " 'usually talking',\n",
       " 'other',\n",
       " 'nice to get a',\n",
       " 'gross because other customers',\n",
       " 'frozen',\n",
       " 'upbeat',\n",
       " 'outstanding',\n",
       " 'never been',\n",
       " 'fresh',\n",
       " 'always changing',\n",
       " 'ultimate',\n",
       " 'better',\n",
       " 'not fair',\n",
       " 'fortunate',\n",
       " 'hot',\n",
       " 'hot',\n",
       " 'great',\n",
       " 'good',\n",
       " 'good',\n",
       " 'away raving',\n",
       " 'good',\n",
       " 'well lit',\n",
       " 'great',\n",
       " 'self-serve frozen',\n",
       " 'bottom',\n",
       " 'various',\n",
       " 'messy',\n",
       " 'friendly',\n",
       " 'other popular',\n",
       " 'ice',\n",
       " 'few different',\n",
       " 'not too sweet',\n",
       " 'great',\n",
       " 'topping',\n",
       " 'little gelatin-like',\n",
       " 'only',\n",
       " 'oatmeal',\n",
       " 'so hard',\n",
       " 'few',\n",
       " 'still really hard',\n",
       " 'red',\n",
       " 'very good',\n",
       " 'little too sweet',\n",
       " 'very good',\n",
       " 'very refreshing',\n",
       " 'sure',\n",
       " 'great',\n",
       " 'open on sunday',\n",
       " 'ever been',\n",
       " 'best',\n",
       " 'fro-yo and fresh',\n",
       " 'best',\n",
       " 'sure the toppings are filled',\n",
       " 'fresh at all times',\n",
       " 'great',\n",
       " 'great',\n",
       " 'clean',\n",
       " 'friendly',\n",
       " 'best frozen',\n",
       " 'ever had',\n",
       " 'frozen to save',\n",
       " 'few of the menu',\n",
       " 'dole',\n",
       " 'super delicious',\n",
       " 'next',\n",
       " 'good',\n",
       " 'overall',\n",
       " 'great',\n",
       " 'exemplary',\n",
       " 'oatmeal',\n",
       " 'best',\n",
       " 'excellent',\n",
       " 'very clean and modern',\n",
       " 'always very nice',\n",
       " 'same as every other place',\n",
       " 'entirely different',\n",
       " 'best',\n",
       " 'ever tasted',\n",
       " 'such creamy',\n",
       " 'so good',\n",
       " 'whole',\n",
       " 'frozen',\n",
       " 'better',\n",
       " 'other fro-yo',\n",
       " 'to-',\n",
       " 'favorite',\n",
       " 'least',\n",
       " 'not ashamed',\n",
       " 'just ok',\n",
       " 'worse',\n",
       " 'better',\n",
       " 'other froyo',\n",
       " 'totally impressed',\n",
       " 'little frozen',\n",
       " 'frozen',\n",
       " 'large',\n",
       " 'clean',\n",
       " 'more',\n",
       " 'froyo',\n",
       " 'clean',\n",
       " 'good',\n",
       " 'helpful',\n",
       " 'fresh',\n",
       " 'reasonable',\n",
       " 'only',\n",
       " 'first fro-yo',\n",
       " 'different',\n",
       " 'fro-yo',\n",
       " 'caramel fro-yo & nutella',\n",
       " 'so good',\n",
       " 'so heavy',\n",
       " 'never seen',\n",
       " 'very cool',\n",
       " 'oatmeal',\n",
       " 'best',\n",
       " 'ever been',\n",
       " 'glad',\n",
       " 'first',\n",
       " 'very friendly',\n",
       " 'couple',\n",
       " 'always willing to give',\n",
       " 'sample',\n",
       " 'couple',\n",
       " 'awesome',\n",
       " 'weird',\n",
       " 'most competitive in yogurt',\n",
       " 'first',\n",
       " 'very clean',\n",
       " 'sure',\n",
       " 'few',\n",
       " 'great high',\n",
       " 'great and unique',\n",
       " 'best',\n",
       " 'best',\n",
       " 'so many unique',\n",
       " 'great',\n",
       " 'old',\n",
       " 'happy',\n",
       " \"n't open\",\n",
       " 'very accommodating',\n",
       " 'scrumptious',\n",
       " 'oatmeal',\n",
       " 'sour',\n",
       " 'particularly yummy',\n",
       " 'such',\n",
       " 'clean , cool',\n",
       " 'so courteous and friendly',\n",
       " 'weekly',\n",
       " 'froyo',\n",
       " 'favorite',\n",
       " 'constantly changing',\n",
       " 'very clean',\n",
       " 'always helpful',\n",
       " 'happy',\n",
       " \"n't been\",\n",
       " 'many',\n",
       " 'other local',\n",
       " 'clean',\n",
       " 'spilled',\n",
       " 'few',\n",
       " 'empty',\n",
       " 'long',\n",
       " 'so good',\n",
       " 'awesome',\n",
       " 'great',\n",
       " 'always been',\n",
       " 'friendly',\n",
       " 'little',\n",
       " 'other',\n",
       " 'once-in-a-while',\n",
       " 'well worth',\n",
       " 'best frozen',\n",
       " 'very nice',\n",
       " 'very clean',\n",
       " 'much',\n",
       " 'more',\n",
       " 'absolute',\n",
       " 'more fruit',\n",
       " 'nice',\n",
       " 'big',\n",
       " 'more',\n",
       " 'so clean',\n",
       " 'positive',\n",
       " 'so sparkling clean and bright',\n",
       " 'so friendly and attentive',\n",
       " 'most popular',\n",
       " 'best',\n",
       " 'oatmeal',\n",
       " 'so good',\n",
       " 'super',\n",
       " 'fresh',\n",
       " 'bad or negative',\n",
       " 'really good',\n",
       " 'right next',\n",
       " 'large',\n",
       " 'fro yo',\n",
       " 'next',\n",
       " 'few',\n",
       " 'normal frozen',\n",
       " 'awesome',\n",
       " 'great',\n",
       " 'great',\n",
       " 'last',\n",
       " 'fairly busy',\n",
       " 'too busy in the back',\n",
       " 'total',\n",
       " 'past few',\n",
       " 'always working',\n",
       " 'horrible',\n",
       " 'somewhere else next',\n",
       " 'better',\n",
       " 'excellent',\n",
       " 'so many',\n",
       " 'great',\n",
       " 'favorite',\n",
       " 'only',\n",
       " 'more expensive per ounce',\n",
       " 'other',\n",
       " 'more non-fat',\n",
       " 'nice',\n",
       " 'free',\n",
       " 'higher',\n",
       " 'few',\n",
       " 'amazing',\n",
       " 'seasonal',\n",
       " 'so make',\n",
       " 'constant',\n",
       " 'enough',\n",
       " 'own',\n",
       " 'much much better than any other yogurt',\n",
       " 'always good',\n",
       " 'huge',\n",
       " 'very filling and delicious',\n",
       " 'very clean',\n",
       " 'always exceptionally friendly and helpful',\n",
       " 'wide',\n",
       " 'great',\n",
       " 'expensive but worth',\n",
       " 'busy',\n",
       " 'great after dinner',\n",
       " 'most self-serve',\n",
       " 'only frozen',\n",
       " 'other',\n",
       " 'friendly',\n",
       " 'huge',\n",
       " 'typically overpriced',\n",
       " 'friendly',\n",
       " 'different',\n",
       " 'best',\n",
       " 'hard',\n",
       " 'least',\n",
       " 'always changing',\n",
       " 'little',\n",
       " 'not working',\n",
       " 'somewhat annoying',\n",
       " 'good',\n",
       " 'little',\n",
       " 'good',\n",
       " 'clean',\n",
       " 'clean',\n",
       " 'yummy',\n",
       " 'so bad',\n",
       " 'sour',\n",
       " 'away bad',\n",
       " 'rarely disappointed',\n",
       " 'good',\n",
       " 'other',\n",
       " 'too much about toppings',\n",
       " 'best',\n",
       " 'so many',\n",
       " 'always fresh and soft',\n",
       " 'constantly cleaning',\n",
       " 'great',\n",
       " 'not overwhelming',\n",
       " 'so creamy and delicious',\n",
       " 'good',\n",
       " 'more yogurty',\n",
       " 'really great',\n",
       " 'healthier',\n",
       " 'classic',\n",
       " 'so delicious',\n",
       " '2-3',\n",
       " \"n't really wanting\",\n",
       " 'tart and delicious',\n",
       " 'fantastic',\n",
       " 'even better',\n",
       " 'awesome',\n",
       " 'always great',\n",
       " 'stale',\n",
       " 'few',\n",
       " 'only interested',\n",
       " 'usual original',\n",
       " 'available',\n",
       " 'fresh and abundant',\n",
       " 'tangy',\n",
       " 'overall average',\n",
       " 'hot',\n",
       " 'wonderful',\n",
       " 'little',\n",
       " 'very clean',\n",
       " 'biggest',\n",
       " 'even seen',\n",
       " 'favorite',\n",
       " 'first',\n",
       " 'ever seen',\n",
       " 'such as oreos',\n",
       " 'oatmeal',\n",
       " 'other',\n",
       " 'yummy',\n",
       " 'little nervous',\n",
       " 'own',\n",
       " 'busy',\n",
       " 'available to help',\n",
       " 'super',\n",
       " 'not rushed',\n",
       " 'full',\n",
       " 'good',\n",
       " 'delicious',\n",
       " 'definitely caramel',\n",
       " 'sweet',\n",
       " 'little',\n",
       " 'not letting',\n",
       " 'own',\n",
       " 'past',\n",
       " \"n't working\",\n",
       " 'high',\n",
       " 'extremely filthy',\n",
       " 'never been',\n",
       " 'much better',\n",
       " 'boring original',\n",
       " 'never seen',\n",
       " 'swirl',\n",
       " 'cleanest eating',\n",
       " 'obvious',\n",
       " 'fresh',\n",
       " 'due',\n",
       " 'slightly higher',\n",
       " 'sure',\n",
       " 'total',\n",
       " 'together froyo',\n",
       " 'conveniently located',\n",
       " 'pretty similar',\n",
       " 'other froyo',\n",
       " 'other',\n",
       " 'oatmeal',\n",
       " 'delicious',\n",
       " 'wide',\n",
       " 'never seen',\n",
       " 'great',\n",
       " 'little']"
      ]
     },
     "execution_count": 545,
     "metadata": {},
     "output_type": "execute_result"
    }
   ],
   "source": [
    "adjective_phrases"
   ]
  },
  {
   "cell_type": "code",
   "execution_count": 546,
   "id": "3b748310",
   "metadata": {},
   "outputs": [
    {
     "name": "stdout",
     "output_type": "stream",
     "text": [
      "Total number of adjective phrases extracted: 683\n",
      "Total number of unique adjective phrases: 405\n"
     ]
    }
   ],
   "source": [
    "print(\"Total number of adjective phrases extracted: \" + str(len(adjective_phrases)))\n",
    "print(\"Total number of unique adjective phrases: \" + str(len(set(adjective_phrases))))"
   ]
  },
  {
   "cell_type": "code",
   "execution_count": 547,
   "id": "fd5a8492",
   "metadata": {},
   "outputs": [],
   "source": [
    "# take only the unique adjective phrases\n",
    "adjective_phrases = list(set(adjective_phrases))"
   ]
  },
  {
   "cell_type": "markdown",
   "id": "0456ee59",
   "metadata": {},
   "source": [
    "### Now, we need to determine which adjective phrases are indicative\n",
    "We perform TF-IDF in order to determine which phrases are unique to the business\n",
    "- Find the TF of each adjective phrase\n",
    "- Create a biword/word index to store the Document Frequency of each biword/term\n",
    "- Find the IDF value of each adjective phrase\n",
    "- Compute the TF-IDF of each adjective phrase"
   ]
  },
  {
   "cell_type": "markdown",
   "id": "bab161c8",
   "metadata": {},
   "source": [
    "Adjective phrases can be:\n",
    "- One word\n",
    "- More than one word\n",
    "\n",
    "For one-word phrases, we calculate TF-IDF as per normal, i.e. the TF-IDF value of the word will be the TF-IDF value of the adjective phrase.\n",
    "\n",
    "For more-than-one-word phrases, we break down the adjective phrase into bigrams (after preprocessing the phrase). From there, we calculate the TF-IDF value of each bigram and then sum them up to obtain the TF-IDF value of the adjective phrase."
   ]
  },
  {
   "cell_type": "markdown",
   "id": "9e8d871a",
   "metadata": {},
   "source": [
    "First, preprocess the entire dataset before performing TF-IDF"
   ]
  },
  {
   "cell_type": "code",
   "execution_count": 548,
   "id": "9f8da9e3",
   "metadata": {},
   "outputs": [],
   "source": [
    "# Sentence tokenizer\n",
    "def sentence_tokenize(text):\n",
    "    return sent_tokenize(text)"
   ]
  },
  {
   "cell_type": "code",
   "execution_count": 549,
   "id": "45f7c704",
   "metadata": {},
   "outputs": [],
   "source": [
    "# Tokenize the sentences -> words\n",
    "def tokenize(sentences):\n",
    "    result = []\n",
    "    for sentence in sentences:\n",
    "        result.append(word_tokenize(sentence))\n",
    "    return result"
   ]
  },
  {
   "cell_type": "code",
   "execution_count": 550,
   "id": "b0a27c23",
   "metadata": {},
   "outputs": [],
   "source": [
    "# Lowercase all the text\n",
    "def convert_to_lowercase(text):\n",
    "    result = []\n",
    "    for tokens in text:\n",
    "        lowercase_tokens = []\n",
    "        for token in tokens:\n",
    "            lowercase_tokens.append(token.lower())\n",
    "        result.append(lowercase_tokens)\n",
    "    return result"
   ]
  },
  {
   "cell_type": "code",
   "execution_count": 551,
   "id": "2d1f2bf6",
   "metadata": {},
   "outputs": [],
   "source": [
    "# Remove punctuations except hyphens\n",
    "def remove_punctuation(sentences):\n",
    "    punctuation = '!\"#$%&\\'()*+,./:;<=>?@[\\\\]^_`{|}~'\n",
    "    result = []\n",
    "    for sentence in sentences:\n",
    "        new_sentence = []\n",
    "        for token in sentence:\n",
    "            new_token = token.translate(str.maketrans('', '', punctuation))\n",
    "            if len(new_token) > 0:\n",
    "                new_sentence.append(new_token)\n",
    "        if len(new_sentence) > 0:\n",
    "            result.append(new_sentence)\n",
    "    return result"
   ]
  },
  {
   "cell_type": "code",
   "execution_count": 552,
   "id": "d29b5a66",
   "metadata": {},
   "outputs": [],
   "source": [
    "# Remove stopwords\n",
    "def remove_stopwords(sentences):\n",
    "    result = []\n",
    "    stopwords = nltk.corpus.stopwords.words('english')\n",
    "    for sentence in sentences:\n",
    "        filtered = []\n",
    "        for word in sentence:\n",
    "            if word not in stopwords:\n",
    "                filtered.append(word)\n",
    "        result.append(filtered)\n",
    "    return result"
   ]
  },
  {
   "cell_type": "code",
   "execution_count": 553,
   "id": "2b439242",
   "metadata": {},
   "outputs": [],
   "source": [
    "# Stemming\n",
    "def stemming(sentences):\n",
    "    result = []\n",
    "    ps = PorterStemmer()\n",
    "    for sentence in sentences:\n",
    "        result.append([ps.stem(word) for word in sentence])\n",
    "    return result"
   ]
  },
  {
   "cell_type": "code",
   "execution_count": 554,
   "id": "3ce3ba97",
   "metadata": {},
   "outputs": [],
   "source": [
    "# preprocessing\n",
    "def preprocess(text):\n",
    "    text = sentence_tokenize(text)\n",
    "    text = tokenize(text)\n",
    "    text = convert_to_lowercase(text)\n",
    "    text = remove_punctuation(text)\n",
    "    text = remove_stopwords(text)\n",
    "    text = stemming(text)\n",
    "    return text\n",
    "# Outputs a list of lists containing tokens"
   ]
  },
  {
   "cell_type": "markdown",
   "id": "2f48207b",
   "metadata": {},
   "source": [
    "Create biword/uniword index: Dictionary with bigram/word as the key and the value being the set of businesses that contain that bigram/word, this helps us to retreive document frequency easily."
   ]
  },
  {
   "cell_type": "code",
   "execution_count": 555,
   "id": "46406bb4",
   "metadata": {},
   "outputs": [],
   "source": [
    "# Generate bigrams given an array of arrays of strings\n",
    "def generate_bigrams(sentences):\n",
    "    bigrams = []\n",
    "    for sentence in sentences:\n",
    "        for i in range(len(sentence) - 1):\n",
    "            bigrams.append((sentence[i], sentence[i+1]))\n",
    "    return bigrams"
   ]
  },
  {
   "cell_type": "code",
   "execution_count": 556,
   "id": "73b973fc",
   "metadata": {},
   "outputs": [],
   "source": [
    "# Create the index\n",
    "index = {}\n",
    "for review in data:\n",
    "    b_id = review['business_id']\n",
    "    preprocessed_text = preprocess(review['text']) # Array of arrays of tokens\n",
    "    bigrams = generate_bigrams(preprocessed_text)\n",
    "    \n",
    "    # index the unigrams\n",
    "    for sentence in preprocessed_text:\n",
    "        for word in sentence:\n",
    "            try:\n",
    "                index[word].add(b_id)\n",
    "            except:\n",
    "                index[word] = {b_id}\n",
    "    # index the bigrams\n",
    "    for bigram in bigrams:\n",
    "        try:\n",
    "            index[bigram].add(b_id)\n",
    "        except:\n",
    "            index[bigram] = {b_id}"
   ]
  },
  {
   "cell_type": "code",
   "execution_count": 557,
   "id": "86f51b49",
   "metadata": {},
   "outputs": [],
   "source": [
    "# Since we don't need to list of business ids in the index, we convert it to the count of business ids\n",
    "for key in index:\n",
    "    index[key] = len(index[key])"
   ]
  },
  {
   "cell_type": "code",
   "execution_count": 558,
   "id": "7114ef61",
   "metadata": {},
   "outputs": [
    {
     "data": {
      "text/plain": [
       "{'mother': 56,\n",
       " 'birthday': 72,\n",
       " 'parti': 104,\n",
       " '102916': 1,\n",
       " 'great': 153,\n",
       " 'time': 153,\n",
       " 'food': 136,\n",
       " 'music': 90,\n",
       " 'waiter': 64,\n",
       " 'thank': 142,\n",
       " 'lyle': 1,\n",
       " ('mother', 'birthday'): 1,\n",
       " ('birthday', 'parti'): 14,\n",
       " ('parti', '102916'): 1,\n",
       " ('great', 'time'): 44,\n",
       " ('food', 'music'): 3,\n",
       " ('music', 'waiter'): 1,\n",
       " ('waiter', 'great'): 5,\n",
       " ('thank', 'lyle'): 1,\n",
       " 'good': 153,\n",
       " 'korean': 17,\n",
       " 'grill': 89,\n",
       " 'near': 123,\n",
       " 'eaton': 2,\n",
       " 'centr': 10,\n",
       " 'marin': 29,\n",
       " 'got': 153,\n",
       " 'beef': 89,\n",
       " 'ox': 4,\n",
       " 'liver': 8,\n",
       " 'salmon': 41,\n",
       " 'fish': 83,\n",
       " 'fillet': 16,\n",
       " 'chicken': 108,\n",
       " 'pork': 56,\n",
       " 'belli': 33,\n",
       " 'bland': 86,\n",
       " 'meh': 65,\n",
       " 'realli': 153,\n",
       " 'flavour': 39,\n",
       " 'fun': 113,\n",
       " 'place': 153,\n",
       " 'eat': 136,\n",
       " 'date': 93,\n",
       " 'group': 111,\n",
       " 'friend': 151,\n",
       " 'even': 153,\n",
       " 'alon': 85,\n",
       " 'judgment': 11,\n",
       " 'staff': 153,\n",
       " 'attent': 126,\n",
       " 'nice': 153,\n",
       " 'consider': 37,\n",
       " 'bigger': 91,\n",
       " 'like': 153,\n",
       " 'seat': 126,\n",
       " 'second': 149,\n",
       " 'floor': 88,\n",
       " 'way': 153,\n",
       " 'caution': 12,\n",
       " 'smell': 97,\n",
       " 'bbq': 54,\n",
       " ('good', 'korean'): 3,\n",
       " ('korean', 'grill'): 2,\n",
       " ('grill', 'near'): 1,\n",
       " ('near', 'eaton'): 1,\n",
       " ('eaton', 'centr'): 2,\n",
       " ('marin', 'good'): 2,\n",
       " ('got', 'beef'): 17,\n",
       " ('beef', 'ox'): 1,\n",
       " ('ox', 'liver'): 1,\n",
       " ('liver', 'salmon'): 1,\n",
       " ('salmon', 'fish'): 2,\n",
       " ('fish', 'fillet'): 7,\n",
       " ('fillet', 'chicken'): 1,\n",
       " ('chicken', 'pork'): 12,\n",
       " ('pork', 'pork'): 3,\n",
       " ('pork', 'belli'): 8,\n",
       " ('fillet', 'bland'): 1,\n",
       " ('bland', 'liver'): 1,\n",
       " ('liver', 'meh'): 1,\n",
       " ('salmon', 'chicken'): 4,\n",
       " ('chicken', 'realli'): 13,\n",
       " ('realli', 'flavour'): 2,\n",
       " ('fun', 'place'): 22,\n",
       " ('place', 'eat'): 63,\n",
       " ('eat', 'date'): 1,\n",
       " ('date', 'group'): 2,\n",
       " ('group', 'friend'): 24,\n",
       " ('even', 'alon'): 3,\n",
       " ('staff', 'attent'): 19,\n",
       " ('attent', 'nice'): 8,\n",
       " ('nice', 'consider'): 1,\n",
       " ('bigger', 'group'): 3,\n",
       " ('group', 'like'): 5,\n",
       " ('like', 'seat'): 3,\n",
       " ('seat', 'second'): 2,\n",
       " ('second', 'floor'): 10,\n",
       " ('floor', 'way'): 1,\n",
       " ('way', 'bigger'): 7,\n",
       " ('caution', 'smell'): 1,\n",
       " ('smell', 'like'): 39,\n",
       " ('like', 'bbq'): 8,\n",
       " ('bbq', 'grill'): 4,\n",
       " 'recommend': 152,\n",
       " 'tri': 153,\n",
       " 'peopl': 153,\n",
       " 'today': 136,\n",
       " 'first': 153,\n",
       " 'say': 153,\n",
       " 'come': 153,\n",
       " 'back': 153,\n",
       " 'soon': 142,\n",
       " 'servic': 153,\n",
       " 'nt': 153,\n",
       " 'sure': 153,\n",
       " 'guy': 139,\n",
       " 'owner': 117,\n",
       " 'friendli': 152,\n",
       " 'talk': 140,\n",
       " 'stori': 73,\n",
       " 'wait': 153,\n",
       " 'love': 151,\n",
       " 'came': 153,\n",
       " 'within': 118,\n",
       " '10': 151,\n",
       " 'min': 115,\n",
       " 'hamburg': 24,\n",
       " 'steak': 71,\n",
       " 'delici': 119,\n",
       " 'gravysauc': 1,\n",
       " 'put': 151,\n",
       " 'perfect': 142,\n",
       " 'also': 153,\n",
       " 'onion': 89,\n",
       " 'ring': 52,\n",
       " 'top': 152,\n",
       " 'katsu': 6,\n",
       " 'amaz': 152,\n",
       " 'crunchi': 55,\n",
       " 'surprisingli': 65,\n",
       " 'flavor': 114,\n",
       " 'need': 153,\n",
       " 'sauc': 103,\n",
       " 'best': 153,\n",
       " 'overal': 147,\n",
       " 'journey': 15,\n",
       " 'get': 153,\n",
       " 'took': 152,\n",
       " '30min': 8,\n",
       " 'hous': 131,\n",
       " 'made': 153,\n",
       " 'worth': 152,\n",
       " 'drive': 122,\n",
       " 'poster': 14,\n",
       " 'keali': 1,\n",
       " 'reichel': 1,\n",
       " 'happen': 141,\n",
       " 'favorit': 138,\n",
       " 'clean': 144,\n",
       " 'fast': 139,\n",
       " 'could': 153,\n",
       " 'ask': 153,\n",
       " ('recommend', 'tri'): 28,\n",
       " ('tri', 'place'): 80,\n",
       " ('place', 'peopl'): 12,\n",
       " ('peopl', 'today'): 3,\n",
       " ('today', 'first'): 11,\n",
       " ('first', 'time'): 147,\n",
       " ('say', 'come'): 6,\n",
       " ('come', 'back'): 148,\n",
       " ('back', 'soon'): 55,\n",
       " ('servic', 'nt'): 50,\n",
       " ('nt', 'sure'): 34,\n",
       " ('sure', 'guy'): 4,\n",
       " ('guy', 'owner'): 1,\n",
       " ('owner', 'friendli'): 8,\n",
       " ('friendli', 'talk'): 7,\n",
       " ('talk', 'stori'): 1,\n",
       " ('stori', 'wait'): 1,\n",
       " ('wait', 'food'): 46,\n",
       " ('food', 'came'): 62,\n",
       " ('came', 'within'): 5,\n",
       " ('within', '10'): 14,\n",
       " ('10', 'min'): 51,\n",
       " ('food', 'tri'): 15,\n",
       " ('tri', 'hamburg'): 2,\n",
       " ('hamburg', 'steak'): 1,\n",
       " ('steak', 'delici'): 3,\n",
       " ('gravysauc', 'put'): 1,\n",
       " ('put', 'hamburg'): 1,\n",
       " ('steak', 'perfect'): 4,\n",
       " ('also', 'came'): 15,\n",
       " ('came', 'onion'): 1,\n",
       " ('onion', 'ring'): 18,\n",
       " ('ring', 'top'): 1,\n",
       " ('top', 'love'): 2,\n",
       " ('chicken', 'katsu'): 2,\n",
       " ('katsu', 'amaz'): 1,\n",
       " ('katsu', 'crunchi'): 1,\n",
       " ('crunchi', 'surprisingli'): 1,\n",
       " ('surprisingli', 'flavor'): 1,\n",
       " ('flavor', 'realli'): 5,\n",
       " ('realli', 'nt'): 54,\n",
       " ('nt', 'need'): 58,\n",
       " ('need', 'sauc'): 4,\n",
       " ('best', 'chicken'): 7,\n",
       " ('overal', 'journey'): 1,\n",
       " ('journey', 'get'): 1,\n",
       " ('get', 'place'): 11,\n",
       " ('place', 'took'): 5,\n",
       " ('took', '30min'): 1,\n",
       " ('30min', 'hous'): 1,\n",
       " ('hous', 'servic'): 3,\n",
       " ('servic', 'food'): 64,\n",
       " ('food', 'made'): 19,\n",
       " ('made', 'worth'): 2,\n",
       " ('worth', 'drive'): 24,\n",
       " ('also', 'love'): 33,\n",
       " ('love', 'poster'): 1,\n",
       " ('poster', 'keali'): 1,\n",
       " ('keali', 'reichel'): 1,\n",
       " ('reichel', 'happen'): 1,\n",
       " ('happen', 'favorit'): 2,\n",
       " ('place', 'clean'): 54,\n",
       " ('clean', 'servic'): 13,\n",
       " ('servic', 'fast'): 56,\n",
       " ('fast', 'friendli'): 44,\n",
       " ('friendli', 'food'): 39,\n",
       " ('food', 'delici'): 68,\n",
       " ('could', 'ask'): 27,\n",
       " 'ambienc': 52,\n",
       " 'would': 153,\n",
       " 'expect': 151,\n",
       " 'someth': 152,\n",
       " 'canneri': 3,\n",
       " 'hotel': 47,\n",
       " 'nicest': 35,\n",
       " 'look': 153,\n",
       " 'restaur': 121,\n",
       " 'coupl': 150,\n",
       " 'gather': 21,\n",
       " 'make': 153,\n",
       " 'unfortun': 127,\n",
       " 'us': 153,\n",
       " 'terribl': 128,\n",
       " 'fairli': 95,\n",
       " 'close': 150,\n",
       " 'hour': 148,\n",
       " 'earli': 115,\n",
       " 'vega': 44,\n",
       " 'clear': 106,\n",
       " 'want': 153,\n",
       " 'go': 153,\n",
       " 'home': 151,\n",
       " 'right': 153,\n",
       " 'start': 151,\n",
       " 'hurri': 49,\n",
       " 'order': 143,\n",
       " 'aggress': 20,\n",
       " 'goe': 104,\n",
       " 'littl': 153,\n",
       " 'salti': 81,\n",
       " 'item': 124,\n",
       " 'visit': 152,\n",
       " 'warrant': 15,\n",
       " '3': 151,\n",
       " 'star': 152,\n",
       " 'scallop': 17,\n",
       " 'wrap': 85,\n",
       " 'bacon': 67,\n",
       " 'calamari': 17,\n",
       " 'cobb': 8,\n",
       " 'salad': 99,\n",
       " 'etc': 123,\n",
       " ('ambienc', 'would'): 2,\n",
       " ('would', 'expect'): 45,\n",
       " ('expect', 'someth'): 9,\n",
       " ('someth', 'nice'): 4,\n",
       " ('nice', 'canneri'): 1,\n",
       " ('canneri', 'hotel'): 1,\n",
       " ('hotel', 'nicest'): 1,\n",
       " ('nicest', 'look'): 2,\n",
       " ('look', 'restaur'): 7,\n",
       " ('coupl', 'group'): 3,\n",
       " ('group', 'gather'): 2,\n",
       " ('servic', 'ambienc'): 3,\n",
       " ('ambienc', 'food'): 3,\n",
       " ('food', 'make'): 21,\n",
       " ('make', 'unfortun'): 1,\n",
       " ('unfortun', 'us'): 1,\n",
       " ('us', 'servic'): 4,\n",
       " ('servic', 'terribl'): 28,\n",
       " ('come', 'fairli'): 2,\n",
       " ('fairli', 'close'): 3,\n",
       " ('close', 'restaur'): 5,\n",
       " ('restaur', 'close'): 23,\n",
       " ('close', 'time'): 24,\n",
       " ('time', 'within'): 6,\n",
       " ('within', 'hour'): 17,\n",
       " ('hour', 'close'): 17,\n",
       " ('close', 'earli'): 13,\n",
       " ('earli', 'vega'): 3,\n",
       " ('staff', 'make'): 14,\n",
       " ('make', 'clear'): 4,\n",
       " ('clear', 'want'): 3,\n",
       " ('want', 'go'): 70,\n",
       " ('go', 'home'): 30,\n",
       " ('home', 'right'): 6,\n",
       " ('right', 'start'): 2,\n",
       " ('start', 'hurri'): 1,\n",
       " ('hurri', 'order'): 2,\n",
       " ('order', 'aggress'): 1,\n",
       " ('aggress', 'time'): 1,\n",
       " ('time', 'goe'): 2,\n",
       " ('food', 'good'): 94,\n",
       " ('littl', 'salti'): 10,\n",
       " ('salti', 'item'): 1,\n",
       " ('item', 'first'): 2,\n",
       " ('first', 'visit'): 72,\n",
       " ('visit', 'good'): 6,\n",
       " ('good', 'overal'): 11,\n",
       " ('overal', 'warrant'): 1,\n",
       " ('warrant', 'overal'): 1,\n",
       " ('overal', '3'): 2,\n",
       " ('3', 'star'): 69,\n",
       " ('scallop', 'wrap'): 1,\n",
       " ('wrap', 'bacon'): 3,\n",
       " ('cobb', 'salad'): 7,\n",
       " 'absolut': 149,\n",
       " 'worst': 121,\n",
       " 'pool': 25,\n",
       " 'compani': 58,\n",
       " 'ever': 153,\n",
       " 'deal': 143,\n",
       " 'custom': 150,\n",
       " 'horribl': 115,\n",
       " 'leav': 149,\n",
       " 'mani': 153,\n",
       " 'messag': 37,\n",
       " 'cours': 126,\n",
       " 'week': 144,\n",
       " 'abl': 136,\n",
       " 'contact': 56,\n",
       " 'call': 151,\n",
       " 'speak': 96,\n",
       " 'actual': 150,\n",
       " 'tech': 23,\n",
       " 'initi': 61,\n",
       " 'rude': 114,\n",
       " 'ladi': 122,\n",
       " 'phone': 106,\n",
       " 'told': 151,\n",
       " 'capabl': 7,\n",
       " 'answer': 85,\n",
       " 'question': 110,\n",
       " '-': 152,\n",
       " 'pump': 15,\n",
       " 'seen': 119,\n",
       " 'convers': 76,\n",
       " 'hear': 106,\n",
       " 'assign': 18,\n",
       " 'warranti': 9,\n",
       " 'file': 26,\n",
       " 'seriou': 56,\n",
       " 'complaint': 116,\n",
       " 'bbb': 10,\n",
       " 'take': 153,\n",
       " 'cash': 82,\n",
       " 'option': 150,\n",
       " 'part': 145,\n",
       " 'work': 152,\n",
       " 'pay': 144,\n",
       " 'directli': 29,\n",
       " 'receiv': 126,\n",
       " 'schedul': 46,\n",
       " 'appoint': 40,\n",
       " 'replac': 66,\n",
       " 'entir': 122,\n",
       " 'system': 58,\n",
       " 'cost': 125,\n",
       " 'addit': 118,\n",
       " '400': 19,\n",
       " 'electr': 16,\n",
       " 'problem': 131,\n",
       " 'money': 139,\n",
       " 'well': 153,\n",
       " 'salt': 84,\n",
       " 'cell': 24,\n",
       " 'longer': 113,\n",
       " 'market': 48,\n",
       " 'though': 151,\n",
       " 'find': 153,\n",
       " 'amazon': 6,\n",
       " 'reason': 151,\n",
       " 'still': 153,\n",
       " 'discuss': 33,\n",
       " 'saw': 133,\n",
       " 'scam': 15,\n",
       " 'jack': 31,\n",
       " 'around': 153,\n",
       " 'use': 153,\n",
       " 'anoth': 153,\n",
       " ('absolut', 'worst'): 19,\n",
       " ('worst', 'pool'): 1,\n",
       " ('pool', 'compani'): 2,\n",
       " ('compani', 'ever'): 5,\n",
       " ('ever', 'deal'): 2,\n",
       " ('custom', 'servic'): 133,\n",
       " ('servic', 'horribl'): 29,\n",
       " ('leav', 'mani'): 1,\n",
       " ('mani', 'messag'): 1,\n",
       " ('messag', 'cours'): 1,\n",
       " ('cours', 'week'): 3,\n",
       " ('week', 'abl'): 2,\n",
       " ('abl', 'contact'): 1,\n",
       " ('contact', 'call'): 1,\n",
       " ('ask', 'speak'): 17,\n",
       " ('speak', 'actual'): 1,\n",
       " ('actual', 'pool'): 1,\n",
       " ('pool', 'tech'): 1,\n",
       " ('tech', 'initi'): 1,\n",
       " ('initi', 'came'): 1,\n",
       " ('came', 'hous'): 5,\n",
       " ('rude', 'ladi'): 2,\n",
       " ('ladi', 'phone'): 3,\n",
       " ('phone', 'told'): 4,\n",
       " ('told', 'capabl'): 1,\n",
       " ('capabl', 'answer'): 1,\n",
       " ('answer', 'question'): 34,\n",
       " ('question', '-'): 2,\n",
       " ('-', 'pump'): 1,\n",
       " ('pump', 'seen'): 1,\n",
       " ('seen', 'convers'): 1,\n",
       " ('convers', 'tech'): 1,\n",
       " ('tech', 'hear'): 1,\n",
       " ('assign', 'home'): 1,\n",
       " ('home', 'warranti'): 1,\n",
       " ('warranti', 'compani'): 2,\n",
       " ('compani', 'file'): 1,\n",
       " ('file', 'seriou'): 1,\n",
       " ('seriou', 'complaint'): 1,\n",
       " ('complaint', 'bbb'): 4,\n",
       " ('told', 'take'): 11,\n",
       " ('take', 'cash'): 4,\n",
       " ('cash', 'option'): 2,\n",
       " ('option', 'warranti'): 1,\n",
       " ('compani', 'part'): 1,\n",
       " ('part', 'would'): 3,\n",
       " ('would', 'work'): 10,\n",
       " ('work', 'could'): 7,\n",
       " ('could', 'pay'): 8,\n",
       " ('pay', 'directli'): 1,\n",
       " ('receiv', 'cash'): 1,\n",
       " ('cash', 'call'): 2,\n",
       " ('call', 'schedul'): 5,\n",
       " ('schedul', 'appoint'): 18,\n",
       " ('appoint', 'told'): 1,\n",
       " ('told', 'need'): 16,\n",
       " ('need', 'replac'): 9,\n",
       " ('replac', 'entir'): 1,\n",
       " ('entir', 'pool'): 1,\n",
       " ('pool', 'pump'): 2,\n",
       " ('pump', 'system'): 1,\n",
       " ('system', 'would'): 1,\n",
       " ('would', 'cost'): 17,\n",
       " ('cost', 'addit'): 3,\n",
       " ('addit', '400'): 2,\n",
       " ('400', 'electr'): 1,\n",
       " ('electr', 'problem'): 3,\n",
       " ('problem', 'would'): 4,\n",
       " ('addit', 'money'): 1,\n",
       " ('money', 'well'): 8,\n",
       " ('told', 'salt'): 1,\n",
       " ('salt', 'cell'): 1,\n",
       " ('cell', 'need'): 1,\n",
       " ('need', 'longer'): 2,\n",
       " ('longer', 'market'): 1,\n",
       " ('market', 'even'): 1,\n",
       " ('even', 'though'): 127,\n",
       " ('though', 'abl'): 2,\n",
       " ('abl', 'find'): 21,\n",
       " ('find', 'amazon'): 1,\n",
       " ('reason', 'still'): 3,\n",
       " ('still', 'tri'): 11,\n",
       " ('tri', 'discuss'): 1,\n",
       " ('discuss', 'option'): 3,\n",
       " ('option', 'tech'): 1,\n",
       " ('tech', 'actual'): 1,\n",
       " ('actual', 'saw'): 4,\n",
       " ('saw', 'pool'): 1,\n",
       " ('nt', 'want'): 120,\n",
       " ('want', 'scam'): 1,\n",
       " ('scam', 'jack'): 1,\n",
       " ('jack', 'around'): 2,\n",
       " ('around', 'use'): 1,\n",
       " ('use', 'anoth'): 4,\n",
       " ('anoth', 'pool'): 1,\n",
       " 'kalbi': 5,\n",
       " 'alway': 153,\n",
       " 'hmm': 19,\n",
       " 'think': 150,\n",
       " 'wan': 26,\n",
       " 'na': 68,\n",
       " 'todayi': 1,\n",
       " 'noodl': 40,\n",
       " 'sweet': 134,\n",
       " ('love', 'love'): 42,\n",
       " ('love', 'kalbi'): 2,\n",
       " ('kalbi', 'alway'): 1,\n",
       " ('alway', 'order'): 33,\n",
       " ('order', 'sauc'): 2,\n",
       " ('sauc', 'make'): 11,\n",
       " ('make', 'realli'): 7,\n",
       " ('realli', 'good'): 129,\n",
       " ('good', 'hmm'): 1,\n",
       " ('hmm', 'think'): 1,\n",
       " ('think', 'wan'): 1,\n",
       " ('wan', 'na'): 25,\n",
       " ('na', 'eat'): 1,\n",
       " ('eat', 'todayi'): 1,\n",
       " ('todayi', 'nt'): 1,\n",
       " ('nt', 'like'): 111,\n",
       " ('like', 'noodl'): 2,\n",
       " ('noodl', 'sweet'): 5,\n",
       " 'insid': 139,\n",
       " 'seem': 152,\n",
       " 'crab': 37,\n",
       " 'cake': 63,\n",
       " 'soooo': 50,\n",
       " ('place', 'realli'): 50,\n",
       " ('realli', 'nice'): 86,\n",
       " ('nice', 'insid'): 9,\n",
       " ('insid', 'nt'): 4,\n",
       " ('nt', 'seem'): 76,\n",
       " ('seem', 'like'): 110,\n",
       " ('like', 'canneri'): 1,\n",
       " ('crab', 'cake'): 9,\n",
       " ('cake', 'good'): 4,\n",
       " ('good', 'chicken'): 11,\n",
       " ('best', 'part'): 73,\n",
       " ('part', 'waiter'): 1,\n",
       " ('waiter', 'soooo'): 1,\n",
       " ('soooo', 'nice'): 1,\n",
       " ('nice', 'attent'): 15,\n",
       " ('great', 'custom'): 54,\n",
       " 'atmospher': 119,\n",
       " 'plenti': 122,\n",
       " 'tv': 60,\n",
       " 'price': 151,\n",
       " 'afford': 86,\n",
       " 'serv': 130,\n",
       " 'stop': 148,\n",
       " 'dinner': 108,\n",
       " 'menu': 127,\n",
       " '1030': 20,\n",
       " 'nacho': 27,\n",
       " ('nice', 'atmospher'): 30,\n",
       " ('atmospher', 'plenti'): 1,\n",
       " ('plenti', 'tv'): 7,\n",
       " ('price', 'afford'): 13,\n",
       " ('serv', 'food'): 30,\n",
       " ('food', 'stop'): 1,\n",
       " ('stop', 'dinner'): 12,\n",
       " ('dinner', 'dinner'): 2,\n",
       " ('dinner', 'menu'): 14,\n",
       " ('menu', '1030'): 1,\n",
       " ('order', 'bbq'): 7,\n",
       " ('bbq', 'chicken'): 11,\n",
       " ('chicken', 'nacho'): 2,\n",
       " ('nacho', 'good'): 4,\n",
       " 'filet': 18,\n",
       " 'lobster': 25,\n",
       " 'tail': 19,\n",
       " 'hard': 148,\n",
       " 'beat': 94,\n",
       " '30': 126,\n",
       " 'point': 151,\n",
       " ('food', 'amaz'): 46,\n",
       " ('filet', 'lobster'): 3,\n",
       " ('lobster', 'tail'): 5,\n",
       " ('tail', 'perfect'): 1,\n",
       " ('hard', 'beat'): 8,\n",
       " ('beat', 'great'): 1,\n",
       " ('great', 'steak'): 7,\n",
       " ('steak', 'lobster'): 3,\n",
       " ('tail', '30'): 1,\n",
       " ('also', 'servic'): 10,\n",
       " ('servic', 'point'): 10,\n",
       " 'spring': 52,\n",
       " 'roll': 101,\n",
       " 'pho': 12,\n",
       " 'quick': 148,\n",
       " 'lunch': 129,\n",
       " ('great', 'spring'): 1,\n",
       " ('spring', 'roll'): 23,\n",
       " ('roll', 'pho'): 1,\n",
       " ('got', 'food'): 36,\n",
       " ('food', 'fairli'): 6,\n",
       " ('fairli', 'quick'): 9,\n",
       " ('quick', 'made'): 1,\n",
       " ('made', 'great'): 16,\n",
       " ('great', 'stop'): 8,\n",
       " ('stop', 'lunch'): 24,\n",
       " 'finish': 138,\n",
       " 'breakfast': 56,\n",
       " 'experienc': 87,\n",
       " 'trisha': 2,\n",
       " 'except': 134,\n",
       " 'server': 92,\n",
       " 'chocol': 60,\n",
       " 'peanut': 25,\n",
       " 'butter': 64,\n",
       " 'pancak': 26,\n",
       " 'nectar': 3,\n",
       " 'awesom': 149,\n",
       " 'far': 151,\n",
       " 'superior': 24,\n",
       " 'rees': 2,\n",
       " 'overeasi': 2,\n",
       " ('finish', 'breakfast'): 1,\n",
       " ('breakfast', 'experienc'): 1,\n",
       " ('experienc', 'best'): 1,\n",
       " ('best', 'custom'): 16,\n",
       " ('trisha', 'except'): 1,\n",
       " ('except', 'server'): 2,\n",
       " ('chocol', 'peanut'): 2,\n",
       " ('peanut', 'butter'): 12,\n",
       " ('butter', 'pancak'): 1,\n",
       " ('pancak', 'like'): 3,\n",
       " ('like', 'eat'): 28,\n",
       " ('eat', 'nectar'): 1,\n",
       " ('nectar', 'awesom'): 1,\n",
       " ('far', 'superior'): 6,\n",
       " ('superior', 'rees'): 1,\n",
       " ('rees', 'pancak'): 2,\n",
       " ('pancak', 'tri'): 1,\n",
       " ('tri', 'overeasi'): 1,\n",
       " 'cook': 112,\n",
       " 'locat': 146,\n",
       " 'decent': 137,\n",
       " 'rate': 134,\n",
       " 'higher': 86,\n",
       " 'better': 153,\n",
       " 'n': 71,\n",
       " 'drink': 134,\n",
       " 'interest': 115,\n",
       " 'matter': 110,\n",
       " 'polit': 91,\n",
       " ('good', 'food'): 94,\n",
       " ('food', 'well'): 20,\n",
       " ('well', 'cook'): 20,\n",
       " ('cook', 'great'): 6,\n",
       " ('great', 'place'): 119,\n",
       " ('place', 'good'): 69,\n",
       " ('good', 'locat'): 18,\n",
       " ('locat', 'decent'): 3,\n",
       " ('decent', 'price'): 48,\n",
       " ('would', 'rate'): 17,\n",
       " ('rate', 'higher'): 6,\n",
       " ('higher', 'servic'): 1,\n",
       " ('servic', 'better'): 21,\n",
       " ('better', 'time'): 13,\n",
       " ('time', 'n'): 1,\n",
       " ('n', 'wait'): 1,\n",
       " ('wait', 'n'): 1,\n",
       " ('n', 'call'): 1,\n",
       " ('call', 'get'): 10,\n",
       " ('get', 'food'): 68,\n",
       " ('food', 'drink'): 34,\n",
       " ('server', 'alway'): 13,\n",
       " ('alway', 'interest'): 2,\n",
       " ('interest', 'look'): 2,\n",
       " ('look', 'get'): 16,\n",
       " ('get', 'matter'): 1,\n",
       " ('matter', 'polit'): 1,\n",
       " ('polit', 'tri'): 1,\n",
       " 'bad': 150,\n",
       " 'pub': 18,\n",
       " 'slider': 16,\n",
       " 'pepper': 82,\n",
       " 'wing': 48,\n",
       " 'mushroom': 65,\n",
       " 'burger': 55,\n",
       " '--': 123,\n",
       " 'forgett': 8,\n",
       " 'fri': 102,\n",
       " 'rememb': 131,\n",
       " ('bad', 'littl'): 2,\n",
       " ('littl', 'pub'): 2,\n",
       " ('slider', 'salt'): 1,\n",
       " ('salt', 'pepper'): 26,\n",
       " ('pepper', 'wing'): 4,\n",
       " ('wing', 'mushroom'): 1,\n",
       " ('mushroom', 'burger'): 1,\n",
       " ('burger', '--'): 1,\n",
       " ('--', 'forgett'): 1,\n",
       " ('forgett', 'good'): 1,\n",
       " ('fri', 'rememb'): 1,\n",
       " ('rememb', 'come'): 11,\n",
       " 'prime': 28,\n",
       " 'rib': 33,\n",
       " 'excel': 147,\n",
       " 'dine': 98,\n",
       " 'experi': 153,\n",
       " ('prime', 'rib'): 7,\n",
       " ('rib', 'excel'): 4,\n",
       " ('excel', 'servic'): 55,\n",
       " ('servic', 'excel'): 58,\n",
       " ('dine', 'experi'): 44,\n",
       " ('experi', 'could'): 7,\n",
       " ('could', 'better'): 41,\n",
       " 'phenomen': 54,\n",
       " 'practic': 59,\n",
       " 'dr': 21,\n",
       " 'wellish': 1,\n",
       " 'top-notch': 11,\n",
       " 'incred': 111,\n",
       " 'heidi': 2,\n",
       " 'extra': 144,\n",
       " 'level': 94,\n",
       " 'follow-up': 7,\n",
       " 'diagnos': 13,\n",
       " 'cataract': 1,\n",
       " 'eye': 107,\n",
       " 'unusu': 26,\n",
       " 'young': 85,\n",
       " 'age': 54,\n",
       " 'expertis': 5,\n",
       " 'knowledg': 78,\n",
       " 'choic': 138,\n",
       " 'terrif': 54,\n",
       " 'care': 147,\n",
       " 'offic': 67,\n",
       " 'run': 138,\n",
       " 'effici': 89,\n",
       " 'surgeri': 10,\n",
       " 'breez': 16,\n",
       " '1': 139,\n",
       " 'hr': 30,\n",
       " 'prep': 24,\n",
       " 'minut': 153,\n",
       " 'one': 153,\n",
       " 'per': 72,\n",
       " 'see': 153,\n",
       " 'immedi': 114,\n",
       " 'aft': 2,\n",
       " 'albeit': 19,\n",
       " 'sensit': 27,\n",
       " 'light': 124,\n",
       " 'truli': 94,\n",
       " 'vist': 1,\n",
       " 'accomod': 15,\n",
       " 'pleas': 141,\n",
       " 'vision': 11,\n",
       " 'glass': 86,\n",
       " 'fantast': 135,\n",
       " 'word': 104,\n",
       " 'lens': 3,\n",
       " 'varianc': 1,\n",
       " 'insur': 13,\n",
       " 'paid': 126,\n",
       " '100': 99,\n",
       " 'other': 132,\n",
       " '50': 94,\n",
       " 'financi': 14,\n",
       " 'decison': 1,\n",
       " 'understand': 127,\n",
       " 'out-of-pocket': 2,\n",
       " 'includ': 144,\n",
       " 'med': 13,\n",
       " 'drop': 104,\n",
       " 'center': 67,\n",
       " 'along': 123,\n",
       " 'len': 1,\n",
       " 'choos': 122,\n",
       " ('phenomen', 'practic'): 1,\n",
       " ('dr', 'wellish'): 1,\n",
       " ('wellish', 'absolut'): 1,\n",
       " ('absolut', 'top-notch'): 1,\n",
       " ('top-notch', 'staff'): 1,\n",
       " ('staff', 'incred'): 15,\n",
       " ('incred', 'friendli'): 15,\n",
       " ('friendli', 'love'): 7,\n",
       " ('love', 'heidi'): 1,\n",
       " ('heidi', '--'): 1,\n",
       " ('--', 'extra'): 1,\n",
       " ('extra', 'level'): 1,\n",
       " ('level', 'servic'): 15,\n",
       " ('servic', 'follow-up'): 1,\n",
       " ('diagnos', 'cataract'): 1,\n",
       " ('cataract', 'eye'): 1,\n",
       " ('eye', 'unusu'): 1,\n",
       " ('unusu', 'young'): 1,\n",
       " ('young', 'age'): 1,\n",
       " ('age', 'amaz'): 1,\n",
       " ('amaz', 'expertis'): 1,\n",
       " ('expertis', 'knowledg'): 2,\n",
       " ('knowledg', 'choic'): 1,\n",
       " ('choic', 'recommend'): 1,\n",
       " ('recommend', 'terrif'): 1,\n",
       " ('terrif', 'care'): 1,\n",
       " ('offic', 'seem'): 1,\n",
       " ('seem', 'also'): 1,\n",
       " ('also', 'run'): 4,\n",
       " ('run', 'effici'): 1,\n",
       " ('surgeri', 'breez'): 1,\n",
       " ('breez', '1'): 1,\n",
       " ('1', 'hr'): 4,\n",
       " ('hr', 'prep'): 1,\n",
       " ('prep', '10'): 1,\n",
       " ('10', 'minut'): 99,\n",
       " ('minut', 'surgeri'): 1,\n",
       " ('one', 'eye'): 2,\n",
       " ('eye', 'per'): 1,\n",
       " ('per', 'visit'): 1,\n",
       " ('visit', 'could'): 3,\n",
       " ('could', 'see'): 51,\n",
       " ('see', 'immedi'): 2,\n",
       " ('immedi', 'aft'): 1,\n",
       " ('aft', 'albeit'): 1,\n",
       " ('albeit', 'sensit'): 1,\n",
       " ('sensit', 'light'): 1,\n",
       " ('wellish', 'truli'): 1,\n",
       " ('truli', 'terrif'): 1,\n",
       " ('follow-up', 'vist'): 1,\n",
       " ('vist', 'accomod'): 1,\n",
       " ('accomod', 'schedul'): 1,\n",
       " ('schedul', 'pleas'): 1,\n",
       " ('pleas', 'vision'): 1,\n",
       " ('vision', '-'): 1,\n",
       " ('-', 'glass'): 2,\n",
       " ('glass', 'see'): 1,\n",
       " ('see', 'fantast'): 1,\n",
       " ('one', 'word'): 18,\n",
       " ('word', 'caution'): 3,\n",
       " ('caution', 'choic'): 1,\n",
       " ('choic', 'lens'): 1,\n",
       " ('lens', 'great'): 1,\n",
       " ('great', 'varianc'): 1,\n",
       " ('varianc', 'cost'): 1,\n",
       " ('insur', 'would'): 1,\n",
       " ('would', 'paid'): 4,\n",
       " ('paid', '100'): 4,\n",
       " ('100', 'other'): 1,\n",
       " ('other', '50'): 1,\n",
       " ('financi', 'part'): 1,\n",
       " ('part', 'decison'): 1,\n",
       " ('decison', 'choic'): 1,\n",
       " ('choic', 'make'): 4,\n",
       " ('make', 'sure'): 123,\n",
       " ('sure', 'understand'): 2,\n",
       " ('understand', 'cost'): 1,\n",
       " ('cost', 'out-of-pocket'): 1,\n",
       " ('would', 'includ'): 4,\n",
       " ('includ', 'med'): 2,\n",
       " ('med', 'drop'): 1,\n",
       " ('drop', 'surgeri'): 1,\n",
       " ('surgeri', 'center'): 1,\n",
       " ('center', 'cost'): 1,\n",
       " ('cost', 'along'): 1,\n",
       " ('along', 'len'): 1,\n",
       " ('len', 'cost'): 1,\n",
       " ('cost', 'choos'): 1,\n",
       " 'red': 110,\n",
       " 'door': 138,\n",
       " 'signatur': 49,\n",
       " 'facial': 9,\n",
       " 'jordan': 6,\n",
       " 'skin': 42,\n",
       " 'feel': 153,\n",
       " 'smoother': 10,\n",
       " 'moistur': 11,\n",
       " 'eleg': 17,\n",
       " 'relax': 72,\n",
       " ('visit', 'first'): 6,\n",
       " ('time', 'today'): 25,\n",
       " ('red', 'door'): 1,\n",
       " ('door', 'signatur'): 1,\n",
       " ('signatur', 'facial'): 2,\n",
       " ('jordan', 'amaz'): 1,\n",
       " ('skin', 'look'): 3,\n",
       " ('look', 'feel'): 10,\n",
       " ('feel', 'smoother'): 1,\n",
       " ('smoother', 'moistur'): 1,\n",
       " ('atmospher', 'eleg'): 1,\n",
       " ('eleg', 'relax'): 2,\n",
       " 'qualm': 6,\n",
       " 'announc': 15,\n",
       " 'tj': 3,\n",
       " 'singl': 100,\n",
       " 'park': 121,\n",
       " 'avail': 121,\n",
       " 'via': 35,\n",
       " 'two': 153,\n",
       " 'lot': 153,\n",
       " 'monro': 1,\n",
       " 'spooner': 1,\n",
       " 'cart': 26,\n",
       " 'tidi': 9,\n",
       " 'never': 153,\n",
       " 'massiv': 44,\n",
       " 'dump': 26,\n",
       " 'sprawl': 4,\n",
       " 'street': 118,\n",
       " 'store': 104,\n",
       " 'well-maintain': 2,\n",
       " 'task': 19,\n",
       " 'help': 150,\n",
       " '95': 14,\n",
       " 'recogn': 34,\n",
       " 'recur': 2,\n",
       " 'produc': 16,\n",
       " 'qualiti': 145,\n",
       " 'specialti': 51,\n",
       " 'holiday': 56,\n",
       " 'season': 107,\n",
       " 'promot': 28,\n",
       " 'pizza': 51,\n",
       " 'crust': 36,\n",
       " 'dough': 27,\n",
       " 'summer': 57,\n",
       " 'ice': 109,\n",
       " 'coffe': 69,\n",
       " 'concentr': 9,\n",
       " 'winter': 41,\n",
       " 'panetton': 1,\n",
       " 'yum': 83,\n",
       " 'hidden': 67,\n",
       " 'gem': 76,\n",
       " 'imho': 10,\n",
       " 'tea': 89,\n",
       " 'tree': 14,\n",
       " 'infus': 14,\n",
       " 'bodi': 32,\n",
       " 'wash': 66,\n",
       " 'face': 108,\n",
       " 'scrub': 14,\n",
       " 'faceskin': 1,\n",
       " 'cleans': 6,\n",
       " 'pad': 32,\n",
       " 'oil': 70,\n",
       " 'kool-aid': 4,\n",
       " 'head': 133,\n",
       " 'local': 115,\n",
       " 'bean': 65,\n",
       " ('one', 'qualm'): 1,\n",
       " ('qualm', 'announc'): 1,\n",
       " ('announc', 'tj'): 1,\n",
       " ('singl', 'qualm'): 1,\n",
       " ('park', 'avail'): 5,\n",
       " ('avail', 'via'): 1,\n",
       " ('via', 'two'): 1,\n",
       " ('two', 'lot'): 3,\n",
       " ('lot', 'one'): 2,\n",
       " ('one', 'monro'): 1,\n",
       " ('monro', 'spooner'): 1,\n",
       " ('cart', 'alway'): 1,\n",
       " ('alway', 'tidi'): 2,\n",
       " ('tidi', 'never'): 1,\n",
       " ('never', 'massiv'): 1,\n",
       " ('massiv', 'dump'): 1,\n",
       " ('dump', 'sprawl'): 1,\n",
       " ('sprawl', 'park'): 1,\n",
       " ('park', 'lot'): 69,\n",
       " ('lot', 'street'): 1,\n",
       " ('store', 'tidi'): 1,\n",
       " ('tidi', 'well-maintain'): 1,\n",
       " ('staff', 'alway'): 60,\n",
       " ('alway', 'top'): 9,\n",
       " ('top', 'task'): 1,\n",
       " ('task', 'help'): 1,\n",
       " ('help', 'friendli'): 22,\n",
       " ('friendli', '95'): 1,\n",
       " ('95', 'time'): 3,\n",
       " ('time', 'mani'): 4,\n",
       " ('mani', 'come'): 1,\n",
       " ('come', 'recogn'): 1,\n",
       " ('recogn', 'recur'): 1,\n",
       " ('recur', 'visit'): 1,\n",
       " ('produc', 'decent'): 1,\n",
       " ('decent', 'qualiti'): 8,\n",
       " ('qualiti', 'alway'): 3,\n",
       " ('alway', 'find'): 8,\n",
       " ('find', 'need'): 4,\n",
       " ('specialti', 'holiday'): 1,\n",
       " ('holiday', 'season'): 4,\n",
       " ('season', 'promot'): 1,\n",
       " ('promot', 'alway'): 1,\n",
       " ('alway', 'fun'): 10,\n",
       " ('fun', 'pizza'): 1,\n",
       " ('pizza', 'crust'): 5,\n",
       " ('crust', 'dough'): 2,\n",
       " ('dough', 'summer'): 1,\n",
       " ('summer', 'ice'): 1,\n",
       " ('ice', 'coffe'): 12,\n",
       " ('coffe', 'concentr'): 1,\n",
       " ('concentr', 'winter'): 1,\n",
       " ('winter', 'holiday'): 2,\n",
       " ('holiday', 'panetton'): 1,\n",
       " ...}"
      ]
     },
     "execution_count": 558,
     "metadata": {},
     "output_type": "execute_result"
    }
   ],
   "source": [
    "index"
   ]
  },
  {
   "cell_type": "markdown",
   "id": "312fc738",
   "metadata": {},
   "source": [
    "#### Calculating TF-IDF"
   ]
  },
  {
   "cell_type": "markdown",
   "id": "33621e24",
   "metadata": {},
   "source": [
    "###### Term Frequency\n",
    "Term frequency is calculated by number of occurrences of the term (word or bigram) divided by the number of terms (word or bigram) in the entire document (in this case, the business)"
   ]
  },
  {
   "cell_type": "code",
   "execution_count": 559,
   "id": "7b29f29b",
   "metadata": {},
   "outputs": [],
   "source": [
    "# Find word/biword count stored in a dictionary { token : count }\n",
    "token_count = {}\n",
    "for review in data:\n",
    "    if review['business_id'] == selected_business_id:\n",
    "        # break up review text into sentences\n",
    "        sentences = preprocess(review['text'])\n",
    "        # find the count of each unigram\n",
    "        for sentence in sentences:\n",
    "            for word in sentence:\n",
    "                try:\n",
    "                    token_count[word] += 1\n",
    "                except:\n",
    "                    token_count[word] = 1\n",
    "        # find the count of each bigram\n",
    "        bigrams = generate_bigrams(sentences)\n",
    "        for bigram in bigrams:\n",
    "            try:\n",
    "                token_count[bigram] += 1\n",
    "            except:\n",
    "                token_count[bigram] = 1"
   ]
  },
  {
   "cell_type": "code",
   "execution_count": 560,
   "id": "469ef39e",
   "metadata": {},
   "outputs": [
    {
     "data": {
      "text/plain": [
       "{'connor': 1,\n",
       " 'nicest': 1,\n",
       " 'guy': 3,\n",
       " 'work': 19,\n",
       " 'friendli': 38,\n",
       " 'experi': 4,\n",
       " 'explain': 4,\n",
       " 'variou': 4,\n",
       " 'yogurt': 127,\n",
       " 'make': 20,\n",
       " 'chill': 2,\n",
       " 'environ': 2,\n",
       " ('connor', 'nicest'): 1,\n",
       " ('nicest', 'guy'): 1,\n",
       " ('guy', 'work'): 1,\n",
       " ('work', 'friendli'): 1,\n",
       " ('friendli', 'experi'): 1,\n",
       " ('experi', 'explain'): 1,\n",
       " ('explain', 'variou'): 1,\n",
       " ('variou', 'yogurt'): 1,\n",
       " ('make', 'chill'): 1,\n",
       " ('chill', 'environ'): 1,\n",
       " 'great': 46,\n",
       " 'locat': 8,\n",
       " 'get': 42,\n",
       " 'froyo': 14,\n",
       " 'north': 4,\n",
       " 'glendal': 6,\n",
       " '10': 4,\n",
       " 'discount': 1,\n",
       " 'midwestern': 1,\n",
       " 'student': 1,\n",
       " 'flavor': 66,\n",
       " 'top': 85,\n",
       " 'consist': 4,\n",
       " 'good': 38,\n",
       " '-': 7,\n",
       " 'problem': 2,\n",
       " 'rotat': 1,\n",
       " 'frequent': 5,\n",
       " 'otherwis': 3,\n",
       " 'clean': 44,\n",
       " 'insid': 6,\n",
       " 'employe': 20,\n",
       " 'sampl': 30,\n",
       " 'commit': 1,\n",
       " 'particular': 1,\n",
       " 'cup': 15,\n",
       " 'also': 19,\n",
       " 'reward': 3,\n",
       " 'program': 4,\n",
       " 'coupl': 5,\n",
       " 'visit': 9,\n",
       " ('great', 'locat'): 1,\n",
       " ('locat', 'get'): 1,\n",
       " ('get', 'froyo'): 2,\n",
       " ('froyo', 'north'): 1,\n",
       " ('north', 'glendal'): 2,\n",
       " ('glendal', '10'): 1,\n",
       " ('10', 'discount'): 1,\n",
       " ('discount', 'midwestern'): 1,\n",
       " ('midwestern', 'student'): 1,\n",
       " ('flavor', 'top'): 6,\n",
       " ('top', 'consist'): 1,\n",
       " ('consist', 'good'): 1,\n",
       " ('good', '-'): 1,\n",
       " ('-', 'problem'): 1,\n",
       " ('problem', 'rotat'): 1,\n",
       " ('rotat', 'frequent'): 1,\n",
       " ('otherwis', 'clean'): 1,\n",
       " ('clean', 'insid'): 1,\n",
       " ('insid', 'employe'): 2,\n",
       " ('employe', 'friendli'): 5,\n",
       " ('friendli', 'sampl'): 1,\n",
       " ('sampl', 'commit'): 1,\n",
       " ('commit', 'particular'): 1,\n",
       " ('particular', 'flavor'): 1,\n",
       " ('flavor', 'cup'): 1,\n",
       " ('also', 'reward'): 2,\n",
       " ('reward', 'program'): 2,\n",
       " ('program', 'get'): 1,\n",
       " ('get', 'coupl'): 1,\n",
       " ('coupl', 'visit'): 1,\n",
       " 'tast': 20,\n",
       " 'frozen': 37,\n",
       " 'nt': 55,\n",
       " 'let': 6,\n",
       " 'cmon': 1,\n",
       " 'adult': 1,\n",
       " ('good', 'tast'): 1,\n",
       " ('tast', 'frozen'): 1,\n",
       " ('frozen', 'yogurt'): 34,\n",
       " ('nt', 'let'): 1,\n",
       " ('let', 'get'): 2,\n",
       " ('get', 'sampl'): 5,\n",
       " ('cmon', 'adult'): 1,\n",
       " 'bf': 1,\n",
       " 'offici': 1,\n",
       " 'crazi': 2,\n",
       " 'occasion': 1,\n",
       " 'reach': 2,\n",
       " 'post-dinn': 1,\n",
       " 'frenzi': 1,\n",
       " 'fro-yo': 13,\n",
       " 'must': 6,\n",
       " 'fast': 1,\n",
       " 'last': 3,\n",
       " 'night': 3,\n",
       " 'except': 5,\n",
       " 'trend': 3,\n",
       " 'tasti': 4,\n",
       " 'first-tim': 1,\n",
       " 'pei': 1,\n",
       " 'wei': 1,\n",
       " 'plaza': 2,\n",
       " 'kitty-corn': 1,\n",
       " 'yogurtolog': 30,\n",
       " 'run': 3,\n",
       " 'treat': 11,\n",
       " 'staff': 27,\n",
       " 'alway': 40,\n",
       " 'wear': 1,\n",
       " 'glove': 1,\n",
       " 'offer': 15,\n",
       " 'invari': 1,\n",
       " 'no-sugar': 1,\n",
       " 'ad': 8,\n",
       " 'like': 55,\n",
       " 'option': 8,\n",
       " 'bottom': 23,\n",
       " 'bit': 6,\n",
       " 'figur': 1,\n",
       " 'sort': 2,\n",
       " 'counter': 3,\n",
       " 'concept': 3,\n",
       " 'lighter': 1,\n",
       " 'plenti': 4,\n",
       " 'fresh': 15,\n",
       " 'fruit': 11,\n",
       " 'bar': 10,\n",
       " 'graham': 2,\n",
       " 'cracker': 2,\n",
       " 'weapon': 1,\n",
       " 'grade': 1,\n",
       " 'aka': 1,\n",
       " 'fine': 1,\n",
       " 'ground': 1,\n",
       " 'choke': 1,\n",
       " 'minut': 6,\n",
       " 'tri': 30,\n",
       " 'eat': 8,\n",
       " 'subconsci': 1,\n",
       " 'inhal': 1,\n",
       " 'directli': 1,\n",
       " 'back': 28,\n",
       " 'throat': 1,\n",
       " 'argh': 1,\n",
       " 'pleasant': 2,\n",
       " 'undoubtedli': 1,\n",
       " ('bf', 'offici'): 1,\n",
       " ('offici', 'yogurt'): 1,\n",
       " ('yogurt', 'crazi'): 1,\n",
       " ('crazi', 'occasion'): 1,\n",
       " ('occasion', 'reach'): 1,\n",
       " ('reach', 'post-dinn'): 1,\n",
       " ('post-dinn', 'frenzi'): 1,\n",
       " ('frenzi', 'fro-yo'): 1,\n",
       " ('fro-yo', 'must'): 1,\n",
       " ('must', 'fast'): 1,\n",
       " ('last', 'night'): 1,\n",
       " ('night', 'except'): 1,\n",
       " ('except', 'trend'): 1,\n",
       " ('tasti', 'first-tim'): 1,\n",
       " ('first-tim', 'visit'): 1,\n",
       " ('visit', 'pei'): 1,\n",
       " ('pei', 'wei'): 1,\n",
       " ('wei', 'plaza'): 1,\n",
       " ('plaza', 'kitty-corn'): 1,\n",
       " ('kitty-corn', 'yogurtolog'): 1,\n",
       " ('yogurtolog', 'run'): 1,\n",
       " ('run', 'tasti'): 1,\n",
       " ('tasti', 'treat'): 1,\n",
       " ('staff', 'friendli'): 5,\n",
       " ('friendli', 'alway'): 2,\n",
       " ('alway', 'wear'): 1,\n",
       " ('wear', 'glove'): 1,\n",
       " ('glove', 'offer'): 1,\n",
       " ('offer', 'sampl'): 7,\n",
       " ('sampl', 'invari'): 1,\n",
       " ('invari', 'no-sugar'): 1,\n",
       " ('no-sugar', 'ad'): 1,\n",
       " ('ad', 'yogurt'): 2,\n",
       " ('yogurt', 'offer'): 1,\n",
       " ('like', 'option'): 1,\n",
       " ('option', 'bottom'): 2,\n",
       " ('bottom', 'bit'): 1,\n",
       " ('bit', 'figur'): 1,\n",
       " ('figur', 'sort'): 1,\n",
       " ('sort', 'counter'): 1,\n",
       " ('counter', 'concept'): 1,\n",
       " ('concept', 'lighter'): 1,\n",
       " ('lighter', 'yogurt'): 1,\n",
       " ('yogurt', 'treat'): 2,\n",
       " ('plenti', 'fresh'): 1,\n",
       " ('fresh', 'fruit'): 5,\n",
       " ('fruit', 'option'): 1,\n",
       " ('option', 'bar'): 1,\n",
       " ('bar', 'graham'): 1,\n",
       " ('graham', 'cracker'): 2,\n",
       " ('cracker', 'top'): 1,\n",
       " ('top', 'weapon'): 1,\n",
       " ('weapon', 'grade'): 1,\n",
       " ('grade', 'aka'): 1,\n",
       " ('aka', 'fine'): 1,\n",
       " ('fine', 'ground'): 1,\n",
       " ('ground', 'choke'): 1,\n",
       " ('choke', 'minut'): 1,\n",
       " ('minut', 'tri'): 2,\n",
       " ('tri', 'eat'): 1,\n",
       " ('eat', 'subconsci'): 1,\n",
       " ('subconsci', 'inhal'): 1,\n",
       " ('inhal', 'directli'): 1,\n",
       " ('directli', 'back'): 1,\n",
       " ('back', 'throat'): 1,\n",
       " ('pleasant', 'clean'): 1,\n",
       " ('clean', 'tasti'): 1,\n",
       " ('undoubtedli', 'back'): 1,\n",
       " 'servic': 23,\n",
       " 'decent': 1,\n",
       " 'help': 19,\n",
       " 'vast': 2,\n",
       " 'love': 28,\n",
       " 'boba': 4,\n",
       " 'time': 36,\n",
       " ('great', 'servic'): 3,\n",
       " ('servic', 'decent'): 1,\n",
       " ('decent', 'frozen'): 1,\n",
       " ('staff', 'help'): 3,\n",
       " ('help', 'top'): 2,\n",
       " ('top', 'vast'): 1,\n",
       " ('vast', 'plenti'): 1,\n",
       " ('plenti', '-'): 1,\n",
       " ('-', 'love'): 1,\n",
       " ('love', 'boba'): 1,\n",
       " ('love', 'time'): 1,\n",
       " 'first': 14,\n",
       " 'nice': 10,\n",
       " 'place': 96,\n",
       " 'easi': 2,\n",
       " 'navig': 1,\n",
       " 'lot': 12,\n",
       " 'thing': 15,\n",
       " 'never': 14,\n",
       " 'thought': 4,\n",
       " 'put': 14,\n",
       " 'ice': 9,\n",
       " 'cream': 11,\n",
       " ('first', 'time'): 6,\n",
       " ('time', 'tri'): 1,\n",
       " ('tri', 'frozen'): 1,\n",
       " ('yogurt', 'nice'): 2,\n",
       " ('nice', 'place'): 1,\n",
       " ('clean', 'easi'): 1,\n",
       " ('easi', 'navig'): 1,\n",
       " ('lot', 'top'): 2,\n",
       " ('top', 'thing'): 1,\n",
       " ('thing', 'never'): 1,\n",
       " ('never', 'otherwis'): 1,\n",
       " ('otherwis', 'thought'): 1,\n",
       " ('thought', 'put'): 1,\n",
       " ('put', 'ice'): 1,\n",
       " ('ice', 'cream'): 8,\n",
       " 'ye': 3,\n",
       " 'realli': 18,\n",
       " 'ever': 14,\n",
       " 'shop': 21,\n",
       " 'heard': 1,\n",
       " 'year': 4,\n",
       " 'went': 12,\n",
       " 'arriv': 1,\n",
       " 'citi': 1,\n",
       " 'exhaust': 1,\n",
       " 'chew': 1,\n",
       " 'sound': 2,\n",
       " 'felt': 5,\n",
       " 'walk': 9,\n",
       " 'heaven': 2,\n",
       " 'upon': 2,\n",
       " 'enter': 3,\n",
       " 'door': 5,\n",
       " 'white': 2,\n",
       " 'enorm': 1,\n",
       " 'buffet': 1,\n",
       " 'gigant': 1,\n",
       " '--': 4,\n",
       " 'ripe': 1,\n",
       " 'berri': 2,\n",
       " 'toast': 1,\n",
       " 'coconut': 3,\n",
       " 'kiwi': 2,\n",
       " 'made': 1,\n",
       " 'happi': 4,\n",
       " 'abl': 2,\n",
       " 'heavenli': 1,\n",
       " 'knew': 2,\n",
       " 'mango': 2,\n",
       " 'without': 6,\n",
       " 'sign': 3,\n",
       " 'loyalti': 7,\n",
       " 'card': 6,\n",
       " 'sinc': 5,\n",
       " 'short': 1,\n",
       " 'hop': 2,\n",
       " 'go': 40,\n",
       " 'full': 5,\n",
       " 'size': 2,\n",
       " 'cooki': 31,\n",
       " 'browni': 9,\n",
       " 'moon': 2,\n",
       " 'pie': 5,\n",
       " 'neatest': 1,\n",
       " 'tini': 1,\n",
       " 'puff': 2,\n",
       " 'might': 3,\n",
       " 'want': 21,\n",
       " 'load': 2,\n",
       " 'heavier': 1,\n",
       " 'sold': 1,\n",
       " 'weight': 2,\n",
       " 'fun': 4,\n",
       " 'allow': 3,\n",
       " 'creat': 4,\n",
       " ('ye', 'realli'): 1,\n",
       " ('realli', 'first'): 1,\n",
       " ('time', 'ever'): 2,\n",
       " ('ever', 'frozen'): 1,\n",
       " ('yogurt', 'shop'): 12,\n",
       " ('heard', 'year'): 1,\n",
       " ('year', 'never'): 1,\n",
       " ('never', 'went'): 1,\n",
       " ('went', 'arriv'): 1,\n",
       " ('arriv', 'first'): 1,\n",
       " ('first', 'night'): 1,\n",
       " ('night', 'citi'): 1,\n",
       " ('exhaust', 'chew'): 1,\n",
       " ('chew', 'yogurt'): 1,\n",
       " ('yogurt', 'sound'): 1,\n",
       " ('sound', 'great'): 1,\n",
       " ('felt', 'like'): 2,\n",
       " ('like', 'walk'): 1,\n",
       " ('walk', 'heaven'): 1,\n",
       " ('heaven', 'upon'): 1,\n",
       " ('upon', 'enter'): 2,\n",
       " ('enter', 'door'): 1,\n",
       " ('white', 'clean'): 1,\n",
       " ('enorm', 'buffet'): 1,\n",
       " ('buffet', 'gigant'): 1,\n",
       " ('gigant', 'top'): 1,\n",
       " ('top', '--'): 1,\n",
       " ('--', 'fresh'): 1,\n",
       " ('fresh', 'ripe'): 1,\n",
       " ('ripe', 'berri'): 1,\n",
       " ('berri', 'toast'): 1,\n",
       " ('toast', 'coconut'): 1,\n",
       " ('coconut', 'kiwi'): 1,\n",
       " ('kiwi', 'fruit'): 1,\n",
       " ('made', 'happi'): 1,\n",
       " ('happi', 'abl'): 1,\n",
       " ('abl', 'heavenli'): 1,\n",
       " ('heavenli', 'treat'): 1,\n",
       " ('friendli', 'offer'): 1,\n",
       " ('sampl', 'knew'): 1,\n",
       " ('knew', 'mango'): 1,\n",
       " ('mango', 'without'): 1,\n",
       " ('without', 'tri'): 1,\n",
       " ('sign', 'loyalti'): 2,\n",
       " ('loyalti', 'card'): 4,\n",
       " ('card', 'sinc'): 1,\n",
       " ('sinc', 'place'): 1,\n",
       " ('place', 'short'): 1,\n",
       " ('short', 'hop'): 1,\n",
       " ('hop', 'go'): 1,\n",
       " ('go', 'back'): 6,\n",
       " ('full', 'size'): 2,\n",
       " ('size', 'cooki'): 2,\n",
       " ('cooki', 'browni'): 5,\n",
       " ('browni', 'moon'): 1,\n",
       " ('moon', 'pie'): 2,\n",
       " ('pie', 'put'): 1,\n",
       " ('put', 'bottom'): 5,\n",
       " ('neatest', 'thing'): 1,\n",
       " ('thing', 'tini'): 1,\n",
       " ('tini', 'cream'): 1,\n",
       " ('cream', 'puff'): 2,\n",
       " ('might', 'want'): 1,\n",
       " ('want', 'load'): 1,\n",
       " ('load', 'heavier'): 1,\n",
       " ('heavier', 'top'): 1,\n",
       " ('top', 'sold'): 1,\n",
       " ('sold', 'weight'): 1,\n",
       " ('weight', 'fun'): 1,\n",
       " ('fun', 'allow'): 1,\n",
       " ('allow', 'creat'): 1,\n",
       " ('creat', 'treat'): 1,\n",
       " 'tonight': 6,\n",
       " '012817': 1,\n",
       " 'around': 8,\n",
       " '845pm': 1,\n",
       " 'interest': 3,\n",
       " 'howev': 3,\n",
       " 'busi': 10,\n",
       " 'two': 9,\n",
       " 'girl': 15,\n",
       " 'one': 32,\n",
       " 'blond': 2,\n",
       " 'custom': 16,\n",
       " 'brunett': 1,\n",
       " 'almost': 4,\n",
       " 'found': 4,\n",
       " 'anyon': 2,\n",
       " 'bad': 8,\n",
       " 'truth': 2,\n",
       " 'hard': 7,\n",
       " 'worker': 5,\n",
       " ('tonight', 'experi'): 1,\n",
       " ('experi', '012817'): 1,\n",
       " ('012817', 'around'): 1,\n",
       " ('around', '845pm'): 1,\n",
       " ('845pm', 'interest'): 1,\n",
       " ('yogurt', 'top'): 6,\n",
       " ('top', 'alway'): 1,\n",
       " ('alway', 'great'): 3,\n",
       " ('great', 'employe'): 1,\n",
       " ('tonight', 'howev'): 1,\n",
       " ('howev', 'crazi'): 1,\n",
       " ('crazi', 'busi'): 1,\n",
       " ('busi', 'two'): 1,\n",
       " ('two', 'girl'): 1,\n",
       " ('girl', 'work'): 3,\n",
       " ('one', 'blond'): 1,\n",
       " ('blond', 'go'): 1,\n",
       " ('go', 'help'): 1,\n",
       " ('help', 'custom'): 1,\n",
       " ('custom', 'friendli'): 1,\n",
       " ('friendli', 'work'): 1,\n",
       " ('work', 'run'): 1,\n",
       " ('run', 'around'): 1,\n",
       " ('girl', 'brunett'): 1,\n",
       " ('brunett', 'almost'): 1,\n",
       " ('almost', 'found'): 1,\n",
       " ('found', 'nt'): 1,\n",
       " ('nt', 'want'): 2,\n",
       " ('want', 'help'): 2,\n",
       " ('help', 'anyon'): 1,\n",
       " ('felt', 'realli'): 1,\n",
       " ('realli', 'bad'): 1,\n",
       " ('bad', 'blond'): 1,\n",
       " ('blond', 'girl'): 1,\n",
       " ('girl', 'truth'): 1,\n",
       " ('truth', 'great'): 1,\n",
       " ('great', 'hard'): 1,\n",
       " ('hard', 'worker'): 1,\n",
       " 'best': 27,\n",
       " 'westsid': 1,\n",
       " 'opinion': 1,\n",
       " 'line': 5,\n",
       " 'long': 5,\n",
       " 'maintain': 1,\n",
       " ('best', 'yogurt'): 7,\n",
       " ('yogurt', 'westsid'): 1,\n",
       " ('westsid', 'opinion'): 1,\n",
       " ('friendli', 'staff'): 7,\n",
       " ('staff', 'line'): 1,\n",
       " ('line', 'never'): 1,\n",
       " ('never', 'long'): 2,\n",
       " ('insid', 'alway'): 1,\n",
       " ('alway', 'clean'): 3,\n",
       " ('clean', 'maintain'): 1,\n",
       " 'even': 17,\n",
       " 'quick': 3,\n",
       " 'to-go': 1,\n",
       " 'ten': 2,\n",
       " 'close': 10,\n",
       " 'finish': 2,\n",
       " 'mop': 1,\n",
       " 'floor': 3,\n",
       " 'away': 6,\n",
       " 'machin': 3,\n",
       " 'turn': 3,\n",
       " 'unprofession': 1,\n",
       " 'everyth': 4,\n",
       " 'actual': 3,\n",
       " 'look': 8,\n",
       " 'us': 13,\n",
       " 'suppos': 1,\n",
       " 'leav': 3,\n",
       " 'proceed': 1,\n",
       " 'bring': 1,\n",
       " 'terribl': 1,\n",
       " 'awkward': 1,\n",
       " 'give': 8,\n",
       " 'star': 6,\n",
       " 'mediocr': 1,\n",
       " ('went', 'yogurtolog'): 1,\n",
       " ('yogurtolog', 'one'): 1,\n",
       " ('one', 'even'): 1,\n",
       " ('even', 'quick'): 1,\n",
       " ('quick', 'yogurt'): 1,\n",
       " ('yogurt', 'to-go'): 1,\n",
       " ('to-go', 'full'): 1,\n",
       " ('full', 'ten'): 1,\n",
       " ('ten', 'minut'): 1,\n",
       " ('minut', 'close'): 2,\n",
       " ('went', 'finish'): 1,\n",
       " ('finish', 'mop'): 1,\n",
       " ('mop', 'floor'): 1,\n",
       " ('floor', 'top'): 1,\n",
       " ('top', 'put'): 1,\n",
       " ('put', 'away'): 1,\n",
       " ('away', 'yogurt'): 1,\n",
       " ('yogurt', 'machin'): 1,\n",
       " ('machin', 'turn'): 1,\n",
       " ('found', 'unprofession'): 1,\n",
       " ('unprofession', 'close'): 1,\n",
       " ('close', 'everyth'): 1,\n",
       " ('everyth', 'actual'): 1,\n",
       " ('actual', 'close'): 1,\n",
       " ('worker', 'look'): 1,\n",
       " ('look', 'us'): 1,\n",
       " ('us', 'suppos'): 1,\n",
       " ('suppos', 'turn'): 1,\n",
       " ('turn', 'around'): 1,\n",
       " ('around', 'leav'): 1,\n",
       " ('proceed', 'get'): 1,\n",
       " ('get', 'yogurt'): 2,\n",
       " ('yogurt', 'bring'): 1,\n",
       " ('bring', 'top'): 1,\n",
       " ('top', 'want'): 1,\n",
       " ('want', 'terribl'): 1,\n",
       " ('terribl', 'awkward'): 1,\n",
       " ('give', 'one'): 1,\n",
       " ('one', 'star'): 1,\n",
       " ('star', 'bad'): 1,\n",
       " ('bad', 'servic'): 1,\n",
       " ('servic', 'mediocr'): 1,\n",
       " ('mediocr', 'yogurt'): 1,\n",
       " 'big': 3,\n",
       " 'fan': 4,\n",
       " 'qualiti': 7,\n",
       " 'ingredi': 1,\n",
       " 'sweet': 13,\n",
       " 'add': 9,\n",
       " 'high': 5,\n",
       " 'chair': 3,\n",
       " ('big', 'fan'): 2,\n",
       " ('fan', 'yogurtolog'): 1,\n",
       " ('yogurtolog', 'flavor'): 1,\n",
       " ('flavor', 'qualiti'): 1,\n",
       " ('qualiti', 'ingredi'): 1,\n",
       " ('ingredi', 'friendli'): 1,\n",
       " ('friendli', 'employe'): 2,\n",
       " ('employe', 'fresh'): 1,\n",
       " ('fruit', 'lot'): 1,\n",
       " ('lot', 'sweet'): 1,\n",
       " ('sweet', 'add'): 1,\n",
       " ('also', 'high'): 1,\n",
       " ('high', 'chair'): 3,\n",
       " 'move': 3,\n",
       " 'chicago': 2,\n",
       " 'arizona': 2,\n",
       " 'hope': 3,\n",
       " 'find': 3,\n",
       " 'unfortun': 2,\n",
       " 'came': 10,\n",
       " 'across': 4,\n",
       " 'tell': 5,\n",
       " 'select': 14,\n",
       " 'mani': 12,\n",
       " 'choos': 4,\n",
       " 'favorit': 16,\n",
       " 'super': 11,\n",
       " 'suggest': 3,\n",
       " 'new': 7,\n",
       " 'abil': 1,\n",
       " 'prior': 1,\n",
       " 'decis': 1,\n",
       " 'highli': 2,\n",
       " 'recommend': 7,\n",
       " 'mint': 2,\n",
       " 'ca': 10,\n",
       " 'wrong': 3,\n",
       " ('fan', 'frozen'): 1,\n",
       " ('yogurt', 'move'): 1,\n",
       " ('move', 'chicago'): 1,\n",
       " ('chicago', 'arizona'): 1,\n",
       " ('arizona', 'hope'): 1,\n",
       " ('hope', 'find'): 1,\n",
       " ('find', 'great'): 1,\n",
       " ('great', 'froyo'): 1,\n",
       " ('froyo', 'place'): 5,\n",
       " ('unfortun', 'tri'): 1,\n",
       " ('tri', 'came'): 1,\n",
       " ('came', 'across'): 1,\n",
       " ('across', 'yogurtolog'): 1,\n",
       " ('let', 'tell'): 2,\n",
       " ('tell', 'select'): 1,\n",
       " ('select', 'locat'): 1,\n",
       " ('locat', 'great'): 1,\n",
       " ('mani', 'top'): 2,\n",
       " ('top', 'choos'): 1,\n",
       " ('choos', 'favorit'): 1,\n",
       " ('favorit', 'browni'): 1,\n",
       " ('browni', 'cooki'): 1,\n",
       " ('cooki', 'place'): 1,\n",
       " ('place', 'bottom'): 2,\n",
       " ('bottom', 'yogurt'): 3,\n",
       " ('yogurt', 'cup'): 2,\n",
       " ('employe', 'super'): 1,\n",
       " ('super', 'friendli'): 3,\n",
       " ('alway', 'give'): 1,\n",
       " ('give', 'help'): 1,\n",
       " ('help', 'suggest'): 1,\n",
       " ('suggest', 'new'): 1,\n",
       " ('new', 'flavor'): 3,\n",
       " ('flavor', 'tri'): 1,\n",
       " ('one', 'best'): 3,\n",
       " ('best', 'thing'): 1,\n",
       " ('thing', 'abil'): 1,\n",
       " ('abil', 'tast'): 1,\n",
       " ('tast', 'flavor'): 1,\n",
       " ('flavor', 'prior'): 1,\n",
       " ('prior', 'make'): 1,\n",
       " ('make', 'decis'): 1,\n",
       " ('decis', 'one'): 1,\n",
       " ('one', 'like'): 2,\n",
       " ('highli', 'recommend'): 2,\n",
       " ('recommend', 'mint'): 1,\n",
       " ('mint', 'flavor'): 1,\n",
       " ('flavor', 'yogurt'): 1,\n",
       " ('yogurt', 'ca'): 2,\n",
       " ('ca', 'nt'): 10,\n",
       " ('nt', 'go'): 2,\n",
       " ('go', 'wrong'): 3,\n",
       " 'choic': 7,\n",
       " 'uniqu': 4,\n",
       " 'whole': 2,\n",
       " 'hostess': 2,\n",
       " 'cupcak': 8,\n",
       " 'dens': 1,\n",
       " 'ici': 2,\n",
       " 'pretti': 6,\n",
       " 'pricey': 3,\n",
       " ('top', 'choic'): 3,\n",
       " ('choic', 'uniqu'): 1,\n",
       " ('uniqu', 'whole'): 1,\n",
       " ('whole', 'cooki'): 2,\n",
       " ('browni', 'hostess'): 1,\n",
       " ('hostess', 'cupcak'): 2,\n",
       " ('yogurt', 'good'): 8,\n",
       " ('dens', 'ici'): 1,\n",
       " ('pretti', 'pricey'): 1,\n",
       " ('pricey', 'also'): 1,\n",
       " 'disney': 1,\n",
       " 'dole': 6,\n",
       " 'whip': 5,\n",
       " 'phoenix': 3,\n",
       " 'yay': 5,\n",
       " 'disneyland': 2,\n",
       " 'town': 3,\n",
       " ('disney', 'dole'): 1,\n",
       " ('dole', 'whip'): 5,\n",
       " ('whip', 'phoenix'): 1,\n",
       " ('like', 'disneyland'): 1,\n",
       " ('mani', 'great'): 1,\n",
       " ('great', 'fresh'): 1,\n",
       " ('fresh', 'top'): 3,\n",
       " ('yogurt', 'place'): 13,\n",
       " ('place', 'town'): 1,\n",
       " 'kid': 11,\n",
       " 'thank': 5,\n",
       " 'store': 8,\n",
       " 'think': 12,\n",
       " 'everi': 17,\n",
       " 'decid': 6,\n",
       " 'would': 13,\n",
       " 'anyday': 1,\n",
       " ('visit', 'yogurtolog'): 2,\n",
       " ('yogurtolog', 'tonight'): 1,\n",
       " ('tonight', 'kid'): 1,\n",
       " ('kid', 'love'): 1,\n",
       " ('love', 'make'): 1,\n",
       " ('make', 'yogurt'): 1,\n",
       " ('yogurt', 'thank'): 1,\n",
       " ('thank', 'offer'): 2,\n",
       " ('offer', 'best'): 1,\n",
       " ('best', 'top'): 2,\n",
       " ('top', 'bottom'): 2,\n",
       " ('store', 'clean'): 3,\n",
       " ('clean', 'employe'): 1,\n",
       " ('think', 'kid'): 1,\n",
       " ('kid', 'tri'): 1,\n",
       " ('tri', 'everi'): 1,\n",
       " ('everi', 'flavor'): 1,\n",
       " ('flavor', 'decid'): 1,\n",
       " ('decid', 'want'): 1,\n",
       " ('would', 'high'): 1,\n",
       " ('high', 'recommend'): 1,\n",
       " ('recommend', 'yogurtolog'): 1,\n",
       " ('yogurtolog', 'glendal'): 4,\n",
       " ('glendal', 'anyday'): 1,\n",
       " ('anyday', 'yogurt'): 1,\n",
       " 'blog': 1,\n",
       " 'second': 1,\n",
       " 'opinon': 1,\n",
       " '9th': 1,\n",
       " 'ryan': 3,\n",
       " 'glanc': 1,\n",
       " 'seem': 11,\n",
       " 'root': 3,\n",
       " 'beer': 3,\n",
       " 'oatmeal': 22,\n",
       " 'strawberri': 5,\n",
       " 'banana': 3,\n",
       " 'smoothi': 2,\n",
       " 'deeeeeelici': 1,\n",
       " 'mention': 3,\n",
       " 'baklava': 2,\n",
       " 'appl': 3,\n",
       " 'fill': 8,\n",
       " 'bite': 2,\n",
       " 'piec': 1,\n",
       " 'jumbo': 1,\n",
       " 'marshmallow': 1,\n",
       " 'gumbal': 1,\n",
       " 'take': 3,\n",
       " 'anoth': 9,\n",
       " 'see': 3,\n",
       " 'red': 4,\n",
       " 'velvet': 4,\n",
       " 'batter': 5,\n",
       " 'weak': 1,\n",
       " 'sometim': 2,\n",
       " 'feel': 5,\n",
       " 'come': 24,\n",
       " 'morn': 1,\n",
       " 'earli': 1,\n",
       " 'afternoon': 1,\n",
       " 'dark': 1,\n",
       " 'mid': 1,\n",
       " 'afternoonearli': 1,\n",
       " 'blind': 1,\n",
       " 'sun': 1,\n",
       " 'build': 1,\n",
       " 'face': 1,\n",
       " 'west': 2,\n",
       " 'thing-': 1,\n",
       " '42': 2,\n",
       " 'cent': 5,\n",
       " 'ounc': 7,\n",
       " 'highest': 1,\n",
       " 'price': 14,\n",
       " 'seen': 7,\n",
       " 'far': 8,\n",
       " 'due': 2,\n",
       " 'worth': 5,\n",
       " 'money': 2,\n",
       " 'said': 5,\n",
       " 'someth': 6,\n",
       " 'name': 2,\n",
       " 'mean': 2,\n",
       " 'studi': 1,\n",
       " 'call': 1,\n",
       " 'know': 7,\n",
       " 'hmmm': 1,\n",
       " 'well': 9,\n",
       " 'babe': 1,\n",
       " 'kortne': 1,\n",
       " ('blog', 'second'): 1,\n",
       " ('second', 'opinon'): 1,\n",
       " ('opinon', 'yogurtolog'): 1,\n",
       " ('yogurtolog', '9th'): 1,\n",
       " ('9th', 'frozen'): 1,\n",
       " ('yogurt', 'store'): 1,\n",
       " ('store', 'ryan'): 1,\n",
       " ('first', 'glanc'): 1,\n",
       " ('glanc', 'place'): 1,\n",
       " ('place', 'seem'): 1,\n",
       " ('seem', 'great'): 1,\n",
       " ('root', 'beer'): 3,\n",
       " ('beer', 'tast'): 1,\n",
       " ('tast', 'like'): 6,\n",
       " ('like', 'root'): 1,\n",
       " ('beer', 'oatmeal'): 2,\n",
       " ('oatmeal', 'tast'): 1,\n",
       " ('like', 'oatmeal'): 3,\n",
       " ('oatmeal', 'strawberri'): 2,\n",
       " ('strawberri', 'banana'): 2,\n",
       " ('banana', 'smoothi'): 2,\n",
       " ('smoothi', 'tast'): 1,\n",
       " ('tast', 'deeeeeelici'): 1,\n",
       " ('mention', 'top'): 1,\n",
       " ('top', 'select'): 1,\n",
       " ('select', 'vast'): 1,\n",
       " ('baklava', 'appl'): 1,\n",
       " ('appl', 'pie'): 1,\n",
       " ('pie', 'fill'): 1,\n",
       " ('fill', 'full'): 1,\n",
       " ('cooki', 'bite'): 1,\n",
       " ('bite', 'piec'): 1,\n",
       " ('piec', 'cream'): 1,\n",
       " ('puff', 'jumbo'): 1,\n",
       " ('jumbo', 'marshmallow'): 1,\n",
       " ('marshmallow', 'gumbal'): 1,\n",
       " ('take', 'anoth'): 1,\n",
       " ('anoth', 'look'): 1,\n",
       " ('look', 'see'): 1,\n",
       " ('see', 'red'): 1,\n",
       " ('red', 'velvet'): 4,\n",
       " ('velvet', 'cupcak'): 1,\n",
       " ('cupcak', 'batter'): 4,\n",
       " ('batter', 'flavor'): 1,\n",
       " ('flavor', 'pretti'): 1,\n",
       " ('pretti', 'weak'): 1,\n",
       " ('weak', 'ca'): 1,\n",
       " ('nt', 'get'): 4,\n",
       " ('sampl', 'like'): 1,\n",
       " ('like', 'place'): 2,\n",
       " ('place', 'get'): 1,\n",
       " ('get', 'nt'): 1,\n",
       " ('nt', 'like'): 5,\n",
       " ('like', 'sometim'): 1,\n",
       " ('sometim', 'want'): 1,\n",
       " ('want', 'tri'): 2,\n",
       " ('tri', 'feel'): 1,\n",
       " ('feel', 'like'): 1,\n",
       " ('like', 'take'): 1,\n",
       " ('take', 'two'): 1,\n",
       " ('two', 'tell'): 1,\n",
       " ('come', 'come'): 1,\n",
       " ('come', 'morn'): 1,\n",
       " ('morn', 'earli'): 1,\n",
       " ('earli', 'afternoon'): 1,\n",
       " ('afternoon', 'dark'): 1,\n",
       " ('dark', 'mid'): 1,\n",
       " ('mid', 'afternoonearli'): 1,\n",
       " ('afternoonearli', 'even'): 1,\n",
       " ('even', 'blind'): 1,\n",
       " ('blind', 'sun'): 1,\n",
       " ('sun', 'build'): 1,\n",
       " ('build', 'face'): 1,\n",
       " ('face', 'west'): 1,\n",
       " ('anoth', 'thing-'): 1,\n",
       " ('thing-', '42'): 1,\n",
       " ('42', 'cent'): 2,\n",
       " ('cent', 'ounc'): 1,\n",
       " ('highest', 'price'): 1,\n",
       " ('price', 'frozen'): 1,\n",
       " ('yogurt', 'seen'): 1,\n",
       " ('seen', 'far'): 1,\n",
       " ('due', 'tast'): 1,\n",
       " ('tast', 'nt'): 1,\n",
       " ('nt', 'worth'): 1,\n",
       " ('worth', 'money'): 1,\n",
       " ('ryan', 'said'): 1,\n",
       " ('said', 'someth'): 1,\n",
       " ('someth', 'like'): 2,\n",
       " ('like', 'nt'): 2,\n",
       " ('nt', 'think'): 5,\n",
       " ('think', 'yogurtolog'): 1,\n",
       " ('yogurtolog', 'good'): 1,\n",
       " ('good', 'name'): 1,\n",
       " ('name', 'place'): 1,\n",
       " ('mean', 'studi'): 1,\n",
       " ('studi', 'yogurt'): 1,\n",
       " ('nt', 'call'): 1,\n",
       " ('call', 'nt'): 1,\n",
       " ('nt', 'know'): 2,\n",
       " ('know', 'good'): 2,\n",
       " ('good', 'yogurt'): 1,\n",
       " ('hmmm', 'well'): 1,\n",
       " ('well', 'put'): 1,\n",
       " ('put', 'babe'): 1,\n",
       " ('kortne', 'favorit'): 1,\n",
       " ('favorit', 'flavor'): 3,\n",
       " ('flavor', 'root'): 1,\n",
       " ('oatmeal', 'ryan'): 1,\n",
       " ('ryan', 'favorit'): 1,\n",
       " ('flavor', 'oatmeal'): 1,\n",
       " 'rob': 1,\n",
       " '42cent': 1,\n",
       " 'forget': 1,\n",
       " 'recess': 1,\n",
       " 'noth': 3,\n",
       " 'special': 1,\n",
       " '100000th': 1,\n",
       " 'joint': 2,\n",
       " 'pop': 3,\n",
       " 'yumberi': 1,\n",
       " 'yogurtplac': 1,\n",
       " 'jujiberri': 1,\n",
       " 'least': 6,\n",
       " 'competit': 3,\n",
       " 'sub-par': 1,\n",
       " 'paid': 5,\n",
       " '4': 2,\n",
       " 'less': 4,\n",
       " 'half': 4,\n",
       " 'topping-less': 1,\n",
       " 'learn': 1,\n",
       " 'lesson': 1,\n",
       " 'better': 12,\n",
       " 'costco': 1,\n",
       " 'food': 2,\n",
       " 'court': 1,\n",
       " 'hell': 1,\n",
       " 'lost': 2,\n",
       " ('feel', 'rob'): 1,\n",
       " ('42cent', 'ounc'): 1,\n",
       " ('forget', 'recess'): 1,\n",
       " ('noth', 'special'): 1,\n",
       " ('special', '100000th'): 1,\n",
       " ('100000th', 'frozen'): 1,\n",
       " ('yogurt', 'joint'): 1,\n",
       " ('joint', 'pop'): 1,\n",
       " ('pop', 'north'): 1,\n",
       " ('would', 'think'): 1,\n",
       " ('think', 'yumberi'): 1,\n",
       " ('yumberi', 'yogurtplac'): 1,\n",
       " ('yogurtplac', 'jujiberri'): 1,\n",
       " ('jujiberri', 'would'): 1,\n",
       " ('would', 'least'): 1,\n",
       " ('least', 'tri'): 1,\n",
       " ('tri', 'competit'): 1,\n",
       " ('competit', 'price'): 1,\n",
       " ('price', 'sub-par'): 1,\n",
       " ('sub-par', 'yogurt'): 1,\n",
       " ('paid', '4'): 1,\n",
       " ('4', 'less'): 1,\n",
       " ('less', 'half'): 1,\n",
       " ('half', 'full'): 1,\n",
       " ('full', 'topping-less'): 1,\n",
       " ('topping-less', 'fro-yo'): 1,\n",
       " ('fro-yo', 'learn'): 1,\n",
       " ('learn', 'lesson'): 1,\n",
       " ('tast', 'better'): 1,\n",
       " ('better', 'costco'): 1,\n",
       " ('costco', 'food'): 1,\n",
       " ('food', 'court'): 1,\n",
       " ('court', 'paid'): 1,\n",
       " ('paid', 'hell'): 1,\n",
       " ('hell', 'lost'): 1,\n",
       " ('lost', 'less'): 1,\n",
       " 'trevor': 1,\n",
       " 'pube': 1,\n",
       " 'kim': 3,\n",
       " ('trevor', 'kid'): 1,\n",
       " ('work', 'kim'): 1,\n",
       " ('kim', 'love'): 1,\n",
       " 'littl': 15,\n",
       " 'access': 1,\n",
       " 'trip': 2,\n",
       " 'delici': 12,\n",
       " 'abund': 2,\n",
       " 'system': 4,\n",
       " ('littl', 'shop'): 1,\n",
       " ('shop', 'easi'): 1,\n",
       " ('easi', 'access'): 1,\n",
       " ('access', 'worth'): 1,\n",
       " ('worth', 'trip'): 1,\n",
       " ('employe', 'alway'): 1,\n",
       " ('alway', 'friendli'): 3,\n",
       " ('friendli', 'help'): 4,\n",
       " ('top', 'delici'): 1,\n",
       " ('delici', 'abund'): 1,\n",
       " ('price', 'competit'): 1,\n",
       " ('competit', 'even'): 1,\n",
       " ('even', 'better'): 2,\n",
       " ('better', 'system'): 1,\n",
       " '1': 1,\n",
       " 'visitor': 2,\n",
       " '28th': 1,\n",
       " '29th': 1,\n",
       " 'weekend': 2,\n",
       " 'moment': 1,\n",
       " 'greet': 8,\n",
       " 'etc': 1,\n",
       " 'along': 2,\n",
       " 'could': 12,\n",
       " ('yogurtolog', '1'): 1,\n",
       " ('1', 'favorit'): 1,\n",
       " ('favorit', 'yogurt'): 2,\n",
       " ('frequent', 'visitor'): 2,\n",
       " ('visitor', '28th'): 1,\n",
       " ('28th', '29th'): 1,\n",
       " ('29th', 'weekend'): 1,\n",
       " ('everi', 'time'): 8,\n",
       " ('time', 'go'): 3,\n",
       " ('go', 'get'): 1,\n",
       " ('get', 'except'): 1,\n",
       " ('except', 'servic'): 1,\n",
       " ...}"
      ]
     },
     "execution_count": 560,
     "metadata": {},
     "output_type": "execute_result"
    }
   ],
   "source": [
    "token_count"
   ]
  },
  {
   "cell_type": "code",
   "execution_count": 561,
   "id": "aedf4412",
   "metadata": {},
   "outputs": [],
   "source": [
    "# calculate the TF\n",
    "def computeTF(ngram, count_dict):\n",
    "    term_frequency = count_dict[ngram]\n",
    "    # if ngram is a single word\n",
    "    if type(ngram) == str:\n",
    "        total_word_count = 0\n",
    "        for i in count_dict:\n",
    "            if type(i) == str:\n",
    "                total_word_count += count_dict[i]\n",
    "        return term_frequency / total_word_count\n",
    "    # if ngram is a bigram\n",
    "    elif type(ngram) == tuple:\n",
    "        total_biword_count = 0\n",
    "        for i in count_dict:\n",
    "            if type(i) == tuple:\n",
    "                total_biword_count += count_dict[i]\n",
    "        return term_frequency / total_biword_count"
   ]
  },
  {
   "cell_type": "markdown",
   "id": "097be725",
   "metadata": {},
   "source": [
    "###### Inverse Document Frequency\n",
    "For the Inverse Document Frequency (IDF), we will be using a smoothed IDF, i.e. a constant value of 1 will be added to the numerator and denominator, so as to prevent zero divisions. IDF(t) = log ( (1+n) / (1+df(t)) ) + 1"
   ]
  },
  {
   "cell_type": "code",
   "execution_count": 562,
   "id": "2098b707",
   "metadata": {},
   "outputs": [],
   "source": [
    "# calculate IDF\n",
    "def computeIDF(ngram, count_dict, N): # N is the total number of businesses\n",
    "    df = count_dict[ngram]\n",
    "    idf = math.log((1+N) / (1+df)) + 1\n",
    "    return idf"
   ]
  },
  {
   "cell_type": "markdown",
   "id": "75128ea3",
   "metadata": {},
   "source": [
    "###### TF-IDF\n",
    "Now we are ready to calculate the TF-IDF. In order to calculate the TF-IDF of each adjective phrase, we first need to calculate the TF-IDF values of each individual unigram/bigram in the phrase, and sum up these values."
   ]
  },
  {
   "cell_type": "code",
   "execution_count": 563,
   "id": "c1d39a2e",
   "metadata": {},
   "outputs": [],
   "source": [
    "# compute TFIDF of a single token (word or biword)\n",
    "def computeTFIDF(ngram, business_word_count_dict, total_word_count_dict, N):\n",
    "    tf = computeTF(ngram, business_word_count_dict)\n",
    "    idf = computeIDF(ngram, total_word_count_dict, N)\n",
    "    return tf * idf"
   ]
  },
  {
   "cell_type": "code",
   "execution_count": 564,
   "id": "222b4a85",
   "metadata": {},
   "outputs": [],
   "source": [
    "# compute TFIDF of an adjective phrase\n",
    "def computePhraseTFIDF(adjective_phrase, business_word_count_dict, total_word_count_dict, N):\n",
    "    sum_of_tfidf = 0\n",
    "    tokens = []\n",
    "    # preprocess the adjective phrase\n",
    "    preprocessed_phrase = preprocess(adjective_phrase)\n",
    "    \n",
    "    # break down adjective phrase into bigrams if it is more than one word\n",
    "    try:\n",
    "        if len(preprocessed_phrase[0]) == 1:\n",
    "            tokens = preprocessed_phrase[0]\n",
    "        else:\n",
    "            tokens = generate_bigrams(preprocessed_phrase)\n",
    "    except:\n",
    "        # phrase has no words\n",
    "        return 0\n",
    "    \n",
    "    # Loop through tokens to calculate TFIDF and sum them up\n",
    "    for token in tokens:\n",
    "        sum_of_tfidf += computeTFIDF(token, business_word_count_dict, total_word_count_dict, N)\n",
    "    \n",
    "    return sum_of_tfidf"
   ]
  },
  {
   "cell_type": "code",
   "execution_count": 565,
   "id": "e2097f53",
   "metadata": {},
   "outputs": [],
   "source": [
    "# calculate the tfidf of each adjective phrase\n",
    "adjp_tfidf = {}\n",
    "\n",
    "for adjp in adjective_phrases:\n",
    "    adjp_tfidf[adjp] = computePhraseTFIDF(adjp, token_count, index, len(business_set))"
   ]
  },
  {
   "cell_type": "code",
   "execution_count": 566,
   "id": "443f205c",
   "metadata": {
    "scrolled": true
   },
   "outputs": [
    {
     "data": {
      "text/plain": [
       "{'long': 0.0011968069928908365,\n",
       " 'available': 0.0008796182337791007,\n",
       " 'expensive but worth': 0.0013721423489151206,\n",
       " 'slightly higher': 0.0010996140763361469,\n",
       " 'wonderful': 0.0007814341354133115,\n",
       " 'so sparkling clean and bright': 0.0035656413303724287,\n",
       " 'least': 0.0014932509141044844,\n",
       " 'other popular': 0.000811519268550439,\n",
       " 'most competitive in yogurt': 0.0014848028401927434,\n",
       " 'not ashamed': 0.0009131338941920119,\n",
       " 'great after dinner': 0.001011130127706379,\n",
       " 'big': 0.000718084195734502,\n",
       " 'friendliest': 0.0007763053222767771,\n",
       " 'infinite': 0.0010095584145506716,\n",
       " 'always very nice': 0.000689526129737209,\n",
       " 'little': 0.0035671819262782403,\n",
       " 'sure': 0.0016646848989298453,\n",
       " 'so make': 0.0047562425683709865,\n",
       " 'great with money': 0.0013721423489151206,\n",
       " 'few different': 0.0019148911886253386,\n",
       " 'better': 0.002853745541022592,\n",
       " 'single': 0.0006762578290475006,\n",
       " 'vast and plentiful': 0.0014848028401927434,\n",
       " 'happy': 0.0009636833118357695,\n",
       " 'tangy': 0.0006608456752418899,\n",
       " 'pretty darn reasonable': 0.002329820992140406,\n",
       " 'enough': 0.001426872770511296,\n",
       " 'enough good': 0.0009249520425983381,\n",
       " 'only clean major': 0.0014848028401927434,\n",
       " 'inhale': 0.0009131338941920119,\n",
       " \"n't really wanting\": 0.001698469615591591,\n",
       " 'capricious': 0.0012708217412256086,\n",
       " 'not been': 0,\n",
       " 'cleanest': 0.0015237761038560823,\n",
       " 'so rude': 0.001229032555577055,\n",
       " 'full , topping-less': 0.0014848028401927434,\n",
       " 'other froyo': 0.01779150437715852,\n",
       " 'past few': 0.0010978841187417438,\n",
       " 'really friendly': 0.001379052259474418,\n",
       " \"n't really friendly\": 0.0025725357963670586,\n",
       " 'added': 0.002299431848012039,\n",
       " 'so hard': 0.0017196299822300096,\n",
       " 'officially yogurt': 0.0014848028401927434,\n",
       " 'so happy to be able': 0.0012922084582644453,\n",
       " 'run-of-the-mill frozen': 0.0014848028401927434,\n",
       " 'special': 0.00024726286055874296,\n",
       " 'stale': 0.001082403085241411,\n",
       " 'little gelatin-like': 0.0014848028401927434,\n",
       " 'higher': 0.0007472268650459194,\n",
       " 'always annoying': 0.0014848028401927434,\n",
       " 'next': 0.001426872770511296,\n",
       " 'jumbo': 0.0007916533653534885,\n",
       " 'caramel': 0.004229040496225931,\n",
       " 'crazy busy': 0.0012302069158042592,\n",
       " 'so courteous and friendly': 0.001011130127706379,\n",
       " 'very bad': 0.001939924405419653,\n",
       " 'very clean and modern': 0.0008901748425555467,\n",
       " 'equal': 0.0004503728599339112,\n",
       " 'real': 0.00027810181972842967,\n",
       " 'sure the toppings are filled': 0.002856945189107864,\n",
       " 'classic': 0.00043221043929548696,\n",
       " 'so delicious': 0.003565643356855886,\n",
       " 'spilled': 0.001269753518395793,\n",
       " 'horrible': 0.00030519914656534236,\n",
       " 'always great': 0.00153984261771648,\n",
       " 'unique': 0.0015165767856583237,\n",
       " 'sample': 0.013288218781341204,\n",
       " 'weekly': 0.0005412015426207055,\n",
       " 'comfortable to ask': 0.0014848028401927434,\n",
       " 'understatement': 0.0008256844815581671,\n",
       " 'old': 0.0005243655977564506,\n",
       " 'various': 0.0016356380393601126,\n",
       " 'fortunate': 0.0005101384790256843,\n",
       " 'different': 0.0019148911886253386,\n",
       " 'always good': 0.0005049860786989504,\n",
       " 'never otherwise thought': 0.002856945189107864,\n",
       " 'sub-par': 0.0006900019944077241,\n",
       " 'best frozen': 0.002969605680385487,\n",
       " 'red': 0.0012627085860654414,\n",
       " 'frozen to save': 0.0014848028401927434,\n",
       " '-clean': 0.0012708217412256086,\n",
       " 'wide': 0.0008858812520894136,\n",
       " 'dole': 0.007046383325201693,\n",
       " 'total': 0.0010284190675979724,\n",
       " 'nicest': 0.0005834562815594576,\n",
       " 'very clean': 0.011093847762115198,\n",
       " 'more fruit': 0.005357349373208776,\n",
       " 'one-size': 0.0012708217412256086,\n",
       " 'only frozen': 0.016388803163654153,\n",
       " 'dear': 0.0007763053222767771,\n",
       " 'fro yo': 0.002969605680385487,\n",
       " 'so good': 0.009036860879904875,\n",
       " 'always clean': 0.0022545830165921856,\n",
       " \"n't worth\": 0.0007943592031302259,\n",
       " 'ever tasted': 0.0007721189398144337,\n",
       " 'frozen': 0.016388803163654153,\n",
       " 'pretty sad': 0.0011367164360539916,\n",
       " 'incredible': 0.0003135442880186765,\n",
       " 'favorite': 0.004194924782051605,\n",
       " '.42': 0.0017761557714242966,\n",
       " 'weird': 0.0003577534148062719,\n",
       " 'pretty similar': 0.0012302069158042592,\n",
       " 'fresh': 0.004171527295926445,\n",
       " 'rarely disappointed': 0.0012922084582644453,\n",
       " 'available in different flavors': 0.004317169002569824,\n",
       " 'chill': 0.0009239515054418686,\n",
       " 'fairly busy': 0.001011130127706379,\n",
       " 'always pleasant': 0.0009869535850585242,\n",
       " 'also very nice': 0.0007323576606700398,\n",
       " 'constant': 0.00070057316267665,\n",
       " 'delicious': 0.003565643356855886,\n",
       " 'super nice': 0.0005639398213895966,\n",
       " 'tart and delicious': 0.0014848028401927434,\n",
       " \"n't working\": 0.0019366884154287205,\n",
       " 'great and unique': 0.0014848028401927434,\n",
       " 'always fresh and soft': 0.0018033923023188549,\n",
       " 'smoothest , creamiest , most flavorful frozen': 0.0074240142009637175,\n",
       " 'cream': 0.004109747757752556,\n",
       " 'clean but not as clean': 0.0011795479669868224,\n",
       " 'huge': 0.0010019937985305996,\n",
       " 'very friendly': 0.009095733145970359,\n",
       " 'hard': 0.0017196299822300096,\n",
       " 'rude': 0.001229032555577055,\n",
       " '2-3': 0.0005101384790256843,\n",
       " 'positive': 0.0003655512323622744,\n",
       " 'never seen': 0.001722695767319956,\n",
       " 'other': 0,\n",
       " 'own personal': 0.002168287451630481,\n",
       " 'consistently good': 0.000705875254500458,\n",
       " 'healthy and so so good': 0.0013721423489151206,\n",
       " 'very white and clean': 0.0014848028401927434,\n",
       " 'very cool': 0.001475816952219843,\n",
       " 'right next': 0.0006666758662648634,\n",
       " 'always very pleased': 0.0012302069158042592,\n",
       " 'high': 0.0012283071301642924,\n",
       " 'extremely filthy': 0.0014848028401927434,\n",
       " 'really clean': 0.0010376125338759608,\n",
       " '3-4': 0.0006518705675170749,\n",
       " 'clean': 0.011093847762115198,\n",
       " 'short': 0.00027810181972842967,\n",
       " 'last': 0.000718084195734502,\n",
       " 'rude and uhm': 0.0014848028401927434,\n",
       " 'ever been': 0.0033293697978596906,\n",
       " 'scrumptious': 0.0006900019944077241,\n",
       " 'nice to get a': 0.0009070196944078487,\n",
       " 'most self-serve': 0.001689439216468789,\n",
       " 'easy': 0.0005825294872966524,\n",
       " 'caramel fro-yo & nutella': 0.002969605680385487,\n",
       " 'gross because other customers': 0.0014848028401927434,\n",
       " 'ok , ginormous': 0.0014848028401927434,\n",
       " 'not blaming': 0.0011288423097664602,\n",
       " 'great': 0.01093935790725327,\n",
       " 'bottom': 0.007997992235418706,\n",
       " 'even seen': 0.0013721423489151206,\n",
       " 'highest': 0.0007482950878757347,\n",
       " 'golden': 0.0006348767591978965,\n",
       " 'so friendly and attentive': 0.0006259413638497826,\n",
       " 'constantly changing': 0.0013721423489151206,\n",
       " 'much': 0.0021542525872035056,\n",
       " 'somewhat annoying': 0.0012922084582644453,\n",
       " 'topping': 0.02034571887914422,\n",
       " 'self-serve frozen': 0.0014848028401927434,\n",
       " 'once-in-a-while': 0.0012708217412256086,\n",
       " 'little nervous': 0.0011367164360539916,\n",
       " 'really great': 0.0005306524638423278,\n",
       " 'simple': 0.001157356515394618,\n",
       " 'super friendly': 0.001348801329216753,\n",
       " 'to-': 0.0011743972208669488,\n",
       " 'absolute': 0.0004881414070475022,\n",
       " 'definitely not going': 0.0022898252430701227,\n",
       " 'never been': 0.0033293697978596906,\n",
       " 'wrong': 0.0007663077090276256,\n",
       " 'fro-yo': 0.014377778153821309,\n",
       " 'boring original': 0.0014848028401927434,\n",
       " 'clean and tasty': 0.0013721423489151206,\n",
       " 'so many unique': 0.0012922084582644453,\n",
       " 'much much better than any other yogurt': 0.0032994562065296095,\n",
       " 'half': 0.0010555994456660398,\n",
       " 'banana': 0.0017911477368352923,\n",
       " 'obvious': 0.000505334030198688,\n",
       " 'pretty good': 0.0003403079319369857,\n",
       " 'there cupcake': 0.008847863479274652,\n",
       " 'more': 0,\n",
       " 'perfect': 0.0002554359030092085,\n",
       " 'not gluten sensitive': 0.0012302069158042592,\n",
       " 'so usually frozen': 0.0014848028401927434,\n",
       " 'afternoon/early evening': 0.0014848028401927434,\n",
       " 'cleanest eating': 0.0014848028401927434,\n",
       " 'bad as jumpstreet': 0.0014848028401927434,\n",
       " 'more to put': 0.003372891591425193,\n",
       " 'upbeat': 0.0006900019944077241,\n",
       " 'first to admit chocolate': 0.002856945189107864,\n",
       " 'ever waited': 0.0011795479669868224,\n",
       " 'great high': 0.0014848028401927434,\n",
       " 'little frozen': 0.0013721423489151206,\n",
       " 'right near jenny': 0.002777011298457189,\n",
       " 'same as every other place': 0.0010668874757091998,\n",
       " 'always clean , bright': 0.004528015888700169,\n",
       " 'always willing to give': 0.0021236700211125156,\n",
       " 'large': 0.0013109139943911264,\n",
       " 'ever created': 0.0013721423489151206,\n",
       " 'bad': 0.001939924405419653,\n",
       " 'clean , but not spotless': 0.0014848028401927434,\n",
       " 'so creamy and delicious': 0.0010668874757091998,\n",
       " 'always helpful': 0.0009441220541256933,\n",
       " 'not fair': 0.000627088576037353,\n",
       " 'very refreshing': 0.0008786196720034263,\n",
       " 'fantastic , yay': 0.0014848028401927434,\n",
       " 'always been': 0.009512485136741973,\n",
       " 'not rotated': 0.0006348767591978965,\n",
       " 'always exceptionally friendly and helpful': 0.004146290876428773,\n",
       " 'competitive and even better': 0.0023903473964409128,\n",
       " 'favorite frozen': 0.0014848028401927434,\n",
       " 'ever had': 0.0033293697978596906,\n",
       " 'here many': 0.002853745541022592,\n",
       " 'froyo': 0.01779150437715852,\n",
       " 'not so good': 0.009036860879904875,\n",
       " 'still really hard': 0.0020316007974519315,\n",
       " 'so glad': 0.000578678257697309,\n",
       " '-super clean': 0.0014848028401927434,\n",
       " 'so many great + fresh': 0.002053841060767724,\n",
       " 'obsessed': 0.0020700059832231723,\n",
       " 'healthy': 0.0008714672927575092,\n",
       " 'friendly': 0.009095733145970359,\n",
       " 'due': 0.0006103982931306847,\n",
       " 'so loud': 0.00040890950984002816,\n",
       " 'few unfortunate': 0.0005635778066558915,\n",
       " 'most popular': 0.000811519268550439,\n",
       " 'full': 0.0012124527533872828,\n",
       " 'away bad': 0.0013721423489151206,\n",
       " 'few of the menu': 0.00028178890332794575,\n",
       " 'reasonable': 0.0014455249677536542,\n",
       " 'definitely caramel': 0.0014848028401927434,\n",
       " 'tasty first-time': 0.0014848028401927434,\n",
       " 'more yogurty': 0.0012708217412256086,\n",
       " 'such': 0,\n",
       " 'fresh at all times': 0.0012922084582644453,\n",
       " 'so heavy': 0.0008786196720034263,\n",
       " 'so clean': 0.011093847762115198,\n",
       " 'exemplary': 0.0008447196082343945,\n",
       " 'swirl': 0.0008447196082343945,\n",
       " 'so bad': 0.001939924405419653,\n",
       " 'helpful': 0.004607320462871676,\n",
       " 'teenie': 0.0009131338941920119,\n",
       " \"n't open\": 0.0008185357457780809,\n",
       " 'too exhausted': 0.0007482950878757347,\n",
       " 'very filling and delicious': 0.0011795479669868224,\n",
       " 'dark': 0.0004253168514540476,\n",
       " 'hopeful to find a great': 0.001764467936336448,\n",
       " 'such as oreos': 0.0018262677883840238,\n",
       " 'very accommodating': 0.0003288923310953878,\n",
       " 'just ok': 0.000491322852065717,\n",
       " 'head': 0.00027089484006247747,\n",
       " 'so many': 0.002853745541022592,\n",
       " 'so close': 0.0024249055067745657,\n",
       " 'free': 0.0002691267120036147,\n",
       " 'more expensive per ounce': 0.008908817041156461,\n",
       " 'pretty weak': 0.0013721423489151206,\n",
       " 'second': 0.0002440707035237511,\n",
       " 'busy': 0.002393613985781673,\n",
       " 'very nice': 0.0023781212841854932,\n",
       " 'very unique with whole cookies': 0.00445440852057823,\n",
       " 'more non-fat': 0.0011743972208669488,\n",
       " 'tiny': 0.0003819585739762938,\n",
       " 'conveniently located': 0.0006524237700193644,\n",
       " 'also wondering': 0.0010996140763361469,\n",
       " 'usual original': 0.0014848028401927434,\n",
       " 'first': 0.0033293697978596906,\n",
       " 'particular': 0.00042194357321577024,\n",
       " 'really picky': 0.0011795479669868224,\n",
       " 'amazingly clean': 0.0013721423489151206,\n",
       " 'new favorite': 0.001411750509000916,\n",
       " 'ultimate': 0.0006114665159605,\n",
       " 'heavy': 0.0008786196720034263,\n",
       " 'many different': 0.000689526129737209,\n",
       " 'really good': 0.0003249286334976512,\n",
       " 'never top': 0.0014848028401927434,\n",
       " 'last few': 0.000718084195734502,\n",
       " 'first fro-yo': 0.0014848028401927434,\n",
       " 'available to help': 0.0012922084582644453,\n",
       " 'friendly enough to make': 0.0028368576702552002,\n",
       " 'not letting': 0.0014644242211425066,\n",
       " 'such creamy': 0.0014610952836023937,\n",
       " 'fantastic': 0.0005347432659584195,\n",
       " 'messy': 0.0006608456752418899,\n",
       " 'excellent': 0.0004945257211174859,\n",
       " 'few': 0,\n",
       " 'immaculately clean': 0.0012922084582644453,\n",
       " 'most of the time': 0.008561236623067776,\n",
       " 'not overwhelming': 0.0004700379528816195,\n",
       " 'whole': 0.0004977503047014948,\n",
       " 'super': 0.0026329753843598405,\n",
       " 'hot': 0.0018962638804373422,\n",
       " 'hard to go wrong': 0.0024598569868856564,\n",
       " 'away raving': 0.0014848028401927434,\n",
       " 'not working': 0.0045478665729851795,\n",
       " 'pomegranate': 0.004038233658202686,\n",
       " \"n't been\": 0.013079667063020214,\n",
       " 'somewhere else next': 0.0016956497263230885,\n",
       " 'open on sunday': 0.0011367164360539916,\n",
       " 'tart': 0.0084068779521198,\n",
       " 'normal frozen': 0.0014848028401927434,\n",
       " 'past': 0.0010978841187417438,\n",
       " 'just writing': 0.00030725813889426374,\n",
       " 'only interested': 0.0009155974396960271,\n",
       " 'exceptional': 0.0013456335600180735,\n",
       " 'decent frozen': 0.0014848028401927434,\n",
       " 'only': 0,\n",
       " 'super delicious': 0.0008901748425555467,\n",
       " 'together froyo': 0.0014848028401927434,\n",
       " 'glad': 0.000578678257697309,\n",
       " 'sour': 0.0012267285295200845,\n",
       " 'little too sweet': 0.0009869535850585242,\n",
       " 'very good': 0.009036860879904875,\n",
       " 'super clean and most': 0.0015660332189749533,\n",
       " 'to-go': 0.0006608456752418899,\n",
       " 'fro-yo and fresh': 0.0014848028401927434,\n",
       " 'yummy': 0.001690644572618751,\n",
       " 'best': 0.0064209274673008325,\n",
       " 'fresh and abundant': 0.0014848028401927434,\n",
       " 'too many': 0.002853745541022592,\n",
       " 'other local': 0.00030519914656534236,\n",
       " 'so unprofessional': 0.0005303900386785516,\n",
       " 'hostess': 0.0009920137378512256,\n",
       " 'overall average': 0.0011367164360539916,\n",
       " 'deeeeeelicious': 0.0011743972208669488,\n",
       " 'clean and easy': 0.0014848028401927434,\n",
       " 'own': 0,\n",
       " 'quick to greet': 0.0014848028401927434,\n",
       " 'bad or negative': 0.0014848028401927434,\n",
       " 'ready to be rang': 0.0014848028401927434,\n",
       " 'always changing': 0.0024604138316085184,\n",
       " 'totally impressed': 0.0011795479669868224,\n",
       " 'less than half': 0.0009869535850585242,\n",
       " 'very simple , & nice': 0.0012302069158042592,\n",
       " 'delicious and abundant': 0.0014848028401927434,\n",
       " 'many': 0.002853745541022592,\n",
       " 'seasonal': 0.00032219295488452064,\n",
       " 'boyfriend': 0.0013525156580950011,\n",
       " 'mediocre': 0.0003682083787589749,\n",
       " 'too much about toppings': 0.0013721423489151206,\n",
       " 'very consistent': 0.001127155613311783,\n",
       " 'outstanding': 0.00034288531564305333,\n",
       " 'always giving': 0.0009647133217427319,\n",
       " 'constantly cleaning': 0.0014848028401927434,\n",
       " 'entirely different': 0.0012302069158042592,\n",
       " 'frequent': 0.001690644572618751,\n",
       " 'worse': 0.00034288531564305333,\n",
       " 'not too sweet': 0.003498647256046991,\n",
       " 'healthier': 0.0013800039888154482,\n",
       " 'really bad for the blonde': 0.0022080496859633696,\n",
       " 'sure to sign': 0.0012922084582644453,\n",
       " 'biggest': 0.0005303900386785516,\n",
       " 'unable to get': 0.0011795479669868224,\n",
       " 'nice': 0.0023781212841854932,\n",
       " 'clean , cool': 0.0011795479669868224,\n",
       " 'less': 0.0010085316147377453,\n",
       " 'empty': 0.000320001122517119,\n",
       " 'cheaper and healthier': 0.0014848028401927434,\n",
       " 'always working': 0.0011367164360539916,\n",
       " 'even better': 0.0010182050475257922,\n",
       " 'so friendly': 0.009095733145970359,\n",
       " 'okay': 0.0005673082121070335,\n",
       " 'close': 0.0024249055067745657,\n",
       " 'disappointed': 0.0014644242211425066,\n",
       " 'ever seen': 0.0006524237700193644,\n",
       " 'always great and most': 0.00153984261771648,\n",
       " 'new': 0.0016864457957125965,\n",
       " 'good': 0.009036860879904875,\n",
       " 'not rushed': 0.0013246722504373428,\n",
       " 'always greeted': 0.0009647133217427319,\n",
       " 'oatmeal': 0.019039063317844395,\n",
       " 'fair': 0.000627088576037353,\n",
       " 'lazy': 0.0005970492456117641,\n",
       " 'overall': 0.0007417885816762288,\n",
       " 'back many': 0.0009647133217427319,\n",
       " 'particularly yummy': 0.0014848028401927434,\n",
       " 'ice': 0.0028604637644687077,\n",
       " 'well lit': 0.0009441220541256933,\n",
       " 'vast': 0.0015526106445535543,\n",
       " 'well worth': 0.0005351705302140366,\n",
       " 'typically overpriced': 0.0014848028401927434,\n",
       " 'too busy in the back': 0.0014848028401927434,\n",
       " 'helpful , courteous and willing': 0.002715009755997003,\n",
       " '-.42': 0.0012708217412256086,\n",
       " 'sweet': 0.003498647256046991,\n",
       " 'hard to tell': 0.0011367164360539916,\n",
       " 'neatest': 0.0012708217412256086,\n",
       " 'actually closed': 0.0012922084582644453,\n",
       " 'awesome': 0.0014644242211425066,\n",
       " 'rewards': 0.00198253702572567,\n",
       " 'couple': 0.0012124527533872828,\n",
       " 'really liked': 0.0007792295716498991,\n",
       " 'usually talking': 0.0014848028401927434,\n",
       " 'amazing': 0.002393613985781673,\n",
       " 'very friendly and helpful': 0.0019719619064988204,\n",
       " 'fav froyo': 0.0014848028401927434,\n",
       " 'other fro-yo': 0.014377778153821309,\n",
       " 'mixed': 0.00029320607792636687,\n",
       " 'enormous': 0.0006798808019181173,\n",
       " 'much better': 0.0007477658906276662,\n",
       " 'too fake': 0.0006432219006512307,\n",
       " 'consistently great with every visit': 0.0031854590976363316,\n",
       " 'young': 0.00037636273630442844,\n",
       " 'dumb': 0.0007232390793958711}"
      ]
     },
     "execution_count": 566,
     "metadata": {},
     "output_type": "execute_result"
    }
   ],
   "source": [
    "adjp_tfidf"
   ]
  },
  {
   "cell_type": "code",
   "execution_count": 567,
   "id": "b8b4c287",
   "metadata": {},
   "outputs": [],
   "source": [
    "# Convert the adjective phrases' TFIDF values into a pandas dataframe\n",
    "adjp_key = []\n",
    "tfidf_value = []\n",
    "for key in adjp_tfidf:\n",
    "    adjp_key.append(key)\n",
    "    tfidf_value.append(adjp_tfidf[key])\n",
    "\n",
    "adjp_tfidf_dict = {\n",
    "    \"Adjective Phrase\": adjp_key,\n",
    "    \"TF-IDF\": tfidf_value\n",
    "}\n",
    "    \n",
    "adjp_tfidf_df = pd.DataFrame(adjp_tfidf_dict)"
   ]
  },
  {
   "cell_type": "code",
   "execution_count": 568,
   "id": "1e86bbd7",
   "metadata": {},
   "outputs": [
    {
     "data": {
      "text/html": [
       "<div>\n",
       "<style scoped>\n",
       "    .dataframe tbody tr th:only-of-type {\n",
       "        vertical-align: middle;\n",
       "    }\n",
       "\n",
       "    .dataframe tbody tr th {\n",
       "        vertical-align: top;\n",
       "    }\n",
       "\n",
       "    .dataframe thead th {\n",
       "        text-align: right;\n",
       "    }\n",
       "</style>\n",
       "<table border=\"1\" class=\"dataframe\">\n",
       "  <thead>\n",
       "    <tr style=\"text-align: right;\">\n",
       "      <th></th>\n",
       "      <th>Adjective Phrase</th>\n",
       "      <th>TF-IDF</th>\n",
       "    </tr>\n",
       "  </thead>\n",
       "  <tbody>\n",
       "    <tr>\n",
       "      <th>0</th>\n",
       "      <td>long</td>\n",
       "      <td>0.001197</td>\n",
       "    </tr>\n",
       "    <tr>\n",
       "      <th>1</th>\n",
       "      <td>available</td>\n",
       "      <td>0.000880</td>\n",
       "    </tr>\n",
       "    <tr>\n",
       "      <th>2</th>\n",
       "      <td>expensive but worth</td>\n",
       "      <td>0.001372</td>\n",
       "    </tr>\n",
       "    <tr>\n",
       "      <th>3</th>\n",
       "      <td>slightly higher</td>\n",
       "      <td>0.001100</td>\n",
       "    </tr>\n",
       "    <tr>\n",
       "      <th>4</th>\n",
       "      <td>wonderful</td>\n",
       "      <td>0.000781</td>\n",
       "    </tr>\n",
       "    <tr>\n",
       "      <th>...</th>\n",
       "      <td>...</td>\n",
       "      <td>...</td>\n",
       "    </tr>\n",
       "    <tr>\n",
       "      <th>400</th>\n",
       "      <td>much better</td>\n",
       "      <td>0.000748</td>\n",
       "    </tr>\n",
       "    <tr>\n",
       "      <th>401</th>\n",
       "      <td>too fake</td>\n",
       "      <td>0.000643</td>\n",
       "    </tr>\n",
       "    <tr>\n",
       "      <th>402</th>\n",
       "      <td>consistently great with every visit</td>\n",
       "      <td>0.003185</td>\n",
       "    </tr>\n",
       "    <tr>\n",
       "      <th>403</th>\n",
       "      <td>young</td>\n",
       "      <td>0.000376</td>\n",
       "    </tr>\n",
       "    <tr>\n",
       "      <th>404</th>\n",
       "      <td>dumb</td>\n",
       "      <td>0.000723</td>\n",
       "    </tr>\n",
       "  </tbody>\n",
       "</table>\n",
       "<p>405 rows × 2 columns</p>\n",
       "</div>"
      ],
      "text/plain": [
       "                        Adjective Phrase    TF-IDF\n",
       "0                                   long  0.001197\n",
       "1                              available  0.000880\n",
       "2                    expensive but worth  0.001372\n",
       "3                        slightly higher  0.001100\n",
       "4                              wonderful  0.000781\n",
       "..                                   ...       ...\n",
       "400                          much better  0.000748\n",
       "401                             too fake  0.000643\n",
       "402  consistently great with every visit  0.003185\n",
       "403                                young  0.000376\n",
       "404                                 dumb  0.000723\n",
       "\n",
       "[405 rows x 2 columns]"
      ]
     },
     "execution_count": 568,
     "metadata": {},
     "output_type": "execute_result"
    }
   ],
   "source": [
    "adjp_tfidf_df"
   ]
  },
  {
   "cell_type": "code",
   "execution_count": 569,
   "id": "c6530732",
   "metadata": {},
   "outputs": [
    {
     "data": {
      "application/vnd.plotly.v1+json": {
       "config": {
        "plotlyServerURL": "https://plot.ly"
       },
       "data": [
        {
         "alignmentgroup": "True",
         "boxpoints": "all",
         "customdata": [
          [
           "long"
          ],
          [
           "available"
          ],
          [
           "expensive but worth"
          ],
          [
           "slightly higher"
          ],
          [
           "wonderful"
          ],
          [
           "so sparkling clean and bright"
          ],
          [
           "least"
          ],
          [
           "other popular"
          ],
          [
           "most competitive in yogurt"
          ],
          [
           "not ashamed"
          ],
          [
           "great after dinner"
          ],
          [
           "big"
          ],
          [
           "friendliest"
          ],
          [
           "infinite"
          ],
          [
           "always very nice"
          ],
          [
           "little"
          ],
          [
           "sure"
          ],
          [
           "so make"
          ],
          [
           "great with money"
          ],
          [
           "few different"
          ],
          [
           "better"
          ],
          [
           "single"
          ],
          [
           "vast and plentiful"
          ],
          [
           "happy"
          ],
          [
           "tangy"
          ],
          [
           "pretty darn reasonable"
          ],
          [
           "enough"
          ],
          [
           "enough good"
          ],
          [
           "only clean major"
          ],
          [
           "inhale"
          ],
          [
           "n't really wanting"
          ],
          [
           "capricious"
          ],
          [
           "not been"
          ],
          [
           "cleanest"
          ],
          [
           "so rude"
          ],
          [
           "full , topping-less"
          ],
          [
           "other froyo"
          ],
          [
           "past few"
          ],
          [
           "really friendly"
          ],
          [
           "n't really friendly"
          ],
          [
           "added"
          ],
          [
           "so hard"
          ],
          [
           "officially yogurt"
          ],
          [
           "so happy to be able"
          ],
          [
           "run-of-the-mill frozen"
          ],
          [
           "special"
          ],
          [
           "stale"
          ],
          [
           "little gelatin-like"
          ],
          [
           "higher"
          ],
          [
           "always annoying"
          ],
          [
           "next"
          ],
          [
           "jumbo"
          ],
          [
           "caramel"
          ],
          [
           "crazy busy"
          ],
          [
           "so courteous and friendly"
          ],
          [
           "very bad"
          ],
          [
           "very clean and modern"
          ],
          [
           "equal"
          ],
          [
           "real"
          ],
          [
           "sure the toppings are filled"
          ],
          [
           "classic"
          ],
          [
           "so delicious"
          ],
          [
           "spilled"
          ],
          [
           "horrible"
          ],
          [
           "always great"
          ],
          [
           "unique"
          ],
          [
           "sample"
          ],
          [
           "weekly"
          ],
          [
           "comfortable to ask"
          ],
          [
           "understatement"
          ],
          [
           "old"
          ],
          [
           "various"
          ],
          [
           "fortunate"
          ],
          [
           "different"
          ],
          [
           "always good"
          ],
          [
           "never otherwise thought"
          ],
          [
           "sub-par"
          ],
          [
           "best frozen"
          ],
          [
           "red"
          ],
          [
           "frozen to save"
          ],
          [
           "-clean"
          ],
          [
           "wide"
          ],
          [
           "dole"
          ],
          [
           "total"
          ],
          [
           "nicest"
          ],
          [
           "very clean"
          ],
          [
           "more fruit"
          ],
          [
           "one-size"
          ],
          [
           "only frozen"
          ],
          [
           "dear"
          ],
          [
           "fro yo"
          ],
          [
           "so good"
          ],
          [
           "always clean"
          ],
          [
           "n't worth"
          ],
          [
           "ever tasted"
          ],
          [
           "frozen"
          ],
          [
           "pretty sad"
          ],
          [
           "incredible"
          ],
          [
           "favorite"
          ],
          [
           ".42"
          ],
          [
           "weird"
          ],
          [
           "pretty similar"
          ],
          [
           "fresh"
          ],
          [
           "rarely disappointed"
          ],
          [
           "available in different flavors"
          ],
          [
           "chill"
          ],
          [
           "fairly busy"
          ],
          [
           "always pleasant"
          ],
          [
           "also very nice"
          ],
          [
           "constant"
          ],
          [
           "delicious"
          ],
          [
           "super nice"
          ],
          [
           "tart and delicious"
          ],
          [
           "n't working"
          ],
          [
           "great and unique"
          ],
          [
           "always fresh and soft"
          ],
          [
           "smoothest , creamiest , most flavorful frozen"
          ],
          [
           "cream"
          ],
          [
           "clean but not as clean"
          ],
          [
           "huge"
          ],
          [
           "very friendly"
          ],
          [
           "hard"
          ],
          [
           "rude"
          ],
          [
           "2-3"
          ],
          [
           "positive"
          ],
          [
           "never seen"
          ],
          [
           "other"
          ],
          [
           "own personal"
          ],
          [
           "consistently good"
          ],
          [
           "healthy and so so good"
          ],
          [
           "very white and clean"
          ],
          [
           "very cool"
          ],
          [
           "right next"
          ],
          [
           "always very pleased"
          ],
          [
           "high"
          ],
          [
           "extremely filthy"
          ],
          [
           "really clean"
          ],
          [
           "3-4"
          ],
          [
           "clean"
          ],
          [
           "short"
          ],
          [
           "last"
          ],
          [
           "rude and uhm"
          ],
          [
           "ever been"
          ],
          [
           "scrumptious"
          ],
          [
           "nice to get a"
          ],
          [
           "most self-serve"
          ],
          [
           "easy"
          ],
          [
           "caramel fro-yo & nutella"
          ],
          [
           "gross because other customers"
          ],
          [
           "ok , ginormous"
          ],
          [
           "not blaming"
          ],
          [
           "great"
          ],
          [
           "bottom"
          ],
          [
           "even seen"
          ],
          [
           "highest"
          ],
          [
           "golden"
          ],
          [
           "so friendly and attentive"
          ],
          [
           "constantly changing"
          ],
          [
           "much"
          ],
          [
           "somewhat annoying"
          ],
          [
           "topping"
          ],
          [
           "self-serve frozen"
          ],
          [
           "once-in-a-while"
          ],
          [
           "little nervous"
          ],
          [
           "really great"
          ],
          [
           "simple"
          ],
          [
           "super friendly"
          ],
          [
           "to-"
          ],
          [
           "absolute"
          ],
          [
           "definitely not going"
          ],
          [
           "never been"
          ],
          [
           "wrong"
          ],
          [
           "fro-yo"
          ],
          [
           "boring original"
          ],
          [
           "clean and tasty"
          ],
          [
           "so many unique"
          ],
          [
           "much much better than any other yogurt"
          ],
          [
           "half"
          ],
          [
           "banana"
          ],
          [
           "obvious"
          ],
          [
           "pretty good"
          ],
          [
           "there cupcake"
          ],
          [
           "more"
          ],
          [
           "perfect"
          ],
          [
           "not gluten sensitive"
          ],
          [
           "so usually frozen"
          ],
          [
           "afternoon/early evening"
          ],
          [
           "cleanest eating"
          ],
          [
           "bad as jumpstreet"
          ],
          [
           "more to put"
          ],
          [
           "upbeat"
          ],
          [
           "first to admit chocolate"
          ],
          [
           "ever waited"
          ],
          [
           "great high"
          ],
          [
           "little frozen"
          ],
          [
           "right near jenny"
          ],
          [
           "same as every other place"
          ],
          [
           "always clean , bright"
          ],
          [
           "always willing to give"
          ],
          [
           "large"
          ],
          [
           "ever created"
          ],
          [
           "bad"
          ],
          [
           "clean , but not spotless"
          ],
          [
           "so creamy and delicious"
          ],
          [
           "always helpful"
          ],
          [
           "not fair"
          ],
          [
           "very refreshing"
          ],
          [
           "fantastic , yay"
          ],
          [
           "always been"
          ],
          [
           "not rotated"
          ],
          [
           "always exceptionally friendly and helpful"
          ],
          [
           "competitive and even better"
          ],
          [
           "favorite frozen"
          ],
          [
           "ever had"
          ],
          [
           "here many"
          ],
          [
           "froyo"
          ],
          [
           "not so good"
          ],
          [
           "still really hard"
          ],
          [
           "so glad"
          ],
          [
           "-super clean"
          ],
          [
           "so many great + fresh"
          ],
          [
           "obsessed"
          ],
          [
           "healthy"
          ],
          [
           "friendly"
          ],
          [
           "due"
          ],
          [
           "so loud"
          ],
          [
           "few unfortunate"
          ],
          [
           "most popular"
          ],
          [
           "full"
          ],
          [
           "away bad"
          ],
          [
           "few of the menu"
          ],
          [
           "reasonable"
          ],
          [
           "definitely caramel"
          ],
          [
           "tasty first-time"
          ],
          [
           "more yogurty"
          ],
          [
           "such"
          ],
          [
           "fresh at all times"
          ],
          [
           "so heavy"
          ],
          [
           "so clean"
          ],
          [
           "exemplary"
          ],
          [
           "swirl"
          ],
          [
           "so bad"
          ],
          [
           "helpful"
          ],
          [
           "teenie"
          ],
          [
           "n't open"
          ],
          [
           "too exhausted"
          ],
          [
           "very filling and delicious"
          ],
          [
           "dark"
          ],
          [
           "hopeful to find a great"
          ],
          [
           "such as oreos"
          ],
          [
           "very accommodating"
          ],
          [
           "just ok"
          ],
          [
           "head"
          ],
          [
           "so many"
          ],
          [
           "so close"
          ],
          [
           "free"
          ],
          [
           "more expensive per ounce"
          ],
          [
           "pretty weak"
          ],
          [
           "second"
          ],
          [
           "busy"
          ],
          [
           "very nice"
          ],
          [
           "very unique with whole cookies"
          ],
          [
           "more non-fat"
          ],
          [
           "tiny"
          ],
          [
           "conveniently located"
          ],
          [
           "also wondering"
          ],
          [
           "usual original"
          ],
          [
           "first"
          ],
          [
           "particular"
          ],
          [
           "really picky"
          ],
          [
           "amazingly clean"
          ],
          [
           "new favorite"
          ],
          [
           "ultimate"
          ],
          [
           "heavy"
          ],
          [
           "many different"
          ],
          [
           "really good"
          ],
          [
           "never top"
          ],
          [
           "last few"
          ],
          [
           "first fro-yo"
          ],
          [
           "available to help"
          ],
          [
           "friendly enough to make"
          ],
          [
           "not letting"
          ],
          [
           "such creamy"
          ],
          [
           "fantastic"
          ],
          [
           "messy"
          ],
          [
           "excellent"
          ],
          [
           "few"
          ],
          [
           "immaculately clean"
          ],
          [
           "most of the time"
          ],
          [
           "not overwhelming"
          ],
          [
           "whole"
          ],
          [
           "super"
          ],
          [
           "hot"
          ],
          [
           "hard to go wrong"
          ],
          [
           "away raving"
          ],
          [
           "not working"
          ],
          [
           "pomegranate"
          ],
          [
           "n't been"
          ],
          [
           "somewhere else next"
          ],
          [
           "open on sunday"
          ],
          [
           "tart"
          ],
          [
           "normal frozen"
          ],
          [
           "past"
          ],
          [
           "just writing"
          ],
          [
           "only interested"
          ],
          [
           "exceptional"
          ],
          [
           "decent frozen"
          ],
          [
           "only"
          ],
          [
           "super delicious"
          ],
          [
           "together froyo"
          ],
          [
           "glad"
          ],
          [
           "sour"
          ],
          [
           "little too sweet"
          ],
          [
           "very good"
          ],
          [
           "super clean and most"
          ],
          [
           "to-go"
          ],
          [
           "fro-yo and fresh"
          ],
          [
           "yummy"
          ],
          [
           "best"
          ],
          [
           "fresh and abundant"
          ],
          [
           "too many"
          ],
          [
           "other local"
          ],
          [
           "so unprofessional"
          ],
          [
           "hostess"
          ],
          [
           "overall average"
          ],
          [
           "deeeeeelicious"
          ],
          [
           "clean and easy"
          ],
          [
           "own"
          ],
          [
           "quick to greet"
          ],
          [
           "bad or negative"
          ],
          [
           "ready to be rang"
          ],
          [
           "always changing"
          ],
          [
           "totally impressed"
          ],
          [
           "less than half"
          ],
          [
           "very simple , & nice"
          ],
          [
           "delicious and abundant"
          ],
          [
           "many"
          ],
          [
           "seasonal"
          ],
          [
           "boyfriend"
          ],
          [
           "mediocre"
          ],
          [
           "too much about toppings"
          ],
          [
           "very consistent"
          ],
          [
           "outstanding"
          ],
          [
           "always giving"
          ],
          [
           "constantly cleaning"
          ],
          [
           "entirely different"
          ],
          [
           "frequent"
          ],
          [
           "worse"
          ],
          [
           "not too sweet"
          ],
          [
           "healthier"
          ],
          [
           "really bad for the blonde"
          ],
          [
           "sure to sign"
          ],
          [
           "biggest"
          ],
          [
           "unable to get"
          ],
          [
           "nice"
          ],
          [
           "clean , cool"
          ],
          [
           "less"
          ],
          [
           "empty"
          ],
          [
           "cheaper and healthier"
          ],
          [
           "always working"
          ],
          [
           "even better"
          ],
          [
           "so friendly"
          ],
          [
           "okay"
          ],
          [
           "close"
          ],
          [
           "disappointed"
          ],
          [
           "ever seen"
          ],
          [
           "always great and most"
          ],
          [
           "new"
          ],
          [
           "good"
          ],
          [
           "not rushed"
          ],
          [
           "always greeted"
          ],
          [
           "oatmeal"
          ],
          [
           "fair"
          ],
          [
           "lazy"
          ],
          [
           "overall"
          ],
          [
           "back many"
          ],
          [
           "particularly yummy"
          ],
          [
           "ice"
          ],
          [
           "well lit"
          ],
          [
           "vast"
          ],
          [
           "well worth"
          ],
          [
           "typically overpriced"
          ],
          [
           "too busy in the back"
          ],
          [
           "helpful , courteous and willing"
          ],
          [
           "-.42"
          ],
          [
           "sweet"
          ],
          [
           "hard to tell"
          ],
          [
           "neatest"
          ],
          [
           "actually closed"
          ],
          [
           "awesome"
          ],
          [
           "rewards"
          ],
          [
           "couple"
          ],
          [
           "really liked"
          ],
          [
           "usually talking"
          ],
          [
           "amazing"
          ],
          [
           "very friendly and helpful"
          ],
          [
           "fav froyo"
          ],
          [
           "other fro-yo"
          ],
          [
           "mixed"
          ],
          [
           "enormous"
          ],
          [
           "much better"
          ],
          [
           "too fake"
          ],
          [
           "consistently great with every visit"
          ],
          [
           "young"
          ],
          [
           "dumb"
          ]
         ],
         "hovertemplate": "TF-IDF=%{x}<br>Adjective Phrase=%{customdata[0]}<extra></extra>",
         "legendgroup": "",
         "marker": {
          "color": "#636efa"
         },
         "name": "",
         "notched": false,
         "offsetgroup": "",
         "orientation": "h",
         "showlegend": false,
         "type": "box",
         "x": [
          0.0011968069928908365,
          0.0008796182337791007,
          0.0013721423489151206,
          0.0010996140763361469,
          0.0007814341354133115,
          0.0035656413303724287,
          0.0014932509141044844,
          0.000811519268550439,
          0.0014848028401927434,
          0.0009131338941920119,
          0.001011130127706379,
          0.000718084195734502,
          0.0007763053222767771,
          0.0010095584145506716,
          0.000689526129737209,
          0.0035671819262782403,
          0.0016646848989298453,
          0.0047562425683709865,
          0.0013721423489151206,
          0.0019148911886253386,
          0.002853745541022592,
          0.0006762578290475006,
          0.0014848028401927434,
          0.0009636833118357695,
          0.0006608456752418899,
          0.002329820992140406,
          0.001426872770511296,
          0.0009249520425983381,
          0.0014848028401927434,
          0.0009131338941920119,
          0.001698469615591591,
          0.0012708217412256086,
          0,
          0.0015237761038560823,
          0.001229032555577055,
          0.0014848028401927434,
          0.01779150437715852,
          0.0010978841187417438,
          0.001379052259474418,
          0.0025725357963670586,
          0.002299431848012039,
          0.0017196299822300096,
          0.0014848028401927434,
          0.0012922084582644453,
          0.0014848028401927434,
          0.00024726286055874296,
          0.001082403085241411,
          0.0014848028401927434,
          0.0007472268650459194,
          0.0014848028401927434,
          0.001426872770511296,
          0.0007916533653534885,
          0.004229040496225931,
          0.0012302069158042592,
          0.001011130127706379,
          0.001939924405419653,
          0.0008901748425555467,
          0.0004503728599339112,
          0.00027810181972842967,
          0.002856945189107864,
          0.00043221043929548696,
          0.003565643356855886,
          0.001269753518395793,
          0.00030519914656534236,
          0.00153984261771648,
          0.0015165767856583237,
          0.013288218781341204,
          0.0005412015426207055,
          0.0014848028401927434,
          0.0008256844815581671,
          0.0005243655977564506,
          0.0016356380393601126,
          0.0005101384790256843,
          0.0019148911886253386,
          0.0005049860786989504,
          0.002856945189107864,
          0.0006900019944077241,
          0.002969605680385487,
          0.0012627085860654414,
          0.0014848028401927434,
          0.0012708217412256086,
          0.0008858812520894136,
          0.007046383325201693,
          0.0010284190675979724,
          0.0005834562815594576,
          0.011093847762115198,
          0.005357349373208776,
          0.0012708217412256086,
          0.016388803163654153,
          0.0007763053222767771,
          0.002969605680385487,
          0.009036860879904875,
          0.0022545830165921856,
          0.0007943592031302259,
          0.0007721189398144337,
          0.016388803163654153,
          0.0011367164360539916,
          0.0003135442880186765,
          0.004194924782051605,
          0.0017761557714242966,
          0.0003577534148062719,
          0.0012302069158042592,
          0.004171527295926445,
          0.0012922084582644453,
          0.004317169002569824,
          0.0009239515054418686,
          0.001011130127706379,
          0.0009869535850585242,
          0.0007323576606700398,
          0.00070057316267665,
          0.003565643356855886,
          0.0005639398213895966,
          0.0014848028401927434,
          0.0019366884154287205,
          0.0014848028401927434,
          0.0018033923023188549,
          0.0074240142009637175,
          0.004109747757752556,
          0.0011795479669868224,
          0.0010019937985305996,
          0.009095733145970359,
          0.0017196299822300096,
          0.001229032555577055,
          0.0005101384790256843,
          0.0003655512323622744,
          0.001722695767319956,
          0,
          0.002168287451630481,
          0.000705875254500458,
          0.0013721423489151206,
          0.0014848028401927434,
          0.001475816952219843,
          0.0006666758662648634,
          0.0012302069158042592,
          0.0012283071301642924,
          0.0014848028401927434,
          0.0010376125338759608,
          0.0006518705675170749,
          0.011093847762115198,
          0.00027810181972842967,
          0.000718084195734502,
          0.0014848028401927434,
          0.0033293697978596906,
          0.0006900019944077241,
          0.0009070196944078487,
          0.001689439216468789,
          0.0005825294872966524,
          0.002969605680385487,
          0.0014848028401927434,
          0.0014848028401927434,
          0.0011288423097664602,
          0.01093935790725327,
          0.007997992235418706,
          0.0013721423489151206,
          0.0007482950878757347,
          0.0006348767591978965,
          0.0006259413638497826,
          0.0013721423489151206,
          0.0021542525872035056,
          0.0012922084582644453,
          0.02034571887914422,
          0.0014848028401927434,
          0.0012708217412256086,
          0.0011367164360539916,
          0.0005306524638423278,
          0.001157356515394618,
          0.001348801329216753,
          0.0011743972208669488,
          0.0004881414070475022,
          0.0022898252430701227,
          0.0033293697978596906,
          0.0007663077090276256,
          0.014377778153821309,
          0.0014848028401927434,
          0.0013721423489151206,
          0.0012922084582644453,
          0.0032994562065296095,
          0.0010555994456660398,
          0.0017911477368352923,
          0.000505334030198688,
          0.0003403079319369857,
          0.008847863479274652,
          0,
          0.0002554359030092085,
          0.0012302069158042592,
          0.0014848028401927434,
          0.0014848028401927434,
          0.0014848028401927434,
          0.0014848028401927434,
          0.003372891591425193,
          0.0006900019944077241,
          0.002856945189107864,
          0.0011795479669868224,
          0.0014848028401927434,
          0.0013721423489151206,
          0.002777011298457189,
          0.0010668874757091998,
          0.004528015888700169,
          0.0021236700211125156,
          0.0013109139943911264,
          0.0013721423489151206,
          0.001939924405419653,
          0.0014848028401927434,
          0.0010668874757091998,
          0.0009441220541256933,
          0.000627088576037353,
          0.0008786196720034263,
          0.0014848028401927434,
          0.009512485136741973,
          0.0006348767591978965,
          0.004146290876428773,
          0.0023903473964409128,
          0.0014848028401927434,
          0.0033293697978596906,
          0.002853745541022592,
          0.01779150437715852,
          0.009036860879904875,
          0.0020316007974519315,
          0.000578678257697309,
          0.0014848028401927434,
          0.002053841060767724,
          0.0020700059832231723,
          0.0008714672927575092,
          0.009095733145970359,
          0.0006103982931306847,
          0.00040890950984002816,
          0.0005635778066558915,
          0.000811519268550439,
          0.0012124527533872828,
          0.0013721423489151206,
          0.00028178890332794575,
          0.0014455249677536542,
          0.0014848028401927434,
          0.0014848028401927434,
          0.0012708217412256086,
          0,
          0.0012922084582644453,
          0.0008786196720034263,
          0.011093847762115198,
          0.0008447196082343945,
          0.0008447196082343945,
          0.001939924405419653,
          0.004607320462871676,
          0.0009131338941920119,
          0.0008185357457780809,
          0.0007482950878757347,
          0.0011795479669868224,
          0.0004253168514540476,
          0.001764467936336448,
          0.0018262677883840238,
          0.0003288923310953878,
          0.000491322852065717,
          0.00027089484006247747,
          0.002853745541022592,
          0.0024249055067745657,
          0.0002691267120036147,
          0.008908817041156461,
          0.0013721423489151206,
          0.0002440707035237511,
          0.002393613985781673,
          0.0023781212841854932,
          0.00445440852057823,
          0.0011743972208669488,
          0.0003819585739762938,
          0.0006524237700193644,
          0.0010996140763361469,
          0.0014848028401927434,
          0.0033293697978596906,
          0.00042194357321577024,
          0.0011795479669868224,
          0.0013721423489151206,
          0.001411750509000916,
          0.0006114665159605,
          0.0008786196720034263,
          0.000689526129737209,
          0.0003249286334976512,
          0.0014848028401927434,
          0.000718084195734502,
          0.0014848028401927434,
          0.0012922084582644453,
          0.0028368576702552002,
          0.0014644242211425066,
          0.0014610952836023937,
          0.0005347432659584195,
          0.0006608456752418899,
          0.0004945257211174859,
          0,
          0.0012922084582644453,
          0.008561236623067776,
          0.0004700379528816195,
          0.0004977503047014948,
          0.0026329753843598405,
          0.0018962638804373422,
          0.0024598569868856564,
          0.0014848028401927434,
          0.0045478665729851795,
          0.004038233658202686,
          0.013079667063020214,
          0.0016956497263230885,
          0.0011367164360539916,
          0.0084068779521198,
          0.0014848028401927434,
          0.0010978841187417438,
          0.00030725813889426374,
          0.0009155974396960271,
          0.0013456335600180735,
          0.0014848028401927434,
          0,
          0.0008901748425555467,
          0.0014848028401927434,
          0.000578678257697309,
          0.0012267285295200845,
          0.0009869535850585242,
          0.009036860879904875,
          0.0015660332189749533,
          0.0006608456752418899,
          0.0014848028401927434,
          0.001690644572618751,
          0.0064209274673008325,
          0.0014848028401927434,
          0.002853745541022592,
          0.00030519914656534236,
          0.0005303900386785516,
          0.0009920137378512256,
          0.0011367164360539916,
          0.0011743972208669488,
          0.0014848028401927434,
          0,
          0.0014848028401927434,
          0.0014848028401927434,
          0.0014848028401927434,
          0.0024604138316085184,
          0.0011795479669868224,
          0.0009869535850585242,
          0.0012302069158042592,
          0.0014848028401927434,
          0.002853745541022592,
          0.00032219295488452064,
          0.0013525156580950011,
          0.0003682083787589749,
          0.0013721423489151206,
          0.001127155613311783,
          0.00034288531564305333,
          0.0009647133217427319,
          0.0014848028401927434,
          0.0012302069158042592,
          0.001690644572618751,
          0.00034288531564305333,
          0.003498647256046991,
          0.0013800039888154482,
          0.0022080496859633696,
          0.0012922084582644453,
          0.0005303900386785516,
          0.0011795479669868224,
          0.0023781212841854932,
          0.0011795479669868224,
          0.0010085316147377453,
          0.000320001122517119,
          0.0014848028401927434,
          0.0011367164360539916,
          0.0010182050475257922,
          0.009095733145970359,
          0.0005673082121070335,
          0.0024249055067745657,
          0.0014644242211425066,
          0.0006524237700193644,
          0.00153984261771648,
          0.0016864457957125965,
          0.009036860879904875,
          0.0013246722504373428,
          0.0009647133217427319,
          0.019039063317844395,
          0.000627088576037353,
          0.0005970492456117641,
          0.0007417885816762288,
          0.0009647133217427319,
          0.0014848028401927434,
          0.0028604637644687077,
          0.0009441220541256933,
          0.0015526106445535543,
          0.0005351705302140366,
          0.0014848028401927434,
          0.0014848028401927434,
          0.002715009755997003,
          0.0012708217412256086,
          0.003498647256046991,
          0.0011367164360539916,
          0.0012708217412256086,
          0.0012922084582644453,
          0.0014644242211425066,
          0.00198253702572567,
          0.0012124527533872828,
          0.0007792295716498991,
          0.0014848028401927434,
          0.002393613985781673,
          0.0019719619064988204,
          0.0014848028401927434,
          0.014377778153821309,
          0.00029320607792636687,
          0.0006798808019181173,
          0.0007477658906276662,
          0.0006432219006512307,
          0.0031854590976363316,
          0.00037636273630442844,
          0.0007232390793958711
         ],
         "x0": " ",
         "xaxis": "x",
         "y0": " ",
         "yaxis": "y"
        }
       ],
       "layout": {
        "boxmode": "group",
        "legend": {
         "tracegroupgap": 0
        },
        "template": {
         "data": {
          "bar": [
           {
            "error_x": {
             "color": "#2a3f5f"
            },
            "error_y": {
             "color": "#2a3f5f"
            },
            "marker": {
             "line": {
              "color": "#E5ECF6",
              "width": 0.5
             },
             "pattern": {
              "fillmode": "overlay",
              "size": 10,
              "solidity": 0.2
             }
            },
            "type": "bar"
           }
          ],
          "barpolar": [
           {
            "marker": {
             "line": {
              "color": "#E5ECF6",
              "width": 0.5
             },
             "pattern": {
              "fillmode": "overlay",
              "size": 10,
              "solidity": 0.2
             }
            },
            "type": "barpolar"
           }
          ],
          "carpet": [
           {
            "aaxis": {
             "endlinecolor": "#2a3f5f",
             "gridcolor": "white",
             "linecolor": "white",
             "minorgridcolor": "white",
             "startlinecolor": "#2a3f5f"
            },
            "baxis": {
             "endlinecolor": "#2a3f5f",
             "gridcolor": "white",
             "linecolor": "white",
             "minorgridcolor": "white",
             "startlinecolor": "#2a3f5f"
            },
            "type": "carpet"
           }
          ],
          "choropleth": [
           {
            "colorbar": {
             "outlinewidth": 0,
             "ticks": ""
            },
            "type": "choropleth"
           }
          ],
          "contour": [
           {
            "colorbar": {
             "outlinewidth": 0,
             "ticks": ""
            },
            "colorscale": [
             [
              0,
              "#0d0887"
             ],
             [
              0.1111111111111111,
              "#46039f"
             ],
             [
              0.2222222222222222,
              "#7201a8"
             ],
             [
              0.3333333333333333,
              "#9c179e"
             ],
             [
              0.4444444444444444,
              "#bd3786"
             ],
             [
              0.5555555555555556,
              "#d8576b"
             ],
             [
              0.6666666666666666,
              "#ed7953"
             ],
             [
              0.7777777777777778,
              "#fb9f3a"
             ],
             [
              0.8888888888888888,
              "#fdca26"
             ],
             [
              1,
              "#f0f921"
             ]
            ],
            "type": "contour"
           }
          ],
          "contourcarpet": [
           {
            "colorbar": {
             "outlinewidth": 0,
             "ticks": ""
            },
            "type": "contourcarpet"
           }
          ],
          "heatmap": [
           {
            "colorbar": {
             "outlinewidth": 0,
             "ticks": ""
            },
            "colorscale": [
             [
              0,
              "#0d0887"
             ],
             [
              0.1111111111111111,
              "#46039f"
             ],
             [
              0.2222222222222222,
              "#7201a8"
             ],
             [
              0.3333333333333333,
              "#9c179e"
             ],
             [
              0.4444444444444444,
              "#bd3786"
             ],
             [
              0.5555555555555556,
              "#d8576b"
             ],
             [
              0.6666666666666666,
              "#ed7953"
             ],
             [
              0.7777777777777778,
              "#fb9f3a"
             ],
             [
              0.8888888888888888,
              "#fdca26"
             ],
             [
              1,
              "#f0f921"
             ]
            ],
            "type": "heatmap"
           }
          ],
          "heatmapgl": [
           {
            "colorbar": {
             "outlinewidth": 0,
             "ticks": ""
            },
            "colorscale": [
             [
              0,
              "#0d0887"
             ],
             [
              0.1111111111111111,
              "#46039f"
             ],
             [
              0.2222222222222222,
              "#7201a8"
             ],
             [
              0.3333333333333333,
              "#9c179e"
             ],
             [
              0.4444444444444444,
              "#bd3786"
             ],
             [
              0.5555555555555556,
              "#d8576b"
             ],
             [
              0.6666666666666666,
              "#ed7953"
             ],
             [
              0.7777777777777778,
              "#fb9f3a"
             ],
             [
              0.8888888888888888,
              "#fdca26"
             ],
             [
              1,
              "#f0f921"
             ]
            ],
            "type": "heatmapgl"
           }
          ],
          "histogram": [
           {
            "marker": {
             "pattern": {
              "fillmode": "overlay",
              "size": 10,
              "solidity": 0.2
             }
            },
            "type": "histogram"
           }
          ],
          "histogram2d": [
           {
            "colorbar": {
             "outlinewidth": 0,
             "ticks": ""
            },
            "colorscale": [
             [
              0,
              "#0d0887"
             ],
             [
              0.1111111111111111,
              "#46039f"
             ],
             [
              0.2222222222222222,
              "#7201a8"
             ],
             [
              0.3333333333333333,
              "#9c179e"
             ],
             [
              0.4444444444444444,
              "#bd3786"
             ],
             [
              0.5555555555555556,
              "#d8576b"
             ],
             [
              0.6666666666666666,
              "#ed7953"
             ],
             [
              0.7777777777777778,
              "#fb9f3a"
             ],
             [
              0.8888888888888888,
              "#fdca26"
             ],
             [
              1,
              "#f0f921"
             ]
            ],
            "type": "histogram2d"
           }
          ],
          "histogram2dcontour": [
           {
            "colorbar": {
             "outlinewidth": 0,
             "ticks": ""
            },
            "colorscale": [
             [
              0,
              "#0d0887"
             ],
             [
              0.1111111111111111,
              "#46039f"
             ],
             [
              0.2222222222222222,
              "#7201a8"
             ],
             [
              0.3333333333333333,
              "#9c179e"
             ],
             [
              0.4444444444444444,
              "#bd3786"
             ],
             [
              0.5555555555555556,
              "#d8576b"
             ],
             [
              0.6666666666666666,
              "#ed7953"
             ],
             [
              0.7777777777777778,
              "#fb9f3a"
             ],
             [
              0.8888888888888888,
              "#fdca26"
             ],
             [
              1,
              "#f0f921"
             ]
            ],
            "type": "histogram2dcontour"
           }
          ],
          "mesh3d": [
           {
            "colorbar": {
             "outlinewidth": 0,
             "ticks": ""
            },
            "type": "mesh3d"
           }
          ],
          "parcoords": [
           {
            "line": {
             "colorbar": {
              "outlinewidth": 0,
              "ticks": ""
             }
            },
            "type": "parcoords"
           }
          ],
          "pie": [
           {
            "automargin": true,
            "type": "pie"
           }
          ],
          "scatter": [
           {
            "marker": {
             "colorbar": {
              "outlinewidth": 0,
              "ticks": ""
             }
            },
            "type": "scatter"
           }
          ],
          "scatter3d": [
           {
            "line": {
             "colorbar": {
              "outlinewidth": 0,
              "ticks": ""
             }
            },
            "marker": {
             "colorbar": {
              "outlinewidth": 0,
              "ticks": ""
             }
            },
            "type": "scatter3d"
           }
          ],
          "scattercarpet": [
           {
            "marker": {
             "colorbar": {
              "outlinewidth": 0,
              "ticks": ""
             }
            },
            "type": "scattercarpet"
           }
          ],
          "scattergeo": [
           {
            "marker": {
             "colorbar": {
              "outlinewidth": 0,
              "ticks": ""
             }
            },
            "type": "scattergeo"
           }
          ],
          "scattergl": [
           {
            "marker": {
             "colorbar": {
              "outlinewidth": 0,
              "ticks": ""
             }
            },
            "type": "scattergl"
           }
          ],
          "scattermapbox": [
           {
            "marker": {
             "colorbar": {
              "outlinewidth": 0,
              "ticks": ""
             }
            },
            "type": "scattermapbox"
           }
          ],
          "scatterpolar": [
           {
            "marker": {
             "colorbar": {
              "outlinewidth": 0,
              "ticks": ""
             }
            },
            "type": "scatterpolar"
           }
          ],
          "scatterpolargl": [
           {
            "marker": {
             "colorbar": {
              "outlinewidth": 0,
              "ticks": ""
             }
            },
            "type": "scatterpolargl"
           }
          ],
          "scatterternary": [
           {
            "marker": {
             "colorbar": {
              "outlinewidth": 0,
              "ticks": ""
             }
            },
            "type": "scatterternary"
           }
          ],
          "surface": [
           {
            "colorbar": {
             "outlinewidth": 0,
             "ticks": ""
            },
            "colorscale": [
             [
              0,
              "#0d0887"
             ],
             [
              0.1111111111111111,
              "#46039f"
             ],
             [
              0.2222222222222222,
              "#7201a8"
             ],
             [
              0.3333333333333333,
              "#9c179e"
             ],
             [
              0.4444444444444444,
              "#bd3786"
             ],
             [
              0.5555555555555556,
              "#d8576b"
             ],
             [
              0.6666666666666666,
              "#ed7953"
             ],
             [
              0.7777777777777778,
              "#fb9f3a"
             ],
             [
              0.8888888888888888,
              "#fdca26"
             ],
             [
              1,
              "#f0f921"
             ]
            ],
            "type": "surface"
           }
          ],
          "table": [
           {
            "cells": {
             "fill": {
              "color": "#EBF0F8"
             },
             "line": {
              "color": "white"
             }
            },
            "header": {
             "fill": {
              "color": "#C8D4E3"
             },
             "line": {
              "color": "white"
             }
            },
            "type": "table"
           }
          ]
         },
         "layout": {
          "annotationdefaults": {
           "arrowcolor": "#2a3f5f",
           "arrowhead": 0,
           "arrowwidth": 1
          },
          "autotypenumbers": "strict",
          "coloraxis": {
           "colorbar": {
            "outlinewidth": 0,
            "ticks": ""
           }
          },
          "colorscale": {
           "diverging": [
            [
             0,
             "#8e0152"
            ],
            [
             0.1,
             "#c51b7d"
            ],
            [
             0.2,
             "#de77ae"
            ],
            [
             0.3,
             "#f1b6da"
            ],
            [
             0.4,
             "#fde0ef"
            ],
            [
             0.5,
             "#f7f7f7"
            ],
            [
             0.6,
             "#e6f5d0"
            ],
            [
             0.7,
             "#b8e186"
            ],
            [
             0.8,
             "#7fbc41"
            ],
            [
             0.9,
             "#4d9221"
            ],
            [
             1,
             "#276419"
            ]
           ],
           "sequential": [
            [
             0,
             "#0d0887"
            ],
            [
             0.1111111111111111,
             "#46039f"
            ],
            [
             0.2222222222222222,
             "#7201a8"
            ],
            [
             0.3333333333333333,
             "#9c179e"
            ],
            [
             0.4444444444444444,
             "#bd3786"
            ],
            [
             0.5555555555555556,
             "#d8576b"
            ],
            [
             0.6666666666666666,
             "#ed7953"
            ],
            [
             0.7777777777777778,
             "#fb9f3a"
            ],
            [
             0.8888888888888888,
             "#fdca26"
            ],
            [
             1,
             "#f0f921"
            ]
           ],
           "sequentialminus": [
            [
             0,
             "#0d0887"
            ],
            [
             0.1111111111111111,
             "#46039f"
            ],
            [
             0.2222222222222222,
             "#7201a8"
            ],
            [
             0.3333333333333333,
             "#9c179e"
            ],
            [
             0.4444444444444444,
             "#bd3786"
            ],
            [
             0.5555555555555556,
             "#d8576b"
            ],
            [
             0.6666666666666666,
             "#ed7953"
            ],
            [
             0.7777777777777778,
             "#fb9f3a"
            ],
            [
             0.8888888888888888,
             "#fdca26"
            ],
            [
             1,
             "#f0f921"
            ]
           ]
          },
          "colorway": [
           "#636efa",
           "#EF553B",
           "#00cc96",
           "#ab63fa",
           "#FFA15A",
           "#19d3f3",
           "#FF6692",
           "#B6E880",
           "#FF97FF",
           "#FECB52"
          ],
          "font": {
           "color": "#2a3f5f"
          },
          "geo": {
           "bgcolor": "white",
           "lakecolor": "white",
           "landcolor": "#E5ECF6",
           "showlakes": true,
           "showland": true,
           "subunitcolor": "white"
          },
          "hoverlabel": {
           "align": "left"
          },
          "hovermode": "closest",
          "mapbox": {
           "style": "light"
          },
          "paper_bgcolor": "white",
          "plot_bgcolor": "#E5ECF6",
          "polar": {
           "angularaxis": {
            "gridcolor": "white",
            "linecolor": "white",
            "ticks": ""
           },
           "bgcolor": "#E5ECF6",
           "radialaxis": {
            "gridcolor": "white",
            "linecolor": "white",
            "ticks": ""
           }
          },
          "scene": {
           "xaxis": {
            "backgroundcolor": "#E5ECF6",
            "gridcolor": "white",
            "gridwidth": 2,
            "linecolor": "white",
            "showbackground": true,
            "ticks": "",
            "zerolinecolor": "white"
           },
           "yaxis": {
            "backgroundcolor": "#E5ECF6",
            "gridcolor": "white",
            "gridwidth": 2,
            "linecolor": "white",
            "showbackground": true,
            "ticks": "",
            "zerolinecolor": "white"
           },
           "zaxis": {
            "backgroundcolor": "#E5ECF6",
            "gridcolor": "white",
            "gridwidth": 2,
            "linecolor": "white",
            "showbackground": true,
            "ticks": "",
            "zerolinecolor": "white"
           }
          },
          "shapedefaults": {
           "line": {
            "color": "#2a3f5f"
           }
          },
          "ternary": {
           "aaxis": {
            "gridcolor": "white",
            "linecolor": "white",
            "ticks": ""
           },
           "baxis": {
            "gridcolor": "white",
            "linecolor": "white",
            "ticks": ""
           },
           "bgcolor": "#E5ECF6",
           "caxis": {
            "gridcolor": "white",
            "linecolor": "white",
            "ticks": ""
           }
          },
          "title": {
           "x": 0.05
          },
          "xaxis": {
           "automargin": true,
           "gridcolor": "white",
           "linecolor": "white",
           "ticks": "",
           "title": {
            "standoff": 15
           },
           "zerolinecolor": "white",
           "zerolinewidth": 2
          },
          "yaxis": {
           "automargin": true,
           "gridcolor": "white",
           "linecolor": "white",
           "ticks": "",
           "title": {
            "standoff": 15
           },
           "zerolinecolor": "white",
           "zerolinewidth": 2
          }
         }
        },
        "title": {
         "text": "TF-IDF values for Adjective Phrases of Business ID R4R7ttLXfKKWM0VEMoaW4w"
        },
        "xaxis": {
         "anchor": "y",
         "domain": [
          0,
          1
         ],
         "title": {
          "text": "TF-IDF"
         }
        },
        "yaxis": {
         "anchor": "x",
         "domain": [
          0,
          1
         ]
        }
       }
      },
      "text/html": [
       "<div>                            <div id=\"31516998-3704-4550-b72c-013033b9878c\" class=\"plotly-graph-div\" style=\"height:525px; width:100%;\"></div>            <script type=\"text/javascript\">                require([\"plotly\"], function(Plotly) {                    window.PLOTLYENV=window.PLOTLYENV || {};                                    if (document.getElementById(\"31516998-3704-4550-b72c-013033b9878c\")) {                    Plotly.newPlot(                        \"31516998-3704-4550-b72c-013033b9878c\",                        [{\"alignmentgroup\":\"True\",\"boxpoints\":\"all\",\"customdata\":[[\"long\"],[\"available\"],[\"expensive but worth\"],[\"slightly higher\"],[\"wonderful\"],[\"so sparkling clean and bright\"],[\"least\"],[\"other popular\"],[\"most competitive in yogurt\"],[\"not ashamed\"],[\"great after dinner\"],[\"big\"],[\"friendliest\"],[\"infinite\"],[\"always very nice\"],[\"little\"],[\"sure\"],[\"so make\"],[\"great with money\"],[\"few different\"],[\"better\"],[\"single\"],[\"vast and plentiful\"],[\"happy\"],[\"tangy\"],[\"pretty darn reasonable\"],[\"enough\"],[\"enough good\"],[\"only clean major\"],[\"inhale\"],[\"n't really wanting\"],[\"capricious\"],[\"not been\"],[\"cleanest\"],[\"so rude\"],[\"full , topping-less\"],[\"other froyo\"],[\"past few\"],[\"really friendly\"],[\"n't really friendly\"],[\"added\"],[\"so hard\"],[\"officially yogurt\"],[\"so happy to be able\"],[\"run-of-the-mill frozen\"],[\"special\"],[\"stale\"],[\"little gelatin-like\"],[\"higher\"],[\"always annoying\"],[\"next\"],[\"jumbo\"],[\"caramel\"],[\"crazy busy\"],[\"so courteous and friendly\"],[\"very bad\"],[\"very clean and modern\"],[\"equal\"],[\"real\"],[\"sure the toppings are filled\"],[\"classic\"],[\"so delicious\"],[\"spilled\"],[\"horrible\"],[\"always great\"],[\"unique\"],[\"sample\"],[\"weekly\"],[\"comfortable to ask\"],[\"understatement\"],[\"old\"],[\"various\"],[\"fortunate\"],[\"different\"],[\"always good\"],[\"never otherwise thought\"],[\"sub-par\"],[\"best frozen\"],[\"red\"],[\"frozen to save\"],[\"-clean\"],[\"wide\"],[\"dole\"],[\"total\"],[\"nicest\"],[\"very clean\"],[\"more fruit\"],[\"one-size\"],[\"only frozen\"],[\"dear\"],[\"fro yo\"],[\"so good\"],[\"always clean\"],[\"n't worth\"],[\"ever tasted\"],[\"frozen\"],[\"pretty sad\"],[\"incredible\"],[\"favorite\"],[\".42\"],[\"weird\"],[\"pretty similar\"],[\"fresh\"],[\"rarely disappointed\"],[\"available in different flavors\"],[\"chill\"],[\"fairly busy\"],[\"always pleasant\"],[\"also very nice\"],[\"constant\"],[\"delicious\"],[\"super nice\"],[\"tart and delicious\"],[\"n't working\"],[\"great and unique\"],[\"always fresh and soft\"],[\"smoothest , creamiest , most flavorful frozen\"],[\"cream\"],[\"clean but not as clean\"],[\"huge\"],[\"very friendly\"],[\"hard\"],[\"rude\"],[\"2-3\"],[\"positive\"],[\"never seen\"],[\"other\"],[\"own personal\"],[\"consistently good\"],[\"healthy and so so good\"],[\"very white and clean\"],[\"very cool\"],[\"right next\"],[\"always very pleased\"],[\"high\"],[\"extremely filthy\"],[\"really clean\"],[\"3-4\"],[\"clean\"],[\"short\"],[\"last\"],[\"rude and uhm\"],[\"ever been\"],[\"scrumptious\"],[\"nice to get a\"],[\"most self-serve\"],[\"easy\"],[\"caramel fro-yo & nutella\"],[\"gross because other customers\"],[\"ok , ginormous\"],[\"not blaming\"],[\"great\"],[\"bottom\"],[\"even seen\"],[\"highest\"],[\"golden\"],[\"so friendly and attentive\"],[\"constantly changing\"],[\"much\"],[\"somewhat annoying\"],[\"topping\"],[\"self-serve frozen\"],[\"once-in-a-while\"],[\"little nervous\"],[\"really great\"],[\"simple\"],[\"super friendly\"],[\"to-\"],[\"absolute\"],[\"definitely not going\"],[\"never been\"],[\"wrong\"],[\"fro-yo\"],[\"boring original\"],[\"clean and tasty\"],[\"so many unique\"],[\"much much better than any other yogurt\"],[\"half\"],[\"banana\"],[\"obvious\"],[\"pretty good\"],[\"there cupcake\"],[\"more\"],[\"perfect\"],[\"not gluten sensitive\"],[\"so usually frozen\"],[\"afternoon/early evening\"],[\"cleanest eating\"],[\"bad as jumpstreet\"],[\"more to put\"],[\"upbeat\"],[\"first to admit chocolate\"],[\"ever waited\"],[\"great high\"],[\"little frozen\"],[\"right near jenny\"],[\"same as every other place\"],[\"always clean , bright\"],[\"always willing to give\"],[\"large\"],[\"ever created\"],[\"bad\"],[\"clean , but not spotless\"],[\"so creamy and delicious\"],[\"always helpful\"],[\"not fair\"],[\"very refreshing\"],[\"fantastic , yay\"],[\"always been\"],[\"not rotated\"],[\"always exceptionally friendly and helpful\"],[\"competitive and even better\"],[\"favorite frozen\"],[\"ever had\"],[\"here many\"],[\"froyo\"],[\"not so good\"],[\"still really hard\"],[\"so glad\"],[\"-super clean\"],[\"so many great + fresh\"],[\"obsessed\"],[\"healthy\"],[\"friendly\"],[\"due\"],[\"so loud\"],[\"few unfortunate\"],[\"most popular\"],[\"full\"],[\"away bad\"],[\"few of the menu\"],[\"reasonable\"],[\"definitely caramel\"],[\"tasty first-time\"],[\"more yogurty\"],[\"such\"],[\"fresh at all times\"],[\"so heavy\"],[\"so clean\"],[\"exemplary\"],[\"swirl\"],[\"so bad\"],[\"helpful\"],[\"teenie\"],[\"n't open\"],[\"too exhausted\"],[\"very filling and delicious\"],[\"dark\"],[\"hopeful to find a great\"],[\"such as oreos\"],[\"very accommodating\"],[\"just ok\"],[\"head\"],[\"so many\"],[\"so close\"],[\"free\"],[\"more expensive per ounce\"],[\"pretty weak\"],[\"second\"],[\"busy\"],[\"very nice\"],[\"very unique with whole cookies\"],[\"more non-fat\"],[\"tiny\"],[\"conveniently located\"],[\"also wondering\"],[\"usual original\"],[\"first\"],[\"particular\"],[\"really picky\"],[\"amazingly clean\"],[\"new favorite\"],[\"ultimate\"],[\"heavy\"],[\"many different\"],[\"really good\"],[\"never top\"],[\"last few\"],[\"first fro-yo\"],[\"available to help\"],[\"friendly enough to make\"],[\"not letting\"],[\"such creamy\"],[\"fantastic\"],[\"messy\"],[\"excellent\"],[\"few\"],[\"immaculately clean\"],[\"most of the time\"],[\"not overwhelming\"],[\"whole\"],[\"super\"],[\"hot\"],[\"hard to go wrong\"],[\"away raving\"],[\"not working\"],[\"pomegranate\"],[\"n't been\"],[\"somewhere else next\"],[\"open on sunday\"],[\"tart\"],[\"normal frozen\"],[\"past\"],[\"just writing\"],[\"only interested\"],[\"exceptional\"],[\"decent frozen\"],[\"only\"],[\"super delicious\"],[\"together froyo\"],[\"glad\"],[\"sour\"],[\"little too sweet\"],[\"very good\"],[\"super clean and most\"],[\"to-go\"],[\"fro-yo and fresh\"],[\"yummy\"],[\"best\"],[\"fresh and abundant\"],[\"too many\"],[\"other local\"],[\"so unprofessional\"],[\"hostess\"],[\"overall average\"],[\"deeeeeelicious\"],[\"clean and easy\"],[\"own\"],[\"quick to greet\"],[\"bad or negative\"],[\"ready to be rang\"],[\"always changing\"],[\"totally impressed\"],[\"less than half\"],[\"very simple , & nice\"],[\"delicious and abundant\"],[\"many\"],[\"seasonal\"],[\"boyfriend\"],[\"mediocre\"],[\"too much about toppings\"],[\"very consistent\"],[\"outstanding\"],[\"always giving\"],[\"constantly cleaning\"],[\"entirely different\"],[\"frequent\"],[\"worse\"],[\"not too sweet\"],[\"healthier\"],[\"really bad for the blonde\"],[\"sure to sign\"],[\"biggest\"],[\"unable to get\"],[\"nice\"],[\"clean , cool\"],[\"less\"],[\"empty\"],[\"cheaper and healthier\"],[\"always working\"],[\"even better\"],[\"so friendly\"],[\"okay\"],[\"close\"],[\"disappointed\"],[\"ever seen\"],[\"always great and most\"],[\"new\"],[\"good\"],[\"not rushed\"],[\"always greeted\"],[\"oatmeal\"],[\"fair\"],[\"lazy\"],[\"overall\"],[\"back many\"],[\"particularly yummy\"],[\"ice\"],[\"well lit\"],[\"vast\"],[\"well worth\"],[\"typically overpriced\"],[\"too busy in the back\"],[\"helpful , courteous and willing\"],[\"-.42\"],[\"sweet\"],[\"hard to tell\"],[\"neatest\"],[\"actually closed\"],[\"awesome\"],[\"rewards\"],[\"couple\"],[\"really liked\"],[\"usually talking\"],[\"amazing\"],[\"very friendly and helpful\"],[\"fav froyo\"],[\"other fro-yo\"],[\"mixed\"],[\"enormous\"],[\"much better\"],[\"too fake\"],[\"consistently great with every visit\"],[\"young\"],[\"dumb\"]],\"hovertemplate\":\"TF-IDF=%{x}<br>Adjective Phrase=%{customdata[0]}<extra></extra>\",\"legendgroup\":\"\",\"marker\":{\"color\":\"#636efa\"},\"name\":\"\",\"notched\":false,\"offsetgroup\":\"\",\"orientation\":\"h\",\"showlegend\":false,\"type\":\"box\",\"x\":[0.0011968069928908365,0.0008796182337791007,0.0013721423489151206,0.0010996140763361469,0.0007814341354133115,0.0035656413303724287,0.0014932509141044844,0.000811519268550439,0.0014848028401927434,0.0009131338941920119,0.001011130127706379,0.000718084195734502,0.0007763053222767771,0.0010095584145506716,0.000689526129737209,0.0035671819262782403,0.0016646848989298453,0.0047562425683709865,0.0013721423489151206,0.0019148911886253386,0.002853745541022592,0.0006762578290475006,0.0014848028401927434,0.0009636833118357695,0.0006608456752418899,0.002329820992140406,0.001426872770511296,0.0009249520425983381,0.0014848028401927434,0.0009131338941920119,0.001698469615591591,0.0012708217412256086,0.0,0.0015237761038560823,0.001229032555577055,0.0014848028401927434,0.01779150437715852,0.0010978841187417438,0.001379052259474418,0.0025725357963670586,0.002299431848012039,0.0017196299822300096,0.0014848028401927434,0.0012922084582644453,0.0014848028401927434,0.00024726286055874296,0.001082403085241411,0.0014848028401927434,0.0007472268650459194,0.0014848028401927434,0.001426872770511296,0.0007916533653534885,0.004229040496225931,0.0012302069158042592,0.001011130127706379,0.001939924405419653,0.0008901748425555467,0.0004503728599339112,0.00027810181972842967,0.002856945189107864,0.00043221043929548696,0.003565643356855886,0.001269753518395793,0.00030519914656534236,0.00153984261771648,0.0015165767856583237,0.013288218781341204,0.0005412015426207055,0.0014848028401927434,0.0008256844815581671,0.0005243655977564506,0.0016356380393601126,0.0005101384790256843,0.0019148911886253386,0.0005049860786989504,0.002856945189107864,0.0006900019944077241,0.002969605680385487,0.0012627085860654414,0.0014848028401927434,0.0012708217412256086,0.0008858812520894136,0.007046383325201693,0.0010284190675979724,0.0005834562815594576,0.011093847762115198,0.005357349373208776,0.0012708217412256086,0.016388803163654153,0.0007763053222767771,0.002969605680385487,0.009036860879904875,0.0022545830165921856,0.0007943592031302259,0.0007721189398144337,0.016388803163654153,0.0011367164360539916,0.0003135442880186765,0.004194924782051605,0.0017761557714242966,0.0003577534148062719,0.0012302069158042592,0.004171527295926445,0.0012922084582644453,0.004317169002569824,0.0009239515054418686,0.001011130127706379,0.0009869535850585242,0.0007323576606700398,0.00070057316267665,0.003565643356855886,0.0005639398213895966,0.0014848028401927434,0.0019366884154287205,0.0014848028401927434,0.0018033923023188549,0.0074240142009637175,0.004109747757752556,0.0011795479669868224,0.0010019937985305996,0.009095733145970359,0.0017196299822300096,0.001229032555577055,0.0005101384790256843,0.0003655512323622744,0.001722695767319956,0.0,0.002168287451630481,0.000705875254500458,0.0013721423489151206,0.0014848028401927434,0.001475816952219843,0.0006666758662648634,0.0012302069158042592,0.0012283071301642924,0.0014848028401927434,0.0010376125338759608,0.0006518705675170749,0.011093847762115198,0.00027810181972842967,0.000718084195734502,0.0014848028401927434,0.0033293697978596906,0.0006900019944077241,0.0009070196944078487,0.001689439216468789,0.0005825294872966524,0.002969605680385487,0.0014848028401927434,0.0014848028401927434,0.0011288423097664602,0.01093935790725327,0.007997992235418706,0.0013721423489151206,0.0007482950878757347,0.0006348767591978965,0.0006259413638497826,0.0013721423489151206,0.0021542525872035056,0.0012922084582644453,0.02034571887914422,0.0014848028401927434,0.0012708217412256086,0.0011367164360539916,0.0005306524638423278,0.001157356515394618,0.001348801329216753,0.0011743972208669488,0.0004881414070475022,0.0022898252430701227,0.0033293697978596906,0.0007663077090276256,0.014377778153821309,0.0014848028401927434,0.0013721423489151206,0.0012922084582644453,0.0032994562065296095,0.0010555994456660398,0.0017911477368352923,0.000505334030198688,0.0003403079319369857,0.008847863479274652,0.0,0.0002554359030092085,0.0012302069158042592,0.0014848028401927434,0.0014848028401927434,0.0014848028401927434,0.0014848028401927434,0.003372891591425193,0.0006900019944077241,0.002856945189107864,0.0011795479669868224,0.0014848028401927434,0.0013721423489151206,0.002777011298457189,0.0010668874757091998,0.004528015888700169,0.0021236700211125156,0.0013109139943911264,0.0013721423489151206,0.001939924405419653,0.0014848028401927434,0.0010668874757091998,0.0009441220541256933,0.000627088576037353,0.0008786196720034263,0.0014848028401927434,0.009512485136741973,0.0006348767591978965,0.004146290876428773,0.0023903473964409128,0.0014848028401927434,0.0033293697978596906,0.002853745541022592,0.01779150437715852,0.009036860879904875,0.0020316007974519315,0.000578678257697309,0.0014848028401927434,0.002053841060767724,0.0020700059832231723,0.0008714672927575092,0.009095733145970359,0.0006103982931306847,0.00040890950984002816,0.0005635778066558915,0.000811519268550439,0.0012124527533872828,0.0013721423489151206,0.00028178890332794575,0.0014455249677536542,0.0014848028401927434,0.0014848028401927434,0.0012708217412256086,0.0,0.0012922084582644453,0.0008786196720034263,0.011093847762115198,0.0008447196082343945,0.0008447196082343945,0.001939924405419653,0.004607320462871676,0.0009131338941920119,0.0008185357457780809,0.0007482950878757347,0.0011795479669868224,0.0004253168514540476,0.001764467936336448,0.0018262677883840238,0.0003288923310953878,0.000491322852065717,0.00027089484006247747,0.002853745541022592,0.0024249055067745657,0.0002691267120036147,0.008908817041156461,0.0013721423489151206,0.0002440707035237511,0.002393613985781673,0.0023781212841854932,0.00445440852057823,0.0011743972208669488,0.0003819585739762938,0.0006524237700193644,0.0010996140763361469,0.0014848028401927434,0.0033293697978596906,0.00042194357321577024,0.0011795479669868224,0.0013721423489151206,0.001411750509000916,0.0006114665159605,0.0008786196720034263,0.000689526129737209,0.0003249286334976512,0.0014848028401927434,0.000718084195734502,0.0014848028401927434,0.0012922084582644453,0.0028368576702552002,0.0014644242211425066,0.0014610952836023937,0.0005347432659584195,0.0006608456752418899,0.0004945257211174859,0.0,0.0012922084582644453,0.008561236623067776,0.0004700379528816195,0.0004977503047014948,0.0026329753843598405,0.0018962638804373422,0.0024598569868856564,0.0014848028401927434,0.0045478665729851795,0.004038233658202686,0.013079667063020214,0.0016956497263230885,0.0011367164360539916,0.0084068779521198,0.0014848028401927434,0.0010978841187417438,0.00030725813889426374,0.0009155974396960271,0.0013456335600180735,0.0014848028401927434,0.0,0.0008901748425555467,0.0014848028401927434,0.000578678257697309,0.0012267285295200845,0.0009869535850585242,0.009036860879904875,0.0015660332189749533,0.0006608456752418899,0.0014848028401927434,0.001690644572618751,0.0064209274673008325,0.0014848028401927434,0.002853745541022592,0.00030519914656534236,0.0005303900386785516,0.0009920137378512256,0.0011367164360539916,0.0011743972208669488,0.0014848028401927434,0.0,0.0014848028401927434,0.0014848028401927434,0.0014848028401927434,0.0024604138316085184,0.0011795479669868224,0.0009869535850585242,0.0012302069158042592,0.0014848028401927434,0.002853745541022592,0.00032219295488452064,0.0013525156580950011,0.0003682083787589749,0.0013721423489151206,0.001127155613311783,0.00034288531564305333,0.0009647133217427319,0.0014848028401927434,0.0012302069158042592,0.001690644572618751,0.00034288531564305333,0.003498647256046991,0.0013800039888154482,0.0022080496859633696,0.0012922084582644453,0.0005303900386785516,0.0011795479669868224,0.0023781212841854932,0.0011795479669868224,0.0010085316147377453,0.000320001122517119,0.0014848028401927434,0.0011367164360539916,0.0010182050475257922,0.009095733145970359,0.0005673082121070335,0.0024249055067745657,0.0014644242211425066,0.0006524237700193644,0.00153984261771648,0.0016864457957125965,0.009036860879904875,0.0013246722504373428,0.0009647133217427319,0.019039063317844395,0.000627088576037353,0.0005970492456117641,0.0007417885816762288,0.0009647133217427319,0.0014848028401927434,0.0028604637644687077,0.0009441220541256933,0.0015526106445535543,0.0005351705302140366,0.0014848028401927434,0.0014848028401927434,0.002715009755997003,0.0012708217412256086,0.003498647256046991,0.0011367164360539916,0.0012708217412256086,0.0012922084582644453,0.0014644242211425066,0.00198253702572567,0.0012124527533872828,0.0007792295716498991,0.0014848028401927434,0.002393613985781673,0.0019719619064988204,0.0014848028401927434,0.014377778153821309,0.00029320607792636687,0.0006798808019181173,0.0007477658906276662,0.0006432219006512307,0.0031854590976363316,0.00037636273630442844,0.0007232390793958711],\"x0\":\" \",\"xaxis\":\"x\",\"y0\":\" \",\"yaxis\":\"y\"}],                        {\"boxmode\":\"group\",\"legend\":{\"tracegroupgap\":0},\"template\":{\"data\":{\"bar\":[{\"error_x\":{\"color\":\"#2a3f5f\"},\"error_y\":{\"color\":\"#2a3f5f\"},\"marker\":{\"line\":{\"color\":\"#E5ECF6\",\"width\":0.5},\"pattern\":{\"fillmode\":\"overlay\",\"size\":10,\"solidity\":0.2}},\"type\":\"bar\"}],\"barpolar\":[{\"marker\":{\"line\":{\"color\":\"#E5ECF6\",\"width\":0.5},\"pattern\":{\"fillmode\":\"overlay\",\"size\":10,\"solidity\":0.2}},\"type\":\"barpolar\"}],\"carpet\":[{\"aaxis\":{\"endlinecolor\":\"#2a3f5f\",\"gridcolor\":\"white\",\"linecolor\":\"white\",\"minorgridcolor\":\"white\",\"startlinecolor\":\"#2a3f5f\"},\"baxis\":{\"endlinecolor\":\"#2a3f5f\",\"gridcolor\":\"white\",\"linecolor\":\"white\",\"minorgridcolor\":\"white\",\"startlinecolor\":\"#2a3f5f\"},\"type\":\"carpet\"}],\"choropleth\":[{\"colorbar\":{\"outlinewidth\":0,\"ticks\":\"\"},\"type\":\"choropleth\"}],\"contour\":[{\"colorbar\":{\"outlinewidth\":0,\"ticks\":\"\"},\"colorscale\":[[0.0,\"#0d0887\"],[0.1111111111111111,\"#46039f\"],[0.2222222222222222,\"#7201a8\"],[0.3333333333333333,\"#9c179e\"],[0.4444444444444444,\"#bd3786\"],[0.5555555555555556,\"#d8576b\"],[0.6666666666666666,\"#ed7953\"],[0.7777777777777778,\"#fb9f3a\"],[0.8888888888888888,\"#fdca26\"],[1.0,\"#f0f921\"]],\"type\":\"contour\"}],\"contourcarpet\":[{\"colorbar\":{\"outlinewidth\":0,\"ticks\":\"\"},\"type\":\"contourcarpet\"}],\"heatmap\":[{\"colorbar\":{\"outlinewidth\":0,\"ticks\":\"\"},\"colorscale\":[[0.0,\"#0d0887\"],[0.1111111111111111,\"#46039f\"],[0.2222222222222222,\"#7201a8\"],[0.3333333333333333,\"#9c179e\"],[0.4444444444444444,\"#bd3786\"],[0.5555555555555556,\"#d8576b\"],[0.6666666666666666,\"#ed7953\"],[0.7777777777777778,\"#fb9f3a\"],[0.8888888888888888,\"#fdca26\"],[1.0,\"#f0f921\"]],\"type\":\"heatmap\"}],\"heatmapgl\":[{\"colorbar\":{\"outlinewidth\":0,\"ticks\":\"\"},\"colorscale\":[[0.0,\"#0d0887\"],[0.1111111111111111,\"#46039f\"],[0.2222222222222222,\"#7201a8\"],[0.3333333333333333,\"#9c179e\"],[0.4444444444444444,\"#bd3786\"],[0.5555555555555556,\"#d8576b\"],[0.6666666666666666,\"#ed7953\"],[0.7777777777777778,\"#fb9f3a\"],[0.8888888888888888,\"#fdca26\"],[1.0,\"#f0f921\"]],\"type\":\"heatmapgl\"}],\"histogram\":[{\"marker\":{\"pattern\":{\"fillmode\":\"overlay\",\"size\":10,\"solidity\":0.2}},\"type\":\"histogram\"}],\"histogram2d\":[{\"colorbar\":{\"outlinewidth\":0,\"ticks\":\"\"},\"colorscale\":[[0.0,\"#0d0887\"],[0.1111111111111111,\"#46039f\"],[0.2222222222222222,\"#7201a8\"],[0.3333333333333333,\"#9c179e\"],[0.4444444444444444,\"#bd3786\"],[0.5555555555555556,\"#d8576b\"],[0.6666666666666666,\"#ed7953\"],[0.7777777777777778,\"#fb9f3a\"],[0.8888888888888888,\"#fdca26\"],[1.0,\"#f0f921\"]],\"type\":\"histogram2d\"}],\"histogram2dcontour\":[{\"colorbar\":{\"outlinewidth\":0,\"ticks\":\"\"},\"colorscale\":[[0.0,\"#0d0887\"],[0.1111111111111111,\"#46039f\"],[0.2222222222222222,\"#7201a8\"],[0.3333333333333333,\"#9c179e\"],[0.4444444444444444,\"#bd3786\"],[0.5555555555555556,\"#d8576b\"],[0.6666666666666666,\"#ed7953\"],[0.7777777777777778,\"#fb9f3a\"],[0.8888888888888888,\"#fdca26\"],[1.0,\"#f0f921\"]],\"type\":\"histogram2dcontour\"}],\"mesh3d\":[{\"colorbar\":{\"outlinewidth\":0,\"ticks\":\"\"},\"type\":\"mesh3d\"}],\"parcoords\":[{\"line\":{\"colorbar\":{\"outlinewidth\":0,\"ticks\":\"\"}},\"type\":\"parcoords\"}],\"pie\":[{\"automargin\":true,\"type\":\"pie\"}],\"scatter\":[{\"marker\":{\"colorbar\":{\"outlinewidth\":0,\"ticks\":\"\"}},\"type\":\"scatter\"}],\"scatter3d\":[{\"line\":{\"colorbar\":{\"outlinewidth\":0,\"ticks\":\"\"}},\"marker\":{\"colorbar\":{\"outlinewidth\":0,\"ticks\":\"\"}},\"type\":\"scatter3d\"}],\"scattercarpet\":[{\"marker\":{\"colorbar\":{\"outlinewidth\":0,\"ticks\":\"\"}},\"type\":\"scattercarpet\"}],\"scattergeo\":[{\"marker\":{\"colorbar\":{\"outlinewidth\":0,\"ticks\":\"\"}},\"type\":\"scattergeo\"}],\"scattergl\":[{\"marker\":{\"colorbar\":{\"outlinewidth\":0,\"ticks\":\"\"}},\"type\":\"scattergl\"}],\"scattermapbox\":[{\"marker\":{\"colorbar\":{\"outlinewidth\":0,\"ticks\":\"\"}},\"type\":\"scattermapbox\"}],\"scatterpolar\":[{\"marker\":{\"colorbar\":{\"outlinewidth\":0,\"ticks\":\"\"}},\"type\":\"scatterpolar\"}],\"scatterpolargl\":[{\"marker\":{\"colorbar\":{\"outlinewidth\":0,\"ticks\":\"\"}},\"type\":\"scatterpolargl\"}],\"scatterternary\":[{\"marker\":{\"colorbar\":{\"outlinewidth\":0,\"ticks\":\"\"}},\"type\":\"scatterternary\"}],\"surface\":[{\"colorbar\":{\"outlinewidth\":0,\"ticks\":\"\"},\"colorscale\":[[0.0,\"#0d0887\"],[0.1111111111111111,\"#46039f\"],[0.2222222222222222,\"#7201a8\"],[0.3333333333333333,\"#9c179e\"],[0.4444444444444444,\"#bd3786\"],[0.5555555555555556,\"#d8576b\"],[0.6666666666666666,\"#ed7953\"],[0.7777777777777778,\"#fb9f3a\"],[0.8888888888888888,\"#fdca26\"],[1.0,\"#f0f921\"]],\"type\":\"surface\"}],\"table\":[{\"cells\":{\"fill\":{\"color\":\"#EBF0F8\"},\"line\":{\"color\":\"white\"}},\"header\":{\"fill\":{\"color\":\"#C8D4E3\"},\"line\":{\"color\":\"white\"}},\"type\":\"table\"}]},\"layout\":{\"annotationdefaults\":{\"arrowcolor\":\"#2a3f5f\",\"arrowhead\":0,\"arrowwidth\":1},\"autotypenumbers\":\"strict\",\"coloraxis\":{\"colorbar\":{\"outlinewidth\":0,\"ticks\":\"\"}},\"colorscale\":{\"diverging\":[[0,\"#8e0152\"],[0.1,\"#c51b7d\"],[0.2,\"#de77ae\"],[0.3,\"#f1b6da\"],[0.4,\"#fde0ef\"],[0.5,\"#f7f7f7\"],[0.6,\"#e6f5d0\"],[0.7,\"#b8e186\"],[0.8,\"#7fbc41\"],[0.9,\"#4d9221\"],[1,\"#276419\"]],\"sequential\":[[0.0,\"#0d0887\"],[0.1111111111111111,\"#46039f\"],[0.2222222222222222,\"#7201a8\"],[0.3333333333333333,\"#9c179e\"],[0.4444444444444444,\"#bd3786\"],[0.5555555555555556,\"#d8576b\"],[0.6666666666666666,\"#ed7953\"],[0.7777777777777778,\"#fb9f3a\"],[0.8888888888888888,\"#fdca26\"],[1.0,\"#f0f921\"]],\"sequentialminus\":[[0.0,\"#0d0887\"],[0.1111111111111111,\"#46039f\"],[0.2222222222222222,\"#7201a8\"],[0.3333333333333333,\"#9c179e\"],[0.4444444444444444,\"#bd3786\"],[0.5555555555555556,\"#d8576b\"],[0.6666666666666666,\"#ed7953\"],[0.7777777777777778,\"#fb9f3a\"],[0.8888888888888888,\"#fdca26\"],[1.0,\"#f0f921\"]]},\"colorway\":[\"#636efa\",\"#EF553B\",\"#00cc96\",\"#ab63fa\",\"#FFA15A\",\"#19d3f3\",\"#FF6692\",\"#B6E880\",\"#FF97FF\",\"#FECB52\"],\"font\":{\"color\":\"#2a3f5f\"},\"geo\":{\"bgcolor\":\"white\",\"lakecolor\":\"white\",\"landcolor\":\"#E5ECF6\",\"showlakes\":true,\"showland\":true,\"subunitcolor\":\"white\"},\"hoverlabel\":{\"align\":\"left\"},\"hovermode\":\"closest\",\"mapbox\":{\"style\":\"light\"},\"paper_bgcolor\":\"white\",\"plot_bgcolor\":\"#E5ECF6\",\"polar\":{\"angularaxis\":{\"gridcolor\":\"white\",\"linecolor\":\"white\",\"ticks\":\"\"},\"bgcolor\":\"#E5ECF6\",\"radialaxis\":{\"gridcolor\":\"white\",\"linecolor\":\"white\",\"ticks\":\"\"}},\"scene\":{\"xaxis\":{\"backgroundcolor\":\"#E5ECF6\",\"gridcolor\":\"white\",\"gridwidth\":2,\"linecolor\":\"white\",\"showbackground\":true,\"ticks\":\"\",\"zerolinecolor\":\"white\"},\"yaxis\":{\"backgroundcolor\":\"#E5ECF6\",\"gridcolor\":\"white\",\"gridwidth\":2,\"linecolor\":\"white\",\"showbackground\":true,\"ticks\":\"\",\"zerolinecolor\":\"white\"},\"zaxis\":{\"backgroundcolor\":\"#E5ECF6\",\"gridcolor\":\"white\",\"gridwidth\":2,\"linecolor\":\"white\",\"showbackground\":true,\"ticks\":\"\",\"zerolinecolor\":\"white\"}},\"shapedefaults\":{\"line\":{\"color\":\"#2a3f5f\"}},\"ternary\":{\"aaxis\":{\"gridcolor\":\"white\",\"linecolor\":\"white\",\"ticks\":\"\"},\"baxis\":{\"gridcolor\":\"white\",\"linecolor\":\"white\",\"ticks\":\"\"},\"bgcolor\":\"#E5ECF6\",\"caxis\":{\"gridcolor\":\"white\",\"linecolor\":\"white\",\"ticks\":\"\"}},\"title\":{\"x\":0.05},\"xaxis\":{\"automargin\":true,\"gridcolor\":\"white\",\"linecolor\":\"white\",\"ticks\":\"\",\"title\":{\"standoff\":15},\"zerolinecolor\":\"white\",\"zerolinewidth\":2},\"yaxis\":{\"automargin\":true,\"gridcolor\":\"white\",\"linecolor\":\"white\",\"ticks\":\"\",\"title\":{\"standoff\":15},\"zerolinecolor\":\"white\",\"zerolinewidth\":2}}},\"title\":{\"text\":\"TF-IDF values for Adjective Phrases of Business ID R4R7ttLXfKKWM0VEMoaW4w\"},\"xaxis\":{\"anchor\":\"y\",\"domain\":[0.0,1.0],\"title\":{\"text\":\"TF-IDF\"}},\"yaxis\":{\"anchor\":\"x\",\"domain\":[0.0,1.0]}},                        {\"responsive\": true}                    ).then(function(){\n",
       "                            \n",
       "var gd = document.getElementById('31516998-3704-4550-b72c-013033b9878c');\n",
       "var x = new MutationObserver(function (mutations, observer) {{\n",
       "        var display = window.getComputedStyle(gd).display;\n",
       "        if (!display || display === 'none') {{\n",
       "            console.log([gd, 'removed!']);\n",
       "            Plotly.purge(gd);\n",
       "            observer.disconnect();\n",
       "        }}\n",
       "}});\n",
       "\n",
       "// Listen for the removal of the full notebook cells\n",
       "var notebookContainer = gd.closest('#notebook-container');\n",
       "if (notebookContainer) {{\n",
       "    x.observe(notebookContainer, {childList: true});\n",
       "}}\n",
       "\n",
       "// Listen for the clearing of the current output cell\n",
       "var outputEl = gd.closest('.output');\n",
       "if (outputEl) {{\n",
       "    x.observe(outputEl, {childList: true});\n",
       "}}\n",
       "\n",
       "                        })                };                });            </script>        </div>"
      ]
     },
     "metadata": {},
     "output_type": "display_data"
    }
   ],
   "source": [
    "fig = px.box(adjp_tfidf_df, x=\"TF-IDF\", hover_data=['Adjective Phrase'], points=\"all\", title=\"TF-IDF values for Adjective Phrases of Business ID \" + selected_business_id)\n",
    "fig.show()"
   ]
  },
  {
   "cell_type": "code",
   "execution_count": 570,
   "id": "feb48676",
   "metadata": {},
   "outputs": [
    {
     "data": {
      "text/html": [
       "<div>\n",
       "<style scoped>\n",
       "    .dataframe tbody tr th:only-of-type {\n",
       "        vertical-align: middle;\n",
       "    }\n",
       "\n",
       "    .dataframe tbody tr th {\n",
       "        vertical-align: top;\n",
       "    }\n",
       "\n",
       "    .dataframe thead th {\n",
       "        text-align: right;\n",
       "    }\n",
       "</style>\n",
       "<table border=\"1\" class=\"dataframe\">\n",
       "  <thead>\n",
       "    <tr style=\"text-align: right;\">\n",
       "      <th></th>\n",
       "      <th>TF-IDF</th>\n",
       "    </tr>\n",
       "  </thead>\n",
       "  <tbody>\n",
       "    <tr>\n",
       "      <th>count</th>\n",
       "      <td>405.000000</td>\n",
       "    </tr>\n",
       "    <tr>\n",
       "      <th>mean</th>\n",
       "      <td>0.002145</td>\n",
       "    </tr>\n",
       "    <tr>\n",
       "      <th>std</th>\n",
       "      <td>0.002974</td>\n",
       "    </tr>\n",
       "    <tr>\n",
       "      <th>min</th>\n",
       "      <td>0.000000</td>\n",
       "    </tr>\n",
       "    <tr>\n",
       "      <th>25%</th>\n",
       "      <td>0.000792</td>\n",
       "    </tr>\n",
       "    <tr>\n",
       "      <th>50%</th>\n",
       "      <td>0.001325</td>\n",
       "    </tr>\n",
       "    <tr>\n",
       "      <th>75%</th>\n",
       "      <td>0.001896</td>\n",
       "    </tr>\n",
       "    <tr>\n",
       "      <th>max</th>\n",
       "      <td>0.020346</td>\n",
       "    </tr>\n",
       "  </tbody>\n",
       "</table>\n",
       "</div>"
      ],
      "text/plain": [
       "           TF-IDF\n",
       "count  405.000000\n",
       "mean     0.002145\n",
       "std      0.002974\n",
       "min      0.000000\n",
       "25%      0.000792\n",
       "50%      0.001325\n",
       "75%      0.001896\n",
       "max      0.020346"
      ]
     },
     "execution_count": 570,
     "metadata": {},
     "output_type": "execute_result"
    }
   ],
   "source": [
    "adjp_tfidf_df.describe()"
   ]
  },
  {
   "cell_type": "markdown",
   "id": "ef18c58b",
   "metadata": {},
   "source": [
    "##### Indicative Adjective Phrases\n",
    "Let's consider the indicative adjective phrases of the business b1 to be the phrases that have a TF-IDF value that is the greater than or equal to the upper fence of all the TF-IDF value. The upper fence can be calculated as 1.5 * IQR + Q3 (3rd Quartile + 1.5 x Interquartile Range)."
   ]
  },
  {
   "cell_type": "code",
   "execution_count": 571,
   "id": "1d86bb1e",
   "metadata": {},
   "outputs": [
    {
     "name": "stdout",
     "output_type": "stream",
     "text": [
      "Upper fence TF-IDF: 0.0035531796530631227\n"
     ]
    }
   ],
   "source": [
    "# Find the upper fence value\n",
    "q3 = adjp_tfidf_df.describe()['TF-IDF'][\"75%\"]\n",
    "q1 = adjp_tfidf_df.describe()['TF-IDF'][\"25%\"]\n",
    "iqr = q3 - q1\n",
    "upper_fence = q3 + 1.5 * iqr\n",
    "print(\"Upper fence TF-IDF: \" + str(upper_fence))"
   ]
  },
  {
   "cell_type": "code",
   "execution_count": 572,
   "id": "5bd61f1e",
   "metadata": {},
   "outputs": [],
   "source": [
    "# Extract out the phrases that have tf-idf value >= upper fence\n",
    "indicative_df = adjp_tfidf_df[adjp_tfidf_df[\"TF-IDF\"] >= upper_fence]"
   ]
  },
  {
   "cell_type": "code",
   "execution_count": 573,
   "id": "20fd5dc2",
   "metadata": {},
   "outputs": [],
   "source": [
    "# Sort in descending order\n",
    "indicative_df = indicative_df.sort_values(\"TF-IDF\", ascending=False)\n",
    "indicative_df = indicative_df.reset_index(drop=True)"
   ]
  },
  {
   "cell_type": "code",
   "execution_count": 574,
   "id": "48c1578c",
   "metadata": {},
   "outputs": [
    {
     "data": {
      "text/html": [
       "<div>\n",
       "<style scoped>\n",
       "    .dataframe tbody tr th:only-of-type {\n",
       "        vertical-align: middle;\n",
       "    }\n",
       "\n",
       "    .dataframe tbody tr th {\n",
       "        vertical-align: top;\n",
       "    }\n",
       "\n",
       "    .dataframe thead th {\n",
       "        text-align: right;\n",
       "    }\n",
       "</style>\n",
       "<table border=\"1\" class=\"dataframe\">\n",
       "  <thead>\n",
       "    <tr style=\"text-align: right;\">\n",
       "      <th></th>\n",
       "      <th>Adjective Phrase</th>\n",
       "      <th>TF-IDF</th>\n",
       "    </tr>\n",
       "  </thead>\n",
       "  <tbody>\n",
       "    <tr>\n",
       "      <th>0</th>\n",
       "      <td>topping</td>\n",
       "      <td>0.020346</td>\n",
       "    </tr>\n",
       "    <tr>\n",
       "      <th>1</th>\n",
       "      <td>oatmeal</td>\n",
       "      <td>0.019039</td>\n",
       "    </tr>\n",
       "    <tr>\n",
       "      <th>2</th>\n",
       "      <td>other froyo</td>\n",
       "      <td>0.017792</td>\n",
       "    </tr>\n",
       "    <tr>\n",
       "      <th>3</th>\n",
       "      <td>froyo</td>\n",
       "      <td>0.017792</td>\n",
       "    </tr>\n",
       "    <tr>\n",
       "      <th>4</th>\n",
       "      <td>only frozen</td>\n",
       "      <td>0.016389</td>\n",
       "    </tr>\n",
       "    <tr>\n",
       "      <th>5</th>\n",
       "      <td>frozen</td>\n",
       "      <td>0.016389</td>\n",
       "    </tr>\n",
       "    <tr>\n",
       "      <th>6</th>\n",
       "      <td>fro-yo</td>\n",
       "      <td>0.014378</td>\n",
       "    </tr>\n",
       "    <tr>\n",
       "      <th>7</th>\n",
       "      <td>other fro-yo</td>\n",
       "      <td>0.014378</td>\n",
       "    </tr>\n",
       "    <tr>\n",
       "      <th>8</th>\n",
       "      <td>sample</td>\n",
       "      <td>0.013288</td>\n",
       "    </tr>\n",
       "    <tr>\n",
       "      <th>9</th>\n",
       "      <td>n't been</td>\n",
       "      <td>0.013080</td>\n",
       "    </tr>\n",
       "    <tr>\n",
       "      <th>10</th>\n",
       "      <td>very clean</td>\n",
       "      <td>0.011094</td>\n",
       "    </tr>\n",
       "    <tr>\n",
       "      <th>11</th>\n",
       "      <td>clean</td>\n",
       "      <td>0.011094</td>\n",
       "    </tr>\n",
       "    <tr>\n",
       "      <th>12</th>\n",
       "      <td>so clean</td>\n",
       "      <td>0.011094</td>\n",
       "    </tr>\n",
       "    <tr>\n",
       "      <th>13</th>\n",
       "      <td>great</td>\n",
       "      <td>0.010939</td>\n",
       "    </tr>\n",
       "    <tr>\n",
       "      <th>14</th>\n",
       "      <td>always been</td>\n",
       "      <td>0.009512</td>\n",
       "    </tr>\n",
       "    <tr>\n",
       "      <th>15</th>\n",
       "      <td>friendly</td>\n",
       "      <td>0.009096</td>\n",
       "    </tr>\n",
       "    <tr>\n",
       "      <th>16</th>\n",
       "      <td>very friendly</td>\n",
       "      <td>0.009096</td>\n",
       "    </tr>\n",
       "    <tr>\n",
       "      <th>17</th>\n",
       "      <td>so friendly</td>\n",
       "      <td>0.009096</td>\n",
       "    </tr>\n",
       "    <tr>\n",
       "      <th>18</th>\n",
       "      <td>very good</td>\n",
       "      <td>0.009037</td>\n",
       "    </tr>\n",
       "    <tr>\n",
       "      <th>19</th>\n",
       "      <td>so good</td>\n",
       "      <td>0.009037</td>\n",
       "    </tr>\n",
       "    <tr>\n",
       "      <th>20</th>\n",
       "      <td>good</td>\n",
       "      <td>0.009037</td>\n",
       "    </tr>\n",
       "    <tr>\n",
       "      <th>21</th>\n",
       "      <td>not so good</td>\n",
       "      <td>0.009037</td>\n",
       "    </tr>\n",
       "    <tr>\n",
       "      <th>22</th>\n",
       "      <td>more expensive per ounce</td>\n",
       "      <td>0.008909</td>\n",
       "    </tr>\n",
       "    <tr>\n",
       "      <th>23</th>\n",
       "      <td>there cupcake</td>\n",
       "      <td>0.008848</td>\n",
       "    </tr>\n",
       "    <tr>\n",
       "      <th>24</th>\n",
       "      <td>most of the time</td>\n",
       "      <td>0.008561</td>\n",
       "    </tr>\n",
       "    <tr>\n",
       "      <th>25</th>\n",
       "      <td>tart</td>\n",
       "      <td>0.008407</td>\n",
       "    </tr>\n",
       "    <tr>\n",
       "      <th>26</th>\n",
       "      <td>bottom</td>\n",
       "      <td>0.007998</td>\n",
       "    </tr>\n",
       "    <tr>\n",
       "      <th>27</th>\n",
       "      <td>smoothest , creamiest , most flavorful frozen</td>\n",
       "      <td>0.007424</td>\n",
       "    </tr>\n",
       "    <tr>\n",
       "      <th>28</th>\n",
       "      <td>dole</td>\n",
       "      <td>0.007046</td>\n",
       "    </tr>\n",
       "    <tr>\n",
       "      <th>29</th>\n",
       "      <td>best</td>\n",
       "      <td>0.006421</td>\n",
       "    </tr>\n",
       "    <tr>\n",
       "      <th>30</th>\n",
       "      <td>more fruit</td>\n",
       "      <td>0.005357</td>\n",
       "    </tr>\n",
       "    <tr>\n",
       "      <th>31</th>\n",
       "      <td>so make</td>\n",
       "      <td>0.004756</td>\n",
       "    </tr>\n",
       "    <tr>\n",
       "      <th>32</th>\n",
       "      <td>helpful</td>\n",
       "      <td>0.004607</td>\n",
       "    </tr>\n",
       "    <tr>\n",
       "      <th>33</th>\n",
       "      <td>not working</td>\n",
       "      <td>0.004548</td>\n",
       "    </tr>\n",
       "    <tr>\n",
       "      <th>34</th>\n",
       "      <td>always clean , bright</td>\n",
       "      <td>0.004528</td>\n",
       "    </tr>\n",
       "    <tr>\n",
       "      <th>35</th>\n",
       "      <td>very unique with whole cookies</td>\n",
       "      <td>0.004454</td>\n",
       "    </tr>\n",
       "    <tr>\n",
       "      <th>36</th>\n",
       "      <td>available in different flavors</td>\n",
       "      <td>0.004317</td>\n",
       "    </tr>\n",
       "    <tr>\n",
       "      <th>37</th>\n",
       "      <td>caramel</td>\n",
       "      <td>0.004229</td>\n",
       "    </tr>\n",
       "    <tr>\n",
       "      <th>38</th>\n",
       "      <td>favorite</td>\n",
       "      <td>0.004195</td>\n",
       "    </tr>\n",
       "    <tr>\n",
       "      <th>39</th>\n",
       "      <td>fresh</td>\n",
       "      <td>0.004172</td>\n",
       "    </tr>\n",
       "    <tr>\n",
       "      <th>40</th>\n",
       "      <td>always exceptionally friendly and helpful</td>\n",
       "      <td>0.004146</td>\n",
       "    </tr>\n",
       "    <tr>\n",
       "      <th>41</th>\n",
       "      <td>cream</td>\n",
       "      <td>0.004110</td>\n",
       "    </tr>\n",
       "    <tr>\n",
       "      <th>42</th>\n",
       "      <td>pomegranate</td>\n",
       "      <td>0.004038</td>\n",
       "    </tr>\n",
       "    <tr>\n",
       "      <th>43</th>\n",
       "      <td>little</td>\n",
       "      <td>0.003567</td>\n",
       "    </tr>\n",
       "    <tr>\n",
       "      <th>44</th>\n",
       "      <td>delicious</td>\n",
       "      <td>0.003566</td>\n",
       "    </tr>\n",
       "    <tr>\n",
       "      <th>45</th>\n",
       "      <td>so delicious</td>\n",
       "      <td>0.003566</td>\n",
       "    </tr>\n",
       "    <tr>\n",
       "      <th>46</th>\n",
       "      <td>so sparkling clean and bright</td>\n",
       "      <td>0.003566</td>\n",
       "    </tr>\n",
       "  </tbody>\n",
       "</table>\n",
       "</div>"
      ],
      "text/plain": [
       "                                 Adjective Phrase    TF-IDF\n",
       "0                                         topping  0.020346\n",
       "1                                         oatmeal  0.019039\n",
       "2                                     other froyo  0.017792\n",
       "3                                           froyo  0.017792\n",
       "4                                     only frozen  0.016389\n",
       "5                                          frozen  0.016389\n",
       "6                                          fro-yo  0.014378\n",
       "7                                    other fro-yo  0.014378\n",
       "8                                          sample  0.013288\n",
       "9                                        n't been  0.013080\n",
       "10                                     very clean  0.011094\n",
       "11                                          clean  0.011094\n",
       "12                                       so clean  0.011094\n",
       "13                                          great  0.010939\n",
       "14                                    always been  0.009512\n",
       "15                                       friendly  0.009096\n",
       "16                                  very friendly  0.009096\n",
       "17                                    so friendly  0.009096\n",
       "18                                      very good  0.009037\n",
       "19                                        so good  0.009037\n",
       "20                                           good  0.009037\n",
       "21                                    not so good  0.009037\n",
       "22                       more expensive per ounce  0.008909\n",
       "23                                  there cupcake  0.008848\n",
       "24                               most of the time  0.008561\n",
       "25                                           tart  0.008407\n",
       "26                                         bottom  0.007998\n",
       "27  smoothest , creamiest , most flavorful frozen  0.007424\n",
       "28                                           dole  0.007046\n",
       "29                                           best  0.006421\n",
       "30                                     more fruit  0.005357\n",
       "31                                        so make  0.004756\n",
       "32                                        helpful  0.004607\n",
       "33                                    not working  0.004548\n",
       "34                          always clean , bright  0.004528\n",
       "35                 very unique with whole cookies  0.004454\n",
       "36                 available in different flavors  0.004317\n",
       "37                                        caramel  0.004229\n",
       "38                                       favorite  0.004195\n",
       "39                                          fresh  0.004172\n",
       "40      always exceptionally friendly and helpful  0.004146\n",
       "41                                          cream  0.004110\n",
       "42                                    pomegranate  0.004038\n",
       "43                                         little  0.003567\n",
       "44                                      delicious  0.003566\n",
       "45                                   so delicious  0.003566\n",
       "46                  so sparkling clean and bright  0.003566"
      ]
     },
     "execution_count": 574,
     "metadata": {},
     "output_type": "execute_result"
    }
   ],
   "source": [
    "indicative_df"
   ]
  }
 ],
 "metadata": {
  "kernelspec": {
   "display_name": "Python 3 (ipykernel)",
   "language": "python",
   "name": "python3"
  },
  "language_info": {
   "codemirror_mode": {
    "name": "ipython",
    "version": 3
   },
   "file_extension": ".py",
   "mimetype": "text/x-python",
   "name": "python",
   "nbconvert_exporter": "python",
   "pygments_lexer": "ipython3",
   "version": "3.9.7"
  }
 },
 "nbformat": 4,
 "nbformat_minor": 5
}
