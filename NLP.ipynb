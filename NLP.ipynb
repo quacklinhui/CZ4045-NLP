{
 "cells": [
  {
   "cell_type": "code",
   "execution_count": 28,
   "metadata": {},
   "outputs": [],
   "source": [
    "#import all this in the python file\n",
    "import pandas as pd\n",
    "import os\n",
    "import sys\n",
    "import nltk\n",
    "import tensorflow as tf\n",
    "import matplotlib\n",
    "\n",
    "import json\n",
    "import nltk\n",
    "from nltk.stem import PorterStemmer\n",
    "from nltk.tokenize import word_tokenize\n",
    "from nltk.probability import FreqDist\n",
    "from collections import Counter\n",
    "import numpy as np\n",
    "import pandas as pd\n",
    "import matplotlib.pyplot as plt\n",
    "import seaborn as sns\n",
    "from collections import Counter\n",
    "from random import randrange\n",
    "from nltk.corpus import stopwords\n",
    "import string\n",
    "import spacy\n",
    "\n",
    "#tokenise all the words with the help of a tokeniser\n",
    "from tensorflow.keras.preprocessing.text import Tokenizer\n",
    "tokenizer = Tokenizer() #num_words is the tokeniser that fits the number of words\n",
    "\n",
    "import matplotlib.pyplot as plt\n",
    "\n",
    "from tensorflow.keras.models import Sequential\n",
    "from tensorflow.keras.layers import LSTM,Dense, Dropout, SpatialDropout1D #find out how come they using different types of drop outs\n",
    "from tensorflow.keras.layers import Embedding\n",
    "from tensorflow import keras\n",
    "from tensorflow.keras import layers\n",
    "\n",
    "from tensorflow.keras.preprocessing.sequence import pad_sequences\n"
   ]
  },
  {
   "cell_type": "code",
   "execution_count": 29,
   "metadata": {},
   "outputs": [],
   "source": [
    "#call this function\n",
    "def predict_sentiment(text):#note that 1 denotes positive and 0 denotes negative\n",
    "    model = keras.models.load_model('model')\n",
    "    tw = tokenizer.texts_to_sequences([text])\n",
    "    tw = pad_sequences(tw,maxlen=200)\n",
    "    prediction = int(model.predict(tw).round().item())\n",
    "    if prediction ==1:\n",
    "        print(\"Predicted label: Good sentiment\")\n",
    "    else:\n",
    "        print(\"Predicted label: Bad sentiment\")"
   ]
  },
  {
   "cell_type": "code",
   "execution_count": 33,
   "metadata": {},
   "outputs": [
    {
     "name": "stdout",
     "output_type": "stream",
     "text": [
      "WARNING:tensorflow:6 out of the last 6 calls to <function Model.make_predict_function.<locals>.predict_function at 0x000001AED2A4BC18> triggered tf.function retracing. Tracing is expensive and the excessive number of tracings could be due to (1) creating @tf.function repeatedly in a loop, (2) passing tensors with different shapes, (3) passing Python objects instead of tensors. For (1), please define your @tf.function outside of the loop. For (2), @tf.function has experimental_relax_shapes=True option that relaxes argument shapes that can avoid unnecessary retracing. For (3), please refer to https://www.tensorflow.org/guide/function#controlling_retracing and https://www.tensorflow.org/api_docs/python/tf/function for  more details.\n",
      "Predicted label: Bad sentiment\n"
     ]
    }
   ],
   "source": [
    "predict_sentiment(\"break\")"
   ]
  },
  {
   "cell_type": "code",
   "execution_count": 2,
   "metadata": {},
   "outputs": [],
   "source": [
    "ps = PorterStemmer()"
   ]
  },
  {
   "cell_type": "code",
   "execution_count": 37,
   "metadata": {},
   "outputs": [],
   "source": [
    "tf.keras.callbacks.EarlyStopping(\n",
    "    monitor=\"val_loss\",\n",
    "    min_delta=0,\n",
    "    patience=0,\n",
    "    verbose=0,\n",
    "    mode=\"auto\",\n",
    "    baseline=None,\n",
    "    restore_best_weights=False,\n",
    ")\n",
    "\n",
    "callback = tf.keras.callbacks.EarlyStopping(monitor='loss', patience=3)"
   ]
  },
  {
   "cell_type": "code",
   "execution_count": 35,
   "metadata": {},
   "outputs": [
    {
     "data": {
      "text/html": [
       "<div>\n",
       "<style scoped>\n",
       "    .dataframe tbody tr th:only-of-type {\n",
       "        vertical-align: middle;\n",
       "    }\n",
       "\n",
       "    .dataframe tbody tr th {\n",
       "        vertical-align: top;\n",
       "    }\n",
       "\n",
       "    .dataframe thead th {\n",
       "        text-align: right;\n",
       "    }\n",
       "</style>\n",
       "<table border=\"1\" class=\"dataframe\">\n",
       "  <thead>\n",
       "    <tr style=\"text-align: right;\">\n",
       "      <th></th>\n",
       "      <th>review_id</th>\n",
       "      <th>user_id</th>\n",
       "      <th>business_id</th>\n",
       "      <th>stars</th>\n",
       "      <th>useful</th>\n",
       "      <th>funny</th>\n",
       "      <th>cool</th>\n",
       "      <th>text</th>\n",
       "      <th>date</th>\n",
       "    </tr>\n",
       "  </thead>\n",
       "  <tbody>\n",
       "    <tr>\n",
       "      <th>0</th>\n",
       "      <td>lWC-xP3rd6obsecCYsGZRg</td>\n",
       "      <td>ak0TdVmGKo4pwqdJSTLwWw</td>\n",
       "      <td>buF9druCkbuXLX526sGELQ</td>\n",
       "      <td>4</td>\n",
       "      <td>3</td>\n",
       "      <td>1</td>\n",
       "      <td>1</td>\n",
       "      <td>Apparently Prides Osteria had a rough summer a...</td>\n",
       "      <td>2014-10-11 03:34:02</td>\n",
       "    </tr>\n",
       "    <tr>\n",
       "      <th>1</th>\n",
       "      <td>8bFej1QE5LXp4O05qjGqXA</td>\n",
       "      <td>YoVfDbnISlW0f7abNQACIg</td>\n",
       "      <td>RA4V8pr014UyUbDvI-LW2A</td>\n",
       "      <td>4</td>\n",
       "      <td>1</td>\n",
       "      <td>0</td>\n",
       "      <td>0</td>\n",
       "      <td>This store is pretty good. Not as great as Wal...</td>\n",
       "      <td>2015-07-03 20:38:25</td>\n",
       "    </tr>\n",
       "    <tr>\n",
       "      <th>2</th>\n",
       "      <td>NDhkzczKjLshODbqDoNLSg</td>\n",
       "      <td>eC5evKn1TWDyHCyQAwguUw</td>\n",
       "      <td>_sS2LBIGNT5NQb6PD1Vtjw</td>\n",
       "      <td>5</td>\n",
       "      <td>0</td>\n",
       "      <td>0</td>\n",
       "      <td>0</td>\n",
       "      <td>I called WVM on the recommendation of a couple...</td>\n",
       "      <td>2013-05-28 20:38:06</td>\n",
       "    </tr>\n",
       "    <tr>\n",
       "      <th>3</th>\n",
       "      <td>T5fAqjjFooT4V0OeZyuk1w</td>\n",
       "      <td>SFQ1jcnGguO0LYWnbbftAA</td>\n",
       "      <td>0AzLzHfOJgL7ROwhdww2ew</td>\n",
       "      <td>2</td>\n",
       "      <td>1</td>\n",
       "      <td>1</td>\n",
       "      <td>1</td>\n",
       "      <td>I've stayed at many Marriott and Renaissance M...</td>\n",
       "      <td>2010-01-08 02:29:15</td>\n",
       "    </tr>\n",
       "    <tr>\n",
       "      <th>4</th>\n",
       "      <td>sjm_uUcQVxab_EeLCqsYLg</td>\n",
       "      <td>0kA0PAJ8QFMeveQWHFqz2A</td>\n",
       "      <td>8zehGz9jnxPqXtOc7KaJxA</td>\n",
       "      <td>4</td>\n",
       "      <td>0</td>\n",
       "      <td>0</td>\n",
       "      <td>0</td>\n",
       "      <td>The food is always great here. The service fro...</td>\n",
       "      <td>2011-07-28 18:05:01</td>\n",
       "    </tr>\n",
       "    <tr>\n",
       "      <th>...</th>\n",
       "      <td>...</td>\n",
       "      <td>...</td>\n",
       "      <td>...</td>\n",
       "      <td>...</td>\n",
       "      <td>...</td>\n",
       "      <td>...</td>\n",
       "      <td>...</td>\n",
       "      <td>...</td>\n",
       "      <td>...</td>\n",
       "    </tr>\n",
       "    <tr>\n",
       "      <th>8635398</th>\n",
       "      <td>PHnqMOU1pzHbnUMk3Cg2zA</td>\n",
       "      <td>6olZ0y9oW9azON61AhwxYg</td>\n",
       "      <td>yyTtwwQ4JnQMJ2rn3W0S0g</td>\n",
       "      <td>1</td>\n",
       "      <td>0</td>\n",
       "      <td>0</td>\n",
       "      <td>0</td>\n",
       "      <td>In December, I called in (as a returning custo...</td>\n",
       "      <td>2021-01-26 04:07:14</td>\n",
       "    </tr>\n",
       "    <tr>\n",
       "      <th>8635399</th>\n",
       "      <td>dViF8gg9745CszpekNvp2g</td>\n",
       "      <td>EPYNZQFuSKqLi-on3U9dFg</td>\n",
       "      <td>RDgwjgbu5xziFIAaNn3WCQ</td>\n",
       "      <td>1</td>\n",
       "      <td>13</td>\n",
       "      <td>1</td>\n",
       "      <td>0</td>\n",
       "      <td>This guy is a moron that will stalk and harass...</td>\n",
       "      <td>2019-05-01 21:21:43</td>\n",
       "    </tr>\n",
       "    <tr>\n",
       "      <th>8635400</th>\n",
       "      <td>7vNXRIClt-9rFzMXlrtMXA</td>\n",
       "      <td>tr13Jb83h2itjyXVwaO5eA</td>\n",
       "      <td>rbuj2X4SXIc3MDul4dcxIA</td>\n",
       "      <td>5</td>\n",
       "      <td>39</td>\n",
       "      <td>13</td>\n",
       "      <td>34</td>\n",
       "      <td>Yummy, great chew on the bagel\\nFriendly staff...</td>\n",
       "      <td>2020-06-13 02:39:26</td>\n",
       "    </tr>\n",
       "    <tr>\n",
       "      <th>8635401</th>\n",
       "      <td>Ho57jz6U-JjrGHpGWIGLNg</td>\n",
       "      <td>HqdmRMpNvScFxjGAB40vgQ</td>\n",
       "      <td>IRzjEZ2pX4iOpnBG7oZJ7g</td>\n",
       "      <td>2</td>\n",
       "      <td>2</td>\n",
       "      <td>0</td>\n",
       "      <td>0</td>\n",
       "      <td>This used to be my car wash of choice. They di...</td>\n",
       "      <td>2020-06-22 21:54:10</td>\n",
       "    </tr>\n",
       "    <tr>\n",
       "      <th>8635402</th>\n",
       "      <td>YNyurWy1ZIYEy1vXI7azOg</td>\n",
       "      <td>HsT8bz3-SKMk7YidwLLM6Q</td>\n",
       "      <td>pxwYIa1jZzHJ4R0Sp1cHFw</td>\n",
       "      <td>5</td>\n",
       "      <td>11</td>\n",
       "      <td>4</td>\n",
       "      <td>5</td>\n",
       "      <td>This is so highly rated for a reason. If you'r...</td>\n",
       "      <td>2019-04-17 04:27:39</td>\n",
       "    </tr>\n",
       "  </tbody>\n",
       "</table>\n",
       "<p>8635403 rows × 9 columns</p>\n",
       "</div>"
      ],
      "text/plain": [
       "                      review_id                 user_id  \\\n",
       "0        lWC-xP3rd6obsecCYsGZRg  ak0TdVmGKo4pwqdJSTLwWw   \n",
       "1        8bFej1QE5LXp4O05qjGqXA  YoVfDbnISlW0f7abNQACIg   \n",
       "2        NDhkzczKjLshODbqDoNLSg  eC5evKn1TWDyHCyQAwguUw   \n",
       "3        T5fAqjjFooT4V0OeZyuk1w  SFQ1jcnGguO0LYWnbbftAA   \n",
       "4        sjm_uUcQVxab_EeLCqsYLg  0kA0PAJ8QFMeveQWHFqz2A   \n",
       "...                         ...                     ...   \n",
       "8635398  PHnqMOU1pzHbnUMk3Cg2zA  6olZ0y9oW9azON61AhwxYg   \n",
       "8635399  dViF8gg9745CszpekNvp2g  EPYNZQFuSKqLi-on3U9dFg   \n",
       "8635400  7vNXRIClt-9rFzMXlrtMXA  tr13Jb83h2itjyXVwaO5eA   \n",
       "8635401  Ho57jz6U-JjrGHpGWIGLNg  HqdmRMpNvScFxjGAB40vgQ   \n",
       "8635402  YNyurWy1ZIYEy1vXI7azOg  HsT8bz3-SKMk7YidwLLM6Q   \n",
       "\n",
       "                    business_id  stars  useful  funny  cool  \\\n",
       "0        buF9druCkbuXLX526sGELQ      4       3      1     1   \n",
       "1        RA4V8pr014UyUbDvI-LW2A      4       1      0     0   \n",
       "2        _sS2LBIGNT5NQb6PD1Vtjw      5       0      0     0   \n",
       "3        0AzLzHfOJgL7ROwhdww2ew      2       1      1     1   \n",
       "4        8zehGz9jnxPqXtOc7KaJxA      4       0      0     0   \n",
       "...                         ...    ...     ...    ...   ...   \n",
       "8635398  yyTtwwQ4JnQMJ2rn3W0S0g      1       0      0     0   \n",
       "8635399  RDgwjgbu5xziFIAaNn3WCQ      1      13      1     0   \n",
       "8635400  rbuj2X4SXIc3MDul4dcxIA      5      39     13    34   \n",
       "8635401  IRzjEZ2pX4iOpnBG7oZJ7g      2       2      0     0   \n",
       "8635402  pxwYIa1jZzHJ4R0Sp1cHFw      5      11      4     5   \n",
       "\n",
       "                                                      text                date  \n",
       "0        Apparently Prides Osteria had a rough summer a... 2014-10-11 03:34:02  \n",
       "1        This store is pretty good. Not as great as Wal... 2015-07-03 20:38:25  \n",
       "2        I called WVM on the recommendation of a couple... 2013-05-28 20:38:06  \n",
       "3        I've stayed at many Marriott and Renaissance M... 2010-01-08 02:29:15  \n",
       "4        The food is always great here. The service fro... 2011-07-28 18:05:01  \n",
       "...                                                    ...                 ...  \n",
       "8635398  In December, I called in (as a returning custo... 2021-01-26 04:07:14  \n",
       "8635399  This guy is a moron that will stalk and harass... 2019-05-01 21:21:43  \n",
       "8635400  Yummy, great chew on the bagel\\nFriendly staff... 2020-06-13 02:39:26  \n",
       "8635401  This used to be my car wash of choice. They di... 2020-06-22 21:54:10  \n",
       "8635402  This is so highly rated for a reason. If you'r... 2019-04-17 04:27:39  \n",
       "\n",
       "[8635403 rows x 9 columns]"
      ]
     },
     "execution_count": 35,
     "metadata": {},
     "output_type": "execute_result"
    }
   ],
   "source": [
    "chunks = pd.read_json('yelp_academic_dataset_review.json', lines=True, chunksize = 100)\n",
    "reviews = pd.concat([c for c in chunks])\n",
    "df = reviews\n",
    "df"
   ]
  },
  {
   "cell_type": "code",
   "execution_count": 38,
   "metadata": {},
   "outputs": [],
   "source": [
    "#labelling the positive and negative values\n",
    "row_indexes_positive=df[df['stars']>=4].index \n",
    "df.loc[row_indexes_positive,'sentiment']=1 #can think about whether we should just encode 1 and 0 here\n",
    "row_indexes_positive=df[df['stars']>=4]\n",
    "\n",
    "row_indexes_negative=df[df['stars']<4].index \n",
    "df.loc[row_indexes_negative,'sentiment']=0\n",
    "row_indexes_negative=df[df['stars']<4]"
   ]
  },
  {
   "cell_type": "code",
   "execution_count": 39,
   "metadata": {},
   "outputs": [
    {
     "data": {
      "text/html": [
       "<div>\n",
       "<style scoped>\n",
       "    .dataframe tbody tr th:only-of-type {\n",
       "        vertical-align: middle;\n",
       "    }\n",
       "\n",
       "    .dataframe tbody tr th {\n",
       "        vertical-align: top;\n",
       "    }\n",
       "\n",
       "    .dataframe thead th {\n",
       "        text-align: right;\n",
       "    }\n",
       "</style>\n",
       "<table border=\"1\" class=\"dataframe\">\n",
       "  <thead>\n",
       "    <tr style=\"text-align: right;\">\n",
       "      <th></th>\n",
       "      <th>review_id</th>\n",
       "      <th>user_id</th>\n",
       "      <th>business_id</th>\n",
       "      <th>stars</th>\n",
       "      <th>useful</th>\n",
       "      <th>funny</th>\n",
       "      <th>cool</th>\n",
       "      <th>text</th>\n",
       "      <th>date</th>\n",
       "      <th>sentiment</th>\n",
       "    </tr>\n",
       "  </thead>\n",
       "  <tbody>\n",
       "    <tr>\n",
       "      <th>1284187</th>\n",
       "      <td>jRfSn5UeI2fsNoPhvIP6Lg</td>\n",
       "      <td>A5Bc7xh874u8pcKgAHe2TQ</td>\n",
       "      <td>QSDbe23wibJ_8izWZaTh4A</td>\n",
       "      <td>4</td>\n",
       "      <td>5</td>\n",
       "      <td>3</td>\n",
       "      <td>5</td>\n",
       "      <td>Grilled Cheese Heaven! How can you go wrong?  ...</td>\n",
       "      <td>2016-03-14 03:25:39</td>\n",
       "      <td>1.0</td>\n",
       "    </tr>\n",
       "    <tr>\n",
       "      <th>6157357</th>\n",
       "      <td>E6xsXRtCoujmbtt1eZ_n0g</td>\n",
       "      <td>zitx8RGIkkwEEw4-pucwTw</td>\n",
       "      <td>xrq2Mne2lv_fQGDC_OZmuw</td>\n",
       "      <td>5</td>\n",
       "      <td>5</td>\n",
       "      <td>0</td>\n",
       "      <td>1</td>\n",
       "      <td>The salads are pricey, yet amazing! The restau...</td>\n",
       "      <td>2016-05-09 18:10:54</td>\n",
       "      <td>1.0</td>\n",
       "    </tr>\n",
       "    <tr>\n",
       "      <th>3385329</th>\n",
       "      <td>3I-tXx8n5yybGgFuMhNYGw</td>\n",
       "      <td>tL2PcTHbHOlkeBiPeKszgQ</td>\n",
       "      <td>85ZhjypQaCGkWURvGOyCfA</td>\n",
       "      <td>2</td>\n",
       "      <td>4</td>\n",
       "      <td>1</td>\n",
       "      <td>0</td>\n",
       "      <td>This place used to be great when it was Wentwo...</td>\n",
       "      <td>2019-02-23 22:22:12</td>\n",
       "      <td>0.0</td>\n",
       "    </tr>\n",
       "    <tr>\n",
       "      <th>8352005</th>\n",
       "      <td>p1gvRwEtfgeDchdZ7QonEw</td>\n",
       "      <td>pjFeb3HBLivEG-elLryn4w</td>\n",
       "      <td>RMcxvvVJI_R9lCL95doK2w</td>\n",
       "      <td>3</td>\n",
       "      <td>3</td>\n",
       "      <td>0</td>\n",
       "      <td>1</td>\n",
       "      <td>Mint tea is one of those places that you just ...</td>\n",
       "      <td>2012-04-26 02:57:27</td>\n",
       "      <td>0.0</td>\n",
       "    </tr>\n",
       "    <tr>\n",
       "      <th>5773393</th>\n",
       "      <td>h6x-c0yx4GJQRF12Wm_IYQ</td>\n",
       "      <td>s-igAhX3wTgWSlxEJP1WDQ</td>\n",
       "      <td>mkqiEUO9KZbYtFPaDGxT0w</td>\n",
       "      <td>3</td>\n",
       "      <td>0</td>\n",
       "      <td>0</td>\n",
       "      <td>0</td>\n",
       "      <td>Good option for those who are vegetarian...but...</td>\n",
       "      <td>2019-10-16 19:15:26</td>\n",
       "      <td>0.0</td>\n",
       "    </tr>\n",
       "  </tbody>\n",
       "</table>\n",
       "</div>"
      ],
      "text/plain": [
       "                      review_id                 user_id  \\\n",
       "1284187  jRfSn5UeI2fsNoPhvIP6Lg  A5Bc7xh874u8pcKgAHe2TQ   \n",
       "6157357  E6xsXRtCoujmbtt1eZ_n0g  zitx8RGIkkwEEw4-pucwTw   \n",
       "3385329  3I-tXx8n5yybGgFuMhNYGw  tL2PcTHbHOlkeBiPeKszgQ   \n",
       "8352005  p1gvRwEtfgeDchdZ7QonEw  pjFeb3HBLivEG-elLryn4w   \n",
       "5773393  h6x-c0yx4GJQRF12Wm_IYQ  s-igAhX3wTgWSlxEJP1WDQ   \n",
       "\n",
       "                    business_id  stars  useful  funny  cool  \\\n",
       "1284187  QSDbe23wibJ_8izWZaTh4A      4       5      3     5   \n",
       "6157357  xrq2Mne2lv_fQGDC_OZmuw      5       5      0     1   \n",
       "3385329  85ZhjypQaCGkWURvGOyCfA      2       4      1     0   \n",
       "8352005  RMcxvvVJI_R9lCL95doK2w      3       3      0     1   \n",
       "5773393  mkqiEUO9KZbYtFPaDGxT0w      3       0      0     0   \n",
       "\n",
       "                                                      text  \\\n",
       "1284187  Grilled Cheese Heaven! How can you go wrong?  ...   \n",
       "6157357  The salads are pricey, yet amazing! The restau...   \n",
       "3385329  This place used to be great when it was Wentwo...   \n",
       "8352005  Mint tea is one of those places that you just ...   \n",
       "5773393  Good option for those who are vegetarian...but...   \n",
       "\n",
       "                       date  sentiment  \n",
       "1284187 2016-03-14 03:25:39        1.0  \n",
       "6157357 2016-05-09 18:10:54        1.0  \n",
       "3385329 2019-02-23 22:22:12        0.0  \n",
       "8352005 2012-04-26 02:57:27        0.0  \n",
       "5773393 2019-10-16 19:15:26        0.0  "
      ]
     },
     "execution_count": 39,
     "metadata": {},
     "output_type": "execute_result"
    }
   ],
   "source": [
    "sample1000negative = row_indexes_negative.sample(n=10000) #maybe can try bigger numbers later\n",
    "sample1000positive = row_indexes_positive.sample(n=10000)\n",
    "review_df = pd.concat([sample1000negative, sample1000positive], axis=0)\n",
    "review_df = review_df.sample(frac = 1)\n",
    "review_df.head()"
   ]
  },
  {
   "cell_type": "code",
   "execution_count": 40,
   "metadata": {},
   "outputs": [
    {
     "data": {
      "text/plain": [
       "(20000, 2)"
      ]
     },
     "execution_count": 40,
     "metadata": {},
     "output_type": "execute_result"
    }
   ],
   "source": [
    "review_df = review_df[['text','sentiment']]\n",
    "review_df.head()\n",
    "review_df.dropna() #dropping the reviews that do not have a sentiment\n",
    "review_df.shape"
   ]
  },
  {
   "cell_type": "code",
   "execution_count": 41,
   "metadata": {},
   "outputs": [
    {
     "name": "stdout",
     "output_type": "stream",
     "text": [
      "sentiment\n",
      "0.0          10000\n",
      "1.0          10000\n",
      "dtype: int64\n"
     ]
    }
   ],
   "source": [
    "#think about whether we want to take the neutral and drop or just dont classify as neutral\n",
    "valuecount = review_df[['sentiment']].value_counts()\n",
    "print(valuecount)\n"
   ]
  },
  {
   "cell_type": "code",
   "execution_count": 42,
   "metadata": {},
   "outputs": [
    {
     "data": {
      "text/html": [
       "<div>\n",
       "<style scoped>\n",
       "    .dataframe tbody tr th:only-of-type {\n",
       "        vertical-align: middle;\n",
       "    }\n",
       "\n",
       "    .dataframe tbody tr th {\n",
       "        vertical-align: top;\n",
       "    }\n",
       "\n",
       "    .dataframe thead th {\n",
       "        text-align: right;\n",
       "    }\n",
       "</style>\n",
       "<table border=\"1\" class=\"dataframe\">\n",
       "  <thead>\n",
       "    <tr style=\"text-align: right;\">\n",
       "      <th></th>\n",
       "      <th>text</th>\n",
       "      <th>sentiment</th>\n",
       "    </tr>\n",
       "  </thead>\n",
       "  <tbody>\n",
       "    <tr>\n",
       "      <th>6355223</th>\n",
       "      <td>Wait time to dine is an hour versus ordering d...</td>\n",
       "      <td>0.0</td>\n",
       "    </tr>\n",
       "    <tr>\n",
       "      <th>5619275</th>\n",
       "      <td>The Cajun blackened ahi tuna tacos are amazing...</td>\n",
       "      <td>1.0</td>\n",
       "    </tr>\n",
       "    <tr>\n",
       "      <th>8482030</th>\n",
       "      <td>I think (hope) that a lot of the problems we e...</td>\n",
       "      <td>0.0</td>\n",
       "    </tr>\n",
       "    <tr>\n",
       "      <th>7029953</th>\n",
       "      <td>Everytime my boyfriend &amp; I come here we get th...</td>\n",
       "      <td>1.0</td>\n",
       "    </tr>\n",
       "    <tr>\n",
       "      <th>357035</th>\n",
       "      <td>This place is no longer a coffee shop but more...</td>\n",
       "      <td>0.0</td>\n",
       "    </tr>\n",
       "  </tbody>\n",
       "</table>\n",
       "</div>"
      ],
      "text/plain": [
       "                                                      text  sentiment\n",
       "6355223  Wait time to dine is an hour versus ordering d...        0.0\n",
       "5619275  The Cajun blackened ahi tuna tacos are amazing...        1.0\n",
       "8482030  I think (hope) that a lot of the problems we e...        0.0\n",
       "7029953  Everytime my boyfriend & I come here we get th...        1.0\n",
       "357035   This place is no longer a coffee shop but more...        0.0"
      ]
     },
     "execution_count": 42,
     "metadata": {},
     "output_type": "execute_result"
    }
   ],
   "source": [
    "#convert the categorical data into numeric data\n",
    "review_df.head()\n",
    "sentiment_label = review_df[\"sentiment\"].factorize() #0 represents the positive sentiment and 1 represents the negative sentiment\n",
    "review_df.tail()"
   ]
  },
  {
   "cell_type": "code",
   "execution_count": 48,
   "metadata": {},
   "outputs": [
    {
     "name": "stdout",
     "output_type": "stream",
     "text": [
      "!\"#$%&'()*+,-./:;<=>?@[\\]^_`{|}~\n"
     ]
    },
    {
     "data": {
      "text/plain": [
       "list"
      ]
     },
     "execution_count": 48,
     "metadata": {},
     "output_type": "execute_result"
    }
   ],
   "source": [
    "print(string.punctuation)\n",
    "p = string.punctuation\n",
    "p=list(p)\n",
    "type(p)"
   ]
  },
  {
   "cell_type": "code",
   "execution_count": 50,
   "metadata": {},
   "outputs": [
    {
     "name": "stderr",
     "output_type": "stream",
     "text": [
      "[nltk_data] Downloading package stopwords to\n",
      "[nltk_data]     C:\\Users\\theco\\AppData\\Roaming\\nltk_data...\n",
      "[nltk_data]   Package stopwords is already up-to-date!\n"
     ]
    }
   ],
   "source": [
    "#retrieve all the data from the dataset\n",
    "import string\n",
    "from nltk.corpus import stopwords\n",
    "nltk.download('stopwords')\n",
    "sw = stopwords.words('english')\n",
    "meaninglessTokens = [\"...\",\"``\",\"\\\"\",\"--\",\"\\'\"]\n",
    "\n",
    "preStem = []\n",
    "\n",
    "for i in range(len(review_df[\"text\"].values)):\n",
    "        text = str(review_df['text'].iloc[i]).lower()\n",
    "        word = word_tokenize(text)\n",
    "        if word not in p:\n",
    "            if word not in sw:\n",
    "                if word not in meaninglessTokens: \n",
    "                    preStem.extend(word)\n",
    "vocab_size = len(preStem)"
   ]
  },
  {
   "cell_type": "code",
   "execution_count": 57,
   "metadata": {},
   "outputs": [
    {
     "data": {
      "text/plain": [
       "2709767"
      ]
     },
     "execution_count": 57,
     "metadata": {},
     "output_type": "execute_result"
    }
   ],
   "source": [
    "tweet = review_df[\"text\"].values\n",
    "vocab_size"
   ]
  },
  {
   "cell_type": "code",
   "execution_count": 58,
   "metadata": {},
   "outputs": [
    {
     "name": "stdout",
     "output_type": "stream",
     "text": [
      "None\n"
     ]
    }
   ],
   "source": [
    "vocab = tokenizer.fit_on_texts(tweet)\n",
    "print(tokenizer.fit_on_texts(tweet))"
   ]
  },
  {
   "cell_type": "code",
   "execution_count": 59,
   "metadata": {},
   "outputs": [],
   "source": [
    "#replace the words with their assigned numbers using the text_to_sequence method\n",
    "encoded_docs = tokenizer.texts_to_sequences(tweet)"
   ]
  },
  {
   "cell_type": "code",
   "execution_count": 60,
   "metadata": {},
   "outputs": [],
   "source": [
    "padded_sequence = pad_sequences(encoded_docs, maxlen=200)"
   ]
  },
  {
   "cell_type": "code",
   "execution_count": 61,
   "metadata": {},
   "outputs": [
    {
     "name": "stdout",
     "output_type": "stream",
     "text": [
      "Model: \"sequential_1\"\n",
      "_________________________________________________________________\n",
      "Layer (type)                 Output Shape              Param #   \n",
      "=================================================================\n",
      "embedding_1 (Embedding)      (None, 200, 32)           86712544  \n",
      "_________________________________________________________________\n",
      "spatial_dropout1d_1 (Spatial (None, 200, 32)           0         \n",
      "_________________________________________________________________\n",
      "lstm_1 (LSTM)                (None, 50)                16600     \n",
      "_________________________________________________________________\n",
      "dropout_1 (Dropout)          (None, 50)                0         \n",
      "_________________________________________________________________\n",
      "dense_1 (Dense)              (None, 1)                 51        \n",
      "=================================================================\n",
      "Total params: 86,729,195\n",
      "Trainable params: 86,729,195\n",
      "Non-trainable params: 0\n",
      "_________________________________________________________________\n",
      "None\n"
     ]
    }
   ],
   "source": [
    "embedding_vector_length = 32\n",
    "model = Sequential()\n",
    "model.add(Embedding(vocab_size, embedding_vector_length, input_length=200))\n",
    "model.add(SpatialDropout1D(0.25))\n",
    "model.add(LSTM(50, dropout=0.5, recurrent_dropout=0.5))\n",
    "model.add(Dropout(0.2))\n",
    "model.add(Dense(1, activation='sigmoid'))\n",
    "opt = keras.optimizers.Adam(learning_rate=0.01)\n",
    "model.compile(loss='binary_crossentropy',optimizer=opt, metrics=['accuracy'])\n",
    "print(model.summary())"
   ]
  },
  {
   "cell_type": "code",
   "execution_count": null,
   "metadata": {},
   "outputs": [
    {
     "name": "stdout",
     "output_type": "stream",
     "text": [
      "Epoch 1/5\n",
      "373/500 [=====================>........] - ETA: 1:49 - loss: 0.5395 - accuracy: 0.7321"
     ]
    }
   ],
   "source": [
    "history = model.fit(padded_sequence,sentiment_label[0],validation_split=0.2, epochs=5, batch_size=32, callbacks=[callback]) #change the learning rate and reduce the number of epochs later\n",
    "model.save('model')"
   ]
  },
  {
   "cell_type": "code",
   "execution_count": null,
   "metadata": {},
   "outputs": [],
   "source": [
    "plt.plot(history.history['accuracy'], label='acc')\n",
    "plt.plot(history.history['val_accuracy'], label='val_acc')\n",
    "plt.legend()\n",
    "plt.show()\n",
    "plt.savefig(\"Accuracy plot.jpg\")"
   ]
  },
  {
   "cell_type": "code",
   "execution_count": null,
   "metadata": {},
   "outputs": [],
   "source": [
    "plt.plot(history.history['loss'], label='loss')\n",
    "plt.plot(history.history['val_loss'], label='val_loss')\n",
    "plt.legend()\n",
    "plt.show()\n",
    "plt.savefig(\"Loss plt.jpg\")"
   ]
  },
  {
   "cell_type": "code",
   "execution_count": null,
   "metadata": {},
   "outputs": [],
   "source": [
    "#testing\n",
    "test_sentence1 = \"I enjoyed my journey on this flight.\"\n",
    "predict_sentiment(test_sentence1)\n",
    "test_sentence2 = \"This is the worst flight experience of my life!\"\n",
    "predict_sentiment(test_sentence2)"
   ]
  },
  {
   "cell_type": "code",
   "execution_count": null,
   "metadata": {},
   "outputs": [],
   "source": [
    "test_sentence1 = \"horrible.\"\n",
    "predict_sentiment(test_sentence1)\n",
    "test_sentence2 = \"great!\"\n",
    "predict_sentiment(test_sentence2)"
   ]
  },
  {
   "cell_type": "code",
   "execution_count": null,
   "metadata": {},
   "outputs": [],
   "source": [
    "test_sentence1 = \"delicious\"\n",
    "predict_sentiment(test_sentence1)\n",
    "test_sentence2 = \"horrible!\"\n",
    "predict_sentiment(test_sentence2)"
   ]
  },
  {
   "cell_type": "code",
   "execution_count": null,
   "metadata": {},
   "outputs": [],
   "source": [
    "test_sentence1 = \"nice\"\n",
    "predict_sentiment(test_sentence1)\n",
    "test_sentence2 = \"horrible!\"\n",
    "predict_sentiment(test_sentence2)"
   ]
  },
  {
   "cell_type": "code",
   "execution_count": null,
   "metadata": {},
   "outputs": [],
   "source": []
  }
 ],
 "metadata": {
  "kernelspec": {
   "display_name": "Python 3",
   "language": "python",
   "name": "python3"
  },
  "language_info": {
   "codemirror_mode": {
    "name": "ipython",
    "version": 3
   },
   "file_extension": ".py",
   "mimetype": "text/x-python",
   "name": "python",
   "nbconvert_exporter": "python",
   "pygments_lexer": "ipython3",
   "version": "3.7.4"
  }
 },
 "nbformat": 4,
 "nbformat_minor": 5
}
